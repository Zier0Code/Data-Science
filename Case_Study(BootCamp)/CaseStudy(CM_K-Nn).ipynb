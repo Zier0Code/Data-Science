{
 "cells": [
  {
   "cell_type": "code",
   "execution_count": 1,
   "id": "51c17adc",
   "metadata": {},
   "outputs": [],
   "source": [
    "import pandas as pd\n",
    "import numpy as np\n",
    "from sklearn.model_selection import train_test_split\n",
    "from sklearn.preprocessing import StandardScaler\n",
    "from sklearn.neighbors import KNeighborsClassifier\n",
    "from sklearn.metrics import confusion_matrix\n",
    "from sklearn.metrics import f1_score\n",
    "from sklearn.metrics import accuracy_score\n",
    "from sklearn.preprocessing import MinMaxScaler\n",
    "from sklearn import datasets, metrics"
   ]
  },
  {
   "cell_type": "code",
   "execution_count": 2,
   "id": "1c04f51c",
   "metadata": {},
   "outputs": [
    {
     "data": {
      "text/html": [
       "<div>\n",
       "<style scoped>\n",
       "    .dataframe tbody tr th:only-of-type {\n",
       "        vertical-align: middle;\n",
       "    }\n",
       "\n",
       "    .dataframe tbody tr th {\n",
       "        vertical-align: top;\n",
       "    }\n",
       "\n",
       "    .dataframe thead th {\n",
       "        text-align: right;\n",
       "    }\n",
       "</style>\n",
       "<table border=\"1\" class=\"dataframe\">\n",
       "  <thead>\n",
       "    <tr style=\"text-align: right;\">\n",
       "      <th></th>\n",
       "      <th>Daily Time Spent on Site</th>\n",
       "      <th>Age</th>\n",
       "      <th>Area Income</th>\n",
       "      <th>Daily Internet Usage</th>\n",
       "      <th>Ad Topic Line</th>\n",
       "      <th>City</th>\n",
       "      <th>Gender</th>\n",
       "      <th>Country</th>\n",
       "      <th>Timestamp</th>\n",
       "      <th>Clicked on Ad</th>\n",
       "    </tr>\n",
       "  </thead>\n",
       "  <tbody>\n",
       "    <tr>\n",
       "      <th>0</th>\n",
       "      <td>78.84</td>\n",
       "      <td>30</td>\n",
       "      <td>68448.94</td>\n",
       "      <td>161.79</td>\n",
       "      <td>Front-line even-keeled website</td>\n",
       "      <td>Silvaton</td>\n",
       "      <td>Male</td>\n",
       "      <td>Peru</td>\n",
       "      <td>04/04/2016 03:57</td>\n",
       "      <td>1</td>\n",
       "    </tr>\n",
       "    <tr>\n",
       "      <th>1</th>\n",
       "      <td>60.23</td>\n",
       "      <td>35</td>\n",
       "      <td>66815.54</td>\n",
       "      <td>216.24</td>\n",
       "      <td>Front-line fresh-thinking open system</td>\n",
       "      <td>West Jeremyside</td>\n",
       "      <td>Male</td>\n",
       "      <td>Papua New Guinea</td>\n",
       "      <td>06/18/2016 16:02</td>\n",
       "      <td>0</td>\n",
       "    </tr>\n",
       "    <tr>\n",
       "      <th>2</th>\n",
       "      <td>46.20</td>\n",
       "      <td>49</td>\n",
       "      <td>62109.80</td>\n",
       "      <td>135.24</td>\n",
       "      <td>Enhanced maximized access</td>\n",
       "      <td>Lake Vanessa</td>\n",
       "      <td>Male</td>\n",
       "      <td>Chile</td>\n",
       "      <td>06/26/2016 07:01</td>\n",
       "      <td>1</td>\n",
       "    </tr>\n",
       "    <tr>\n",
       "      <th>3</th>\n",
       "      <td>87.85</td>\n",
       "      <td>31</td>\n",
       "      <td>50055.33</td>\n",
       "      <td>134.46</td>\n",
       "      <td>Total zero administration software</td>\n",
       "      <td>Port Sherrystad</td>\n",
       "      <td>Male</td>\n",
       "      <td>French Polynesia</td>\n",
       "      <td>04/18/2016 21:07</td>\n",
       "      <td>1</td>\n",
       "    </tr>\n",
       "    <tr>\n",
       "      <th>4</th>\n",
       "      <td>64.38</td>\n",
       "      <td>37</td>\n",
       "      <td>55121.65</td>\n",
       "      <td>232.54</td>\n",
       "      <td>Devolved regional moderator</td>\n",
       "      <td>South Patrickfort</td>\n",
       "      <td>Female</td>\n",
       "      <td>Bosnia and Herzegovina</td>\n",
       "      <td>07/18/2016 18:33</td>\n",
       "      <td>0</td>\n",
       "    </tr>\n",
       "  </tbody>\n",
       "</table>\n",
       "</div>"
      ],
      "text/plain": [
       "   Daily Time Spent on Site  Age  Area Income  Daily Internet Usage  \\\n",
       "0                     78.84   30     68448.94                161.79   \n",
       "1                     60.23   35     66815.54                216.24   \n",
       "2                     46.20   49     62109.80                135.24   \n",
       "3                     87.85   31     50055.33                134.46   \n",
       "4                     64.38   37     55121.65                232.54   \n",
       "\n",
       "                           Ad Topic Line               City  Gender  \\\n",
       "0         Front-line even-keeled website           Silvaton    Male   \n",
       "1  Front-line fresh-thinking open system    West Jeremyside    Male   \n",
       "2              Enhanced maximized access       Lake Vanessa    Male   \n",
       "3     Total zero administration software    Port Sherrystad    Male   \n",
       "4            Devolved regional moderator  South Patrickfort  Female   \n",
       "\n",
       "                  Country         Timestamp  Clicked on Ad  \n",
       "0                    Peru  04/04/2016 03:57              1  \n",
       "1        Papua New Guinea  06/18/2016 16:02              0  \n",
       "2                   Chile  06/26/2016 07:01              1  \n",
       "3        French Polynesia  04/18/2016 21:07              1  \n",
       "4  Bosnia and Herzegovina  07/18/2016 18:33              0  "
      ]
     },
     "execution_count": 2,
     "metadata": {},
     "output_type": "execute_result"
    }
   ],
   "source": [
    "df=pd.read_csv(\"C:\\\\Users\\\\Avila\\\\OneDrive\\\\Desktop\\\\csv files\\\\ad1.csv\")\n",
    "df.head()"
   ]
  },
  {
   "cell_type": "code",
   "execution_count": 3,
   "id": "e0d9035a",
   "metadata": {
    "scrolled": true
   },
   "outputs": [
    {
     "data": {
      "text/plain": [
       "Index(['Daily Time Spent on Site', 'Age', 'Area Income',\n",
       "       'Daily Internet Usage', 'Ad Topic Line', 'City', 'Gender', 'Country',\n",
       "       'Timestamp', 'Clicked on Ad'],\n",
       "      dtype='object')"
      ]
     },
     "execution_count": 3,
     "metadata": {},
     "output_type": "execute_result"
    }
   ],
   "source": [
    "df.columns"
   ]
  },
  {
   "cell_type": "code",
   "execution_count": 4,
   "id": "7aa4df37",
   "metadata": {},
   "outputs": [
    {
     "name": "stdout",
     "output_type": "stream",
     "text": [
      "<class 'pandas.core.frame.DataFrame'>\n",
      "RangeIndex: 999 entries, 0 to 998\n",
      "Data columns (total 10 columns):\n",
      " #   Column                    Non-Null Count  Dtype  \n",
      "---  ------                    --------------  -----  \n",
      " 0   Daily Time Spent on Site  999 non-null    float64\n",
      " 1   Age                       999 non-null    int64  \n",
      " 2   Area Income               999 non-null    float64\n",
      " 3   Daily Internet Usage      999 non-null    float64\n",
      " 4   Ad Topic Line             999 non-null    object \n",
      " 5   City                      999 non-null    object \n",
      " 6   Gender                    999 non-null    object \n",
      " 7   Country                   999 non-null    object \n",
      " 8   Timestamp                 999 non-null    object \n",
      " 9   Clicked on Ad             999 non-null    int64  \n",
      "dtypes: float64(3), int64(2), object(5)\n",
      "memory usage: 78.2+ KB\n"
     ]
    }
   ],
   "source": [
    "df.info()"
   ]
  },
  {
   "cell_type": "code",
   "execution_count": 5,
   "id": "1ba8a4b4",
   "metadata": {},
   "outputs": [],
   "source": [
    "to_drop = ['Timestamp','City','Ad Topic Line']\n",
    "df.drop(to_drop,axis=1,inplace=True)"
   ]
  },
  {
   "cell_type": "code",
   "execution_count": 6,
   "id": "4587c1b0",
   "metadata": {},
   "outputs": [],
   "source": [
    "cat_cols= ['Country','Gender']\n",
    "df1 = pd.get_dummies(df,columns= cat_cols)"
   ]
  },
  {
   "cell_type": "code",
   "execution_count": 7,
   "id": "bdc180ae",
   "metadata": {
    "scrolled": false
   },
   "outputs": [
    {
     "data": {
      "text/plain": [
       "Index(['Daily Time Spent on Site', 'Age', 'Area Income',\n",
       "       'Daily Internet Usage', 'Clicked on Ad', 'Country_Afghanistan',\n",
       "       'Country_Albania', 'Country_Algeria', 'Country_American Samoa',\n",
       "       'Country_Andorra',\n",
       "       ...\n",
       "       'Country_Uruguay', 'Country_Uzbekistan', 'Country_Vanuatu',\n",
       "       'Country_Venezuela', 'Country_Wallis and Futuna',\n",
       "       'Country_Western Sahara', 'Country_Zambia', 'Country_Zimbabwe',\n",
       "       'Gender_Female', 'Gender_Male'],\n",
       "      dtype='object', length=152)"
      ]
     },
     "execution_count": 7,
     "metadata": {},
     "output_type": "execute_result"
    }
   ],
   "source": [
    "df1.columns"
   ]
  },
  {
   "cell_type": "code",
   "execution_count": 9,
   "id": "85afeef9",
   "metadata": {},
   "outputs": [],
   "source": []
  },
  {
   "cell_type": "markdown",
   "id": "7702f605",
   "metadata": {},
   "source": [
    "### Data Split"
   ]
  },
  {
   "cell_type": "code",
   "execution_count": 10,
   "id": "fd60469a",
   "metadata": {},
   "outputs": [],
   "source": [
    "x = df1.drop(['Clicked on Ad'], axis = 1)\n",
    "y = df1['Clicked on Ad']"
   ]
  },
  {
   "cell_type": "code",
   "execution_count": 11,
   "id": "b506658f",
   "metadata": {},
   "outputs": [
    {
     "data": {
      "text/html": [
       "<div>\n",
       "<style scoped>\n",
       "    .dataframe tbody tr th:only-of-type {\n",
       "        vertical-align: middle;\n",
       "    }\n",
       "\n",
       "    .dataframe tbody tr th {\n",
       "        vertical-align: top;\n",
       "    }\n",
       "\n",
       "    .dataframe thead th {\n",
       "        text-align: right;\n",
       "    }\n",
       "</style>\n",
       "<table border=\"1\" class=\"dataframe\">\n",
       "  <thead>\n",
       "    <tr style=\"text-align: right;\">\n",
       "      <th></th>\n",
       "      <th>count</th>\n",
       "      <th>mean</th>\n",
       "      <th>std</th>\n",
       "      <th>min</th>\n",
       "      <th>25%</th>\n",
       "      <th>50%</th>\n",
       "      <th>75%</th>\n",
       "      <th>max</th>\n",
       "    </tr>\n",
       "  </thead>\n",
       "  <tbody>\n",
       "    <tr>\n",
       "      <th>Daily Time Spent on Site</th>\n",
       "      <td>999.0</td>\n",
       "      <td>63.194184</td>\n",
       "      <td>15.125537</td>\n",
       "      <td>32.60</td>\n",
       "      <td>48.730</td>\n",
       "      <td>66.01</td>\n",
       "      <td>75.84</td>\n",
       "      <td>89.80</td>\n",
       "    </tr>\n",
       "    <tr>\n",
       "      <th>Age</th>\n",
       "      <td>999.0</td>\n",
       "      <td>36.543544</td>\n",
       "      <td>9.132396</td>\n",
       "      <td>20.00</td>\n",
       "      <td>30.000</td>\n",
       "      <td>35.00</td>\n",
       "      <td>42.00</td>\n",
       "      <td>60.00</td>\n",
       "    </tr>\n",
       "    <tr>\n",
       "      <th>Area Income</th>\n",
       "      <td>999.0</td>\n",
       "      <td>53937.070180</td>\n",
       "      <td>11065.885432</td>\n",
       "      <td>20592.99</td>\n",
       "      <td>47929.830</td>\n",
       "      <td>55642.32</td>\n",
       "      <td>62792.43</td>\n",
       "      <td>77460.07</td>\n",
       "    </tr>\n",
       "    <tr>\n",
       "      <th>Daily Internet Usage</th>\n",
       "      <td>999.0</td>\n",
       "      <td>174.371321</td>\n",
       "      <td>42.043156</td>\n",
       "      <td>105.86</td>\n",
       "      <td>135.275</td>\n",
       "      <td>167.67</td>\n",
       "      <td>213.75</td>\n",
       "      <td>251.08</td>\n",
       "    </tr>\n",
       "    <tr>\n",
       "      <th>Country_Afghanistan</th>\n",
       "      <td>999.0</td>\n",
       "      <td>0.017017</td>\n",
       "      <td>0.129399</td>\n",
       "      <td>0.00</td>\n",
       "      <td>0.000</td>\n",
       "      <td>0.00</td>\n",
       "      <td>0.00</td>\n",
       "      <td>1.00</td>\n",
       "    </tr>\n",
       "    <tr>\n",
       "      <th>...</th>\n",
       "      <td>...</td>\n",
       "      <td>...</td>\n",
       "      <td>...</td>\n",
       "      <td>...</td>\n",
       "      <td>...</td>\n",
       "      <td>...</td>\n",
       "      <td>...</td>\n",
       "      <td>...</td>\n",
       "    </tr>\n",
       "    <tr>\n",
       "      <th>Country_Western Sahara</th>\n",
       "      <td>999.0</td>\n",
       "      <td>0.011011</td>\n",
       "      <td>0.104406</td>\n",
       "      <td>0.00</td>\n",
       "      <td>0.000</td>\n",
       "      <td>0.00</td>\n",
       "      <td>0.00</td>\n",
       "      <td>1.00</td>\n",
       "    </tr>\n",
       "    <tr>\n",
       "      <th>Country_Zambia</th>\n",
       "      <td>999.0</td>\n",
       "      <td>0.002002</td>\n",
       "      <td>0.044721</td>\n",
       "      <td>0.00</td>\n",
       "      <td>0.000</td>\n",
       "      <td>0.00</td>\n",
       "      <td>0.00</td>\n",
       "      <td>1.00</td>\n",
       "    </tr>\n",
       "    <tr>\n",
       "      <th>Country_Zimbabwe</th>\n",
       "      <td>999.0</td>\n",
       "      <td>0.007007</td>\n",
       "      <td>0.083456</td>\n",
       "      <td>0.00</td>\n",
       "      <td>0.000</td>\n",
       "      <td>0.00</td>\n",
       "      <td>0.00</td>\n",
       "      <td>1.00</td>\n",
       "    </tr>\n",
       "    <tr>\n",
       "      <th>Gender_Female</th>\n",
       "      <td>999.0</td>\n",
       "      <td>0.521522</td>\n",
       "      <td>0.499787</td>\n",
       "      <td>0.00</td>\n",
       "      <td>0.000</td>\n",
       "      <td>1.00</td>\n",
       "      <td>1.00</td>\n",
       "      <td>1.00</td>\n",
       "    </tr>\n",
       "    <tr>\n",
       "      <th>Gender_Male</th>\n",
       "      <td>999.0</td>\n",
       "      <td>0.478478</td>\n",
       "      <td>0.499787</td>\n",
       "      <td>0.00</td>\n",
       "      <td>0.000</td>\n",
       "      <td>0.00</td>\n",
       "      <td>1.00</td>\n",
       "      <td>1.00</td>\n",
       "    </tr>\n",
       "  </tbody>\n",
       "</table>\n",
       "<p>151 rows × 8 columns</p>\n",
       "</div>"
      ],
      "text/plain": [
       "                          count          mean           std       min  \\\n",
       "Daily Time Spent on Site  999.0     63.194184     15.125537     32.60   \n",
       "Age                       999.0     36.543544      9.132396     20.00   \n",
       "Area Income               999.0  53937.070180  11065.885432  20592.99   \n",
       "Daily Internet Usage      999.0    174.371321     42.043156    105.86   \n",
       "Country_Afghanistan       999.0      0.017017      0.129399      0.00   \n",
       "...                         ...           ...           ...       ...   \n",
       "Country_Western Sahara    999.0      0.011011      0.104406      0.00   \n",
       "Country_Zambia            999.0      0.002002      0.044721      0.00   \n",
       "Country_Zimbabwe          999.0      0.007007      0.083456      0.00   \n",
       "Gender_Female             999.0      0.521522      0.499787      0.00   \n",
       "Gender_Male               999.0      0.478478      0.499787      0.00   \n",
       "\n",
       "                                25%       50%       75%       max  \n",
       "Daily Time Spent on Site     48.730     66.01     75.84     89.80  \n",
       "Age                          30.000     35.00     42.00     60.00  \n",
       "Area Income               47929.830  55642.32  62792.43  77460.07  \n",
       "Daily Internet Usage        135.275    167.67    213.75    251.08  \n",
       "Country_Afghanistan           0.000      0.00      0.00      1.00  \n",
       "...                             ...       ...       ...       ...  \n",
       "Country_Western Sahara        0.000      0.00      0.00      1.00  \n",
       "Country_Zambia                0.000      0.00      0.00      1.00  \n",
       "Country_Zimbabwe              0.000      0.00      0.00      1.00  \n",
       "Gender_Female                 0.000      1.00      1.00      1.00  \n",
       "Gender_Male                   0.000      0.00      1.00      1.00  \n",
       "\n",
       "[151 rows x 8 columns]"
      ]
     },
     "execution_count": 11,
     "metadata": {},
     "output_type": "execute_result"
    }
   ],
   "source": [
    "x.describe().T"
   ]
  },
  {
   "cell_type": "markdown",
   "id": "0279b80a",
   "metadata": {},
   "source": [
    "### Pre-processing"
   ]
  },
  {
   "cell_type": "code",
   "execution_count": 12,
   "id": "53d8aa5b",
   "metadata": {},
   "outputs": [],
   "source": [
    "#Split the dataset into training and test sets\n",
    "x_train, x_test, y_train, y_test = train_test_split(x, y, test_size=0.30, random_state=101)"
   ]
  },
  {
   "cell_type": "code",
   "execution_count": 13,
   "id": "1fe7b907",
   "metadata": {},
   "outputs": [],
   "source": [
    "#NOTE: Only scale the predictor variables, NOT the target variable\n",
    "\n",
    "#Instantiate the Scaler\n",
    "scaler = MinMaxScaler()\n",
    "\n",
    "#Fit and Transform to the Train Set"
   ]
  },
  {
   "cell_type": "code",
   "execution_count": 14,
   "id": "5809d71e",
   "metadata": {},
   "outputs": [],
   "source": [
    "x_train_scaled = scaler.fit_transform(x_train)\n",
    "\n",
    "#Transform the Test Set\n",
    "x_test_scaled = scaler.transform(x_test)"
   ]
  },
  {
   "cell_type": "markdown",
   "id": "1983d9d6",
   "metadata": {},
   "source": [
    "### Training Model"
   ]
  },
  {
   "cell_type": "code",
   "execution_count": 15,
   "id": "590750cf",
   "metadata": {},
   "outputs": [
    {
     "data": {
      "text/plain": [
       "KNeighborsClassifier(metric='euclidean', n_jobs=1, n_neighbors=3)"
      ]
     },
     "execution_count": 15,
     "metadata": {},
     "output_type": "execute_result"
    }
   ],
   "source": [
    "#Define the Model\n",
    "k = 3\n",
    "\n",
    "classifier = KNeighborsClassifier(n_neighbors=k, p=2 ,metric='euclidean')\n",
    "\n",
    "classifier.fit(x_train,y_train)\n",
    "KNeighborsClassifier(algorithm='auto', leaf_size=30, metric='euclidean',\n",
    "                    metric_params=None, n_jobs=1, n_neighbors=k, p=2\n",
    "                    , weights ='uniform')"
   ]
  },
  {
   "cell_type": "code",
   "execution_count": 16,
   "id": "bba695b5",
   "metadata": {},
   "outputs": [
    {
     "data": {
      "text/plain": [
       "17.320508075688775"
      ]
     },
     "execution_count": 16,
     "metadata": {},
     "output_type": "execute_result"
    }
   ],
   "source": [
    "import math\n",
    "math.sqrt(len(y_test))"
   ]
  },
  {
   "cell_type": "markdown",
   "id": "b2215b88",
   "metadata": {},
   "source": [
    "### Prediction"
   ]
  },
  {
   "cell_type": "code",
   "execution_count": 17,
   "id": "7db04a4a",
   "metadata": {
    "scrolled": true
   },
   "outputs": [
    {
     "name": "stderr",
     "output_type": "stream",
     "text": [
      "C:\\Users\\Avila\\anaconda3\\lib\\site-packages\\sklearn\\neighbors\\_classification.py:228: FutureWarning: Unlike other reduction functions (e.g. `skew`, `kurtosis`), the default behavior of `mode` typically preserves the axis it acts along. In SciPy 1.11.0, this behavior will change: the default value of `keepdims` will become False, the `axis` over which the statistic is taken will be eliminated, and the value None will no longer be accepted. Set `keepdims` to True or False to avoid this warning.\n",
      "  mode, _ = stats.mode(_y[neigh_ind, k], axis=1)\n"
     ]
    },
    {
     "data": {
      "text/plain": [
       "array([1, 0, 1, 1, 0, 1, 1, 1, 1, 0, 1, 0, 0, 1, 1, 1, 1, 0, 1, 1, 1, 1,\n",
       "       0, 0, 1, 1, 1, 1, 0, 1, 1, 0, 0, 0, 1, 1, 1, 0, 0, 1, 0, 1, 0, 0,\n",
       "       0, 1, 1, 0, 0, 1, 1, 1, 1, 1, 0, 0, 1, 1, 1, 0, 0, 1, 1, 1, 1, 1,\n",
       "       1, 1, 0, 1, 0, 1, 1, 1, 0, 0, 0, 1, 1, 1, 1, 0, 1, 0, 1, 1, 1, 0,\n",
       "       0, 1, 0, 0, 1, 1, 0, 0, 0, 0, 0, 0, 1, 0, 0, 1, 0, 1, 1, 0, 0, 0,\n",
       "       1, 1, 0, 0, 0, 0, 1, 1, 1, 0, 1, 1, 0, 1, 1, 0, 1, 0, 0, 1, 0, 1,\n",
       "       0, 1, 1, 1, 0, 1, 1, 0, 1, 1, 1, 1, 1, 1, 1, 0, 1, 1, 0, 0, 1, 1,\n",
       "       0, 1, 0, 0, 1, 0, 1, 0, 1, 0, 0, 1, 0, 0, 0, 1, 0, 0, 1, 0, 0, 0,\n",
       "       1, 1, 0, 0, 0, 1, 0, 1, 0, 1, 1, 1, 1, 0, 1, 0, 0, 0, 0, 0, 1, 1,\n",
       "       0, 1, 1, 0, 0, 0, 0, 1, 1, 0, 0, 0, 1, 1, 1, 1, 0, 1, 1, 1, 0, 1,\n",
       "       0, 0, 1, 1, 1, 0, 0, 1, 1, 0, 0, 0, 0, 1, 0, 0, 1, 0, 1, 0, 1, 1,\n",
       "       1, 1, 1, 1, 0, 1, 0, 1, 0, 1, 1, 1, 0, 1, 0, 1, 1, 0, 1, 0, 0, 0,\n",
       "       1, 1, 0, 1, 0, 0, 0, 0, 1, 1, 1, 0, 0, 0, 1, 1, 1, 1, 1, 0, 0, 1,\n",
       "       0, 1, 0, 0, 1, 1, 1, 0, 0, 0, 1, 1, 0, 1], dtype=int64)"
      ]
     },
     "execution_count": 17,
     "metadata": {},
     "output_type": "execute_result"
    }
   ],
   "source": [
    "y_pred = classifier.predict(x_test)\n",
    "y_pred"
   ]
  },
  {
   "cell_type": "markdown",
   "id": "a6bc96e5",
   "metadata": {},
   "source": [
    "### Accuracy Score"
   ]
  },
  {
   "cell_type": "code",
   "execution_count": 18,
   "id": "6e55d24e",
   "metadata": {
    "scrolled": false
   },
   "outputs": [
    {
     "name": "stdout",
     "output_type": "stream",
     "text": [
      "64.66666666666666\n"
     ]
    }
   ],
   "source": [
    "print(accuracy_score(y_test, y_pred)*100)"
   ]
  },
  {
   "cell_type": "markdown",
   "id": "0f340b05",
   "metadata": {},
   "source": [
    "### Classification Report"
   ]
  },
  {
   "cell_type": "code",
   "execution_count": 19,
   "id": "3673a985",
   "metadata": {},
   "outputs": [
    {
     "name": "stdout",
     "output_type": "stream",
     "text": [
      "Classification Report for classifier KNeighborsClassifier(metric='euclidean', n_neighbors=3):\n",
      "              precision    recall  f1-score   support\n",
      "\n",
      "           0       0.61      0.61      0.61       135\n",
      "           1       0.68      0.67      0.68       165\n",
      "\n",
      "    accuracy                           0.65       300\n",
      "   macro avg       0.64      0.64      0.64       300\n",
      "weighted avg       0.65      0.65      0.65       300\n",
      "\n",
      "\n"
     ]
    }
   ],
   "source": [
    "print(\"Classification Report for classifier %s:\\n%s\\n\" \n",
    "      % (classifier,metrics.classification_report(y_test, y_pred)))"
   ]
  },
  {
   "cell_type": "markdown",
   "id": "dbd3066e",
   "metadata": {},
   "source": [
    "### Confusion Matrix"
   ]
  },
  {
   "cell_type": "code",
   "execution_count": 20,
   "id": "dd4b8a31",
   "metadata": {
    "scrolled": true
   },
   "outputs": [
    {
     "name": "stdout",
     "output_type": "stream",
     "text": [
      "Confusion matrix:\n",
      "[[ 83  52]\n",
      " [ 54 111]]\n"
     ]
    }
   ],
   "source": [
    "print(\"Confusion matrix:\\n%s\" % metrics.confusion_matrix(y_test, y_pred))"
   ]
  },
  {
   "cell_type": "code",
   "execution_count": 25,
   "id": "d7d91ae7",
   "metadata": {},
   "outputs": [],
   "source": [
    "import matplotlib.pyplot as plt\n",
    "import seaborn as sns"
   ]
  },
  {
   "cell_type": "markdown",
   "id": "8dd188f1",
   "metadata": {},
   "source": [
    "## Visualization"
   ]
  },
  {
   "cell_type": "code",
   "execution_count": 26,
   "id": "016d341b",
   "metadata": {},
   "outputs": [
    {
     "data": {
      "text/plain": [
       "Text(0.5, 47.7222222222222, 'Predicted label')"
      ]
     },
     "execution_count": 26,
     "metadata": {},
     "output_type": "execute_result"
    },
    {
     "data": {
      "image/png": "[encoded data removed]",
      "text/plain": [
       "<Figure size 1000x700 with 2 Axes>"
      ]
     },
     "metadata": {},
     "output_type": "display_data"
    }
   ],
   "source": [
    "#Plot the confusion matrix for easier viewing\n",
    "cm = metrics.confusion_matrix(y_test, y_pred)\n",
    "\n",
    "labels=[0,1]\n",
    "\n",
    "df_cm = pd.DataFrame(cm, index=labels, columns=labels)\n",
    "\n",
    "#Plot attributes\n",
    "fig = plt.figure(figsize= (10,7))\n",
    "cmap = sns.diverging_palette(220, 10, as_cmap=True)\n",
    "\n",
    "#Seaborn Heatmap\n",
    "heatmap = sns.heatmap(df_cm,annot=True, annot_kws={\"size\": 20}, fmt=\"d\", cmap=cmap)\n",
    "\n",
    "#Heatmap attributes\n",
    "heatmap.yaxis.set_ticklabels(heatmap.yaxis.get_ticklabels(), rotation=0, ha='right', fontsize=16)\n",
    "heatmap.xaxis.set_ticklabels(heatmap.xaxis.get_ticklabels(), rotation=0, ha='right', fontsize=16)\n",
    "plt.ylabel('True label')\n",
    "plt.xlabel('Predicted label')"
   ]
  },
  {
   "cell_type": "code",
   "execution_count": null,
   "id": "b91272d8",
   "metadata": {},
   "outputs": [],
   "source": []
  }
 ],
 "metadata": {
  "kernelspec": {
   "display_name": "Python 3 (ipykernel)",
   "language": "python",
   "name": "python3"
  },
  "language_info": {
   "codemirror_mode": {
    "name": "ipython",
    "version": 3
   },
   "file_extension": ".py",
   "mimetype": "text/x-python",
   "name": "python",
   "nbconvert_exporter": "python",
   "pygments_lexer": "ipython3",
   "version": "3.9.13"
  }
 },
 "nbformat": 4,
 "nbformat_minor": 5
}
