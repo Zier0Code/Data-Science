{
 "cells": [
  {
   "cell_type": "code",
   "execution_count": 1,
   "id": "9e74e048",
   "metadata": {},
   "outputs": [],
   "source": [
    "import tradingeconomics as te\n",
    "import matplotlib.pyplot as plt\n",
    "import seaborn as sns\n",
    "import numpy as np"
   ]
  },
  {
   "cell_type": "code",
   "execution_count": 19,
   "id": "c2f5e77d",
   "metadata": {},
   "outputs": [],
   "source": [
    "from sklearn.model_selection import train_test_split\n",
    "from sklearn.linear_model import LinearRegression\n",
    "from sklearn.metrics import r2_score, mean_absolute_error, mean_squared_error\n",
    "\n",
    "a_train, a_test, b_train, b_test = train_test_split(a, b, test_size=0.33, random_state=42)\n"
   ]
  },
  {
   "cell_type": "code",
   "execution_count": 2,
   "id": "98f1d929",
   "metadata": {},
   "outputs": [
    {
     "data": {
      "text/plain": [
       "'You are logged in as a 51a072f89c934bd:l011saq3ckgd3ka'"
      ]
     },
     "execution_count": 2,
     "metadata": {},
     "output_type": "execute_result"
    }
   ],
   "source": [
    "te.login(\"51a072f89c934bd:l011saq3ckgd3ka\")"
   ]
  },
  {
   "cell_type": "code",
   "execution_count": 3,
   "id": "94684347",
   "metadata": {},
   "outputs": [
    {
     "name": "stdout",
     "output_type": "stream",
     "text": [
      "https://api.tradingeconomics.com/peers/country/mexico?c=51a072f89c934bd:l011saq3ckgd3ka\n"
     ]
    },
    {
     "data": {
      "text/html": [
       "<div>\n",
       "<style scoped>\n",
       "    .dataframe tbody tr th:only-of-type {\n",
       "        vertical-align: middle;\n",
       "    }\n",
       "\n",
       "    .dataframe tbody tr th {\n",
       "        vertical-align: top;\n",
       "    }\n",
       "\n",
       "    .dataframe thead th {\n",
       "        text-align: right;\n",
       "    }\n",
       "</style>\n",
       "<table border=\"1\" class=\"dataframe\">\n",
       "  <thead>\n",
       "    <tr style=\"text-align: right;\">\n",
       "      <th></th>\n",
       "      <th>Ticker</th>\n",
       "      <th>Peer</th>\n",
       "      <th>Relationship</th>\n",
       "      <th>Country</th>\n",
       "      <th>Category</th>\n",
       "      <th>Title</th>\n",
       "      <th>LatestValueDate</th>\n",
       "      <th>LatestValue</th>\n",
       "      <th>Source</th>\n",
       "      <th>SourceURL</th>\n",
       "      <th>Unit</th>\n",
       "      <th>URL</th>\n",
       "      <th>CategoryGroup</th>\n",
       "      <th>Adjustment</th>\n",
       "      <th>Frequency</th>\n",
       "      <th>HistoricalDataSymbol</th>\n",
       "      <th>CreateDate</th>\n",
       "      <th>FirstValueDate</th>\n",
       "      <th>PreviousValue</th>\n",
       "      <th>PreviousValueDate</th>\n",
       "    </tr>\n",
       "  </thead>\n",
       "  <tbody>\n",
       "    <tr>\n",
       "      <th>0</th>\n",
       "      <td>WGDPMEXI</td>\n",
       "      <td>WGDPMEXI</td>\n",
       "      <td>-1</td>\n",
       "      <td>Mexico</td>\n",
       "      <td>GDP</td>\n",
       "      <td>Mexico GDP</td>\n",
       "      <td>2021-12-31T00:00:00</td>\n",
       "      <td>1293.04</td>\n",
       "      <td>World Bank</td>\n",
       "      <td>https://www.worldbank.org/</td>\n",
       "      <td>USD Billion</td>\n",
       "      <td>/mexico/gdp</td>\n",
       "      <td>GDP</td>\n",
       "      <td>Current USD</td>\n",
       "      <td>Yearly</td>\n",
       "      <td>WGDPMEXI</td>\n",
       "      <td>2014-07-03T15:32:00</td>\n",
       "      <td>1960-12-31T00:00:00</td>\n",
       "      <td>1087.12</td>\n",
       "      <td>2020-12-31T00:00:00</td>\n",
       "    </tr>\n",
       "    <tr>\n",
       "      <th>1</th>\n",
       "      <td>WGDPMEXI</td>\n",
       "      <td>MEXNYGDPPCAPPPCD</td>\n",
       "      <td>0</td>\n",
       "      <td>Mexico</td>\n",
       "      <td>GDP per Capita PPP</td>\n",
       "      <td>Mexico GDP per capita PPP</td>\n",
       "      <td>2021-12-31T00:00:00</td>\n",
       "      <td>18544.71</td>\n",
       "      <td>World Bank</td>\n",
       "      <td>https://www.worldbank.org/</td>\n",
       "      <td>USD</td>\n",
       "      <td>/mexico/gdp-per-capita-ppp</td>\n",
       "      <td>GDP</td>\n",
       "      <td>Constant 2017 International Dollars</td>\n",
       "      <td>Yearly</td>\n",
       "      <td>MEXNYGDPPCAPPPCD</td>\n",
       "      <td>2014-09-17T14:56:00</td>\n",
       "      <td>1990-12-31T00:00:00</td>\n",
       "      <td>17878.28</td>\n",
       "      <td>2020-12-31T00:00:00</td>\n",
       "    </tr>\n",
       "    <tr>\n",
       "      <th>2</th>\n",
       "      <td>WGDPMEXI</td>\n",
       "      <td>MEXNYGDPPCAPKD</td>\n",
       "      <td>0</td>\n",
       "      <td>Mexico</td>\n",
       "      <td>GDP per Capita</td>\n",
       "      <td>Mexico GDP per capita</td>\n",
       "      <td>2021-12-31T00:00:00</td>\n",
       "      <td>9255.21</td>\n",
       "      <td>World Bank</td>\n",
       "      <td>https://www.worldbank.org/</td>\n",
       "      <td>USD</td>\n",
       "      <td>/mexico/gdp-per-capita</td>\n",
       "      <td>GDP</td>\n",
       "      <td>Constant 2015 USD</td>\n",
       "      <td>Yearly</td>\n",
       "      <td>MEXNYGDPPCAPKD</td>\n",
       "      <td>2014-07-08T15:56:00</td>\n",
       "      <td>1960-12-31T00:00:00</td>\n",
       "      <td>8922.61</td>\n",
       "      <td>2020-12-31T00:00:00</td>\n",
       "    </tr>\n",
       "    <tr>\n",
       "      <th>3</th>\n",
       "      <td>WGDPMEXI</td>\n",
       "      <td>MEXICOGFPA</td>\n",
       "      <td>1</td>\n",
       "      <td>Mexico</td>\n",
       "      <td>GDP from Public Administration</td>\n",
       "      <td>Mexico GDP From Public Administration</td>\n",
       "      <td>2022-09-30T00:00:00</td>\n",
       "      <td>694085.03</td>\n",
       "      <td>Instituto Nacional de Estadística y Geografía ...</td>\n",
       "      <td>https://www.inegi.org.mx/</td>\n",
       "      <td>MXN Million</td>\n",
       "      <td>/mexico/gdp-from-public-administration</td>\n",
       "      <td>GDP</td>\n",
       "      <td>Constant 2013 Prices, NSA</td>\n",
       "      <td>Quarterly</td>\n",
       "      <td>MEXICOGFPA</td>\n",
       "      <td>2015-06-24T17:37:00</td>\n",
       "      <td>1993-03-31T00:00:00</td>\n",
       "      <td>717235.51</td>\n",
       "      <td>2022-06-30T00:00:00</td>\n",
       "    </tr>\n",
       "    <tr>\n",
       "      <th>4</th>\n",
       "      <td>WGDPMEXI</td>\n",
       "      <td>MEXICOGDPFROUTI</td>\n",
       "      <td>1</td>\n",
       "      <td>Mexico</td>\n",
       "      <td>GDP from Utilities</td>\n",
       "      <td>Mexico GDP From Utilities</td>\n",
       "      <td>2022-09-30T00:00:00</td>\n",
       "      <td>247685.00</td>\n",
       "      <td>Instituto Nacional de Estadística y Geografía ...</td>\n",
       "      <td>https://www.inegi.org.mx/</td>\n",
       "      <td>MXN Million</td>\n",
       "      <td>/mexico/gdp-from-utilities</td>\n",
       "      <td>GDP</td>\n",
       "      <td>Constant 2013 Prices, NSA</td>\n",
       "      <td>Quarterly</td>\n",
       "      <td>MEXICOGDPFROUTI</td>\n",
       "      <td>2015-06-24T17:36:00</td>\n",
       "      <td>1993-03-31T00:00:00</td>\n",
       "      <td>282058.00</td>\n",
       "      <td>2022-06-30T00:00:00</td>\n",
       "    </tr>\n",
       "    <tr>\n",
       "      <th>...</th>\n",
       "      <td>...</td>\n",
       "      <td>...</td>\n",
       "      <td>...</td>\n",
       "      <td>...</td>\n",
       "      <td>...</td>\n",
       "      <td>...</td>\n",
       "      <td>...</td>\n",
       "      <td>...</td>\n",
       "      <td>...</td>\n",
       "      <td>...</td>\n",
       "      <td>...</td>\n",
       "      <td>...</td>\n",
       "      <td>...</td>\n",
       "      <td>...</td>\n",
       "      <td>...</td>\n",
       "      <td>...</td>\n",
       "      <td>...</td>\n",
       "      <td>...</td>\n",
       "      <td>...</td>\n",
       "      <td>...</td>\n",
       "    </tr>\n",
       "    <tr>\n",
       "      <th>869</th>\n",
       "      <td>MEX.EN.ATM.CO2E.KT</td>\n",
       "      <td>MEXPREC</td>\n",
       "      <td>0</td>\n",
       "      <td>Mexico</td>\n",
       "      <td>Precipitation</td>\n",
       "      <td>Mexico Average Precipitation</td>\n",
       "      <td>2021-12-31T00:00:00</td>\n",
       "      <td>837.45</td>\n",
       "      <td>Worldbank</td>\n",
       "      <td></td>\n",
       "      <td>mm</td>\n",
       "      <td>/mexico/precipitation</td>\n",
       "      <td>Climate</td>\n",
       "      <td></td>\n",
       "      <td>Yearly</td>\n",
       "      <td>MEXPREC</td>\n",
       "      <td>2017-10-27T10:09:00</td>\n",
       "      <td>1901-12-31T00:00:00</td>\n",
       "      <td>691.92</td>\n",
       "      <td>2020-12-31T00:00:00</td>\n",
       "    </tr>\n",
       "    <tr>\n",
       "      <th>870</th>\n",
       "      <td>MEX SP.POP.TOTL</td>\n",
       "      <td>MEX SP.POP.TOTL</td>\n",
       "      <td>-1</td>\n",
       "      <td>Mexico</td>\n",
       "      <td>Population</td>\n",
       "      <td>Mexico Population</td>\n",
       "      <td>2021-12-31T00:00:00</td>\n",
       "      <td>126.25</td>\n",
       "      <td>Consejo Nacional de Población</td>\n",
       "      <td>https://www.gob.mx</td>\n",
       "      <td>Million</td>\n",
       "      <td>/mexico/population</td>\n",
       "      <td>Labour</td>\n",
       "      <td></td>\n",
       "      <td>Yearly</td>\n",
       "      <td>MEX SP.POP.TOTL</td>\n",
       "      <td>2014-07-08T11:50:00</td>\n",
       "      <td>1960-12-31T00:00:00</td>\n",
       "      <td>126.01</td>\n",
       "      <td>2020-12-31T00:00:00</td>\n",
       "    </tr>\n",
       "    <tr>\n",
       "      <th>871</th>\n",
       "      <td>GMXN10YR</td>\n",
       "      <td>GMXN10YR</td>\n",
       "      <td>-1</td>\n",
       "      <td>Mexico</td>\n",
       "      <td>Government Bond 10Y</td>\n",
       "      <td>Mexico Government Bond 10Y</td>\n",
       "      <td>2022-11-25T00:00:00</td>\n",
       "      <td>9.13</td>\n",
       "      <td>Secretaria de Hacienda y Credito Publico</td>\n",
       "      <td></td>\n",
       "      <td>percent</td>\n",
       "      <td>/mexico/government-bond-yield</td>\n",
       "      <td>Markets</td>\n",
       "      <td></td>\n",
       "      <td>Daily</td>\n",
       "      <td>GMXN10YR</td>\n",
       "      <td>2012-11-15T11:38:00</td>\n",
       "      <td>2001-07-31T00:00:00</td>\n",
       "      <td>9.09</td>\n",
       "      <td>2022-11-24T00:00:00</td>\n",
       "    </tr>\n",
       "    <tr>\n",
       "      <th>872</th>\n",
       "      <td>2738A38</td>\n",
       "      <td>MEXDEBT2GDP</td>\n",
       "      <td>0</td>\n",
       "      <td>Mexico</td>\n",
       "      <td>Government Debt to GDP</td>\n",
       "      <td>Mexico Government Debt to GDP</td>\n",
       "      <td>2021-12-31T00:00:00</td>\n",
       "      <td>49.60</td>\n",
       "      <td>Secretaria de Hacienda y Credito Publico</td>\n",
       "      <td>https://www.gob.mx</td>\n",
       "      <td>percent of GDP</td>\n",
       "      <td>/mexico/government-debt-to-gdp</td>\n",
       "      <td>Government</td>\n",
       "      <td></td>\n",
       "      <td>Yearly</td>\n",
       "      <td>MEXDebt2GDP</td>\n",
       "      <td>2014-04-28T16:27:00</td>\n",
       "      <td>1990-12-31T00:00:00</td>\n",
       "      <td>51.30</td>\n",
       "      <td>2020-12-31T00:00:00</td>\n",
       "    </tr>\n",
       "    <tr>\n",
       "      <th>873</th>\n",
       "      <td>2738A38</td>\n",
       "      <td>2738A38</td>\n",
       "      <td>-1</td>\n",
       "      <td>Mexico</td>\n",
       "      <td>Government Budget</td>\n",
       "      <td>Mexico Government Budget</td>\n",
       "      <td>2021-12-31T00:00:00</td>\n",
       "      <td>-3.80</td>\n",
       "      <td>Secretaria de Hacienda y Credito Publico</td>\n",
       "      <td>http://www.hacienda.gob.mx</td>\n",
       "      <td>percent of GDP</td>\n",
       "      <td>/mexico/government-budget</td>\n",
       "      <td>Government</td>\n",
       "      <td></td>\n",
       "      <td>Yearly</td>\n",
       "      <td>2738A38</td>\n",
       "      <td>2014-04-28T15:47:00</td>\n",
       "      <td>1990-12-31T00:00:00</td>\n",
       "      <td>-4.60</td>\n",
       "      <td>2020-12-31T00:00:00</td>\n",
       "    </tr>\n",
       "  </tbody>\n",
       "</table>\n",
       "<p>874 rows × 20 columns</p>\n",
       "</div>"
      ],
      "text/plain": [
       "                 Ticker              Peer  Relationship Country  \\\n",
       "0              WGDPMEXI          WGDPMEXI            -1  Mexico   \n",
       "1              WGDPMEXI  MEXNYGDPPCAPPPCD             0  Mexico   \n",
       "2              WGDPMEXI    MEXNYGDPPCAPKD             0  Mexico   \n",
       "3              WGDPMEXI        MEXICOGFPA             1  Mexico   \n",
       "4              WGDPMEXI   MEXICOGDPFROUTI             1  Mexico   \n",
       "..                  ...               ...           ...     ...   \n",
       "869  MEX.EN.ATM.CO2E.KT           MEXPREC             0  Mexico   \n",
       "870     MEX SP.POP.TOTL   MEX SP.POP.TOTL            -1  Mexico   \n",
       "871            GMXN10YR          GMXN10YR            -1  Mexico   \n",
       "872             2738A38       MEXDEBT2GDP             0  Mexico   \n",
       "873             2738A38           2738A38            -1  Mexico   \n",
       "\n",
       "                           Category                                  Title  \\\n",
       "0                               GDP                             Mexico GDP   \n",
       "1                GDP per Capita PPP              Mexico GDP per capita PPP   \n",
       "2                    GDP per Capita                  Mexico GDP per capita   \n",
       "3    GDP from Public Administration  Mexico GDP From Public Administration   \n",
       "4                GDP from Utilities              Mexico GDP From Utilities   \n",
       "..                              ...                                    ...   \n",
       "869                   Precipitation           Mexico Average Precipitation   \n",
       "870                      Population                      Mexico Population   \n",
       "871             Government Bond 10Y             Mexico Government Bond 10Y   \n",
       "872          Government Debt to GDP          Mexico Government Debt to GDP   \n",
       "873               Government Budget               Mexico Government Budget   \n",
       "\n",
       "         LatestValueDate  LatestValue  \\\n",
       "0    2021-12-31T00:00:00      1293.04   \n",
       "1    2021-12-31T00:00:00     18544.71   \n",
       "2    2021-12-31T00:00:00      9255.21   \n",
       "3    2022-09-30T00:00:00    694085.03   \n",
       "4    2022-09-30T00:00:00    247685.00   \n",
       "..                   ...          ...   \n",
       "869  2021-12-31T00:00:00       837.45   \n",
       "870  2021-12-31T00:00:00       126.25   \n",
       "871  2022-11-25T00:00:00         9.13   \n",
       "872  2021-12-31T00:00:00        49.60   \n",
       "873  2021-12-31T00:00:00        -3.80   \n",
       "\n",
       "                                                Source  \\\n",
       "0                                           World Bank   \n",
       "1                                           World Bank   \n",
       "2                                           World Bank   \n",
       "3    Instituto Nacional de Estadística y Geografía ...   \n",
       "4    Instituto Nacional de Estadística y Geografía ...   \n",
       "..                                                 ...   \n",
       "869                                          Worldbank   \n",
       "870                      Consejo Nacional de Población   \n",
       "871           Secretaria de Hacienda y Credito Publico   \n",
       "872           Secretaria de Hacienda y Credito Publico   \n",
       "873           Secretaria de Hacienda y Credito Publico   \n",
       "\n",
       "                      SourceURL            Unit  \\\n",
       "0    https://www.worldbank.org/     USD Billion   \n",
       "1    https://www.worldbank.org/             USD   \n",
       "2    https://www.worldbank.org/             USD   \n",
       "3     https://www.inegi.org.mx/     MXN Million   \n",
       "4     https://www.inegi.org.mx/     MXN Million   \n",
       "..                          ...             ...   \n",
       "869                                          mm   \n",
       "870          https://www.gob.mx         Million   \n",
       "871                                     percent   \n",
       "872          https://www.gob.mx  percent of GDP   \n",
       "873  http://www.hacienda.gob.mx  percent of GDP   \n",
       "\n",
       "                                        URL CategoryGroup  \\\n",
       "0                               /mexico/gdp           GDP   \n",
       "1                /mexico/gdp-per-capita-ppp           GDP   \n",
       "2                    /mexico/gdp-per-capita           GDP   \n",
       "3    /mexico/gdp-from-public-administration           GDP   \n",
       "4                /mexico/gdp-from-utilities           GDP   \n",
       "..                                      ...           ...   \n",
       "869                   /mexico/precipitation       Climate   \n",
       "870                      /mexico/population        Labour   \n",
       "871           /mexico/government-bond-yield       Markets   \n",
       "872          /mexico/government-debt-to-gdp    Government   \n",
       "873               /mexico/government-budget    Government   \n",
       "\n",
       "                              Adjustment  Frequency HistoricalDataSymbol  \\\n",
       "0                            Current USD     Yearly             WGDPMEXI   \n",
       "1    Constant 2017 International Dollars     Yearly     MEXNYGDPPCAPPPCD   \n",
       "2                      Constant 2015 USD     Yearly       MEXNYGDPPCAPKD   \n",
       "3              Constant 2013 Prices, NSA  Quarterly           MEXICOGFPA   \n",
       "4              Constant 2013 Prices, NSA  Quarterly      MEXICOGDPFROUTI   \n",
       "..                                   ...        ...                  ...   \n",
       "869                                          Yearly              MEXPREC   \n",
       "870                                          Yearly      MEX SP.POP.TOTL   \n",
       "871                                           Daily             GMXN10YR   \n",
       "872                                          Yearly          MEXDebt2GDP   \n",
       "873                                          Yearly              2738A38   \n",
       "\n",
       "              CreateDate       FirstValueDate  PreviousValue  \\\n",
       "0    2014-07-03T15:32:00  1960-12-31T00:00:00        1087.12   \n",
       "1    2014-09-17T14:56:00  1990-12-31T00:00:00       17878.28   \n",
       "2    2014-07-08T15:56:00  1960-12-31T00:00:00        8922.61   \n",
       "3    2015-06-24T17:37:00  1993-03-31T00:00:00      717235.51   \n",
       "4    2015-06-24T17:36:00  1993-03-31T00:00:00      282058.00   \n",
       "..                   ...                  ...            ...   \n",
       "869  2017-10-27T10:09:00  1901-12-31T00:00:00         691.92   \n",
       "870  2014-07-08T11:50:00  1960-12-31T00:00:00         126.01   \n",
       "871  2012-11-15T11:38:00  2001-07-31T00:00:00           9.09   \n",
       "872  2014-04-28T16:27:00  1990-12-31T00:00:00          51.30   \n",
       "873  2014-04-28T15:47:00  1990-12-31T00:00:00          -4.60   \n",
       "\n",
       "       PreviousValueDate  \n",
       "0    2020-12-31T00:00:00  \n",
       "1    2020-12-31T00:00:00  \n",
       "2    2020-12-31T00:00:00  \n",
       "3    2022-06-30T00:00:00  \n",
       "4    2022-06-30T00:00:00  \n",
       "..                   ...  \n",
       "869  2020-12-31T00:00:00  \n",
       "870  2020-12-31T00:00:00  \n",
       "871  2022-11-24T00:00:00  \n",
       "872  2020-12-31T00:00:00  \n",
       "873  2020-12-31T00:00:00  \n",
       "\n",
       "[874 rows x 20 columns]"
      ]
     },
     "execution_count": 3,
     "metadata": {},
     "output_type": "execute_result"
    }
   ],
   "source": [
    "df=te.getPeers(country='mexico', output_type='df')\n",
    "df"
   ]
  },
  {
   "cell_type": "code",
   "execution_count": 4,
   "id": "54edd121",
   "metadata": {},
   "outputs": [
    {
     "data": {
      "text/html": [
       "<div>\n",
       "<style scoped>\n",
       "    .dataframe tbody tr th:only-of-type {\n",
       "        vertical-align: middle;\n",
       "    }\n",
       "\n",
       "    .dataframe tbody tr th {\n",
       "        vertical-align: top;\n",
       "    }\n",
       "\n",
       "    .dataframe thead th {\n",
       "        text-align: right;\n",
       "    }\n",
       "</style>\n",
       "<table border=\"1\" class=\"dataframe\">\n",
       "  <thead>\n",
       "    <tr style=\"text-align: right;\">\n",
       "      <th></th>\n",
       "      <th>Relationship</th>\n",
       "      <th>LatestValue</th>\n",
       "      <th>PreviousValue</th>\n",
       "    </tr>\n",
       "  </thead>\n",
       "  <tbody>\n",
       "    <tr>\n",
       "      <th>Relationship</th>\n",
       "      <td>1.000000</td>\n",
       "      <td>0.007600</td>\n",
       "      <td>0.007723</td>\n",
       "    </tr>\n",
       "    <tr>\n",
       "      <th>LatestValue</th>\n",
       "      <td>0.007600</td>\n",
       "      <td>1.000000</td>\n",
       "      <td>0.999954</td>\n",
       "    </tr>\n",
       "    <tr>\n",
       "      <th>PreviousValue</th>\n",
       "      <td>0.007723</td>\n",
       "      <td>0.999954</td>\n",
       "      <td>1.000000</td>\n",
       "    </tr>\n",
       "  </tbody>\n",
       "</table>\n",
       "</div>"
      ],
      "text/plain": [
       "               Relationship  LatestValue  PreviousValue\n",
       "Relationship       1.000000     0.007600       0.007723\n",
       "LatestValue        0.007600     1.000000       0.999954\n",
       "PreviousValue      0.007723     0.999954       1.000000"
      ]
     },
     "execution_count": 4,
     "metadata": {},
     "output_type": "execute_result"
    }
   ],
   "source": [
    "df.corr()"
   ]
  },
  {
   "cell_type": "code",
   "execution_count": 5,
   "id": "e8dae179",
   "metadata": {},
   "outputs": [
    {
     "data": {
      "text/plain": [
       "Ticker                   object\n",
       "Peer                     object\n",
       "Relationship              int64\n",
       "Country                  object\n",
       "Category                 object\n",
       "Title                    object\n",
       "LatestValueDate          object\n",
       "LatestValue             float64\n",
       "Source                   object\n",
       "SourceURL                object\n",
       "Unit                     object\n",
       "URL                      object\n",
       "CategoryGroup            object\n",
       "Adjustment               object\n",
       "Frequency                object\n",
       "HistoricalDataSymbol     object\n",
       "CreateDate               object\n",
       "FirstValueDate           object\n",
       "PreviousValue           float64\n",
       "PreviousValueDate        object\n",
       "dtype: object"
      ]
     },
     "execution_count": 5,
     "metadata": {},
     "output_type": "execute_result"
    }
   ],
   "source": [
    "df.dtypes"
   ]
  },
  {
   "cell_type": "code",
   "execution_count": 6,
   "id": "aceb5e4a",
   "metadata": {},
   "outputs": [
    {
     "data": {
      "text/plain": [
       "Index(['Ticker', 'Peer', 'Relationship', 'Country', 'Category', 'Title',\n",
       "       'LatestValueDate', 'LatestValue', 'Source', 'SourceURL', 'Unit', 'URL',\n",
       "       'CategoryGroup', 'Adjustment', 'Frequency', 'HistoricalDataSymbol',\n",
       "       'CreateDate', 'FirstValueDate', 'PreviousValue', 'PreviousValueDate'],\n",
       "      dtype='object')"
      ]
     },
     "execution_count": 6,
     "metadata": {},
     "output_type": "execute_result"
    }
   ],
   "source": [
    "df.columns"
   ]
  },
  {
   "cell_type": "code",
   "execution_count": 7,
   "id": "313f1fbb",
   "metadata": {
    "collapsed": true
   },
   "outputs": [
    {
     "data": {
      "text/html": [
       "<div>\n",
       "<style scoped>\n",
       "    .dataframe tbody tr th:only-of-type {\n",
       "        vertical-align: middle;\n",
       "    }\n",
       "\n",
       "    .dataframe tbody tr th {\n",
       "        vertical-align: top;\n",
       "    }\n",
       "\n",
       "    .dataframe thead th {\n",
       "        text-align: right;\n",
       "    }\n",
       "</style>\n",
       "<table border=\"1\" class=\"dataframe\">\n",
       "  <thead>\n",
       "    <tr style=\"text-align: right;\">\n",
       "      <th></th>\n",
       "      <th>LatestValue</th>\n",
       "      <th>PreviousValue</th>\n",
       "      <th>Relationship</th>\n",
       "    </tr>\n",
       "  </thead>\n",
       "  <tbody>\n",
       "    <tr>\n",
       "      <th>0</th>\n",
       "      <td>1293.04</td>\n",
       "      <td>1087.12</td>\n",
       "      <td>-1</td>\n",
       "    </tr>\n",
       "    <tr>\n",
       "      <th>1</th>\n",
       "      <td>18544.71</td>\n",
       "      <td>17878.28</td>\n",
       "      <td>0</td>\n",
       "    </tr>\n",
       "    <tr>\n",
       "      <th>2</th>\n",
       "      <td>9255.21</td>\n",
       "      <td>8922.61</td>\n",
       "      <td>0</td>\n",
       "    </tr>\n",
       "    <tr>\n",
       "      <th>3</th>\n",
       "      <td>694085.03</td>\n",
       "      <td>717235.51</td>\n",
       "      <td>1</td>\n",
       "    </tr>\n",
       "    <tr>\n",
       "      <th>4</th>\n",
       "      <td>247685.00</td>\n",
       "      <td>282058.00</td>\n",
       "      <td>1</td>\n",
       "    </tr>\n",
       "    <tr>\n",
       "      <th>...</th>\n",
       "      <td>...</td>\n",
       "      <td>...</td>\n",
       "      <td>...</td>\n",
       "    </tr>\n",
       "    <tr>\n",
       "      <th>869</th>\n",
       "      <td>837.45</td>\n",
       "      <td>691.92</td>\n",
       "      <td>0</td>\n",
       "    </tr>\n",
       "    <tr>\n",
       "      <th>870</th>\n",
       "      <td>126.25</td>\n",
       "      <td>126.01</td>\n",
       "      <td>-1</td>\n",
       "    </tr>\n",
       "    <tr>\n",
       "      <th>871</th>\n",
       "      <td>9.13</td>\n",
       "      <td>9.09</td>\n",
       "      <td>-1</td>\n",
       "    </tr>\n",
       "    <tr>\n",
       "      <th>872</th>\n",
       "      <td>49.60</td>\n",
       "      <td>51.30</td>\n",
       "      <td>0</td>\n",
       "    </tr>\n",
       "    <tr>\n",
       "      <th>873</th>\n",
       "      <td>-3.80</td>\n",
       "      <td>-4.60</td>\n",
       "      <td>-1</td>\n",
       "    </tr>\n",
       "  </tbody>\n",
       "</table>\n",
       "<p>874 rows × 3 columns</p>\n",
       "</div>"
      ],
      "text/plain": [
       "     LatestValue  PreviousValue  Relationship\n",
       "0        1293.04        1087.12            -1\n",
       "1       18544.71       17878.28             0\n",
       "2        9255.21        8922.61             0\n",
       "3      694085.03      717235.51             1\n",
       "4      247685.00      282058.00             1\n",
       "..           ...            ...           ...\n",
       "869       837.45         691.92             0\n",
       "870       126.25         126.01            -1\n",
       "871         9.13           9.09            -1\n",
       "872        49.60          51.30             0\n",
       "873        -3.80          -4.60            -1\n",
       "\n",
       "[874 rows x 3 columns]"
      ]
     },
     "execution_count": 7,
     "metadata": {},
     "output_type": "execute_result"
    }
   ],
   "source": [
    "new_df=df[['LatestValue','PreviousValue','Relationship']]\n",
    "new_df"
   ]
  },
  {
   "cell_type": "code",
   "execution_count": 37,
   "id": "6def027d",
   "metadata": {
    "collapsed": true
   },
   "outputs": [
    {
     "data": {
      "text/html": [
       "<div>\n",
       "<style scoped>\n",
       "    .dataframe tbody tr th:only-of-type {\n",
       "        vertical-align: middle;\n",
       "    }\n",
       "\n",
       "    .dataframe tbody tr th {\n",
       "        vertical-align: top;\n",
       "    }\n",
       "\n",
       "    .dataframe thead th {\n",
       "        text-align: right;\n",
       "    }\n",
       "</style>\n",
       "<table border=\"1\" class=\"dataframe\">\n",
       "  <thead>\n",
       "    <tr style=\"text-align: right;\">\n",
       "      <th></th>\n",
       "      <th>LatestValue</th>\n",
       "      <th>PreviousValue</th>\n",
       "      <th>Relationship</th>\n",
       "    </tr>\n",
       "  </thead>\n",
       "  <tbody>\n",
       "    <tr>\n",
       "      <th>0</th>\n",
       "      <td>1293.04</td>\n",
       "      <td>1087.12</td>\n",
       "      <td>-1</td>\n",
       "    </tr>\n",
       "    <tr>\n",
       "      <th>1</th>\n",
       "      <td>18544.71</td>\n",
       "      <td>17878.28</td>\n",
       "      <td>0</td>\n",
       "    </tr>\n",
       "    <tr>\n",
       "      <th>2</th>\n",
       "      <td>9255.21</td>\n",
       "      <td>8922.61</td>\n",
       "      <td>0</td>\n",
       "    </tr>\n",
       "    <tr>\n",
       "      <th>3</th>\n",
       "      <td>694085.03</td>\n",
       "      <td>717235.51</td>\n",
       "      <td>1</td>\n",
       "    </tr>\n",
       "    <tr>\n",
       "      <th>4</th>\n",
       "      <td>247685.00</td>\n",
       "      <td>282058.00</td>\n",
       "      <td>1</td>\n",
       "    </tr>\n",
       "    <tr>\n",
       "      <th>...</th>\n",
       "      <td>...</td>\n",
       "      <td>...</td>\n",
       "      <td>...</td>\n",
       "    </tr>\n",
       "    <tr>\n",
       "      <th>95</th>\n",
       "      <td>0.57</td>\n",
       "      <td>0.62</td>\n",
       "      <td>0</td>\n",
       "    </tr>\n",
       "    <tr>\n",
       "      <th>96</th>\n",
       "      <td>155.80</td>\n",
       "      <td>159.05</td>\n",
       "      <td>0</td>\n",
       "    </tr>\n",
       "    <tr>\n",
       "      <th>97</th>\n",
       "      <td>14.54</td>\n",
       "      <td>14.55</td>\n",
       "      <td>0</td>\n",
       "    </tr>\n",
       "    <tr>\n",
       "      <th>98</th>\n",
       "      <td>120.65</td>\n",
       "      <td>120.00</td>\n",
       "      <td>0</td>\n",
       "    </tr>\n",
       "    <tr>\n",
       "      <th>99</th>\n",
       "      <td>114.85</td>\n",
       "      <td>113.93</td>\n",
       "      <td>0</td>\n",
       "    </tr>\n",
       "  </tbody>\n",
       "</table>\n",
       "<p>100 rows × 3 columns</p>\n",
       "</div>"
      ],
      "text/plain": [
       "    LatestValue  PreviousValue  Relationship\n",
       "0       1293.04        1087.12            -1\n",
       "1      18544.71       17878.28             0\n",
       "2       9255.21        8922.61             0\n",
       "3     694085.03      717235.51             1\n",
       "4     247685.00      282058.00             1\n",
       "..          ...            ...           ...\n",
       "95         0.57           0.62             0\n",
       "96       155.80         159.05             0\n",
       "97        14.54          14.55             0\n",
       "98       120.65         120.00             0\n",
       "99       114.85         113.93             0\n",
       "\n",
       "[100 rows x 3 columns]"
      ]
     },
     "execution_count": 37,
     "metadata": {},
     "output_type": "execute_result"
    }
   ],
   "source": [
    "new_df.head(100)"
   ]
  },
  {
   "cell_type": "code",
   "execution_count": 12,
   "id": "59c4ecfb",
   "metadata": {
    "scrolled": false
   },
   "outputs": [
    {
     "data": {
      "text/plain": [
       "(874, 874)"
      ]
     },
     "execution_count": 12,
     "metadata": {},
     "output_type": "execute_result"
    }
   ],
   "source": [
    "a = df['PreviousValue']\n",
    "b = df['LatestValue']\n",
    "\n",
    "len(a), len(b)"
   ]
  },
  {
   "cell_type": "code",
   "execution_count": 21,
   "id": "7cf4b386",
   "metadata": {},
   "outputs": [
    {
     "data": {
      "text/plain": [
       "<AxesSubplot:title={'center':'L vs P'}, xlabel='PreviousValue', ylabel='LatestValue'>"
      ]
     },
     "execution_count": 21,
     "metadata": {},
     "output_type": "execute_result"
    },
    {
     "data": {
      "image/png": "[encoded data removed]",
      "text/plain": [
       "<Figure size 360x360 with 1 Axes>"
      ]
     },
     "metadata": {
      "needs_background": "light"
     },
     "output_type": "display_data"
    }
   ],
   "source": [
    "#Figure size\n",
    "plt.figure(figsize = (5,5))\n",
    "\n",
    "#Labels\n",
    "plt.xlabel('TPreviousValue')\n",
    "plt.ylabel('LatestValue')\n",
    "plt.title('L vs P')\n",
    "\n",
    "sns.regplot(x =a_train,y = b_train)"
   ]
  },
  {
   "cell_type": "code",
   "execution_count": 22,
   "id": "a8d81e7f",
   "metadata": {},
   "outputs": [
    {
     "data": {
      "text/plain": [
       "((874,), (874,))"
      ]
     },
     "execution_count": 22,
     "metadata": {},
     "output_type": "execute_result"
    }
   ],
   "source": [
    "a.shape, b.shape"
   ]
  },
  {
   "cell_type": "code",
   "execution_count": 23,
   "id": "4bcdd9ef",
   "metadata": {},
   "outputs": [
    {
     "data": {
      "text/plain": [
       "((874, 1), (874, 1))"
      ]
     },
     "execution_count": 23,
     "metadata": {},
     "output_type": "execute_result"
    }
   ],
   "source": [
    "a_reshape = a.values.reshape(-1,1)\n",
    "b_reshape = b.values.reshape(-1,1)\n",
    "\n",
    "a_reshape.shape, b_reshape.shape"
   ]
  },
  {
   "cell_type": "code",
   "execution_count": 24,
   "id": "8d5519a5",
   "metadata": {},
   "outputs": [
    {
     "data": {
      "text/plain": [
       "((699, 1), (175, 1), (699, 1), (175, 1))"
      ]
     },
     "execution_count": 24,
     "metadata": {},
     "output_type": "execute_result"
    }
   ],
   "source": [
    "a_train, a_test, b_train, b_test = train_test_split(a_reshape, b_reshape, test_size=0.2, random_state=5)\n",
    "\n",
    "a_train.shape, a_test.shape, b_train.shape, b_test.shape"
   ]
  },
  {
   "cell_type": "code",
   "execution_count": 25,
   "id": "a9d4723e",
   "metadata": {},
   "outputs": [
    {
     "data": {
      "text/plain": [
       "LinearRegression()"
      ]
     },
     "execution_count": 25,
     "metadata": {},
     "output_type": "execute_result"
    }
   ],
   "source": [
    "linreg = LinearRegression()\n",
    "linreg.fit(a_train,b_train)"
   ]
  },
  {
   "cell_type": "code",
   "execution_count": 26,
   "id": "a5dfcf1f",
   "metadata": {},
   "outputs": [
    {
     "data": {
      "text/plain": [
       "array([1757642.53597401])"
      ]
     },
     "execution_count": 26,
     "metadata": {},
     "output_type": "execute_result"
    }
   ],
   "source": [
    "b_pred = linreg.predict(a_test)\n",
    "b_pred[0]"
   ]
  },
  {
   "cell_type": "code",
   "execution_count": 27,
   "id": "f912b358",
   "metadata": {},
   "outputs": [
    {
     "data": {
      "text/plain": [
       "0.999947932930824"
      ]
     },
     "execution_count": 27,
     "metadata": {},
     "output_type": "execute_result"
    }
   ],
   "source": [
    "R2 =r2_score(b_test,b_pred) \n",
    "R2"
   ]
  },
  {
   "cell_type": "code",
   "execution_count": 28,
   "id": "20767692",
   "metadata": {},
   "outputs": [
    {
     "data": {
      "text/plain": [
       "3964750.7539971718"
      ]
     },
     "execution_count": 28,
     "metadata": {},
     "output_type": "execute_result"
    }
   ],
   "source": [
    "MAE=mean_absolute_error(b_test,b_pred)\n",
    "MAE"
   ]
  },
  {
   "cell_type": "code",
   "execution_count": 29,
   "id": "e7ef7454",
   "metadata": {},
   "outputs": [],
   "source": [
    "def mape(b_true, b_pred):\n",
    "\n",
    "    #MAPE\n",
    "    mape = np.mean(np.abs(b_pred - b_true)/np.abs(b_true))\n",
    "    \n",
    "    return mape"
   ]
  },
  {
   "cell_type": "code",
   "execution_count": 30,
   "id": "a9c6f827",
   "metadata": {},
   "outputs": [
    {
     "data": {
      "text/plain": [
       "371975.22690377914"
      ]
     },
     "execution_count": 30,
     "metadata": {},
     "output_type": "execute_result"
    }
   ],
   "source": [
    "MAPE=mape(b_test,b_pred)\n",
    "MAPE"
   ]
  },
  {
   "cell_type": "code",
   "execution_count": 31,
   "id": "57040f89",
   "metadata": {},
   "outputs": [
    {
     "data": {
      "text/plain": [
       "16389889.890726876"
      ]
     },
     "execution_count": 31,
     "metadata": {},
     "output_type": "execute_result"
    }
   ],
   "source": [
    "RMSE=np.sqrt(mean_squared_error(b_test,b_pred)) #RMSE\n",
    "RMSE"
   ]
  },
  {
   "cell_type": "code",
   "execution_count": 32,
   "id": "ee9a0ccc",
   "metadata": {},
   "outputs": [
    {
     "data": {
      "text/plain": [
       "268628490630151.03"
      ]
     },
     "execution_count": 32,
     "metadata": {},
     "output_type": "execute_result"
    }
   ],
   "source": [
    "MSE=mean_squared_error(b_test,b_pred)\n",
    "MSE"
   ]
  },
  {
   "cell_type": "code",
   "execution_count": 33,
   "id": "56a49465",
   "metadata": {},
   "outputs": [
    {
     "name": "stdout",
     "output_type": "stream",
     "text": [
      "R^2: 0.999947932930824\n",
      "Mean Absolute Error: 3964750.7539971718\n",
      "Mean Absolute Percentage Error: 371975.22690377914\n",
      "Mean Squared Error: 268628490630151.03\n",
      "Root Mean Squared Error: 16389889.890726876\n"
     ]
    }
   ],
   "source": [
    "print(\"R^2: \"+str(R2))\n",
    "print(\"Mean Absolute Error: \"+str(MAE)) \n",
    "print(\"Mean Absolute Percentage Error: \"+str(MAPE))\n",
    "print(\"Mean Squared Error: \"+str(MSE))\n",
    "print(\"Root Mean Squared Error: \"+str(RMSE))"
   ]
  },
  {
   "cell_type": "code",
   "execution_count": null,
   "id": "2aefbc4b",
   "metadata": {},
   "outputs": [],
   "source": []
  }
 ],
 "metadata": {
  "kernelspec": {
   "display_name": "Python 3 (ipykernel)",
   "language": "python",
   "name": "python3"
  },
  "language_info": {
   "codemirror_mode": {
    "name": "ipython",
    "version": 3
   },
   "file_extension": ".py",
   "mimetype": "text/x-python",
   "name": "python",
   "nbconvert_exporter": "python",
   "pygments_lexer": "ipython3",
   "version": "3.9.13"
  }
 },
 "nbformat": 4,
 "nbformat_minor": 5
}
