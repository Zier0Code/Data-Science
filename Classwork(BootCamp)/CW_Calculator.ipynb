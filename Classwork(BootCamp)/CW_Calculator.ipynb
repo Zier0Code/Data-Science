{
 "cells": [
  {
   "cell_type": "code",
   "execution_count": 2,
   "id": "bd89bf15",
   "metadata": {},
   "outputs": [],
   "source": [
    "\n",
    "    def add(x,y):\n",
    "        return x+y\n",
    "    def subtract(x,y):\n",
    "        return x-y\n",
    "    def multiply(x,y):\n",
    "        return x*y\n",
    "    def divide(x,y):\n",
    "        return x/y"
   ]
  },
  {
   "cell_type": "code",
   "execution_count": null,
   "id": "88c3512e",
   "metadata": {},
   "outputs": [],
   "source": [
    "x=float(input(\"First: \"))\n",
    "y=float(input(\"Second: \"))\n",
    "add(x,y)"
   ]
  },
  {
   "cell_type": "code",
   "execution_count": null,
   "id": "1c06590d",
   "metadata": {},
   "outputs": [],
   "source": [
    "x=float(input(\"First: \"))\n",
    "y=float(input(\"Second: \"))\n",
    "subtract(x,y)"
   ]
  },
  {
   "cell_type": "code",
   "execution_count": null,
   "id": "670ad389",
   "metadata": {},
   "outputs": [],
   "source": [
    "x=float(input(\"First: \"))\n",
    "y=float(input(\"Second: \"))\n",
    "multiply(x,y)"
   ]
  },
  {
   "cell_type": "code",
   "execution_count": 3,
   "id": "2fe1528d",
   "metadata": {},
   "outputs": [
    {
     "name": "stdout",
     "output_type": "stream",
     "text": [
      "First: 5\n",
      "Second: 2\n"
     ]
    },
    {
     "data": {
      "text/plain": [
       "2.5"
      ]
     },
     "execution_count": 3,
     "metadata": {},
     "output_type": "execute_result"
    }
   ],
   "source": [
    "x=float(input(\"First: \"))\n",
    "y=float(input(\"Second: \"))\n",
    "divide(x,y)"
   ]
  },
  {
   "cell_type": "code",
   "execution_count": 5,
   "id": "0857acb1",
   "metadata": {},
   "outputs": [
    {
     "name": "stdout",
     "output_type": "stream",
     "text": [
      "2.5\n"
     ]
    }
   ],
   "source": [
    "print(divide(x,y))"
   ]
  },
  {
   "cell_type": "code",
   "execution_count": null,
   "id": "6e88efa4",
   "metadata": {},
   "outputs": [],
   "source": []
  }
 ],
 "metadata": {
  "kernelspec": {
   "display_name": "Python 3 (ipykernel)",
   "language": "python",
   "name": "python3"
  },
  "language_info": {
   "codemirror_mode": {
    "name": "ipython",
    "version": 3
   },
   "file_extension": ".py",
   "mimetype": "text/x-python",
   "name": "python",
   "nbconvert_exporter": "python",
   "pygments_lexer": "ipython3",
   "version": "3.9.12"
  }
 },
 "nbformat": 4,
 "nbformat_minor": 5
}
