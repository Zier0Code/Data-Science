{
 "cells": [
  {
   "cell_type": "code",
   "execution_count": 3,
   "id": "185f4842",
   "metadata": {},
   "outputs": [],
   "source": [
    "import pandas as pd"
   ]
  },
  {
   "cell_type": "code",
   "execution_count": 4,
   "id": "ab97642a",
   "metadata": {},
   "outputs": [
    {
     "data": {
      "text/html": [
       "<div>\n",
       "<style scoped>\n",
       "    .dataframe tbody tr th:only-of-type {\n",
       "        vertical-align: middle;\n",
       "    }\n",
       "\n",
       "    .dataframe tbody tr th {\n",
       "        vertical-align: top;\n",
       "    }\n",
       "\n",
       "    .dataframe thead th {\n",
       "        text-align: right;\n",
       "    }\n",
       "</style>\n",
       "<table border=\"1\" class=\"dataframe\">\n",
       "  <thead>\n",
       "    <tr style=\"text-align: right;\">\n",
       "      <th></th>\n",
       "      <th>Province/State</th>\n",
       "      <th>Country/Region</th>\n",
       "      <th>Lat</th>\n",
       "      <th>Long</th>\n",
       "      <th>Date</th>\n",
       "      <th>Confirmed</th>\n",
       "      <th>Deaths</th>\n",
       "      <th>Recovered</th>\n",
       "      <th>Active</th>\n",
       "      <th>WHO Region</th>\n",
       "    </tr>\n",
       "  </thead>\n",
       "  <tbody>\n",
       "    <tr>\n",
       "      <th>0</th>\n",
       "      <td>NaN</td>\n",
       "      <td>Afghanistan</td>\n",
       "      <td>33.939110</td>\n",
       "      <td>67.709953</td>\n",
       "      <td>2020-01-22</td>\n",
       "      <td>0.0</td>\n",
       "      <td>0.0</td>\n",
       "      <td>0.0</td>\n",
       "      <td>0.0</td>\n",
       "      <td>Eastern Mediterranean</td>\n",
       "    </tr>\n",
       "    <tr>\n",
       "      <th>1</th>\n",
       "      <td>NaN</td>\n",
       "      <td>Albania</td>\n",
       "      <td>41.153300</td>\n",
       "      <td>20.168300</td>\n",
       "      <td>2020-01-22</td>\n",
       "      <td>0.0</td>\n",
       "      <td>0.0</td>\n",
       "      <td>0.0</td>\n",
       "      <td>0.0</td>\n",
       "      <td>Europe</td>\n",
       "    </tr>\n",
       "    <tr>\n",
       "      <th>2</th>\n",
       "      <td>NaN</td>\n",
       "      <td>Algeria</td>\n",
       "      <td>28.033900</td>\n",
       "      <td>1.659600</td>\n",
       "      <td>2020-01-22</td>\n",
       "      <td>0.0</td>\n",
       "      <td>0.0</td>\n",
       "      <td>0.0</td>\n",
       "      <td>0.0</td>\n",
       "      <td>Africa</td>\n",
       "    </tr>\n",
       "    <tr>\n",
       "      <th>3</th>\n",
       "      <td>NaN</td>\n",
       "      <td>Andorra</td>\n",
       "      <td>42.506300</td>\n",
       "      <td>1.521800</td>\n",
       "      <td>2020-01-22</td>\n",
       "      <td>0.0</td>\n",
       "      <td>0.0</td>\n",
       "      <td>0.0</td>\n",
       "      <td>0.0</td>\n",
       "      <td>Europe</td>\n",
       "    </tr>\n",
       "    <tr>\n",
       "      <th>4</th>\n",
       "      <td>NaN</td>\n",
       "      <td>Angola</td>\n",
       "      <td>-11.202700</td>\n",
       "      <td>17.873900</td>\n",
       "      <td>2020-01-22</td>\n",
       "      <td>0.0</td>\n",
       "      <td>0.0</td>\n",
       "      <td>0.0</td>\n",
       "      <td>0.0</td>\n",
       "      <td>Africa</td>\n",
       "    </tr>\n",
       "    <tr>\n",
       "      <th>...</th>\n",
       "      <td>...</td>\n",
       "      <td>...</td>\n",
       "      <td>...</td>\n",
       "      <td>...</td>\n",
       "      <td>...</td>\n",
       "      <td>...</td>\n",
       "      <td>...</td>\n",
       "      <td>...</td>\n",
       "      <td>...</td>\n",
       "      <td>...</td>\n",
       "    </tr>\n",
       "    <tr>\n",
       "      <th>49063</th>\n",
       "      <td>NaN</td>\n",
       "      <td>Sao Tome and Principe</td>\n",
       "      <td>0.186400</td>\n",
       "      <td>6.613100</td>\n",
       "      <td>2020-07-27</td>\n",
       "      <td>865.0</td>\n",
       "      <td>14.0</td>\n",
       "      <td>734.0</td>\n",
       "      <td>117.0</td>\n",
       "      <td>Africa</td>\n",
       "    </tr>\n",
       "    <tr>\n",
       "      <th>49064</th>\n",
       "      <td>NaN</td>\n",
       "      <td>Yemen</td>\n",
       "      <td>15.552727</td>\n",
       "      <td>48.516388</td>\n",
       "      <td>2020-07-27</td>\n",
       "      <td>1691.0</td>\n",
       "      <td>483.0</td>\n",
       "      <td>833.0</td>\n",
       "      <td>375.0</td>\n",
       "      <td>Eastern Mediterranean</td>\n",
       "    </tr>\n",
       "    <tr>\n",
       "      <th>49065</th>\n",
       "      <td>NaN</td>\n",
       "      <td>Comoros</td>\n",
       "      <td>-11.645500</td>\n",
       "      <td>43.333300</td>\n",
       "      <td>2020-07-27</td>\n",
       "      <td>354.0</td>\n",
       "      <td>7.0</td>\n",
       "      <td>328.0</td>\n",
       "      <td>19.0</td>\n",
       "      <td>Africa</td>\n",
       "    </tr>\n",
       "    <tr>\n",
       "      <th>49066</th>\n",
       "      <td>NaN</td>\n",
       "      <td>Tajikistan</td>\n",
       "      <td>38.861000</td>\n",
       "      <td>71.276100</td>\n",
       "      <td>2020-07-27</td>\n",
       "      <td>7235.0</td>\n",
       "      <td>60.0</td>\n",
       "      <td>6028.0</td>\n",
       "      <td>1147.0</td>\n",
       "      <td>Europe</td>\n",
       "    </tr>\n",
       "    <tr>\n",
       "      <th>49067</th>\n",
       "      <td>NaN</td>\n",
       "      <td>Lesotho</td>\n",
       "      <td>-29.610000</td>\n",
       "      <td>28.233600</td>\n",
       "      <td>2020-07-27</td>\n",
       "      <td>505.0</td>\n",
       "      <td>12.0</td>\n",
       "      <td>128.0</td>\n",
       "      <td>365.0</td>\n",
       "      <td>Africa</td>\n",
       "    </tr>\n",
       "  </tbody>\n",
       "</table>\n",
       "<p>49068 rows × 10 columns</p>\n",
       "</div>"
      ],
      "text/plain": [
       "      Province/State         Country/Region        Lat       Long       Date  \\\n",
       "0                NaN            Afghanistan  33.939110  67.709953 2020-01-22   \n",
       "1                NaN                Albania  41.153300  20.168300 2020-01-22   \n",
       "2                NaN                Algeria  28.033900   1.659600 2020-01-22   \n",
       "3                NaN                Andorra  42.506300   1.521800 2020-01-22   \n",
       "4                NaN                 Angola -11.202700  17.873900 2020-01-22   \n",
       "...              ...                    ...        ...        ...        ...   \n",
       "49063            NaN  Sao Tome and Principe   0.186400   6.613100 2020-07-27   \n",
       "49064            NaN                  Yemen  15.552727  48.516388 2020-07-27   \n",
       "49065            NaN                Comoros -11.645500  43.333300 2020-07-27   \n",
       "49066            NaN             Tajikistan  38.861000  71.276100 2020-07-27   \n",
       "49067            NaN                Lesotho -29.610000  28.233600 2020-07-27   \n",
       "\n",
       "       Confirmed  Deaths  Recovered  Active             WHO Region  \n",
       "0            0.0     0.0        0.0     0.0  Eastern Mediterranean  \n",
       "1            0.0     0.0        0.0     0.0                 Europe  \n",
       "2            0.0     0.0        0.0     0.0                 Africa  \n",
       "3            0.0     0.0        0.0     0.0                 Europe  \n",
       "4            0.0     0.0        0.0     0.0                 Africa  \n",
       "...          ...     ...        ...     ...                    ...  \n",
       "49063      865.0    14.0      734.0   117.0                 Africa  \n",
       "49064     1691.0   483.0      833.0   375.0  Eastern Mediterranean  \n",
       "49065      354.0     7.0      328.0    19.0                 Africa  \n",
       "49066     7235.0    60.0     6028.0  1147.0                 Europe  \n",
       "49067      505.0    12.0      128.0   365.0                 Africa  \n",
       "\n",
       "[49068 rows x 10 columns]"
      ]
     },
     "execution_count": 4,
     "metadata": {},
     "output_type": "execute_result"
    }
   ],
   "source": [
    "pd.read_excel('./csvfiles/covid_19.xlsx')"
   ]
  },
  {
   "cell_type": "code",
   "execution_count": 5,
   "id": "067c152a",
   "metadata": {},
   "outputs": [],
   "source": [
    "df_covid = pd.read_excel('./csvfiles/covid_19.xlsx')"
   ]
  },
  {
   "cell_type": "code",
   "execution_count": 6,
   "id": "187eb0e6",
   "metadata": {},
   "outputs": [
    {
     "data": {
      "text/html": [
       "<div>\n",
       "<style scoped>\n",
       "    .dataframe tbody tr th:only-of-type {\n",
       "        vertical-align: middle;\n",
       "    }\n",
       "\n",
       "    .dataframe tbody tr th {\n",
       "        vertical-align: top;\n",
       "    }\n",
       "\n",
       "    .dataframe thead th {\n",
       "        text-align: right;\n",
       "    }\n",
       "</style>\n",
       "<table border=\"1\" class=\"dataframe\">\n",
       "  <thead>\n",
       "    <tr style=\"text-align: right;\">\n",
       "      <th></th>\n",
       "      <th>Province/State</th>\n",
       "      <th>Country/Region</th>\n",
       "      <th>Lat</th>\n",
       "      <th>Long</th>\n",
       "      <th>Date</th>\n",
       "      <th>Confirmed</th>\n",
       "      <th>Deaths</th>\n",
       "      <th>Recovered</th>\n",
       "      <th>Active</th>\n",
       "      <th>WHO Region</th>\n",
       "    </tr>\n",
       "  </thead>\n",
       "  <tbody>\n",
       "    <tr>\n",
       "      <th>0</th>\n",
       "      <td>NaN</td>\n",
       "      <td>Afghanistan</td>\n",
       "      <td>33.939110</td>\n",
       "      <td>67.709953</td>\n",
       "      <td>2020-01-22</td>\n",
       "      <td>0.0</td>\n",
       "      <td>0.0</td>\n",
       "      <td>0.0</td>\n",
       "      <td>0.0</td>\n",
       "      <td>Eastern Mediterranean</td>\n",
       "    </tr>\n",
       "    <tr>\n",
       "      <th>1</th>\n",
       "      <td>NaN</td>\n",
       "      <td>Albania</td>\n",
       "      <td>41.153300</td>\n",
       "      <td>20.168300</td>\n",
       "      <td>2020-01-22</td>\n",
       "      <td>0.0</td>\n",
       "      <td>0.0</td>\n",
       "      <td>0.0</td>\n",
       "      <td>0.0</td>\n",
       "      <td>Europe</td>\n",
       "    </tr>\n",
       "    <tr>\n",
       "      <th>2</th>\n",
       "      <td>NaN</td>\n",
       "      <td>Algeria</td>\n",
       "      <td>28.033900</td>\n",
       "      <td>1.659600</td>\n",
       "      <td>2020-01-22</td>\n",
       "      <td>0.0</td>\n",
       "      <td>0.0</td>\n",
       "      <td>0.0</td>\n",
       "      <td>0.0</td>\n",
       "      <td>Africa</td>\n",
       "    </tr>\n",
       "    <tr>\n",
       "      <th>3</th>\n",
       "      <td>NaN</td>\n",
       "      <td>Andorra</td>\n",
       "      <td>42.506300</td>\n",
       "      <td>1.521800</td>\n",
       "      <td>2020-01-22</td>\n",
       "      <td>0.0</td>\n",
       "      <td>0.0</td>\n",
       "      <td>0.0</td>\n",
       "      <td>0.0</td>\n",
       "      <td>Europe</td>\n",
       "    </tr>\n",
       "    <tr>\n",
       "      <th>4</th>\n",
       "      <td>NaN</td>\n",
       "      <td>Angola</td>\n",
       "      <td>-11.202700</td>\n",
       "      <td>17.873900</td>\n",
       "      <td>2020-01-22</td>\n",
       "      <td>0.0</td>\n",
       "      <td>0.0</td>\n",
       "      <td>0.0</td>\n",
       "      <td>0.0</td>\n",
       "      <td>Africa</td>\n",
       "    </tr>\n",
       "    <tr>\n",
       "      <th>...</th>\n",
       "      <td>...</td>\n",
       "      <td>...</td>\n",
       "      <td>...</td>\n",
       "      <td>...</td>\n",
       "      <td>...</td>\n",
       "      <td>...</td>\n",
       "      <td>...</td>\n",
       "      <td>...</td>\n",
       "      <td>...</td>\n",
       "      <td>...</td>\n",
       "    </tr>\n",
       "    <tr>\n",
       "      <th>49063</th>\n",
       "      <td>NaN</td>\n",
       "      <td>Sao Tome and Principe</td>\n",
       "      <td>0.186400</td>\n",
       "      <td>6.613100</td>\n",
       "      <td>2020-07-27</td>\n",
       "      <td>865.0</td>\n",
       "      <td>14.0</td>\n",
       "      <td>734.0</td>\n",
       "      <td>117.0</td>\n",
       "      <td>Africa</td>\n",
       "    </tr>\n",
       "    <tr>\n",
       "      <th>49064</th>\n",
       "      <td>NaN</td>\n",
       "      <td>Yemen</td>\n",
       "      <td>15.552727</td>\n",
       "      <td>48.516388</td>\n",
       "      <td>2020-07-27</td>\n",
       "      <td>1691.0</td>\n",
       "      <td>483.0</td>\n",
       "      <td>833.0</td>\n",
       "      <td>375.0</td>\n",
       "      <td>Eastern Mediterranean</td>\n",
       "    </tr>\n",
       "    <tr>\n",
       "      <th>49065</th>\n",
       "      <td>NaN</td>\n",
       "      <td>Comoros</td>\n",
       "      <td>-11.645500</td>\n",
       "      <td>43.333300</td>\n",
       "      <td>2020-07-27</td>\n",
       "      <td>354.0</td>\n",
       "      <td>7.0</td>\n",
       "      <td>328.0</td>\n",
       "      <td>19.0</td>\n",
       "      <td>Africa</td>\n",
       "    </tr>\n",
       "    <tr>\n",
       "      <th>49066</th>\n",
       "      <td>NaN</td>\n",
       "      <td>Tajikistan</td>\n",
       "      <td>38.861000</td>\n",
       "      <td>71.276100</td>\n",
       "      <td>2020-07-27</td>\n",
       "      <td>7235.0</td>\n",
       "      <td>60.0</td>\n",
       "      <td>6028.0</td>\n",
       "      <td>1147.0</td>\n",
       "      <td>Europe</td>\n",
       "    </tr>\n",
       "    <tr>\n",
       "      <th>49067</th>\n",
       "      <td>NaN</td>\n",
       "      <td>Lesotho</td>\n",
       "      <td>-29.610000</td>\n",
       "      <td>28.233600</td>\n",
       "      <td>2020-07-27</td>\n",
       "      <td>505.0</td>\n",
       "      <td>12.0</td>\n",
       "      <td>128.0</td>\n",
       "      <td>365.0</td>\n",
       "      <td>Africa</td>\n",
       "    </tr>\n",
       "  </tbody>\n",
       "</table>\n",
       "<p>49068 rows × 10 columns</p>\n",
       "</div>"
      ],
      "text/plain": [
       "      Province/State         Country/Region        Lat       Long       Date  \\\n",
       "0                NaN            Afghanistan  33.939110  67.709953 2020-01-22   \n",
       "1                NaN                Albania  41.153300  20.168300 2020-01-22   \n",
       "2                NaN                Algeria  28.033900   1.659600 2020-01-22   \n",
       "3                NaN                Andorra  42.506300   1.521800 2020-01-22   \n",
       "4                NaN                 Angola -11.202700  17.873900 2020-01-22   \n",
       "...              ...                    ...        ...        ...        ...   \n",
       "49063            NaN  Sao Tome and Principe   0.186400   6.613100 2020-07-27   \n",
       "49064            NaN                  Yemen  15.552727  48.516388 2020-07-27   \n",
       "49065            NaN                Comoros -11.645500  43.333300 2020-07-27   \n",
       "49066            NaN             Tajikistan  38.861000  71.276100 2020-07-27   \n",
       "49067            NaN                Lesotho -29.610000  28.233600 2020-07-27   \n",
       "\n",
       "       Confirmed  Deaths  Recovered  Active             WHO Region  \n",
       "0            0.0     0.0        0.0     0.0  Eastern Mediterranean  \n",
       "1            0.0     0.0        0.0     0.0                 Europe  \n",
       "2            0.0     0.0        0.0     0.0                 Africa  \n",
       "3            0.0     0.0        0.0     0.0                 Europe  \n",
       "4            0.0     0.0        0.0     0.0                 Africa  \n",
       "...          ...     ...        ...     ...                    ...  \n",
       "49063      865.0    14.0      734.0   117.0                 Africa  \n",
       "49064     1691.0   483.0      833.0   375.0  Eastern Mediterranean  \n",
       "49065      354.0     7.0      328.0    19.0                 Africa  \n",
       "49066     7235.0    60.0     6028.0  1147.0                 Europe  \n",
       "49067      505.0    12.0      128.0   365.0                 Africa  \n",
       "\n",
       "[49068 rows x 10 columns]"
      ]
     },
     "execution_count": 6,
     "metadata": {},
     "output_type": "execute_result"
    }
   ],
   "source": [
    "df_covid"
   ]
  },
  {
   "cell_type": "code",
   "execution_count": 7,
   "id": "cf2ea6a3",
   "metadata": {},
   "outputs": [
    {
     "data": {
      "text/plain": [
       "(49068, 10)"
      ]
     },
     "execution_count": 7,
     "metadata": {},
     "output_type": "execute_result"
    }
   ],
   "source": [
    "df_covid.shape"
   ]
  },
  {
   "cell_type": "code",
   "execution_count": 24,
   "id": "c0769cbb",
   "metadata": {},
   "outputs": [
    {
     "data": {
      "text/plain": [
       "Index(['Province/State', 'Country/Region', 'Lat', 'Long', 'Date', 'Confirmed',\n",
       "       'Deaths', 'Recovered', 'Active', 'WHO Region'],\n",
       "      dtype='object')"
      ]
     },
     "execution_count": 24,
     "metadata": {},
     "output_type": "execute_result"
    }
   ],
   "source": [
    "df_covid.columns"
   ]
  },
  {
   "cell_type": "code",
   "execution_count": 8,
   "id": "0725b213",
   "metadata": {},
   "outputs": [
    {
     "data": {
      "text/plain": [
       "RangeIndex(start=0, stop=49068, step=1)"
      ]
     },
     "execution_count": 8,
     "metadata": {},
     "output_type": "execute_result"
    }
   ],
   "source": [
    "df_covid.index"
   ]
  },
  {
   "cell_type": "code",
   "execution_count": 9,
   "id": "15a0961e",
   "metadata": {},
   "outputs": [
    {
     "data": {
      "text/plain": [
       "Province/State            object\n",
       "Country/Region            object\n",
       "Lat                      float64\n",
       "Long                     float64\n",
       "Date              datetime64[ns]\n",
       "Confirmed                float64\n",
       "Deaths                   float64\n",
       "Recovered                float64\n",
       "Active                   float64\n",
       "WHO Region                object\n",
       "dtype: object"
      ]
     },
     "execution_count": 9,
     "metadata": {},
     "output_type": "execute_result"
    }
   ],
   "source": [
    "df_covid.dtypes"
   ]
  },
  {
   "cell_type": "code",
   "execution_count": 10,
   "id": "7ad63c97",
   "metadata": {},
   "outputs": [
    {
     "data": {
      "text/plain": [
       "Index(['Province/State', 'Country/Region', 'Lat', 'Long', 'Date', 'Confirmed',\n",
       "       'Deaths', 'Recovered', 'Active', 'WHO Region'],\n",
       "      dtype='object')"
      ]
     },
     "execution_count": 10,
     "metadata": {},
     "output_type": "execute_result"
    }
   ],
   "source": [
    "df_covid.columns"
   ]
  },
  {
   "cell_type": "code",
   "execution_count": 67,
   "id": "84e25bcf",
   "metadata": {
    "scrolled": true
   },
   "outputs": [
    {
     "name": "stdout",
     "output_type": "stream",
     "text": [
      "<class 'pandas.core.frame.DataFrame'>\n",
      "RangeIndex: 49068 entries, 0 to 49067\n",
      "Data columns (total 10 columns):\n",
      " #   Column          Non-Null Count  Dtype         \n",
      "---  ------          --------------  -----         \n",
      " 0   Province/State  14664 non-null  object        \n",
      " 1   Country/Region  49068 non-null  object        \n",
      " 2   Lat             49068 non-null  float64       \n",
      " 3   Long            49068 non-null  float64       \n",
      " 4   Date            49068 non-null  datetime64[ns]\n",
      " 5   Confirmed       49068 non-null  float64       \n",
      " 6   Deaths          49068 non-null  float64       \n",
      " 7   Recovered       49068 non-null  float64       \n",
      " 8   Active          49068 non-null  float64       \n",
      " 9   WHO Region      49068 non-null  object        \n",
      "dtypes: datetime64[ns](1), float64(6), object(3)\n",
      "memory usage: 3.7+ MB\n"
     ]
    }
   ],
   "source": [
    "df_covid.info()"
   ]
  },
  {
   "cell_type": "markdown",
   "id": "c11d740b",
   "metadata": {},
   "source": [
    "### Data Analysis"
   ]
  },
  {
   "cell_type": "markdown",
   "id": "80a6fa35",
   "metadata": {},
   "source": [
    "================================================================================================"
   ]
  },
  {
   "cell_type": "markdown",
   "id": "bce24137",
   "metadata": {},
   "source": [
    "    The DataFrame Below Shows the Total Counts of each Column which is equal to 49068.00 , As you can see below the given dataframe differs in terms of 'Mean','Standard Deviation' and 'maximum'. In the dataframe the Average of 'Deaths' is equivalent to 884.18 while the 'Active' is equal to 8085.01 in the other hand the 'Confirmed'is up to 16884.90 In conclusion the 'Recovered' is also eqaul to 7915.71\n",
    "    Furthermore the Highest Record in \"Deaths\" due to Covid_19 is equal to 148011.00 while the \"Active\" Cases is equivalent to 2816444.00 in the other hand the \"Confirmed\" Cases has a value of 4290259.00 and to conclude the \"Recovered\" present a value of 1846641.00\n",
    "  "
   ]
  },
  {
   "cell_type": "markdown",
   "id": "41450edb",
   "metadata": {},
   "source": [
    "================================================================================================"
   ]
  },
  {
   "cell_type": "code",
   "execution_count": 64,
   "id": "d4285e95",
   "metadata": {
    "scrolled": false
   },
   "outputs": [
    {
     "data": {
      "text/html": [
       "<div>\n",
       "<style scoped>\n",
       "    .dataframe tbody tr th:only-of-type {\n",
       "        vertical-align: middle;\n",
       "    }\n",
       "\n",
       "    .dataframe tbody tr th {\n",
       "        vertical-align: top;\n",
       "    }\n",
       "\n",
       "    .dataframe thead th {\n",
       "        text-align: right;\n",
       "    }\n",
       "</style>\n",
       "<table border=\"1\" class=\"dataframe\">\n",
       "  <thead>\n",
       "    <tr style=\"text-align: right;\">\n",
       "      <th></th>\n",
       "      <th>Deaths</th>\n",
       "      <th>Active</th>\n",
       "      <th>Confirmed</th>\n",
       "      <th>Recovered</th>\n",
       "    </tr>\n",
       "  </thead>\n",
       "  <tbody>\n",
       "    <tr>\n",
       "      <th>count</th>\n",
       "      <td>49068.00</td>\n",
       "      <td>49068.00</td>\n",
       "      <td>49068.00</td>\n",
       "      <td>49068.00</td>\n",
       "    </tr>\n",
       "    <tr>\n",
       "      <th>mean</th>\n",
       "      <td>884.18</td>\n",
       "      <td>8085.01</td>\n",
       "      <td>16884.90</td>\n",
       "      <td>7915.71</td>\n",
       "    </tr>\n",
       "    <tr>\n",
       "      <th>std</th>\n",
       "      <td>6313.58</td>\n",
       "      <td>76258.90</td>\n",
       "      <td>127300.21</td>\n",
       "      <td>54800.92</td>\n",
       "    </tr>\n",
       "    <tr>\n",
       "      <th>min</th>\n",
       "      <td>0.00</td>\n",
       "      <td>-14.00</td>\n",
       "      <td>0.00</td>\n",
       "      <td>0.00</td>\n",
       "    </tr>\n",
       "    <tr>\n",
       "      <th>25%</th>\n",
       "      <td>0.00</td>\n",
       "      <td>0.00</td>\n",
       "      <td>4.00</td>\n",
       "      <td>0.00</td>\n",
       "    </tr>\n",
       "    <tr>\n",
       "      <th>50%</th>\n",
       "      <td>2.00</td>\n",
       "      <td>26.00</td>\n",
       "      <td>168.00</td>\n",
       "      <td>29.00</td>\n",
       "    </tr>\n",
       "    <tr>\n",
       "      <th>75%</th>\n",
       "      <td>30.00</td>\n",
       "      <td>606.00</td>\n",
       "      <td>1518.25</td>\n",
       "      <td>666.00</td>\n",
       "    </tr>\n",
       "    <tr>\n",
       "      <th>max</th>\n",
       "      <td>148011.00</td>\n",
       "      <td>2816444.00</td>\n",
       "      <td>4290259.00</td>\n",
       "      <td>1846641.00</td>\n",
       "    </tr>\n",
       "  </tbody>\n",
       "</table>\n",
       "</div>"
      ],
      "text/plain": [
       "          Deaths      Active   Confirmed   Recovered\n",
       "count   49068.00    49068.00    49068.00    49068.00\n",
       "mean      884.18     8085.01    16884.90     7915.71\n",
       "std      6313.58    76258.90   127300.21    54800.92\n",
       "min         0.00      -14.00        0.00        0.00\n",
       "25%         0.00        0.00        4.00        0.00\n",
       "50%         2.00       26.00      168.00       29.00\n",
       "75%        30.00      606.00     1518.25      666.00\n",
       "max    148011.00  2816444.00  4290259.00  1846641.00"
      ]
     },
     "execution_count": 64,
     "metadata": {},
     "output_type": "execute_result"
    }
   ],
   "source": [
    "df_covid1 = df_covid[['Deaths','Active','Confirmed','Recovered']].describe().round(2)\n",
    "df_covid1"
   ]
  },
  {
   "cell_type": "markdown",
   "id": "ad6adf1e",
   "metadata": {},
   "source": [
    "================================================================================================"
   ]
  },
  {
   "cell_type": "markdown",
   "id": "4e07c2b4",
   "metadata": {},
   "source": [
    "    Below DataFrame shows the Columns in WHO region which are 'Africa' , 'Americas', 'Eastern Mediterranean', 'Europe', 'South-East Asia' and 'Western Pacific' Based on the 'Date' is the record of Total no. of Deaths each day."
   ]
  },
  {
   "cell_type": "markdown",
   "id": "a5fefa7e",
   "metadata": {},
   "source": [
    "================================================================================================"
   ]
  },
  {
   "cell_type": "code",
   "execution_count": 69,
   "id": "48f05bf5",
   "metadata": {
    "scrolled": false
   },
   "outputs": [
    {
     "data": {
      "text/html": [
       "<div>\n",
       "<style scoped>\n",
       "    .dataframe tbody tr th:only-of-type {\n",
       "        vertical-align: middle;\n",
       "    }\n",
       "\n",
       "    .dataframe tbody tr th {\n",
       "        vertical-align: top;\n",
       "    }\n",
       "\n",
       "    .dataframe thead th {\n",
       "        text-align: right;\n",
       "    }\n",
       "</style>\n",
       "<table border=\"1\" class=\"dataframe\">\n",
       "  <thead>\n",
       "    <tr style=\"text-align: right;\">\n",
       "      <th>WHO Region</th>\n",
       "      <th>Africa</th>\n",
       "      <th>Americas</th>\n",
       "      <th>Eastern Mediterranean</th>\n",
       "      <th>Europe</th>\n",
       "      <th>South-East Asia</th>\n",
       "      <th>Western Pacific</th>\n",
       "    </tr>\n",
       "    <tr>\n",
       "      <th>Date</th>\n",
       "      <th></th>\n",
       "      <th></th>\n",
       "      <th></th>\n",
       "      <th></th>\n",
       "      <th></th>\n",
       "      <th></th>\n",
       "    </tr>\n",
       "  </thead>\n",
       "  <tbody>\n",
       "    <tr>\n",
       "      <th>2020-01-22</th>\n",
       "      <td>0.0</td>\n",
       "      <td>0.0</td>\n",
       "      <td>0.0</td>\n",
       "      <td>0.0</td>\n",
       "      <td>0.0</td>\n",
       "      <td>17.0</td>\n",
       "    </tr>\n",
       "    <tr>\n",
       "      <th>2020-01-23</th>\n",
       "      <td>0.0</td>\n",
       "      <td>0.0</td>\n",
       "      <td>0.0</td>\n",
       "      <td>0.0</td>\n",
       "      <td>0.0</td>\n",
       "      <td>18.0</td>\n",
       "    </tr>\n",
       "    <tr>\n",
       "      <th>2020-01-24</th>\n",
       "      <td>0.0</td>\n",
       "      <td>0.0</td>\n",
       "      <td>0.0</td>\n",
       "      <td>0.0</td>\n",
       "      <td>0.0</td>\n",
       "      <td>26.0</td>\n",
       "    </tr>\n",
       "    <tr>\n",
       "      <th>2020-01-25</th>\n",
       "      <td>0.0</td>\n",
       "      <td>0.0</td>\n",
       "      <td>0.0</td>\n",
       "      <td>0.0</td>\n",
       "      <td>0.0</td>\n",
       "      <td>42.0</td>\n",
       "    </tr>\n",
       "    <tr>\n",
       "      <th>2020-01-26</th>\n",
       "      <td>0.0</td>\n",
       "      <td>0.0</td>\n",
       "      <td>0.0</td>\n",
       "      <td>0.0</td>\n",
       "      <td>0.0</td>\n",
       "      <td>56.0</td>\n",
       "    </tr>\n",
       "    <tr>\n",
       "      <th>...</th>\n",
       "      <td>...</td>\n",
       "      <td>...</td>\n",
       "      <td>...</td>\n",
       "      <td>...</td>\n",
       "      <td>...</td>\n",
       "      <td>...</td>\n",
       "    </tr>\n",
       "    <tr>\n",
       "      <th>2020-07-23</th>\n",
       "      <td>10978.0</td>\n",
       "      <td>330007.0</td>\n",
       "      <td>36575.0</td>\n",
       "      <td>209704.0</td>\n",
       "      <td>38111.0</td>\n",
       "      <td>8131.0</td>\n",
       "    </tr>\n",
       "    <tr>\n",
       "      <th>2020-07-24</th>\n",
       "      <td>11315.0</td>\n",
       "      <td>333968.0</td>\n",
       "      <td>37033.0</td>\n",
       "      <td>210193.0</td>\n",
       "      <td>38993.0</td>\n",
       "      <td>8148.0</td>\n",
       "    </tr>\n",
       "    <tr>\n",
       "      <th>2020-07-25</th>\n",
       "      <td>11683.0</td>\n",
       "      <td>336817.0</td>\n",
       "      <td>37467.0</td>\n",
       "      <td>210587.0</td>\n",
       "      <td>39783.0</td>\n",
       "      <td>8180.0</td>\n",
       "    </tr>\n",
       "    <tr>\n",
       "      <th>2020-07-26</th>\n",
       "      <td>11870.0</td>\n",
       "      <td>339177.0</td>\n",
       "      <td>37894.0</td>\n",
       "      <td>210840.0</td>\n",
       "      <td>40615.0</td>\n",
       "      <td>8225.0</td>\n",
       "    </tr>\n",
       "    <tr>\n",
       "      <th>2020-07-27</th>\n",
       "      <td>12223.0</td>\n",
       "      <td>342732.0</td>\n",
       "      <td>38339.0</td>\n",
       "      <td>211144.0</td>\n",
       "      <td>41349.0</td>\n",
       "      <td>8249.0</td>\n",
       "    </tr>\n",
       "  </tbody>\n",
       "</table>\n",
       "<p>188 rows × 6 columns</p>\n",
       "</div>"
      ],
      "text/plain": [
       "WHO Region   Africa  Americas  Eastern Mediterranean    Europe  \\\n",
       "Date                                                             \n",
       "2020-01-22      0.0       0.0                    0.0       0.0   \n",
       "2020-01-23      0.0       0.0                    0.0       0.0   \n",
       "2020-01-24      0.0       0.0                    0.0       0.0   \n",
       "2020-01-25      0.0       0.0                    0.0       0.0   \n",
       "2020-01-26      0.0       0.0                    0.0       0.0   \n",
       "...             ...       ...                    ...       ...   \n",
       "2020-07-23  10978.0  330007.0                36575.0  209704.0   \n",
       "2020-07-24  11315.0  333968.0                37033.0  210193.0   \n",
       "2020-07-25  11683.0  336817.0                37467.0  210587.0   \n",
       "2020-07-26  11870.0  339177.0                37894.0  210840.0   \n",
       "2020-07-27  12223.0  342732.0                38339.0  211144.0   \n",
       "\n",
       "WHO Region  South-East Asia  Western Pacific  \n",
       "Date                                          \n",
       "2020-01-22              0.0             17.0  \n",
       "2020-01-23              0.0             18.0  \n",
       "2020-01-24              0.0             26.0  \n",
       "2020-01-25              0.0             42.0  \n",
       "2020-01-26              0.0             56.0  \n",
       "...                     ...              ...  \n",
       "2020-07-23          38111.0           8131.0  \n",
       "2020-07-24          38993.0           8148.0  \n",
       "2020-07-25          39783.0           8180.0  \n",
       "2020-07-26          40615.0           8225.0  \n",
       "2020-07-27          41349.0           8249.0  \n",
       "\n",
       "[188 rows x 6 columns]"
      ]
     },
     "execution_count": 69,
     "metadata": {},
     "output_type": "execute_result"
    }
   ],
   "source": [
    "df_covid.pivot_table(index='Date',columns=\"WHO Region\",values='Deaths',aggfunc='sum')"
   ]
  },
  {
   "cell_type": "markdown",
   "id": "95b61350",
   "metadata": {},
   "source": [
    "================================================================================================"
   ]
  },
  {
   "cell_type": "markdown",
   "id": "e02f622f",
   "metadata": {},
   "source": [
    "    The Below Data Shows the Average of the Data Frame, \"Deaths\" Column has an average of  884.18 while the \"Active\" Column has an average of 8085.01 in the other hand the\"Confirmed\" Column has an Average of 16884.90 As Conclusion the \"Recovered \" Column has an average of 7915.71."
   ]
  },
  {
   "cell_type": "markdown",
   "id": "2d6b267c",
   "metadata": {},
   "source": [
    "================================================================================================"
   ]
  },
  {
   "cell_type": "code",
   "execution_count": 47,
   "id": "854dc9a5",
   "metadata": {},
   "outputs": [
    {
     "data": {
      "text/plain": [
       "Deaths         884.18\n",
       "Active        8085.01\n",
       "Confirmed    16884.90\n",
       "Recovered     7915.71\n",
       "dtype: float64"
      ]
     },
     "execution_count": 47,
     "metadata": {},
     "output_type": "execute_result"
    }
   ],
   "source": [
    "df_covid[['Deaths','Active','Confirmed','Recovered']].mean().round(2)"
   ]
  },
  {
   "cell_type": "markdown",
   "id": "6d329c2c",
   "metadata": {},
   "source": [
    "================================================================================================"
   ]
  },
  {
   "cell_type": "markdown",
   "id": "633d7a4f",
   "metadata": {},
   "source": [
    "    The Data Below Shows the Sum of all, The Column 'Deaths' has a total of 43384903.0 while the 'Active' Column has a total sum of 396715350.0 in the other hand the 'Confirmed' Colum,n has a total sum of 828508482.0 as conclusion the \"Recovered\" Column has a total sum of 388408229.0"
   ]
  },
  {
   "cell_type": "markdown",
   "id": "80449f11",
   "metadata": {},
   "source": [
    "================================================================================================"
   ]
  },
  {
   "cell_type": "code",
   "execution_count": 35,
   "id": "4eef0d77",
   "metadata": {
    "scrolled": true
   },
   "outputs": [
    {
     "data": {
      "text/plain": [
       "Deaths        43384903.0\n",
       "Active       396715350.0\n",
       "Confirmed    828508482.0\n",
       "Recovered    388408229.0\n",
       "dtype: float64"
      ]
     },
     "execution_count": 35,
     "metadata": {},
     "output_type": "execute_result"
    }
   ],
   "source": [
    "df_covid[['Deaths','Active','Confirmed','Recovered']].sum()"
   ]
  },
  {
   "cell_type": "markdown",
   "id": "54e8317c",
   "metadata": {},
   "source": [
    "================================================================================================"
   ]
  },
  {
   "cell_type": "markdown",
   "id": "6a00b8e2",
   "metadata": {},
   "source": [
    "    The Illustration below shows the No. of Deaths in WHO region based on its Particular Date. The Data shows that the Americas(Orange Line) had the highest rate of No. of Deaths as time passed by, followed by Europe(Red Line) and Eastern Medeterranean(Green Line)."
   ]
  },
  {
   "cell_type": "markdown",
   "id": "675eb6b0",
   "metadata": {},
   "source": [
    "================================================================================================"
   ]
  },
  {
   "cell_type": "code",
   "execution_count": 15,
   "id": "4a4165d8",
   "metadata": {
    "scrolled": true
   },
   "outputs": [
    {
     "data": {
      "text/plain": [
       "<AxesSubplot:title={'center':'Rate of Deaths in WHO Region'}, xlabel='Date', ylabel='No. of Deaths'>"
      ]
     },
     "execution_count": 15,
     "metadata": {},
     "output_type": "execute_result"
    },
    {
     "data": {
      "image/png": "[encoded data removed]",
      "text/plain": [
       "<Figure size 432x288 with 1 Axes>"
      ]
     },
     "metadata": {
      "needs_background": "light"
     },
     "output_type": "display_data"
    }
   ],
   "source": [
    "df_covid.pivot_table(index='Date',columns=\"WHO Region\",values='Deaths',aggfunc='sum').round(2).plot(\n",
    "    kind='line', xlabel='Date', ylabel='No. of Deaths', title='Rate of Deaths in WHO Region')"
   ]
  },
  {
   "cell_type": "markdown",
   "id": "d6aaa119",
   "metadata": {},
   "source": [
    "================================================================================================"
   ]
  },
  {
   "cell_type": "markdown",
   "id": "1193fc94",
   "metadata": {},
   "source": [
    "    Below Illustration shows the Confirmed Cases in WHO Region since feb 2020 to July 2020."
   ]
  },
  {
   "cell_type": "markdown",
   "id": "8cad5449",
   "metadata": {},
   "source": [
    "================================================================================================"
   ]
  },
  {
   "cell_type": "code",
   "execution_count": 46,
   "id": "9cc6f6ee",
   "metadata": {},
   "outputs": [
    {
     "data": {
      "text/plain": [
       "<AxesSubplot:title={'center':'Rate of Confirmeds in WHO Region'}, xlabel='Date', ylabel='No. of Confirmeds'>"
      ]
     },
     "execution_count": 46,
     "metadata": {},
     "output_type": "execute_result"
    },
    {
     "data": {
      "image/png": "[encoded data removed]",
      "text/plain": [
       "<Figure size 432x288 with 1 Axes>"
      ]
     },
     "metadata": {
      "needs_background": "light"
     },
     "output_type": "display_data"
    }
   ],
   "source": [
    "df_covid.pivot_table(index='Date',columns=\"WHO Region\",values='Confirmed').plot(\n",
    "    kind='line', xlabel='Date', ylabel='No. of Confirmeds', title='Rate of Confirmeds in WHO Region')"
   ]
  },
  {
   "cell_type": "markdown",
   "id": "80dc9d5b",
   "metadata": {},
   "source": [
    "================================================================================================"
   ]
  },
  {
   "cell_type": "markdown",
   "id": "cfd69ad4",
   "metadata": {},
   "source": [
    "    Below Illustration shows the Actives Cases in WHO Region since feb 2020 to July 2020."
   ]
  },
  {
   "cell_type": "markdown",
   "id": "ed8ee2d8",
   "metadata": {},
   "source": [
    "================================================================================================"
   ]
  },
  {
   "cell_type": "code",
   "execution_count": 45,
   "id": "8d968456",
   "metadata": {},
   "outputs": [
    {
     "data": {
      "text/plain": [
       "<AxesSubplot:title={'center':'Rate of Actives in WHO Region'}, xlabel='Date', ylabel='No. of Actives'>"
      ]
     },
     "execution_count": 45,
     "metadata": {},
     "output_type": "execute_result"
    },
    {
     "data": {
      "image/png": "[encoded data removed]",
      "text/plain": [
       "<Figure size 432x288 with 1 Axes>"
      ]
     },
     "metadata": {
      "needs_background": "light"
     },
     "output_type": "display_data"
    }
   ],
   "source": [
    "df_covid.pivot_table(index='Date',columns=\"WHO Region\",values='Active').plot(\n",
    "    kind='line', xlabel='Date', ylabel='No. of Actives', title='Rate of Actives in WHO Region')"
   ]
  },
  {
   "cell_type": "markdown",
   "id": "9b607d16",
   "metadata": {},
   "source": [
    "================================================================================================"
   ]
  },
  {
   "cell_type": "markdown",
   "id": "ab3fa96b",
   "metadata": {},
   "source": [
    "    Below Illustration shows the Recovered Cases in WHO Region since feb 2020 to July 2020."
   ]
  },
  {
   "cell_type": "markdown",
   "id": "629f057b",
   "metadata": {},
   "source": [
    "================================================================================================"
   ]
  },
  {
   "cell_type": "code",
   "execution_count": 44,
   "id": "fa1656d2",
   "metadata": {},
   "outputs": [
    {
     "data": {
      "text/plain": [
       "<AxesSubplot:title={'center':'Rate of Recovered in WHO Region'}, xlabel='Date', ylabel='No. of Recovered'>"
      ]
     },
     "execution_count": 44,
     "metadata": {},
     "output_type": "execute_result"
    },
    {
     "data": {
      "image/png": "[encoded data removed]",
      "text/plain": [
       "<Figure size 432x288 with 1 Axes>"
      ]
     },
     "metadata": {
      "needs_background": "light"
     },
     "output_type": "display_data"
    }
   ],
   "source": [
    "df_covid.pivot_table(index='Date',columns=\"WHO Region\",values='Recovered').plot(\n",
    "    kind='line', xlabel='Date', ylabel='No. of Recovered', title='Rate of Recovered in WHO Region')"
   ]
  }
 ],
 "metadata": {
  "kernelspec": {
   "display_name": "Python 3 (ipykernel)",
   "language": "python",
   "name": "python3"
  },
  "language_info": {
   "codemirror_mode": {
    "name": "ipython",
    "version": 3
   },
   "file_extension": ".py",
   "mimetype": "text/x-python",
   "name": "python",
   "nbconvert_exporter": "python",
   "pygments_lexer": "ipython3",
   "version": "3.9.12"
  }
 },
 "nbformat": 4,
 "nbformat_minor": 5
}
