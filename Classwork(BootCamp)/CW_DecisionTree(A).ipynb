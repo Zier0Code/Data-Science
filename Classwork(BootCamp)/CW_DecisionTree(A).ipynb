{
 "cells": [
  {
   "cell_type": "code",
   "execution_count": 1,
   "id": "ec79785e",
   "metadata": {},
   "outputs": [],
   "source": [
    "#ignore warnings\n",
    "import warnings\n",
    "warnings.filterwarnings('ignore')\n",
    "\n",
    "import numpy as np\n",
    "import pandas as pd\n",
    "import matplotlib.pyplot as plt\n",
    "import seaborn as sns\n",
    "\n",
    "\n",
    "# Set Options for display\n",
    "pd.options.display.max_rows = 1000\n",
    "pd.options.display.max_columns = 100\n",
    "pd.options.display.float_format = '{:.2f}'.format\n",
    "\n",
    "%matplotlib inline"
   ]
  },
  {
   "cell_type": "code",
   "execution_count": 2,
   "id": "09318b4f",
   "metadata": {},
   "outputs": [],
   "source": [
    "#Importing the Tree and Metrics Module\n",
    "from sklearn import metrics\n",
    "\n",
    "#Decision Tree Algorithm and plot_tree function\n",
    "from sklearn.tree import DecisionTreeClassifier, plot_tree\n",
    "\n",
    "#Train-Test Split\n",
    "from sklearn.model_selection import train_test_split\n",
    "\n",
    "#Standard Scaler\n",
    "from sklearn.preprocessing import StandardScaler\n",
    "\n",
    "#Classification Metrics\n",
    "from sklearn.metrics import confusion_matrix, classification_report, accuracy_score"
   ]
  },
  {
   "cell_type": "markdown",
   "id": "6d7e1936",
   "metadata": {},
   "source": [
    "### Explore Data Set"
   ]
  },
  {
   "cell_type": "code",
   "execution_count": 4,
   "id": "060ccdf7",
   "metadata": {
    "scrolled": true
   },
   "outputs": [
    {
     "data": {
      "text/html": [
       "<div>\n",
       "<style scoped>\n",
       "    .dataframe tbody tr th:only-of-type {\n",
       "        vertical-align: middle;\n",
       "    }\n",
       "\n",
       "    .dataframe tbody tr th {\n",
       "        vertical-align: top;\n",
       "    }\n",
       "\n",
       "    .dataframe thead th {\n",
       "        text-align: right;\n",
       "    }\n",
       "</style>\n",
       "<table border=\"1\" class=\"dataframe\">\n",
       "  <thead>\n",
       "    <tr style=\"text-align: right;\">\n",
       "      <th></th>\n",
       "      <th>months_as_customer</th>\n",
       "      <th>age</th>\n",
       "      <th>policy_number</th>\n",
       "      <th>policy_csl</th>\n",
       "      <th>policy_deductable</th>\n",
       "      <th>policy_annual_premium</th>\n",
       "      <th>umbrella_limit</th>\n",
       "      <th>insured_sex</th>\n",
       "      <th>insured_education_level</th>\n",
       "      <th>insured_occupation</th>\n",
       "      <th>insured_hobbies</th>\n",
       "      <th>insured_relationship</th>\n",
       "      <th>capital-gains</th>\n",
       "      <th>capital-loss</th>\n",
       "      <th>incident_type</th>\n",
       "      <th>collision_type</th>\n",
       "      <th>incident_severity</th>\n",
       "      <th>authorities_contacted</th>\n",
       "      <th>incident_hour_of_the_day</th>\n",
       "      <th>number_of_vehicles_involved</th>\n",
       "      <th>property_damage</th>\n",
       "      <th>bodily_injuries</th>\n",
       "      <th>witnesses</th>\n",
       "      <th>police_report_available</th>\n",
       "      <th>total_claim_amount</th>\n",
       "      <th>injury_claim</th>\n",
       "      <th>property_claim</th>\n",
       "      <th>vehicle_claim</th>\n",
       "      <th>auto_make</th>\n",
       "      <th>auto_model</th>\n",
       "      <th>auto_year</th>\n",
       "      <th>fraud_reported</th>\n",
       "    </tr>\n",
       "  </thead>\n",
       "  <tbody>\n",
       "    <tr>\n",
       "      <th>0</th>\n",
       "      <td>328</td>\n",
       "      <td>48</td>\n",
       "      <td>521585</td>\n",
       "      <td>250/500</td>\n",
       "      <td>1000</td>\n",
       "      <td>1406.91</td>\n",
       "      <td>0</td>\n",
       "      <td>MALE</td>\n",
       "      <td>MD</td>\n",
       "      <td>craft-repair</td>\n",
       "      <td>sleeping</td>\n",
       "      <td>husband</td>\n",
       "      <td>53300</td>\n",
       "      <td>0</td>\n",
       "      <td>Single Vehicle Collision</td>\n",
       "      <td>Side Collision</td>\n",
       "      <td>Major Damage</td>\n",
       "      <td>Police</td>\n",
       "      <td>5</td>\n",
       "      <td>1</td>\n",
       "      <td>YES</td>\n",
       "      <td>1</td>\n",
       "      <td>2</td>\n",
       "      <td>YES</td>\n",
       "      <td>71610</td>\n",
       "      <td>6510</td>\n",
       "      <td>13020</td>\n",
       "      <td>52080</td>\n",
       "      <td>Saab</td>\n",
       "      <td>92x</td>\n",
       "      <td>2004</td>\n",
       "      <td>Y</td>\n",
       "    </tr>\n",
       "    <tr>\n",
       "      <th>1</th>\n",
       "      <td>228</td>\n",
       "      <td>42</td>\n",
       "      <td>342868</td>\n",
       "      <td>250/500</td>\n",
       "      <td>2000</td>\n",
       "      <td>1197.22</td>\n",
       "      <td>5000000</td>\n",
       "      <td>MALE</td>\n",
       "      <td>MD</td>\n",
       "      <td>machine-op-inspct</td>\n",
       "      <td>reading</td>\n",
       "      <td>other-relative</td>\n",
       "      <td>0</td>\n",
       "      <td>0</td>\n",
       "      <td>Vehicle Theft</td>\n",
       "      <td>?</td>\n",
       "      <td>Minor Damage</td>\n",
       "      <td>Police</td>\n",
       "      <td>8</td>\n",
       "      <td>1</td>\n",
       "      <td>?</td>\n",
       "      <td>0</td>\n",
       "      <td>0</td>\n",
       "      <td>?</td>\n",
       "      <td>5070</td>\n",
       "      <td>780</td>\n",
       "      <td>780</td>\n",
       "      <td>3510</td>\n",
       "      <td>Mercedes</td>\n",
       "      <td>E400</td>\n",
       "      <td>2007</td>\n",
       "      <td>Y</td>\n",
       "    </tr>\n",
       "    <tr>\n",
       "      <th>2</th>\n",
       "      <td>134</td>\n",
       "      <td>29</td>\n",
       "      <td>687698</td>\n",
       "      <td>100/300</td>\n",
       "      <td>2000</td>\n",
       "      <td>1413.14</td>\n",
       "      <td>5000000</td>\n",
       "      <td>FEMALE</td>\n",
       "      <td>PhD</td>\n",
       "      <td>sales</td>\n",
       "      <td>board-games</td>\n",
       "      <td>own-child</td>\n",
       "      <td>35100</td>\n",
       "      <td>0</td>\n",
       "      <td>Multi-vehicle Collision</td>\n",
       "      <td>Rear Collision</td>\n",
       "      <td>Minor Damage</td>\n",
       "      <td>Police</td>\n",
       "      <td>7</td>\n",
       "      <td>3</td>\n",
       "      <td>NO</td>\n",
       "      <td>2</td>\n",
       "      <td>3</td>\n",
       "      <td>NO</td>\n",
       "      <td>34650</td>\n",
       "      <td>7700</td>\n",
       "      <td>3850</td>\n",
       "      <td>23100</td>\n",
       "      <td>Dodge</td>\n",
       "      <td>RAM</td>\n",
       "      <td>2007</td>\n",
       "      <td>N</td>\n",
       "    </tr>\n",
       "    <tr>\n",
       "      <th>3</th>\n",
       "      <td>256</td>\n",
       "      <td>41</td>\n",
       "      <td>227811</td>\n",
       "      <td>250/500</td>\n",
       "      <td>2000</td>\n",
       "      <td>1415.74</td>\n",
       "      <td>6000000</td>\n",
       "      <td>FEMALE</td>\n",
       "      <td>PhD</td>\n",
       "      <td>armed-forces</td>\n",
       "      <td>board-games</td>\n",
       "      <td>unmarried</td>\n",
       "      <td>48900</td>\n",
       "      <td>-62400</td>\n",
       "      <td>Single Vehicle Collision</td>\n",
       "      <td>Front Collision</td>\n",
       "      <td>Major Damage</td>\n",
       "      <td>Police</td>\n",
       "      <td>5</td>\n",
       "      <td>1</td>\n",
       "      <td>?</td>\n",
       "      <td>1</td>\n",
       "      <td>2</td>\n",
       "      <td>NO</td>\n",
       "      <td>63400</td>\n",
       "      <td>6340</td>\n",
       "      <td>6340</td>\n",
       "      <td>50720</td>\n",
       "      <td>Chevrolet</td>\n",
       "      <td>Tahoe</td>\n",
       "      <td>2014</td>\n",
       "      <td>Y</td>\n",
       "    </tr>\n",
       "    <tr>\n",
       "      <th>4</th>\n",
       "      <td>228</td>\n",
       "      <td>44</td>\n",
       "      <td>367455</td>\n",
       "      <td>500/1000</td>\n",
       "      <td>1000</td>\n",
       "      <td>1583.91</td>\n",
       "      <td>6000000</td>\n",
       "      <td>MALE</td>\n",
       "      <td>Associate</td>\n",
       "      <td>sales</td>\n",
       "      <td>board-games</td>\n",
       "      <td>unmarried</td>\n",
       "      <td>66000</td>\n",
       "      <td>-46000</td>\n",
       "      <td>Vehicle Theft</td>\n",
       "      <td>?</td>\n",
       "      <td>Minor Damage</td>\n",
       "      <td>None</td>\n",
       "      <td>20</td>\n",
       "      <td>1</td>\n",
       "      <td>NO</td>\n",
       "      <td>0</td>\n",
       "      <td>1</td>\n",
       "      <td>NO</td>\n",
       "      <td>6500</td>\n",
       "      <td>1300</td>\n",
       "      <td>650</td>\n",
       "      <td>4550</td>\n",
       "      <td>Accura</td>\n",
       "      <td>RSX</td>\n",
       "      <td>2009</td>\n",
       "      <td>N</td>\n",
       "    </tr>\n",
       "  </tbody>\n",
       "</table>\n",
       "</div>"
      ],
      "text/plain": [
       "   months_as_customer  age  policy_number policy_csl  policy_deductable  \\\n",
       "0                 328   48         521585    250/500               1000   \n",
       "1                 228   42         342868    250/500               2000   \n",
       "2                 134   29         687698    100/300               2000   \n",
       "3                 256   41         227811    250/500               2000   \n",
       "4                 228   44         367455   500/1000               1000   \n",
       "\n",
       "   policy_annual_premium  umbrella_limit insured_sex insured_education_level  \\\n",
       "0                1406.91               0        MALE                      MD   \n",
       "1                1197.22         5000000        MALE                      MD   \n",
       "2                1413.14         5000000      FEMALE                     PhD   \n",
       "3                1415.74         6000000      FEMALE                     PhD   \n",
       "4                1583.91         6000000        MALE               Associate   \n",
       "\n",
       "  insured_occupation insured_hobbies insured_relationship  capital-gains  \\\n",
       "0       craft-repair        sleeping              husband          53300   \n",
       "1  machine-op-inspct         reading       other-relative              0   \n",
       "2              sales     board-games            own-child          35100   \n",
       "3       armed-forces     board-games            unmarried          48900   \n",
       "4              sales     board-games            unmarried          66000   \n",
       "\n",
       "   capital-loss             incident_type   collision_type incident_severity  \\\n",
       "0             0  Single Vehicle Collision   Side Collision      Major Damage   \n",
       "1             0             Vehicle Theft                ?      Minor Damage   \n",
       "2             0   Multi-vehicle Collision   Rear Collision      Minor Damage   \n",
       "3        -62400  Single Vehicle Collision  Front Collision      Major Damage   \n",
       "4        -46000             Vehicle Theft                ?      Minor Damage   \n",
       "\n",
       "  authorities_contacted  incident_hour_of_the_day  \\\n",
       "0                Police                         5   \n",
       "1                Police                         8   \n",
       "2                Police                         7   \n",
       "3                Police                         5   \n",
       "4                  None                        20   \n",
       "\n",
       "   number_of_vehicles_involved property_damage  bodily_injuries  witnesses  \\\n",
       "0                            1             YES                1          2   \n",
       "1                            1               ?                0          0   \n",
       "2                            3              NO                2          3   \n",
       "3                            1               ?                1          2   \n",
       "4                            1              NO                0          1   \n",
       "\n",
       "  police_report_available  total_claim_amount  injury_claim  property_claim  \\\n",
       "0                     YES               71610          6510           13020   \n",
       "1                       ?                5070           780             780   \n",
       "2                      NO               34650          7700            3850   \n",
       "3                      NO               63400          6340            6340   \n",
       "4                      NO                6500          1300             650   \n",
       "\n",
       "   vehicle_claim  auto_make auto_model  auto_year fraud_reported  \n",
       "0          52080       Saab        92x       2004              Y  \n",
       "1           3510   Mercedes       E400       2007              Y  \n",
       "2          23100      Dodge        RAM       2007              N  \n",
       "3          50720  Chevrolet      Tahoe       2014              Y  \n",
       "4           4550     Accura        RSX       2009              N  "
      ]
     },
     "execution_count": 4,
     "metadata": {},
     "output_type": "execute_result"
    }
   ],
   "source": [
    "df = pd.read_csv(\"C:\\\\Users\\\\Avila\\\\OneDrive\\\\Desktop\\\\csv files\\\\angelo avila - insurance_claims.csv\")\n",
    "df.head()"
   ]
  },
  {
   "cell_type": "code",
   "execution_count": 10,
   "id": "a51df8ce",
   "metadata": {},
   "outputs": [],
   "source": [
    "df1 = df.iloc[:,15:32]"
   ]
  },
  {
   "cell_type": "code",
   "execution_count": 5,
   "id": "bff9c52c",
   "metadata": {},
   "outputs": [
    {
     "data": {
      "text/plain": [
       "(1000, 32)"
      ]
     },
     "execution_count": 5,
     "metadata": {},
     "output_type": "execute_result"
    }
   ],
   "source": [
    "df.shape"
   ]
  },
  {
   "cell_type": "code",
   "execution_count": 6,
   "id": "d298c514",
   "metadata": {},
   "outputs": [
    {
     "data": {
      "text/html": [
       "<div>\n",
       "<style scoped>\n",
       "    .dataframe tbody tr th:only-of-type {\n",
       "        vertical-align: middle;\n",
       "    }\n",
       "\n",
       "    .dataframe tbody tr th {\n",
       "        vertical-align: top;\n",
       "    }\n",
       "\n",
       "    .dataframe thead th {\n",
       "        text-align: right;\n",
       "    }\n",
       "</style>\n",
       "<table border=\"1\" class=\"dataframe\">\n",
       "  <thead>\n",
       "    <tr style=\"text-align: right;\">\n",
       "      <th></th>\n",
       "      <th>months_as_customer</th>\n",
       "      <th>age</th>\n",
       "      <th>policy_number</th>\n",
       "      <th>policy_deductable</th>\n",
       "      <th>policy_annual_premium</th>\n",
       "      <th>umbrella_limit</th>\n",
       "      <th>capital-gains</th>\n",
       "      <th>capital-loss</th>\n",
       "      <th>incident_hour_of_the_day</th>\n",
       "      <th>number_of_vehicles_involved</th>\n",
       "      <th>bodily_injuries</th>\n",
       "      <th>witnesses</th>\n",
       "      <th>total_claim_amount</th>\n",
       "      <th>injury_claim</th>\n",
       "      <th>property_claim</th>\n",
       "      <th>vehicle_claim</th>\n",
       "      <th>auto_year</th>\n",
       "    </tr>\n",
       "  </thead>\n",
       "  <tbody>\n",
       "    <tr>\n",
       "      <th>count</th>\n",
       "      <td>1000.00</td>\n",
       "      <td>1000.00</td>\n",
       "      <td>1000.00</td>\n",
       "      <td>1000.00</td>\n",
       "      <td>1000.00</td>\n",
       "      <td>1000.00</td>\n",
       "      <td>1000.00</td>\n",
       "      <td>1000.00</td>\n",
       "      <td>1000.00</td>\n",
       "      <td>1000.00</td>\n",
       "      <td>1000.00</td>\n",
       "      <td>1000.00</td>\n",
       "      <td>1000.00</td>\n",
       "      <td>1000.00</td>\n",
       "      <td>1000.00</td>\n",
       "      <td>1000.00</td>\n",
       "      <td>1000.00</td>\n",
       "    </tr>\n",
       "    <tr>\n",
       "      <th>mean</th>\n",
       "      <td>203.95</td>\n",
       "      <td>38.95</td>\n",
       "      <td>546238.65</td>\n",
       "      <td>1136.00</td>\n",
       "      <td>1256.41</td>\n",
       "      <td>1101000.00</td>\n",
       "      <td>25126.10</td>\n",
       "      <td>-26793.70</td>\n",
       "      <td>11.64</td>\n",
       "      <td>1.84</td>\n",
       "      <td>0.99</td>\n",
       "      <td>1.49</td>\n",
       "      <td>52761.94</td>\n",
       "      <td>7433.42</td>\n",
       "      <td>7399.57</td>\n",
       "      <td>37928.95</td>\n",
       "      <td>2005.10</td>\n",
       "    </tr>\n",
       "    <tr>\n",
       "      <th>std</th>\n",
       "      <td>115.11</td>\n",
       "      <td>9.14</td>\n",
       "      <td>257063.01</td>\n",
       "      <td>611.86</td>\n",
       "      <td>244.17</td>\n",
       "      <td>2297406.60</td>\n",
       "      <td>27872.19</td>\n",
       "      <td>28104.10</td>\n",
       "      <td>6.95</td>\n",
       "      <td>1.02</td>\n",
       "      <td>0.82</td>\n",
       "      <td>1.11</td>\n",
       "      <td>26401.53</td>\n",
       "      <td>4880.95</td>\n",
       "      <td>4824.73</td>\n",
       "      <td>18886.25</td>\n",
       "      <td>6.02</td>\n",
       "    </tr>\n",
       "    <tr>\n",
       "      <th>min</th>\n",
       "      <td>0.00</td>\n",
       "      <td>19.00</td>\n",
       "      <td>100804.00</td>\n",
       "      <td>500.00</td>\n",
       "      <td>433.33</td>\n",
       "      <td>-1000000.00</td>\n",
       "      <td>0.00</td>\n",
       "      <td>-111100.00</td>\n",
       "      <td>0.00</td>\n",
       "      <td>1.00</td>\n",
       "      <td>0.00</td>\n",
       "      <td>0.00</td>\n",
       "      <td>100.00</td>\n",
       "      <td>0.00</td>\n",
       "      <td>0.00</td>\n",
       "      <td>70.00</td>\n",
       "      <td>1995.00</td>\n",
       "    </tr>\n",
       "    <tr>\n",
       "      <th>25%</th>\n",
       "      <td>115.75</td>\n",
       "      <td>32.00</td>\n",
       "      <td>335980.25</td>\n",
       "      <td>500.00</td>\n",
       "      <td>1089.61</td>\n",
       "      <td>0.00</td>\n",
       "      <td>0.00</td>\n",
       "      <td>-51500.00</td>\n",
       "      <td>6.00</td>\n",
       "      <td>1.00</td>\n",
       "      <td>0.00</td>\n",
       "      <td>1.00</td>\n",
       "      <td>41812.50</td>\n",
       "      <td>4295.00</td>\n",
       "      <td>4445.00</td>\n",
       "      <td>30292.50</td>\n",
       "      <td>2000.00</td>\n",
       "    </tr>\n",
       "    <tr>\n",
       "      <th>50%</th>\n",
       "      <td>199.50</td>\n",
       "      <td>38.00</td>\n",
       "      <td>533135.00</td>\n",
       "      <td>1000.00</td>\n",
       "      <td>1257.20</td>\n",
       "      <td>0.00</td>\n",
       "      <td>0.00</td>\n",
       "      <td>-23250.00</td>\n",
       "      <td>12.00</td>\n",
       "      <td>1.00</td>\n",
       "      <td>1.00</td>\n",
       "      <td>1.00</td>\n",
       "      <td>58055.00</td>\n",
       "      <td>6775.00</td>\n",
       "      <td>6750.00</td>\n",
       "      <td>42100.00</td>\n",
       "      <td>2005.00</td>\n",
       "    </tr>\n",
       "    <tr>\n",
       "      <th>75%</th>\n",
       "      <td>276.25</td>\n",
       "      <td>44.00</td>\n",
       "      <td>759099.75</td>\n",
       "      <td>2000.00</td>\n",
       "      <td>1415.70</td>\n",
       "      <td>0.00</td>\n",
       "      <td>51025.00</td>\n",
       "      <td>0.00</td>\n",
       "      <td>17.00</td>\n",
       "      <td>3.00</td>\n",
       "      <td>2.00</td>\n",
       "      <td>2.00</td>\n",
       "      <td>70592.50</td>\n",
       "      <td>11305.00</td>\n",
       "      <td>10885.00</td>\n",
       "      <td>50822.50</td>\n",
       "      <td>2010.00</td>\n",
       "    </tr>\n",
       "    <tr>\n",
       "      <th>max</th>\n",
       "      <td>479.00</td>\n",
       "      <td>64.00</td>\n",
       "      <td>999435.00</td>\n",
       "      <td>2000.00</td>\n",
       "      <td>2047.59</td>\n",
       "      <td>10000000.00</td>\n",
       "      <td>100500.00</td>\n",
       "      <td>0.00</td>\n",
       "      <td>23.00</td>\n",
       "      <td>4.00</td>\n",
       "      <td>2.00</td>\n",
       "      <td>3.00</td>\n",
       "      <td>114920.00</td>\n",
       "      <td>21450.00</td>\n",
       "      <td>23670.00</td>\n",
       "      <td>79560.00</td>\n",
       "      <td>2015.00</td>\n",
       "    </tr>\n",
       "  </tbody>\n",
       "</table>\n",
       "</div>"
      ],
      "text/plain": [
       "       months_as_customer     age  policy_number  policy_deductable  \\\n",
       "count             1000.00 1000.00        1000.00            1000.00   \n",
       "mean               203.95   38.95      546238.65            1136.00   \n",
       "std                115.11    9.14      257063.01             611.86   \n",
       "min                  0.00   19.00      100804.00             500.00   \n",
       "25%                115.75   32.00      335980.25             500.00   \n",
       "50%                199.50   38.00      533135.00            1000.00   \n",
       "75%                276.25   44.00      759099.75            2000.00   \n",
       "max                479.00   64.00      999435.00            2000.00   \n",
       "\n",
       "       policy_annual_premium  umbrella_limit  capital-gains  capital-loss  \\\n",
       "count                1000.00         1000.00        1000.00       1000.00   \n",
       "mean                 1256.41      1101000.00       25126.10     -26793.70   \n",
       "std                   244.17      2297406.60       27872.19      28104.10   \n",
       "min                   433.33     -1000000.00           0.00    -111100.00   \n",
       "25%                  1089.61            0.00           0.00     -51500.00   \n",
       "50%                  1257.20            0.00           0.00     -23250.00   \n",
       "75%                  1415.70            0.00       51025.00          0.00   \n",
       "max                  2047.59     10000000.00      100500.00          0.00   \n",
       "\n",
       "       incident_hour_of_the_day  number_of_vehicles_involved  bodily_injuries  \\\n",
       "count                   1000.00                      1000.00          1000.00   \n",
       "mean                      11.64                         1.84             0.99   \n",
       "std                        6.95                         1.02             0.82   \n",
       "min                        0.00                         1.00             0.00   \n",
       "25%                        6.00                         1.00             0.00   \n",
       "50%                       12.00                         1.00             1.00   \n",
       "75%                       17.00                         3.00             2.00   \n",
       "max                       23.00                         4.00             2.00   \n",
       "\n",
       "       witnesses  total_claim_amount  injury_claim  property_claim  \\\n",
       "count    1000.00             1000.00       1000.00         1000.00   \n",
       "mean        1.49            52761.94       7433.42         7399.57   \n",
       "std         1.11            26401.53       4880.95         4824.73   \n",
       "min         0.00              100.00          0.00            0.00   \n",
       "25%         1.00            41812.50       4295.00         4445.00   \n",
       "50%         1.00            58055.00       6775.00         6750.00   \n",
       "75%         2.00            70592.50      11305.00        10885.00   \n",
       "max         3.00           114920.00      21450.00        23670.00   \n",
       "\n",
       "       vehicle_claim  auto_year  \n",
       "count        1000.00    1000.00  \n",
       "mean        37928.95    2005.10  \n",
       "std         18886.25       6.02  \n",
       "min            70.00    1995.00  \n",
       "25%         30292.50    2000.00  \n",
       "50%         42100.00    2005.00  \n",
       "75%         50822.50    2010.00  \n",
       "max         79560.00    2015.00  "
      ]
     },
     "execution_count": 6,
     "metadata": {},
     "output_type": "execute_result"
    }
   ],
   "source": [
    "df.describe()"
   ]
  },
  {
   "cell_type": "code",
   "execution_count": 11,
   "id": "9bdf5ec3",
   "metadata": {},
   "outputs": [
    {
     "data": {
      "text/plain": [
       "collision_type                 object\n",
       "incident_severity              object\n",
       "authorities_contacted          object\n",
       "incident_hour_of_the_day        int64\n",
       "number_of_vehicles_involved     int64\n",
       "property_damage                object\n",
       "bodily_injuries                 int64\n",
       "witnesses                       int64\n",
       "police_report_available        object\n",
       "total_claim_amount              int64\n",
       "injury_claim                    int64\n",
       "property_claim                  int64\n",
       "vehicle_claim                   int64\n",
       "auto_make                      object\n",
       "auto_model                     object\n",
       "auto_year                       int64\n",
       "fraud_reported                 object\n",
       "dtype: object"
      ]
     },
     "execution_count": 11,
     "metadata": {},
     "output_type": "execute_result"
    }
   ],
   "source": [
    "df1.dtypes"
   ]
  },
  {
   "cell_type": "code",
   "execution_count": 12,
   "id": "51a5e13c",
   "metadata": {},
   "outputs": [],
   "source": [
    "to_drop = ['auto_make','auto_model']\n",
    "df1.drop(to_drop,axis=1,inplace=True)"
   ]
  },
  {
   "cell_type": "code",
   "execution_count": 13,
   "id": "b88a0d5f",
   "metadata": {},
   "outputs": [],
   "source": [
    "cat_cols = ['fraud_reported','police_report_available','property_damage','authorities_contacted','incident_severity','collision_type']\n",
    "df2 = pd.get_dummies(df1,columns = cat_cols)"
   ]
  },
  {
   "cell_type": "code",
   "execution_count": 14,
   "id": "b9645133",
   "metadata": {},
   "outputs": [
    {
     "data": {
      "text/plain": [
       "months_as_customer             0\n",
       "age                            0\n",
       "auto_year                      0\n",
       "auto_model                     0\n",
       "auto_make                      0\n",
       "vehicle_claim                  0\n",
       "property_claim                 0\n",
       "injury_claim                   0\n",
       "total_claim_amount             0\n",
       "police_report_available        0\n",
       "witnesses                      0\n",
       "bodily_injuries                0\n",
       "property_damage                0\n",
       "number_of_vehicles_involved    0\n",
       "incident_hour_of_the_day       0\n",
       "authorities_contacted          0\n",
       "incident_severity              0\n",
       "collision_type                 0\n",
       "incident_type                  0\n",
       "capital-loss                   0\n",
       "capital-gains                  0\n",
       "insured_relationship           0\n",
       "insured_hobbies                0\n",
       "insured_occupation             0\n",
       "insured_education_level        0\n",
       "insured_sex                    0\n",
       "umbrella_limit                 0\n",
       "policy_annual_premium          0\n",
       "policy_deductable              0\n",
       "policy_csl                     0\n",
       "policy_number                  0\n",
       "fraud_reported                 0\n",
       "dtype: int64"
      ]
     },
     "execution_count": 14,
     "metadata": {},
     "output_type": "execute_result"
    }
   ],
   "source": [
    "### Check for missing values\n",
    "total = df.isnull().sum().sort_values(ascending=False)\n",
    "total"
   ]
  },
  {
   "cell_type": "code",
   "execution_count": 15,
   "id": "4549c1db",
   "metadata": {},
   "outputs": [
    {
     "data": {
      "text/plain": [
       "((750, 29), (250, 29), (750,), (250,))"
      ]
     },
     "execution_count": 15,
     "metadata": {},
     "output_type": "execute_result"
    }
   ],
   "source": [
    "x = df2.drop([\"fraud_reported_Y\"], axis=1)\n",
    "y = df2[\"fraud_reported_Y\"]\n",
    "\n",
    "x_train, x_test, y_train, y_test = train_test_split(x, y, test_size=0.25, random_state=30)\n",
    "\n",
    "x_train.shape, x_test.shape, y_train.shape, y_test.shape"
   ]
  },
  {
   "cell_type": "code",
   "execution_count": 16,
   "id": "9cc5b0a8",
   "metadata": {},
   "outputs": [],
   "source": [
    "## Scale the dataset\n",
    "\n",
    "scaler = StandardScaler()\n",
    "x_train_scaled = scaler.fit_transform(x_train)\n",
    "x_test_scaled = scaler.transform(x_test)"
   ]
  },
  {
   "cell_type": "code",
   "execution_count": 17,
   "id": "bfec3eaf",
   "metadata": {},
   "outputs": [
    {
     "data": {
      "text/plain": [
       "DecisionTreeClassifier(max_depth=10, min_samples_leaf=5, min_samples_split=4,\n",
       "                       random_state=25)"
      ]
     },
     "execution_count": 17,
     "metadata": {},
     "output_type": "execute_result"
    }
   ],
   "source": [
    "clf = DecisionTreeClassifier(criterion=\"gini\", min_samples_split=4, min_samples_leaf=5,\n",
    "            max_depth=10, random_state=25)\n",
    "\n",
    "#Train the model\n",
    "clf.fit(x_train_scaled,y_train)"
   ]
  },
  {
   "cell_type": "code",
   "execution_count": 18,
   "id": "8d459c4a",
   "metadata": {},
   "outputs": [
    {
     "name": "stdout",
     "output_type": "stream",
     "text": [
      "100.00%\n"
     ]
    }
   ],
   "source": [
    "y_pred = clf.predict(x_test_scaled)\n",
    "\n",
    "#Check the performance metrics\n",
    "print(\"{:.2%}\".format(metrics.accuracy_score(y_test,y_pred)))"
   ]
  },
  {
   "cell_type": "code",
   "execution_count": 19,
   "id": "02929830",
   "metadata": {},
   "outputs": [
    {
     "name": "stdout",
     "output_type": "stream",
     "text": [
      "Classification report for classifier DecisionTreeClassifier(max_depth=10, min_samples_leaf=5, min_samples_split=4,\n",
      "                       random_state=25):\n",
      "              precision    recall  f1-score   support\n",
      "\n",
      "           0       1.00      1.00      1.00       189\n",
      "           1       1.00      1.00      1.00        61\n",
      "\n",
      "    accuracy                           1.00       250\n",
      "   macro avg       1.00      1.00      1.00       250\n",
      "weighted avg       1.00      1.00      1.00       250\n",
      "\n",
      "\n"
     ]
    }
   ],
   "source": [
    "print(\"Classification report for classifier %s:\\n%s\\n\"\n",
    "      % (clf, metrics.classification_report(y_test, y_pred)))"
   ]
  },
  {
   "cell_type": "code",
   "execution_count": 20,
   "id": "f5b90c18",
   "metadata": {},
   "outputs": [
    {
     "name": "stdout",
     "output_type": "stream",
     "text": [
      "Confusion Matrix: \n",
      "[[189   0]\n",
      " [  0  61]]\n"
     ]
    }
   ],
   "source": [
    "print(\"Confusion Matrix: \\n%s\" % metrics.confusion_matrix(y_test,y_pred))"
   ]
  },
  {
   "cell_type": "code",
   "execution_count": 21,
   "id": "bfb74f40",
   "metadata": {},
   "outputs": [
    {
     "data": {
      "text/html": [
       "<div>\n",
       "<style scoped>\n",
       "    .dataframe tbody tr th:only-of-type {\n",
       "        vertical-align: middle;\n",
       "    }\n",
       "\n",
       "    .dataframe tbody tr th {\n",
       "        vertical-align: top;\n",
       "    }\n",
       "\n",
       "    .dataframe thead th {\n",
       "        text-align: right;\n",
       "    }\n",
       "</style>\n",
       "<table border=\"1\" class=\"dataframe\">\n",
       "  <thead>\n",
       "    <tr style=\"text-align: right;\">\n",
       "      <th></th>\n",
       "      <th>0</th>\n",
       "      <th>1</th>\n",
       "    </tr>\n",
       "  </thead>\n",
       "  <tbody>\n",
       "    <tr>\n",
       "      <th>0</th>\n",
       "      <td>189</td>\n",
       "      <td>0</td>\n",
       "    </tr>\n",
       "    <tr>\n",
       "      <th>1</th>\n",
       "      <td>0</td>\n",
       "      <td>61</td>\n",
       "    </tr>\n",
       "  </tbody>\n",
       "</table>\n",
       "</div>"
      ],
      "text/plain": [
       "     0   1\n",
       "0  189   0\n",
       "1    0  61"
      ]
     },
     "execution_count": 21,
     "metadata": {},
     "output_type": "execute_result"
    }
   ],
   "source": [
    "#Encode Confusion Matrix into a DataFrame\n",
    "\n",
    "#Set Labels\n",
    "labels = list(y_test.unique())\n",
    "\n",
    "#Get confusion matrix\n",
    "cm = metrics.confusion_matrix(y_test, y_pred)\n",
    "\n",
    "#Convert to DataFrame\n",
    "cm_df = pd.DataFrame(cm,index=labels, columns=labels)\n",
    "\n",
    "cm_df"
   ]
  },
  {
   "cell_type": "markdown",
   "id": "f00b5ee6",
   "metadata": {},
   "source": [
    "### Feature Importance"
   ]
  },
  {
   "cell_type": "code",
   "execution_count": 22,
   "id": "87a9b956",
   "metadata": {
    "collapsed": true
   },
   "outputs": [
    {
     "data": {
      "text/html": [
       "<div>\n",
       "<style scoped>\n",
       "    .dataframe tbody tr th:only-of-type {\n",
       "        vertical-align: middle;\n",
       "    }\n",
       "\n",
       "    .dataframe tbody tr th {\n",
       "        vertical-align: top;\n",
       "    }\n",
       "\n",
       "    .dataframe thead th {\n",
       "        text-align: right;\n",
       "    }\n",
       "</style>\n",
       "<table border=\"1\" class=\"dataframe\">\n",
       "  <thead>\n",
       "    <tr style=\"text-align: right;\">\n",
       "      <th></th>\n",
       "      <th>Importance</th>\n",
       "    </tr>\n",
       "  </thead>\n",
       "  <tbody>\n",
       "    <tr>\n",
       "      <th>fraud_reported_N</th>\n",
       "      <td>1.00</td>\n",
       "    </tr>\n",
       "    <tr>\n",
       "      <th>incident_hour_of_the_day</th>\n",
       "      <td>0.00</td>\n",
       "    </tr>\n",
       "    <tr>\n",
       "      <th>property_damage_YES</th>\n",
       "      <td>0.00</td>\n",
       "    </tr>\n",
       "    <tr>\n",
       "      <th>collision_type_Rear Collision</th>\n",
       "      <td>0.00</td>\n",
       "    </tr>\n",
       "    <tr>\n",
       "      <th>collision_type_Front Collision</th>\n",
       "      <td>0.00</td>\n",
       "    </tr>\n",
       "    <tr>\n",
       "      <th>collision_type_?</th>\n",
       "      <td>0.00</td>\n",
       "    </tr>\n",
       "    <tr>\n",
       "      <th>incident_severity_Trivial Damage</th>\n",
       "      <td>0.00</td>\n",
       "    </tr>\n",
       "    <tr>\n",
       "      <th>incident_severity_Total Loss</th>\n",
       "      <td>0.00</td>\n",
       "    </tr>\n",
       "    <tr>\n",
       "      <th>incident_severity_Minor Damage</th>\n",
       "      <td>0.00</td>\n",
       "    </tr>\n",
       "    <tr>\n",
       "      <th>incident_severity_Major Damage</th>\n",
       "      <td>0.00</td>\n",
       "    </tr>\n",
       "    <tr>\n",
       "      <th>authorities_contacted_Police</th>\n",
       "      <td>0.00</td>\n",
       "    </tr>\n",
       "    <tr>\n",
       "      <th>authorities_contacted_Other</th>\n",
       "      <td>0.00</td>\n",
       "    </tr>\n",
       "    <tr>\n",
       "      <th>authorities_contacted_None</th>\n",
       "      <td>0.00</td>\n",
       "    </tr>\n",
       "    <tr>\n",
       "      <th>authorities_contacted_Fire</th>\n",
       "      <td>0.00</td>\n",
       "    </tr>\n",
       "    <tr>\n",
       "      <th>authorities_contacted_Ambulance</th>\n",
       "      <td>0.00</td>\n",
       "    </tr>\n",
       "    <tr>\n",
       "      <th>property_damage_NO</th>\n",
       "      <td>0.00</td>\n",
       "    </tr>\n",
       "    <tr>\n",
       "      <th>number_of_vehicles_involved</th>\n",
       "      <td>0.00</td>\n",
       "    </tr>\n",
       "    <tr>\n",
       "      <th>property_damage_?</th>\n",
       "      <td>0.00</td>\n",
       "    </tr>\n",
       "    <tr>\n",
       "      <th>police_report_available_YES</th>\n",
       "      <td>0.00</td>\n",
       "    </tr>\n",
       "    <tr>\n",
       "      <th>police_report_available_NO</th>\n",
       "      <td>0.00</td>\n",
       "    </tr>\n",
       "    <tr>\n",
       "      <th>police_report_available_?</th>\n",
       "      <td>0.00</td>\n",
       "    </tr>\n",
       "    <tr>\n",
       "      <th>auto_year</th>\n",
       "      <td>0.00</td>\n",
       "    </tr>\n",
       "    <tr>\n",
       "      <th>vehicle_claim</th>\n",
       "      <td>0.00</td>\n",
       "    </tr>\n",
       "    <tr>\n",
       "      <th>property_claim</th>\n",
       "      <td>0.00</td>\n",
       "    </tr>\n",
       "    <tr>\n",
       "      <th>injury_claim</th>\n",
       "      <td>0.00</td>\n",
       "    </tr>\n",
       "    <tr>\n",
       "      <th>total_claim_amount</th>\n",
       "      <td>0.00</td>\n",
       "    </tr>\n",
       "    <tr>\n",
       "      <th>witnesses</th>\n",
       "      <td>0.00</td>\n",
       "    </tr>\n",
       "    <tr>\n",
       "      <th>bodily_injuries</th>\n",
       "      <td>0.00</td>\n",
       "    </tr>\n",
       "    <tr>\n",
       "      <th>collision_type_Side Collision</th>\n",
       "      <td>0.00</td>\n",
       "    </tr>\n",
       "  </tbody>\n",
       "</table>\n",
       "</div>"
      ],
      "text/plain": [
       "                                  Importance\n",
       "fraud_reported_N                        1.00\n",
       "incident_hour_of_the_day                0.00\n",
       "property_damage_YES                     0.00\n",
       "collision_type_Rear Collision           0.00\n",
       "collision_type_Front Collision          0.00\n",
       "collision_type_?                        0.00\n",
       "incident_severity_Trivial Damage        0.00\n",
       "incident_severity_Total Loss            0.00\n",
       "incident_severity_Minor Damage          0.00\n",
       "incident_severity_Major Damage          0.00\n",
       "authorities_contacted_Police            0.00\n",
       "authorities_contacted_Other             0.00\n",
       "authorities_contacted_None              0.00\n",
       "authorities_contacted_Fire              0.00\n",
       "authorities_contacted_Ambulance         0.00\n",
       "property_damage_NO                      0.00\n",
       "number_of_vehicles_involved             0.00\n",
       "property_damage_?                       0.00\n",
       "police_report_available_YES             0.00\n",
       "police_report_available_NO              0.00\n",
       "police_report_available_?               0.00\n",
       "auto_year                               0.00\n",
       "vehicle_claim                           0.00\n",
       "property_claim                          0.00\n",
       "injury_claim                            0.00\n",
       "total_claim_amount                      0.00\n",
       "witnesses                               0.00\n",
       "bodily_injuries                         0.00\n",
       "collision_type_Side Collision           0.00"
      ]
     },
     "execution_count": 22,
     "metadata": {},
     "output_type": "execute_result"
    }
   ],
   "source": [
    "#Extract the feature importance\n",
    "f_importance = clf.feature_importances_\n",
    "\n",
    "#Put into a DataFrame along with Feature Names for easier understanding.\n",
    "f_list = x_train.columns\n",
    "df_feature_importance = pd.DataFrame(f_importance, index=f_list, columns=[\"Importance\"])\n",
    "\n",
    "#Sort the values in Descending order (Most Important -> Least Important)\n",
    "df_feature_importance.sort_values([\"Importance\"],ascending=False)"
   ]
  },
  {
   "cell_type": "code",
   "execution_count": 23,
   "id": "882d08a1",
   "metadata": {
    "scrolled": false
   },
   "outputs": [
    {
     "data": {
      "text/plain": [
       "<AxesSubplot:>"
      ]
     },
     "execution_count": 23,
     "metadata": {},
     "output_type": "execute_result"
    },
    {
     "data": {
      "image/png": "[encoded data removed]",
      "text/plain": [
       "<Figure size 2000x1200 with 1 Axes>"
      ]
     },
     "metadata": {},
     "output_type": "display_data"
    }
   ],
   "source": [
    "df_feature_importance_asc = df_feature_importance.sort_values([\"Importance\"], ascending = True)[-10:]\n",
    "\n",
    "#Horizontal Bar Plot\n",
    "df_feature_importance_asc.plot(kind='barh', figsize=(20,12))"
   ]
  },
  {
   "cell_type": "code",
   "execution_count": 24,
   "id": "093d8a2b",
   "metadata": {},
   "outputs": [
    {
     "data": {
      "text/plain": [
       "['0', '1']"
      ]
     },
     "execution_count": 24,
     "metadata": {},
     "output_type": "execute_result"
    }
   ],
   "source": [
    "feature_col = list(x_train.columns)\n",
    "\n",
    "#Get classes\n",
    "classes = clf.classes_\n",
    "\n",
    "#Convert to String if number\n",
    "classes = [\"%s\" % clas for clas in classes]\n",
    "\n",
    "classes"
   ]
  },
  {
   "cell_type": "markdown",
   "id": "48223536",
   "metadata": {},
   "source": [
    "### Visualize Decision Tree"
   ]
  },
  {
   "cell_type": "code",
   "execution_count": 25,
   "id": "02ccf76c",
   "metadata": {},
   "outputs": [
    {
     "data": {
      "image/png": "[encoded data removed]",
      "text/plain": [
       "<Figure size 1200x1200 with 1 Axes>"
      ]
     },
     "metadata": {},
     "output_type": "display_data"
    }
   ],
   "source": [
    "# set plot size (denoted in inches)\n",
    "plt.figure(figsize=(12,12))  \n",
    "\n",
    "#Use the plot tree function\n",
    "plot_tree(clf, class_names=classes, feature_names=feature_col, fontsize=8, max_depth=3)\n",
    "\n",
    "#Show the Plot\n",
    "plt.show()"
   ]
  },
  {
   "cell_type": "markdown",
   "id": "b9bf344b",
   "metadata": {},
   "source": [
    "### Cross Validation"
   ]
  },
  {
   "cell_type": "code",
   "execution_count": 27,
   "id": "153e9687",
   "metadata": {},
   "outputs": [],
   "source": [
    "#Import the Cross Validation Score function\n",
    "from sklearn.model_selection import cross_val_score\n",
    "from sklearn.model_selection import cross_validate"
   ]
  },
  {
   "cell_type": "code",
   "execution_count": 28,
   "id": "07efa501",
   "metadata": {},
   "outputs": [
    {
     "name": "stdout",
     "output_type": "stream",
     "text": [
      "[1. 1. 1. 1. 1.]\n"
     ]
    }
   ],
   "source": [
    "# Create a pipeline to add scaling to the original dataframe \n",
    "#(we want to scale based on the train partitions on every fold)\n",
    "\n",
    "from sklearn.pipeline import make_pipeline\n",
    "\n",
    "clf = DecisionTreeClassifier(criterion=\"entropy\", min_samples_split=4, min_samples_leaf=5,\n",
    "            max_depth=10, random_state=25)\n",
    "\n",
    "model = make_pipeline(StandardScaler(), clf)\n",
    "\n",
    "cv_results = cross_val_score(model, x_train, y_train, cv=5)\n",
    "\n",
    "print(cv_results)"
   ]
  },
  {
   "cell_type": "code",
   "execution_count": 29,
   "id": "05375e22",
   "metadata": {},
   "outputs": [
    {
     "name": "stdout",
     "output_type": "stream",
     "text": [
      "Accuracy: 100.00%\n"
     ]
    }
   ],
   "source": [
    "#Get the Mean to get the average accuracy \n",
    "print(\"Accuracy: {:.2%}\".format(np.mean(cv_results)))"
   ]
  },
  {
   "cell_type": "code",
   "execution_count": 30,
   "id": "e7308ad2",
   "metadata": {},
   "outputs": [
    {
     "name": "stdout",
     "output_type": "stream",
     "text": [
      "{'fit_time': array([0.00999784, 0.01100039, 0.0069983 , 0.00700021, 0.        ]), 'score_time': array([0.08199906, 0.01102495, 0.00900149, 0.0020752 , 0.01562738]), 'test_accuracy': array([1., 1., 1., 1., 1.]), 'test_f1_weighted': array([1., 1., 1., 1., 1.]), 'test_roc_auc': array([1., 1., 1., 1., 1.])}\n"
     ]
    }
   ],
   "source": [
    "cv_results = cross_validate(model, x_train, y_train,  scoring = ['accuracy', 'f1_weighted','roc_auc'], cv=5)\n",
    "print (cv_results)"
   ]
  },
  {
   "cell_type": "code",
   "execution_count": 31,
   "id": "c58e2c8e",
   "metadata": {},
   "outputs": [
    {
     "name": "stdout",
     "output_type": "stream",
     "text": [
      "   fit_time  score_time  test_accuracy  test_f1_weighted  test_roc_auc\n",
      "0      0.01        0.08           1.00              1.00          1.00\n",
      "1      0.01        0.01           1.00              1.00          1.00\n",
      "2      0.01        0.01           1.00              1.00          1.00\n",
      "3      0.01        0.00           1.00              1.00          1.00\n",
      "4      0.00        0.02           1.00              1.00          1.00\n",
      "Averages \n",
      "Accuracy: 100.000000%, f1: 100.000000%, roc_auc: 100.000000%\n"
     ]
    }
   ],
   "source": [
    "df_scores = pd.DataFrame(cv_results)\n",
    "\n",
    "print (df_scores)\n",
    "print('Averages \\nAccuracy: {:2%}, f1: {:2%}, roc_auc: {:2%}'.format(np.mean(df_scores.test_accuracy),np.mean(df_scores.test_f1_weighted),np.mean(df_scores.test_roc_auc)))"
   ]
  },
  {
   "cell_type": "code",
   "execution_count": 32,
   "id": "3e71dad8",
   "metadata": {},
   "outputs": [
    {
     "name": "stdout",
     "output_type": "stream",
     "text": [
      "   fit_time  score_time  test_accuracy  test_f1_weighted  test_roc_auc\n",
      "0      0.01        0.01           1.00              1.00          1.00\n",
      "1      0.01        0.01           1.00              1.00          1.00\n",
      "2      0.01        0.01           1.00              1.00          1.00\n",
      "3      0.01        0.02           1.00              1.00          1.00\n",
      "4      0.01        0.01           1.00              1.00          1.00\n",
      "Averages \n",
      "Accuracy: 100.000000%, f1: 100.000000%, roc_auc: 100.000000%\n"
     ]
    }
   ],
   "source": [
    "clf = DecisionTreeClassifier(criterion=\"gini\", max_depth=20, random_state=25)\n",
    "model = make_pipeline(StandardScaler(), clf )\n",
    "\n",
    "\n",
    "cv_results = cross_validate(model, x_train, y_train,  scoring = ['accuracy', 'f1_weighted','roc_auc'], cv=5)\n",
    "df_scores = pd.DataFrame(cv_results)\n",
    "df_scores\n",
    "print (df_scores)\n",
    "print('Averages \\nAccuracy: {:2%}, f1: {:2%}, roc_auc: {:2%}'.format(np.mean(df_scores.test_accuracy),np.mean(df_scores.test_f1_weighted),np.mean(df_scores.test_roc_auc)))"
   ]
  },
  {
   "cell_type": "markdown",
   "id": "c6eef73f",
   "metadata": {},
   "source": [
    "### Build a Model - Best Parameter"
   ]
  },
  {
   "cell_type": "code",
   "execution_count": 33,
   "id": "33b4c26d",
   "metadata": {},
   "outputs": [
    {
     "name": "stdout",
     "output_type": "stream",
     "text": [
      "Classification report for classifier DecisionTreeClassifier(max_depth=10, min_samples_leaf=5, min_samples_split=4,\n",
      "                       random_state=25):\n",
      "              precision    recall  f1-score   support\n",
      "\n",
      "           0       1.00      1.00      1.00       189\n",
      "           1       1.00      1.00      1.00        61\n",
      "\n",
      "    accuracy                           1.00       250\n",
      "   macro avg       1.00      1.00      1.00       250\n",
      "weighted avg       1.00      1.00      1.00       250\n",
      "\n",
      "\n"
     ]
    }
   ],
   "source": [
    "clf = DecisionTreeClassifier(criterion=\"gini\", min_samples_split=4, min_samples_leaf=5,\n",
    "            max_depth=10, random_state=25)\n",
    "model = make_pipeline(StandardScaler(), clf )\n",
    "\n",
    "clf.fit(x_train_scaled, y_train)\n",
    "\n",
    "y_pred = clf.predict(x_test_scaled)\n",
    "\n",
    "print(\"Classification report for classifier %s:\\n%s\\n\"\n",
    "      % (clf, metrics.classification_report(y_test, y_pred)))"
   ]
  },
  {
   "cell_type": "code",
   "execution_count": null,
   "id": "0ef7b4aa",
   "metadata": {},
   "outputs": [],
   "source": []
  }
 ],
 "metadata": {
  "kernelspec": {
   "display_name": "Python 3 (ipykernel)",
   "language": "python",
   "name": "python3"
  },
  "language_info": {
   "codemirror_mode": {
    "name": "ipython",
    "version": 3
   },
   "file_extension": ".py",
   "mimetype": "text/x-python",
   "name": "python",
   "nbconvert_exporter": "python",
   "pygments_lexer": "ipython3",
   "version": "3.9.13"
  }
 },
 "nbformat": 4,
 "nbformat_minor": 5
}
