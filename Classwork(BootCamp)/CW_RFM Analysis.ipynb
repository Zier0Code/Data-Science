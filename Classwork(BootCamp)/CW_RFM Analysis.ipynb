{
 "cells": [
  {
   "cell_type": "code",
   "execution_count": 9,
   "id": "cc474344",
   "metadata": {},
   "outputs": [],
   "source": [
    "import pandas as pd"
   ]
  },
  {
   "cell_type": "code",
   "execution_count": 26,
   "id": "87637332",
   "metadata": {
    "scrolled": true
   },
   "outputs": [
    {
     "data": {
      "text/html": [
       "<div>\n",
       "<style scoped>\n",
       "    .dataframe tbody tr th:only-of-type {\n",
       "        vertical-align: middle;\n",
       "    }\n",
       "\n",
       "    .dataframe tbody tr th {\n",
       "        vertical-align: top;\n",
       "    }\n",
       "\n",
       "    .dataframe thead th {\n",
       "        text-align: right;\n",
       "    }\n",
       "</style>\n",
       "<table border=\"1\" class=\"dataframe\">\n",
       "  <thead>\n",
       "    <tr style=\"text-align: right;\">\n",
       "      <th></th>\n",
       "      <th>InvoiceNo</th>\n",
       "      <th>StockCode</th>\n",
       "      <th>Description</th>\n",
       "      <th>Quantity</th>\n",
       "      <th>InvoiceDate</th>\n",
       "      <th>UnitPrice</th>\n",
       "      <th>CustomerID</th>\n",
       "      <th>Country</th>\n",
       "    </tr>\n",
       "  </thead>\n",
       "  <tbody>\n",
       "    <tr>\n",
       "      <th>0</th>\n",
       "      <td>536365</td>\n",
       "      <td>85123A</td>\n",
       "      <td>WHITE HANGING HEART T-LIGHT HOLDER</td>\n",
       "      <td>6.0</td>\n",
       "      <td>12/01/2010 8:26</td>\n",
       "      <td>2.55</td>\n",
       "      <td>17850.0</td>\n",
       "      <td>United Kingdom</td>\n",
       "    </tr>\n",
       "    <tr>\n",
       "      <th>1</th>\n",
       "      <td>536365</td>\n",
       "      <td>71053</td>\n",
       "      <td>WHITE METAL LANTERN</td>\n",
       "      <td>6.0</td>\n",
       "      <td>12/01/2010 8:26</td>\n",
       "      <td>3.39</td>\n",
       "      <td>17850.0</td>\n",
       "      <td>United Kingdom</td>\n",
       "    </tr>\n",
       "    <tr>\n",
       "      <th>2</th>\n",
       "      <td>536365</td>\n",
       "      <td>84406B</td>\n",
       "      <td>CREAM CUPID HEARTS COAT HANGER</td>\n",
       "      <td>8.0</td>\n",
       "      <td>12/01/2010 8:26</td>\n",
       "      <td>2.75</td>\n",
       "      <td>17850.0</td>\n",
       "      <td>United Kingdom</td>\n",
       "    </tr>\n",
       "    <tr>\n",
       "      <th>3</th>\n",
       "      <td>536365</td>\n",
       "      <td>84029G</td>\n",
       "      <td>KNITTED UNION FLAG HOT WATER BOTTLE</td>\n",
       "      <td>6.0</td>\n",
       "      <td>12/01/2010 8:26</td>\n",
       "      <td>3.39</td>\n",
       "      <td>17850.0</td>\n",
       "      <td>United Kingdom</td>\n",
       "    </tr>\n",
       "    <tr>\n",
       "      <th>4</th>\n",
       "      <td>536365</td>\n",
       "      <td>84029E</td>\n",
       "      <td>RED WOOLLY HOTTIE WHITE HEART.</td>\n",
       "      <td>6.0</td>\n",
       "      <td>12/01/2010 8:26</td>\n",
       "      <td>3.39</td>\n",
       "      <td>17850.0</td>\n",
       "      <td>United Kingdom</td>\n",
       "    </tr>\n",
       "    <tr>\n",
       "      <th>...</th>\n",
       "      <td>...</td>\n",
       "      <td>...</td>\n",
       "      <td>...</td>\n",
       "      <td>...</td>\n",
       "      <td>...</td>\n",
       "      <td>...</td>\n",
       "      <td>...</td>\n",
       "      <td>...</td>\n",
       "    </tr>\n",
       "    <tr>\n",
       "      <th>6131</th>\n",
       "      <td>536876</td>\n",
       "      <td>85169C</td>\n",
       "      <td>EAU DE NIL LOVE BIRD CANDLE</td>\n",
       "      <td>1.0</td>\n",
       "      <td>12/03/2010 11:36</td>\n",
       "      <td>2.51</td>\n",
       "      <td>NaN</td>\n",
       "      <td>United Kingdom</td>\n",
       "    </tr>\n",
       "    <tr>\n",
       "      <th>6132</th>\n",
       "      <td>536876</td>\n",
       "      <td>85169D</td>\n",
       "      <td>PINK LOVE BIRD CANDLE</td>\n",
       "      <td>1.0</td>\n",
       "      <td>12/03/2010 11:36</td>\n",
       "      <td>2.51</td>\n",
       "      <td>NaN</td>\n",
       "      <td>United Kingdom</td>\n",
       "    </tr>\n",
       "    <tr>\n",
       "      <th>6133</th>\n",
       "      <td>536876</td>\n",
       "      <td>85174</td>\n",
       "      <td>S/4 CACTI CANDLES</td>\n",
       "      <td>1.0</td>\n",
       "      <td>12/03/2010 11:36</td>\n",
       "      <td>11.02</td>\n",
       "      <td>NaN</td>\n",
       "      <td>United Kingdom</td>\n",
       "    </tr>\n",
       "    <tr>\n",
       "      <th>6134</th>\n",
       "      <td>536876</td>\n",
       "      <td>85176</td>\n",
       "      <td>SEWING SUSAN 21 NEEDLE SET</td>\n",
       "      <td>2.0</td>\n",
       "      <td>12/03/2010 11:36</td>\n",
       "      <td>1.66</td>\n",
       "      <td>NaN</td>\n",
       "      <td>United Kingdom</td>\n",
       "    </tr>\n",
       "    <tr>\n",
       "      <th>6135</th>\n",
       "      <td>536876</td>\n",
       "      <td>85186A</td>\n",
       "      <td>EASTER BUNNY GARLAND OF FLOWERS</td>\n",
       "      <td>1.0</td>\n",
       "      <td>12/03/2010 11:36</td>\n",
       "      <td>0.85</td>\n",
       "      <td>NaN</td>\n",
       "      <td>Unite</td>\n",
       "    </tr>\n",
       "  </tbody>\n",
       "</table>\n",
       "<p>6136 rows × 8 columns</p>\n",
       "</div>"
      ],
      "text/plain": [
       "     InvoiceNo StockCode                          Description  Quantity  \\\n",
       "0       536365    85123A   WHITE HANGING HEART T-LIGHT HOLDER       6.0   \n",
       "1       536365     71053                  WHITE METAL LANTERN       6.0   \n",
       "2       536365    84406B       CREAM CUPID HEARTS COAT HANGER       8.0   \n",
       "3       536365    84029G  KNITTED UNION FLAG HOT WATER BOTTLE       6.0   \n",
       "4       536365    84029E       RED WOOLLY HOTTIE WHITE HEART.       6.0   \n",
       "...        ...       ...                                  ...       ...   \n",
       "6131    536876    85169C          EAU DE NIL LOVE BIRD CANDLE       1.0   \n",
       "6132    536876    85169D                PINK LOVE BIRD CANDLE       1.0   \n",
       "6133    536876     85174                    S/4 CACTI CANDLES       1.0   \n",
       "6134    536876     85176           SEWING SUSAN 21 NEEDLE SET       2.0   \n",
       "6135    536876    85186A      EASTER BUNNY GARLAND OF FLOWERS       1.0   \n",
       "\n",
       "           InvoiceDate  UnitPrice  CustomerID         Country  \n",
       "0      12/01/2010 8:26       2.55     17850.0  United Kingdom  \n",
       "1      12/01/2010 8:26       3.39     17850.0  United Kingdom  \n",
       "2      12/01/2010 8:26       2.75     17850.0  United Kingdom  \n",
       "3      12/01/2010 8:26       3.39     17850.0  United Kingdom  \n",
       "4      12/01/2010 8:26       3.39     17850.0  United Kingdom  \n",
       "...                ...        ...         ...             ...  \n",
       "6131  12/03/2010 11:36       2.51         NaN  United Kingdom  \n",
       "6132  12/03/2010 11:36       2.51         NaN  United Kingdom  \n",
       "6133  12/03/2010 11:36      11.02         NaN  United Kingdom  \n",
       "6134  12/03/2010 11:36       1.66         NaN  United Kingdom  \n",
       "6135  12/03/2010 11:36       0.85         NaN           Unite  \n",
       "\n",
       "[6136 rows x 8 columns]"
      ]
     },
     "execution_count": 26,
     "metadata": {},
     "output_type": "execute_result"
    }
   ],
   "source": [
    "pd.read_csv(\"C:\\\\Users\\\\Avila\\\\OneDrive\\\\Desktop\\\\data.txt\",\n",
    "           delimiter=\"\\t\")"
   ]
  },
  {
   "cell_type": "code",
   "execution_count": 94,
   "id": "4685eb36",
   "metadata": {},
   "outputs": [
    {
     "data": {
      "text/html": [
       "<div>\n",
       "<style scoped>\n",
       "    .dataframe tbody tr th:only-of-type {\n",
       "        vertical-align: middle;\n",
       "    }\n",
       "\n",
       "    .dataframe tbody tr th {\n",
       "        vertical-align: top;\n",
       "    }\n",
       "\n",
       "    .dataframe thead th {\n",
       "        text-align: right;\n",
       "    }\n",
       "</style>\n",
       "<table border=\"1\" class=\"dataframe\">\n",
       "  <thead>\n",
       "    <tr style=\"text-align: right;\">\n",
       "      <th></th>\n",
       "      <th>InvoiceNo</th>\n",
       "      <th>StockCode</th>\n",
       "      <th>Description</th>\n",
       "      <th>Quantity</th>\n",
       "      <th>InvoiceDate</th>\n",
       "      <th>UnitPrice</th>\n",
       "      <th>CustomerID</th>\n",
       "      <th>Country</th>\n",
       "    </tr>\n",
       "  </thead>\n",
       "  <tbody>\n",
       "    <tr>\n",
       "      <th>0</th>\n",
       "      <td>536365</td>\n",
       "      <td>85123A</td>\n",
       "      <td>WHITE HANGING HEART T-LIGHT HOLDER</td>\n",
       "      <td>6.0</td>\n",
       "      <td>12/01/2010 8:26</td>\n",
       "      <td>2.55</td>\n",
       "      <td>17850.0</td>\n",
       "      <td>United Kingdom</td>\n",
       "    </tr>\n",
       "    <tr>\n",
       "      <th>1</th>\n",
       "      <td>536365</td>\n",
       "      <td>71053</td>\n",
       "      <td>WHITE METAL LANTERN</td>\n",
       "      <td>6.0</td>\n",
       "      <td>12/01/2010 8:26</td>\n",
       "      <td>3.39</td>\n",
       "      <td>17850.0</td>\n",
       "      <td>United Kingdom</td>\n",
       "    </tr>\n",
       "    <tr>\n",
       "      <th>2</th>\n",
       "      <td>536365</td>\n",
       "      <td>84406B</td>\n",
       "      <td>CREAM CUPID HEARTS COAT HANGER</td>\n",
       "      <td>8.0</td>\n",
       "      <td>12/01/2010 8:26</td>\n",
       "      <td>2.75</td>\n",
       "      <td>17850.0</td>\n",
       "      <td>United Kingdom</td>\n",
       "    </tr>\n",
       "    <tr>\n",
       "      <th>3</th>\n",
       "      <td>536365</td>\n",
       "      <td>84029G</td>\n",
       "      <td>KNITTED UNION FLAG HOT WATER BOTTLE</td>\n",
       "      <td>6.0</td>\n",
       "      <td>12/01/2010 8:26</td>\n",
       "      <td>3.39</td>\n",
       "      <td>17850.0</td>\n",
       "      <td>United Kingdom</td>\n",
       "    </tr>\n",
       "    <tr>\n",
       "      <th>4</th>\n",
       "      <td>536365</td>\n",
       "      <td>84029E</td>\n",
       "      <td>RED WOOLLY HOTTIE WHITE HEART.</td>\n",
       "      <td>6.0</td>\n",
       "      <td>12/01/2010 8:26</td>\n",
       "      <td>3.39</td>\n",
       "      <td>17850.0</td>\n",
       "      <td>United Kingdom</td>\n",
       "    </tr>\n",
       "    <tr>\n",
       "      <th>...</th>\n",
       "      <td>...</td>\n",
       "      <td>...</td>\n",
       "      <td>...</td>\n",
       "      <td>...</td>\n",
       "      <td>...</td>\n",
       "      <td>...</td>\n",
       "      <td>...</td>\n",
       "      <td>...</td>\n",
       "    </tr>\n",
       "    <tr>\n",
       "      <th>5752</th>\n",
       "      <td>536874</td>\n",
       "      <td>85099B</td>\n",
       "      <td>JUMBO BAG RED RETROSPOT</td>\n",
       "      <td>3.0</td>\n",
       "      <td>12/03/2010 11:35</td>\n",
       "      <td>1.95</td>\n",
       "      <td>16891.0</td>\n",
       "      <td>United Kingdom</td>\n",
       "    </tr>\n",
       "    <tr>\n",
       "      <th>5753</th>\n",
       "      <td>536874</td>\n",
       "      <td>84625A</td>\n",
       "      <td>PINK NEW BAROQUECANDLESTICK CANDLE</td>\n",
       "      <td>2.0</td>\n",
       "      <td>12/03/2010 11:35</td>\n",
       "      <td>2.95</td>\n",
       "      <td>16891.0</td>\n",
       "      <td>United Kingdom</td>\n",
       "    </tr>\n",
       "    <tr>\n",
       "      <th>5754</th>\n",
       "      <td>536874</td>\n",
       "      <td>35001G</td>\n",
       "      <td>HAND OPEN SHAPE GOLD</td>\n",
       "      <td>1.0</td>\n",
       "      <td>12/03/2010 11:35</td>\n",
       "      <td>4.25</td>\n",
       "      <td>16891.0</td>\n",
       "      <td>United Kingdom</td>\n",
       "    </tr>\n",
       "    <tr>\n",
       "      <th>5755</th>\n",
       "      <td>536874</td>\n",
       "      <td>22374</td>\n",
       "      <td>AIRLINE BAG VINTAGE JET SET RED</td>\n",
       "      <td>1.0</td>\n",
       "      <td>12/03/2010 11:35</td>\n",
       "      <td>4.25</td>\n",
       "      <td>16891.0</td>\n",
       "      <td>United Kingdom</td>\n",
       "    </tr>\n",
       "    <tr>\n",
       "      <th>5756</th>\n",
       "      <td>536874</td>\n",
       "      <td>22810</td>\n",
       "      <td>SET OF 6 T-LIGHTS SNOWMEN</td>\n",
       "      <td>1.0</td>\n",
       "      <td>12/03/2010 11:35</td>\n",
       "      <td>2.95</td>\n",
       "      <td>16891.0</td>\n",
       "      <td>United Kingdom</td>\n",
       "    </tr>\n",
       "  </tbody>\n",
       "</table>\n",
       "<p>4282 rows × 8 columns</p>\n",
       "</div>"
      ],
      "text/plain": [
       "     InvoiceNo StockCode                          Description  Quantity  \\\n",
       "0       536365    85123A   WHITE HANGING HEART T-LIGHT HOLDER       6.0   \n",
       "1       536365     71053                  WHITE METAL LANTERN       6.0   \n",
       "2       536365    84406B       CREAM CUPID HEARTS COAT HANGER       8.0   \n",
       "3       536365    84029G  KNITTED UNION FLAG HOT WATER BOTTLE       6.0   \n",
       "4       536365    84029E       RED WOOLLY HOTTIE WHITE HEART.       6.0   \n",
       "...        ...       ...                                  ...       ...   \n",
       "5752    536874    85099B              JUMBO BAG RED RETROSPOT       3.0   \n",
       "5753    536874    84625A   PINK NEW BAROQUECANDLESTICK CANDLE       2.0   \n",
       "5754    536874    35001G                 HAND OPEN SHAPE GOLD       1.0   \n",
       "5755    536874     22374      AIRLINE BAG VINTAGE JET SET RED       1.0   \n",
       "5756    536874     22810            SET OF 6 T-LIGHTS SNOWMEN       1.0   \n",
       "\n",
       "           InvoiceDate  UnitPrice  CustomerID         Country  \n",
       "0      12/01/2010 8:26       2.55     17850.0  United Kingdom  \n",
       "1      12/01/2010 8:26       3.39     17850.0  United Kingdom  \n",
       "2      12/01/2010 8:26       2.75     17850.0  United Kingdom  \n",
       "3      12/01/2010 8:26       3.39     17850.0  United Kingdom  \n",
       "4      12/01/2010 8:26       3.39     17850.0  United Kingdom  \n",
       "...                ...        ...         ...             ...  \n",
       "5752  12/03/2010 11:35       1.95     16891.0  United Kingdom  \n",
       "5753  12/03/2010 11:35       2.95     16891.0  United Kingdom  \n",
       "5754  12/03/2010 11:35       4.25     16891.0  United Kingdom  \n",
       "5755  12/03/2010 11:35       4.25     16891.0  United Kingdom  \n",
       "5756  12/03/2010 11:35       2.95     16891.0  United Kingdom  \n",
       "\n",
       "[4282 rows x 8 columns]"
      ]
     },
     "execution_count": 94,
     "metadata": {},
     "output_type": "execute_result"
    }
   ],
   "source": [
    "df_rfm_raw = pd.read_csv(\"C:\\\\Users\\\\Avila\\\\OneDrive\\\\Desktop\\\\data.txt\",\n",
    "           delimiter=\"\\t\")\n",
    "df_rfm_raw.dropna(inplace=True)\n",
    "df_rfm_raw"
   ]
  },
  {
   "cell_type": "code",
   "execution_count": 98,
   "id": "aee8bc48",
   "metadata": {},
   "outputs": [],
   "source": [
    "df_rfm = df_rfm_raw"
   ]
  },
  {
   "cell_type": "code",
   "execution_count": 99,
   "id": "e07282e9",
   "metadata": {
    "scrolled": true
   },
   "outputs": [
    {
     "data": {
      "text/plain": [
       "0       536365\n",
       "1       536365\n",
       "2       536365\n",
       "3       536365\n",
       "4       536365\n",
       "         ...  \n",
       "5752    536874\n",
       "5753    536874\n",
       "5754    536874\n",
       "5755    536874\n",
       "5756    536874\n",
       "Name: InvoiceNo, Length: 4282, dtype: object"
      ]
     },
     "execution_count": 99,
     "metadata": {},
     "output_type": "execute_result"
    }
   ],
   "source": [
    "df_rfm['InvoiceNo']"
   ]
  },
  {
   "cell_type": "markdown",
   "id": "d34eb276",
   "metadata": {},
   "source": [
    "============================================================================================="
   ]
  },
  {
   "cell_type": "markdown",
   "id": "f9ffbcea",
   "metadata": {},
   "source": [
    "   ##### Who is the most recent Costumers?\n",
    "   \n",
    "       >>> The Data Below Shows that The \"United Kingdom\" is the Most Recent Customers."
   ]
  },
  {
   "cell_type": "markdown",
   "id": "a9685085",
   "metadata": {},
   "source": [
    "============================================================================================="
   ]
  },
  {
   "cell_type": "code",
   "execution_count": 39,
   "id": "9055438e",
   "metadata": {},
   "outputs": [
    {
     "data": {
      "text/plain": [
       "6086    United Kingdom\n",
       "6087    United Kingdom\n",
       "6088    United Kingdom\n",
       "6089    United Kingdom\n",
       "6090    United Kingdom\n",
       "6091    United Kingdom\n",
       "6092    United Kingdom\n",
       "6093    United Kingdom\n",
       "6094    United Kingdom\n",
       "6095    United Kingdom\n",
       "6096    United Kingdom\n",
       "6097    United Kingdom\n",
       "6098    United Kingdom\n",
       "6099    United Kingdom\n",
       "6100    United Kingdom\n",
       "6101    United Kingdom\n",
       "6102    United Kingdom\n",
       "6103    United Kingdom\n",
       "6104    United Kingdom\n",
       "6105    United Kingdom\n",
       "6106    United Kingdom\n",
       "6107    United Kingdom\n",
       "6108    United Kingdom\n",
       "6109    United Kingdom\n",
       "6110    United Kingdom\n",
       "6111    United Kingdom\n",
       "6112    United Kingdom\n",
       "6113    United Kingdom\n",
       "6114    United Kingdom\n",
       "6115    United Kingdom\n",
       "6116    United Kingdom\n",
       "6117    United Kingdom\n",
       "6118    United Kingdom\n",
       "6119    United Kingdom\n",
       "6120    United Kingdom\n",
       "6121    United Kingdom\n",
       "6122    United Kingdom\n",
       "6123    United Kingdom\n",
       "6124    United Kingdom\n",
       "6125    United Kingdom\n",
       "6126    United Kingdom\n",
       "6127    United Kingdom\n",
       "6128    United Kingdom\n",
       "6129    United Kingdom\n",
       "6130    United Kingdom\n",
       "6131    United Kingdom\n",
       "6132    United Kingdom\n",
       "6133    United Kingdom\n",
       "6134    United Kingdom\n",
       "6135             Unite\n",
       "Name: Country, dtype: object"
      ]
     },
     "execution_count": 39,
     "metadata": {},
     "output_type": "execute_result"
    }
   ],
   "source": [
    "df_rfm['Country'].tail(50)"
   ]
  },
  {
   "cell_type": "markdown",
   "id": "5d6fb390",
   "metadata": {},
   "source": [
    "============================================================================================="
   ]
  },
  {
   "cell_type": "markdown",
   "id": "7f7ae25d",
   "metadata": {},
   "source": [
    "#### Who are your most frequent buyers?\n",
    "    >>> The Data below shows that 'United Kingodm' was the Most Frequent Buyers."
   ]
  },
  {
   "cell_type": "markdown",
   "id": "71e8829d",
   "metadata": {},
   "source": [
    "============================================================================================="
   ]
  },
  {
   "cell_type": "code",
   "execution_count": 81,
   "id": "093fdbf5",
   "metadata": {},
   "outputs": [
    {
     "data": {
      "text/plain": [
       "607.49"
      ]
     },
     "execution_count": 81,
     "metadata": {},
     "output_type": "execute_result"
    }
   ],
   "source": [
    "df_rfm['UnitPrice'].max()"
   ]
  },
  {
   "cell_type": "code",
   "execution_count": 30,
   "id": "c5cf994b",
   "metadata": {
    "scrolled": false
   },
   "outputs": [
    {
     "data": {
      "text/plain": [
       "United Kingdom    5936\n",
       "Norway              73\n",
       "Germany             51\n",
       "France              27\n",
       "EIRE                24\n",
       "Australia           14\n",
       "Switzerland          6\n",
       "Netherlands          2\n",
       "United Kingd         1\n",
       "Unite                1\n",
       "Name: Country, dtype: int64"
      ]
     },
     "execution_count": 30,
     "metadata": {},
     "output_type": "execute_result"
    }
   ],
   "source": [
    "df_rfm['Country'].value_counts()"
   ]
  },
  {
   "cell_type": "code",
   "execution_count": 33,
   "id": "1ea0d1e6",
   "metadata": {
    "scrolled": true
   },
   "outputs": [
    {
     "data": {
      "text/plain": [
       "<AxesSubplot:>"
      ]
     },
     "execution_count": 33,
     "metadata": {},
     "output_type": "execute_result"
    },
    {
     "data": {
      "image/png": "[encoded data removed]",
      "text/plain": [
       "<Figure size 432x288 with 1 Axes>"
      ]
     },
     "metadata": {
      "needs_background": "light"
     },
     "output_type": "display_data"
    }
   ],
   "source": [
    "df_rfm['Country'].value_counts().sort_values().plot(kind='barh')"
   ]
  },
  {
   "cell_type": "markdown",
   "id": "ac4bdfe1",
   "metadata": {},
   "source": [
    "============================================================================================="
   ]
  },
  {
   "cell_type": "markdown",
   "id": "876ada5d",
   "metadata": {},
   "source": [
    "##### Who are the Highest Spending Customer?\n",
    "    >>> Below Data Shows that the 'United Kingdom' was the Highest Spending Customers."
   ]
  },
  {
   "cell_type": "markdown",
   "id": "c409f917",
   "metadata": {},
   "source": [
    "============================================================================================="
   ]
  },
  {
   "cell_type": "code",
   "execution_count": 80,
   "id": "eeac9d55",
   "metadata": {},
   "outputs": [
    {
     "data": {
      "text/html": [
       "<div>\n",
       "<style scoped>\n",
       "    .dataframe tbody tr th:only-of-type {\n",
       "        vertical-align: middle;\n",
       "    }\n",
       "\n",
       "    .dataframe tbody tr th {\n",
       "        vertical-align: top;\n",
       "    }\n",
       "\n",
       "    .dataframe thead th {\n",
       "        text-align: right;\n",
       "    }\n",
       "</style>\n",
       "<table border=\"1\" class=\"dataframe\">\n",
       "  <thead>\n",
       "    <tr style=\"text-align: right;\">\n",
       "      <th></th>\n",
       "      <th>Quantity</th>\n",
       "      <th>UnitPrice</th>\n",
       "    </tr>\n",
       "  </thead>\n",
       "  <tbody>\n",
       "    <tr>\n",
       "      <th>4946</th>\n",
       "      <td>2880.0</td>\n",
       "      <td>0.18</td>\n",
       "    </tr>\n",
       "    <tr>\n",
       "      <th>4851</th>\n",
       "      <td>1824.0</td>\n",
       "      <td>0.55</td>\n",
       "    </tr>\n",
       "    <tr>\n",
       "      <th>4947</th>\n",
       "      <td>1400.0</td>\n",
       "      <td>1.06</td>\n",
       "    </tr>\n",
       "    <tr>\n",
       "      <th>3918</th>\n",
       "      <td>600.0</td>\n",
       "      <td>0.29</td>\n",
       "    </tr>\n",
       "    <tr>\n",
       "      <th>730</th>\n",
       "      <td>600.0</td>\n",
       "      <td>0.24</td>\n",
       "    </tr>\n",
       "    <tr>\n",
       "      <th>...</th>\n",
       "      <td>...</td>\n",
       "      <td>...</td>\n",
       "    </tr>\n",
       "    <tr>\n",
       "      <th>4859</th>\n",
       "      <td>-144.0</td>\n",
       "      <td>0.72</td>\n",
       "    </tr>\n",
       "    <tr>\n",
       "      <th>4858</th>\n",
       "      <td>-192.0</td>\n",
       "      <td>2.10</td>\n",
       "    </tr>\n",
       "    <tr>\n",
       "      <th>4855</th>\n",
       "      <td>-192.0</td>\n",
       "      <td>0.72</td>\n",
       "    </tr>\n",
       "    <tr>\n",
       "      <th>4288</th>\n",
       "      <td>-9360.0</td>\n",
       "      <td>0.03</td>\n",
       "    </tr>\n",
       "    <tr>\n",
       "      <th>3080</th>\n",
       "      <td>NaN</td>\n",
       "      <td>NaN</td>\n",
       "    </tr>\n",
       "  </tbody>\n",
       "</table>\n",
       "<p>6136 rows × 2 columns</p>\n",
       "</div>"
      ],
      "text/plain": [
       "      Quantity  UnitPrice\n",
       "4946    2880.0       0.18\n",
       "4851    1824.0       0.55\n",
       "4947    1400.0       1.06\n",
       "3918     600.0       0.29\n",
       "730      600.0       0.24\n",
       "...        ...        ...\n",
       "4859    -144.0       0.72\n",
       "4858    -192.0       2.10\n",
       "4855    -192.0       0.72\n",
       "4288   -9360.0       0.03\n",
       "3080       NaN        NaN\n",
       "\n",
       "[6136 rows x 2 columns]"
      ]
     },
     "execution_count": 80,
     "metadata": {},
     "output_type": "execute_result"
    }
   ],
   "source": [
    "df_rfm.sort_values(by=['Quantity','UnitPrice'], ascending=False)\n",
    "df_rfm[['Quantity','UnitPrice']]"
   ]
  },
  {
   "cell_type": "code",
   "execution_count": 74,
   "id": "1fc4f6f1",
   "metadata": {},
   "outputs": [
    {
     "data": {
      "text/html": [
       "<div>\n",
       "<style scoped>\n",
       "    .dataframe tbody tr th:only-of-type {\n",
       "        vertical-align: middle;\n",
       "    }\n",
       "\n",
       "    .dataframe tbody tr th {\n",
       "        vertical-align: top;\n",
       "    }\n",
       "\n",
       "    .dataframe thead th {\n",
       "        text-align: right;\n",
       "    }\n",
       "</style>\n",
       "<table border=\"1\" class=\"dataframe\">\n",
       "  <thead>\n",
       "    <tr style=\"text-align: right;\">\n",
       "      <th></th>\n",
       "      <th>Country</th>\n",
       "      <th>UnitPrice</th>\n",
       "      <th>Quantity</th>\n",
       "    </tr>\n",
       "  </thead>\n",
       "  <tbody>\n",
       "    <tr>\n",
       "      <th>4946</th>\n",
       "      <td>United Kingdom</td>\n",
       "      <td>0.18</td>\n",
       "      <td>2880.0</td>\n",
       "    </tr>\n",
       "    <tr>\n",
       "      <th>4851</th>\n",
       "      <td>United Kingdom</td>\n",
       "      <td>0.55</td>\n",
       "      <td>1824.0</td>\n",
       "    </tr>\n",
       "    <tr>\n",
       "      <th>4947</th>\n",
       "      <td>United Kingdom</td>\n",
       "      <td>1.06</td>\n",
       "      <td>1400.0</td>\n",
       "    </tr>\n",
       "    <tr>\n",
       "      <th>3918</th>\n",
       "      <td>United Kingdom</td>\n",
       "      <td>0.29</td>\n",
       "      <td>600.0</td>\n",
       "    </tr>\n",
       "    <tr>\n",
       "      <th>730</th>\n",
       "      <td>United Kingdom</td>\n",
       "      <td>0.24</td>\n",
       "      <td>600.0</td>\n",
       "    </tr>\n",
       "    <tr>\n",
       "      <th>...</th>\n",
       "      <td>...</td>\n",
       "      <td>...</td>\n",
       "      <td>...</td>\n",
       "    </tr>\n",
       "    <tr>\n",
       "      <th>4859</th>\n",
       "      <td>United Kingdom</td>\n",
       "      <td>0.72</td>\n",
       "      <td>-144.0</td>\n",
       "    </tr>\n",
       "    <tr>\n",
       "      <th>4858</th>\n",
       "      <td>United Kingdom</td>\n",
       "      <td>2.10</td>\n",
       "      <td>-192.0</td>\n",
       "    </tr>\n",
       "    <tr>\n",
       "      <th>4855</th>\n",
       "      <td>United Kingdom</td>\n",
       "      <td>0.72</td>\n",
       "      <td>-192.0</td>\n",
       "    </tr>\n",
       "    <tr>\n",
       "      <th>4288</th>\n",
       "      <td>United Kingdom</td>\n",
       "      <td>0.03</td>\n",
       "      <td>-9360.0</td>\n",
       "    </tr>\n",
       "    <tr>\n",
       "      <th>3080</th>\n",
       "      <td>NaN</td>\n",
       "      <td>NaN</td>\n",
       "      <td>NaN</td>\n",
       "    </tr>\n",
       "  </tbody>\n",
       "</table>\n",
       "<p>6136 rows × 3 columns</p>\n",
       "</div>"
      ],
      "text/plain": [
       "             Country  UnitPrice  Quantity\n",
       "4946  United Kingdom       0.18    2880.0\n",
       "4851  United Kingdom       0.55    1824.0\n",
       "4947  United Kingdom       1.06    1400.0\n",
       "3918  United Kingdom       0.29     600.0\n",
       "730   United Kingdom       0.24     600.0\n",
       "...              ...        ...       ...\n",
       "4859  United Kingdom       0.72    -144.0\n",
       "4858  United Kingdom       2.10    -192.0\n",
       "4855  United Kingdom       0.72    -192.0\n",
       "4288  United Kingdom       0.03   -9360.0\n",
       "3080             NaN        NaN       NaN\n",
       "\n",
       "[6136 rows x 3 columns]"
      ]
     },
     "execution_count": 74,
     "metadata": {},
     "output_type": "execute_result"
    }
   ],
   "source": [
    "df_rfm[['Country','UnitPrice','Quantity']]"
   ]
  },
  {
   "cell_type": "code",
   "execution_count": 45,
   "id": "4af65918",
   "metadata": {},
   "outputs": [
    {
     "data": {
      "text/plain": [
       "United Kingdom    5936\n",
       "Norway              73\n",
       "Germany             51\n",
       "France              27\n",
       "EIRE                24\n",
       "Australia           14\n",
       "Switzerland          6\n",
       "Netherlands          2\n",
       "United Kingd         1\n",
       "Unite                1\n",
       "Name: Country, dtype: int64"
      ]
     },
     "execution_count": 45,
     "metadata": {},
     "output_type": "execute_result"
    }
   ],
   "source": [
    "df_rfm.Country.value_counts()"
   ]
  },
  {
   "cell_type": "markdown",
   "id": "6007505f",
   "metadata": {},
   "source": [
    "============================================================================================="
   ]
  },
  {
   "cell_type": "markdown",
   "id": "8bc0dbd1",
   "metadata": {},
   "source": [
    "##### Which country provides the highest sales?\n",
    "    >>> Below Data Shows that the \"United Kingdom\" Provides the Highest Sales among the Countries"
   ]
  },
  {
   "cell_type": "markdown",
   "id": "43302d62",
   "metadata": {},
   "source": [
    "============================================================================================="
   ]
  },
  {
   "cell_type": "code",
   "execution_count": 65,
   "id": "b7516ad7",
   "metadata": {
    "scrolled": true
   },
   "outputs": [
    {
     "data": {
      "text/plain": [
       "Country         UnitPrice  Quantity\n",
       "United Kingdom  1.25       12.0        154\n",
       "                2.51       1.0         137\n",
       "                4.21       1.0         133\n",
       "                1.25       1.0         129\n",
       "                0.85       1.0         127\n",
       "                                      ... \n",
       "                1.28       15.0          1\n",
       "                           11.0          1\n",
       "                           8.0           1\n",
       "                           7.0           1\n",
       "                607.49     1.0           1\n",
       "Length: 871, dtype: int64"
      ]
     },
     "execution_count": 65,
     "metadata": {},
     "output_type": "execute_result"
    }
   ],
   "source": [
    "df_rfm[['Country','UnitPrice','Quantity']].value_counts()"
   ]
  },
  {
   "cell_type": "code",
   "execution_count": 70,
   "id": "d0a7786a",
   "metadata": {},
   "outputs": [
    {
     "data": {
      "text/plain": [
       "Country         UnitPrice\n",
       "United Kingdom  1.25         493\n",
       "                0.85         419\n",
       "                2.95         379\n",
       "                1.65         342\n",
       "                2.10         305\n",
       "                            ... \n",
       "Switzerland     1.25           1\n",
       "Norway          7.95           1\n",
       "                6.75           1\n",
       "                3.95           1\n",
       "United Kingdom  607.49         1\n",
       "Length: 218, dtype: int64"
      ]
     },
     "execution_count": 70,
     "metadata": {},
     "output_type": "execute_result"
    }
   ],
   "source": [
    "df_rfm[['Country','UnitPrice']].value_counts()"
   ]
  },
  {
   "cell_type": "code",
   "execution_count": 63,
   "id": "401972e3",
   "metadata": {
    "scrolled": true
   },
   "outputs": [
    {
     "data": {
      "text/plain": [
       "<AxesSubplot:title={'center':'Highest Sales Country'}, xlabel='InvoiceDate', ylabel='UnitPrice'>"
      ]
     },
     "execution_count": 63,
     "metadata": {},
     "output_type": "execute_result"
    },
    {
     "data": {
      "image/png": "[encoded data removed]",
      "text/plain": [
       "<Figure size 432x288 with 1 Axes>"
      ]
     },
     "metadata": {
      "needs_background": "light"
     },
     "output_type": "display_data"
    }
   ],
   "source": [
    "df_rfm.pivot_table(index='InvoiceDate',columns=\"Country\",values='UnitPrice',aggfunc='sum').plot(\n",
    "    kind='line', xlabel='InvoiceDate', ylabel='UnitPrice', title='Highest Sales Country')"
   ]
  },
  {
   "cell_type": "markdown",
   "id": "3bcfb012",
   "metadata": {},
   "source": [
    "============================================================================================="
   ]
  },
  {
   "cell_type": "markdown",
   "id": "d04cd409",
   "metadata": {},
   "source": [
    "##### Who are considered as the lost customers?\n",
    "    >>> Base on the Data Below This shows that the Country \"Netherlands\" and \"Switzerland\" are considered as the lost customers."
   ]
  },
  {
   "cell_type": "markdown",
   "id": "620d682f",
   "metadata": {},
   "source": [
    "============================================================================================="
   ]
  },
  {
   "cell_type": "code",
   "execution_count": 104,
   "id": "f5064ec5",
   "metadata": {},
   "outputs": [
    {
     "data": {
      "text/plain": [
       "United Kingdom    4085\n",
       "Norway              73\n",
       "Germany             51\n",
       "France              27\n",
       "EIRE                24\n",
       "Australia           14\n",
       "Switzerland          6\n",
       "Netherlands          2\n",
       "Name: Country, dtype: int64"
      ]
     },
     "execution_count": 104,
     "metadata": {},
     "output_type": "execute_result"
    }
   ],
   "source": [
    "df_rfm['Country'].value_counts()"
   ]
  },
  {
   "cell_type": "code",
   "execution_count": 102,
   "id": "8813ae0d",
   "metadata": {},
   "outputs": [
    {
     "data": {
      "text/plain": [
       "<AxesSubplot:>"
      ]
     },
     "execution_count": 102,
     "metadata": {},
     "output_type": "execute_result"
    },
    {
     "data": {
      "image/png": "[encoded data removed]",
      "text/plain": [
       "<Figure size 432x288 with 1 Axes>"
      ]
     },
     "metadata": {
      "needs_background": "light"
     },
     "output_type": "display_data"
    }
   ],
   "source": [
    "df_rfm['Country'].value_counts().plot(kind='barh')"
   ]
  },
  {
   "cell_type": "markdown",
   "id": "e5c4cb08",
   "metadata": {},
   "source": [
    "============================================================================================="
   ]
  },
  {
   "cell_type": "markdown",
   "id": "1a5fe459",
   "metadata": {},
   "source": [
    "##### What items are the top sales? \n",
    "    >>> Given the Data Below the Items that gained a Top Sales are 'WHITE HANGING HEART T-LIGHT HOLDER', 'HAND WARMER UNION JACK' and 'RED WOOLLY HOTTIE WHITE HEART.'"
   ]
  },
  {
   "cell_type": "markdown",
   "id": "93f9f601",
   "metadata": {},
   "source": [
    "============================================================================================="
   ]
  },
  {
   "cell_type": "code",
   "execution_count": 106,
   "id": "67c7c37e",
   "metadata": {
    "scrolled": true
   },
   "outputs": [
    {
     "data": {
      "text/plain": [
       "WHITE HANGING HEART T-LIGHT HOLDER     37\n",
       "HAND WARMER UNION JACK                 35\n",
       "RED WOOLLY HOTTIE WHITE HEART.         28\n",
       "HAND WARMER SCOTTY DOG DESIGN          28\n",
       "JAM MAKING SET PRINTED                 28\n",
       "                                       ..\n",
       "CHARLIE & LOLA WASTEPAPER BIN FLORA     1\n",
       "ROCKING HORSE GREEN CHRISTMAS           1\n",
       "JINGLE BELLS TREE DECORATION            1\n",
       "SET OF 4 NAPKIN CHARMS 3 KEYS           1\n",
       "SET/20 STRAWBERRY PAPER NAPKINS         1\n",
       "Name: Description, Length: 1366, dtype: int64"
      ]
     },
     "execution_count": 106,
     "metadata": {},
     "output_type": "execute_result"
    }
   ],
   "source": [
    "df_rfm['Description'].value_counts()"
   ]
  },
  {
   "cell_type": "markdown",
   "id": "2d9f470f",
   "metadata": {},
   "source": [
    "============================================================================================="
   ]
  },
  {
   "cell_type": "markdown",
   "id": "ffba3f03",
   "metadata": {},
   "source": [
    "##### Other recommendations you've seen from the data"
   ]
  },
  {
   "cell_type": "markdown",
   "id": "b3a25ef2",
   "metadata": {},
   "source": [
    "============================================================================================="
   ]
  },
  {
   "cell_type": "code",
   "execution_count": null,
   "id": "062005f1",
   "metadata": {},
   "outputs": [],
   "source": []
  }
 ],
 "metadata": {
  "kernelspec": {
   "display_name": "Python 3 (ipykernel)",
   "language": "python",
   "name": "python3"
  },
  "language_info": {
   "codemirror_mode": {
    "name": "ipython",
    "version": 3
   },
   "file_extension": ".py",
   "mimetype": "text/x-python",
   "name": "python",
   "nbconvert_exporter": "python",
   "pygments_lexer": "ipython3",
   "version": "3.9.12"
  }
 },
 "nbformat": 4,
 "nbformat_minor": 5
}
