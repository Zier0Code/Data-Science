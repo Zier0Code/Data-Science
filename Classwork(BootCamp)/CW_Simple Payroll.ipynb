{
 "cells": [
  {
   "cell_type": "code",
   "execution_count": 8,
   "id": "b5af52c1",
   "metadata": {},
   "outputs": [],
   "source": [
    "def full_name(x, y):\n",
    "    return 'Your full name is '+last_name+' '+first_name+'.'\n",
    "\n",
    "def today_salary(x, y):\n",
    "    salary = float(rate_per_hour)*float(hour_rendered)\n",
    "    return 'Your salary today is '+str(salary)+'. '\n"
   ]
  },
  {
   "cell_type": "code",
   "execution_count": 5,
   "id": "cd49e5a3",
   "metadata": {},
   "outputs": [
    {
     "name": "stdout",
     "output_type": "stream",
     "text": [
      "First Name : Angelo\n",
      "Last Name : b\n",
      "Rate Per Hour : 15\n",
      "Hour Rendered : 2\n"
     ]
    }
   ],
   "source": [
    "first_name = input('First Name : ')\n",
    "last_name = input('Last Name : ')\n",
    "rate_per_hour = input('Rate Per Hour : ')\n",
    "hour_rendered = input('Hour Rendered : ')"
   ]
  },
  {
   "cell_type": "code",
   "execution_count": 9,
   "id": "3cce7c4d",
   "metadata": {},
   "outputs": [
    {
     "data": {
      "text/plain": [
       "'Your full name is b Angelo.'"
      ]
     },
     "execution_count": 9,
     "metadata": {},
     "output_type": "execute_result"
    }
   ],
   "source": [
    "full_name(last_name,first_name)"
   ]
  },
  {
   "cell_type": "code",
   "execution_count": 6,
   "id": "b4f4c54e",
   "metadata": {},
   "outputs": [
    {
     "data": {
      "text/plain": [
       "'Your salary today is 30.0. '"
      ]
     },
     "execution_count": 6,
     "metadata": {},
     "output_type": "execute_result"
    }
   ],
   "source": [
    "today_salary(rate_per_hour,hour_rendered)"
   ]
  },
  {
   "cell_type": "code",
   "execution_count": 37,
   "id": "b1dfb791",
   "metadata": {},
   "outputs": [],
   "source": []
  },
  {
   "cell_type": "code",
   "execution_count": null,
   "id": "091f9124",
   "metadata": {},
   "outputs": [],
   "source": []
  }
 ],
 "metadata": {
  "kernelspec": {
   "display_name": "Python 3 (ipykernel)",
   "language": "python",
   "name": "python3"
  },
  "language_info": {
   "codemirror_mode": {
    "name": "ipython",
    "version": 3
   },
   "file_extension": ".py",
   "mimetype": "text/x-python",
   "name": "python",
   "nbconvert_exporter": "python",
   "pygments_lexer": "ipython3",
   "version": "3.9.12"
  }
 },
 "nbformat": 4,
 "nbformat_minor": 5
}
