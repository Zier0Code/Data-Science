{
 "cells": [
  {
   "cell_type": "code",
   "execution_count": 1,
   "id": "ec9a5161",
   "metadata": {},
   "outputs": [],
   "source": [
    "#ignore warnings\n",
    "import warnings\n",
    "warnings.filterwarnings('ignore')\n",
    "\n",
    "import numpy as np\n",
    "import pandas as pd\n",
    "import matplotlib.pyplot as plt\n",
    "import seaborn as sns\n",
    "sns.set_style(\"whitegrid\")\n",
    "sns.set_context(\"poster\")\n",
    "\n",
    "%matplotlib inline"
   ]
  },
  {
   "cell_type": "code",
   "execution_count": 2,
   "id": "846e3ea9",
   "metadata": {},
   "outputs": [],
   "source": [
    "#Import the KNN Algorithm\n",
    "from sklearn.neighbors import KNeighborsClassifier\n",
    "\n",
    "#Import the datasets and metrics modules\n",
    "from sklearn import datasets, metrics"
   ]
  },
  {
   "cell_type": "markdown",
   "id": "c5b012b0",
   "metadata": {},
   "source": [
    "### Explore Dataset"
   ]
  },
  {
   "cell_type": "code",
   "execution_count": 3,
   "id": "2833bcf9",
   "metadata": {},
   "outputs": [
    {
     "data": {
      "text/plain": [
       "((1797, 8, 8), (1797,))"
      ]
     },
     "execution_count": 3,
     "metadata": {},
     "output_type": "execute_result"
    }
   ],
   "source": [
    "# Load the digits dataset\n",
    "digits = datasets.load_digits()\n",
    "\n",
    "#Check the shape of the dataset\n",
    "digits.images.shape, digits.target.shape"
   ]
  },
  {
   "cell_type": "code",
   "execution_count": 4,
   "id": "884bb212",
   "metadata": {},
   "outputs": [
    {
     "data": {
      "text/plain": [
       "array([[ 0.,  0.,  5., 13.,  9.,  1.,  0.,  0.],\n",
       "       [ 0.,  0., 13., 15., 10., 15.,  5.,  0.],\n",
       "       [ 0.,  3., 15.,  2.,  0., 11.,  8.,  0.],\n",
       "       [ 0.,  4., 12.,  0.,  0.,  8.,  8.,  0.],\n",
       "       [ 0.,  5.,  8.,  0.,  0.,  9.,  8.,  0.],\n",
       "       [ 0.,  4., 11.,  0.,  1., 12.,  7.,  0.],\n",
       "       [ 0.,  2., 14.,  5., 10., 12.,  0.,  0.],\n",
       "       [ 0.,  0.,  6., 13., 10.,  0.,  0.,  0.]])"
      ]
     },
     "execution_count": 4,
     "metadata": {},
     "output_type": "execute_result"
    }
   ],
   "source": [
    "#View the first sample of the data\n",
    "digits.images[0]"
   ]
  },
  {
   "cell_type": "code",
   "execution_count": 5,
   "id": "42235e9d",
   "metadata": {
    "collapsed": true
   },
   "outputs": [
    {
     "data": {
      "text/plain": [
       "[(array([[ 0.,  0.,  5., 13.,  9.,  1.,  0.,  0.],\n",
       "         [ 0.,  0., 13., 15., 10., 15.,  5.,  0.],\n",
       "         [ 0.,  3., 15.,  2.,  0., 11.,  8.,  0.],\n",
       "         [ 0.,  4., 12.,  0.,  0.,  8.,  8.,  0.],\n",
       "         [ 0.,  5.,  8.,  0.,  0.,  9.,  8.,  0.],\n",
       "         [ 0.,  4., 11.,  0.,  1., 12.,  7.,  0.],\n",
       "         [ 0.,  2., 14.,  5., 10., 12.,  0.,  0.],\n",
       "         [ 0.,  0.,  6., 13., 10.,  0.,  0.,  0.]]),\n",
       "  0),\n",
       " (array([[ 0.,  0.,  0., 12., 13.,  5.,  0.,  0.],\n",
       "         [ 0.,  0.,  0., 11., 16.,  9.,  0.,  0.],\n",
       "         [ 0.,  0.,  3., 15., 16.,  6.,  0.,  0.],\n",
       "         [ 0.,  7., 15., 16., 16.,  2.,  0.,  0.],\n",
       "         [ 0.,  0.,  1., 16., 16.,  3.,  0.,  0.],\n",
       "         [ 0.,  0.,  1., 16., 16.,  6.,  0.,  0.],\n",
       "         [ 0.,  0.,  1., 16., 16.,  6.,  0.,  0.],\n",
       "         [ 0.,  0.,  0., 11., 16., 10.,  0.,  0.]]),\n",
       "  1),\n",
       " (array([[ 0.,  0.,  0.,  4., 15., 12.,  0.,  0.],\n",
       "         [ 0.,  0.,  3., 16., 15., 14.,  0.,  0.],\n",
       "         [ 0.,  0.,  8., 13.,  8., 16.,  0.,  0.],\n",
       "         [ 0.,  0.,  1.,  6., 15., 11.,  0.,  0.],\n",
       "         [ 0.,  1.,  8., 13., 15.,  1.,  0.,  0.],\n",
       "         [ 0.,  9., 16., 16.,  5.,  0.,  0.,  0.],\n",
       "         [ 0.,  3., 13., 16., 16., 11.,  5.,  0.],\n",
       "         [ 0.,  0.,  0.,  3., 11., 16.,  9.,  0.]]),\n",
       "  2),\n",
       " (array([[ 0.,  0.,  7., 15., 13.,  1.,  0.,  0.],\n",
       "         [ 0.,  8., 13.,  6., 15.,  4.,  0.,  0.],\n",
       "         [ 0.,  2.,  1., 13., 13.,  0.,  0.,  0.],\n",
       "         [ 0.,  0.,  2., 15., 11.,  1.,  0.,  0.],\n",
       "         [ 0.,  0.,  0.,  1., 12., 12.,  1.,  0.],\n",
       "         [ 0.,  0.,  0.,  0.,  1., 10.,  8.,  0.],\n",
       "         [ 0.,  0.,  8.,  4.,  5., 14.,  9.,  0.],\n",
       "         [ 0.,  0.,  7., 13., 13.,  9.,  0.,  0.]]),\n",
       "  3),\n",
       " (array([[ 0.,  0.,  0.,  1., 11.,  0.,  0.,  0.],\n",
       "         [ 0.,  0.,  0.,  7.,  8.,  0.,  0.,  0.],\n",
       "         [ 0.,  0.,  1., 13.,  6.,  2.,  2.,  0.],\n",
       "         [ 0.,  0.,  7., 15.,  0.,  9.,  8.,  0.],\n",
       "         [ 0.,  5., 16., 10.,  0., 16.,  6.,  0.],\n",
       "         [ 0.,  4., 15., 16., 13., 16.,  1.,  0.],\n",
       "         [ 0.,  0.,  0.,  3., 15., 10.,  0.,  0.],\n",
       "         [ 0.,  0.,  0.,  2., 16.,  4.,  0.,  0.]]),\n",
       "  4),\n",
       " (array([[ 0.,  0., 12., 10.,  0.,  0.,  0.,  0.],\n",
       "         [ 0.,  0., 14., 16., 16., 14.,  0.,  0.],\n",
       "         [ 0.,  0., 13., 16., 15., 10.,  1.,  0.],\n",
       "         [ 0.,  0., 11., 16., 16.,  7.,  0.,  0.],\n",
       "         [ 0.,  0.,  0.,  4.,  7., 16.,  7.,  0.],\n",
       "         [ 0.,  0.,  0.,  0.,  4., 16.,  9.,  0.],\n",
       "         [ 0.,  0.,  5.,  4., 12., 16.,  4.,  0.],\n",
       "         [ 0.,  0.,  9., 16., 16., 10.,  0.,  0.]]),\n",
       "  5),\n",
       " (array([[ 0.,  0.,  0., 12., 13.,  0.,  0.,  0.],\n",
       "         [ 0.,  0.,  5., 16.,  8.,  0.,  0.,  0.],\n",
       "         [ 0.,  0., 13., 16.,  3.,  0.,  0.,  0.],\n",
       "         [ 0.,  0., 14., 13.,  0.,  0.,  0.,  0.],\n",
       "         [ 0.,  0., 15., 12.,  7.,  2.,  0.,  0.],\n",
       "         [ 0.,  0., 13., 16., 13., 16.,  3.,  0.],\n",
       "         [ 0.,  0.,  7., 16., 11., 15.,  8.,  0.],\n",
       "         [ 0.,  0.,  1.,  9., 15., 11.,  3.,  0.]]),\n",
       "  6),\n",
       " (array([[ 0.,  0.,  7.,  8., 13., 16., 15.,  1.],\n",
       "         [ 0.,  0.,  7.,  7.,  4., 11., 12.,  0.],\n",
       "         [ 0.,  0.,  0.,  0.,  8., 13.,  1.,  0.],\n",
       "         [ 0.,  4.,  8.,  8., 15., 15.,  6.,  0.],\n",
       "         [ 0.,  2., 11., 15., 15.,  4.,  0.,  0.],\n",
       "         [ 0.,  0.,  0., 16.,  5.,  0.,  0.,  0.],\n",
       "         [ 0.,  0.,  9., 15.,  1.,  0.,  0.,  0.],\n",
       "         [ 0.,  0., 13.,  5.,  0.,  0.,  0.,  0.]]),\n",
       "  7),\n",
       " (array([[ 0.,  0.,  9., 14.,  8.,  1.,  0.,  0.],\n",
       "         [ 0.,  0., 12., 14., 14., 12.,  0.,  0.],\n",
       "         [ 0.,  0.,  9., 10.,  0., 15.,  4.,  0.],\n",
       "         [ 0.,  0.,  3., 16., 12., 14.,  2.,  0.],\n",
       "         [ 0.,  0.,  4., 16., 16.,  2.,  0.,  0.],\n",
       "         [ 0.,  3., 16.,  8., 10., 13.,  2.,  0.],\n",
       "         [ 0.,  1., 15.,  1.,  3., 16.,  8.,  0.],\n",
       "         [ 0.,  0., 11., 16., 15., 11.,  1.,  0.]]),\n",
       "  8),\n",
       " (array([[ 0.,  0., 11., 12.,  0.,  0.,  0.,  0.],\n",
       "         [ 0.,  2., 16., 16., 16., 13.,  0.,  0.],\n",
       "         [ 0.,  3., 16., 12., 10., 14.,  0.,  0.],\n",
       "         [ 0.,  1., 16.,  1., 12., 15.,  0.,  0.],\n",
       "         [ 0.,  0., 13., 16.,  9., 15.,  2.,  0.],\n",
       "         [ 0.,  0.,  0.,  3.,  0.,  9., 11.,  0.],\n",
       "         [ 0.,  0.,  0.,  0.,  9., 15.,  4.,  0.],\n",
       "         [ 0.,  0.,  9., 12., 13.,  3.,  0.,  0.]]),\n",
       "  9)]"
      ]
     },
     "execution_count": 5,
     "metadata": {},
     "output_type": "execute_result"
    }
   ],
   "source": [
    "#Load the images with labels\n",
    "images_and_labels = list(zip(digits.images, digits.target))\n",
    "\n",
    "images_and_labels[:10]"
   ]
  },
  {
   "cell_type": "code",
   "execution_count": 6,
   "id": "3ca43239",
   "metadata": {},
   "outputs": [
    {
     "data": {
      "image/png": "[encoded data removed]",
      "text/plain": [
       "<Figure size 432x288 with 10 Axes>"
      ]
     },
     "metadata": {
      "needs_background": "light"
     },
     "output_type": "display_data"
    }
   ],
   "source": [
    "#Visualize the images\n",
    "for index, (image, label) in enumerate(images_and_labels[:10]):\n",
    "    plt.subplot(2, 5, index + 1)\n",
    "    plt.axis('off')\n",
    "    plt.imshow(image, cmap=plt.cm.gray_r, interpolation='nearest')\n",
    "    plt.title('TR %i' % label)"
   ]
  },
  {
   "cell_type": "markdown",
   "id": "ebf95a94",
   "metadata": {},
   "source": [
    "### Pre-processing"
   ]
  },
  {
   "cell_type": "code",
   "execution_count": 7,
   "id": "85da5389",
   "metadata": {},
   "outputs": [
    {
     "data": {
      "text/plain": [
       "(1797, 64)"
      ]
     },
     "execution_count": 7,
     "metadata": {},
     "output_type": "execute_result"
    }
   ],
   "source": [
    "n_samples = len(digits.images)\n",
    "\n",
    "data = digits.images.reshape((n_samples, -1))\n",
    "\n",
    "#Verify if the shape is now (1797, 64)\n",
    "data.shape"
   ]
  },
  {
   "cell_type": "code",
   "execution_count": 8,
   "id": "0493c0bd",
   "metadata": {},
   "outputs": [
    {
     "data": {
      "text/plain": [
       "array([ 0.,  0.,  5., 13.,  9.,  1.,  0.,  0.,  0.,  0., 13., 15., 10.,\n",
       "       15.,  5.,  0.,  0.,  3., 15.,  2.,  0., 11.,  8.,  0.,  0.,  4.,\n",
       "       12.,  0.,  0.,  8.,  8.,  0.,  0.,  5.,  8.,  0.,  0.,  9.,  8.,\n",
       "        0.,  0.,  4., 11.,  0.,  1., 12.,  7.,  0.,  0.,  2., 14.,  5.,\n",
       "       10., 12.,  0.,  0.,  0.,  0.,  6., 13., 10.,  0.,  0.,  0.])"
      ]
     },
     "execution_count": 8,
     "metadata": {},
     "output_type": "execute_result"
    }
   ],
   "source": [
    "data[0]"
   ]
  },
  {
   "cell_type": "code",
   "execution_count": 9,
   "id": "89963de6",
   "metadata": {},
   "outputs": [
    {
     "data": {
      "text/plain": [
       "((898, 64), (898,), (899, 64), (899,), (899, 8, 8))"
      ]
     },
     "execution_count": 9,
     "metadata": {},
     "output_type": "execute_result"
    }
   ],
   "source": [
    "#Let's split the dataset into half\n",
    "half = n_samples // 2\n",
    "\n",
    "X_train = data[:half]\n",
    "X_test = data[half:]\n",
    "\n",
    "y_train = digits.target[:half]\n",
    "y_test = digits.target[half:]\n",
    "\n",
    "#Test Images for Visualization \n",
    "X_test_images = digits.images[half:]\n",
    "\n",
    "#Check the shape to verify if everything is in order\n",
    "X_train.shape, y_train.shape, X_test.shape,  y_test.shape, X_test_images.shape,"
   ]
  },
  {
   "cell_type": "markdown",
   "id": "03afd4f6",
   "metadata": {},
   "source": [
    "### Training the Model"
   ]
  },
  {
   "cell_type": "code",
   "execution_count": 10,
   "id": "04697a86",
   "metadata": {},
   "outputs": [
    {
     "data": {
      "text/plain": [
       "KNeighborsClassifier(n_neighbors=3)"
      ]
     },
     "execution_count": 10,
     "metadata": {},
     "output_type": "execute_result"
    }
   ],
   "source": [
    "#Set the value of K\n",
    "k = 3\n",
    "\n",
    "#Instatiate the model\n",
    "knn = KNeighborsClassifier(n_neighbors=k)\n",
    "\n",
    "#Fit the model to the training set\n",
    "knn.fit(X_train,y_train)"
   ]
  },
  {
   "cell_type": "markdown",
   "id": "87c4ff0b",
   "metadata": {},
   "source": [
    "### Validate the Model"
   ]
  },
  {
   "cell_type": "code",
   "execution_count": 12,
   "id": "8faf63bf",
   "metadata": {},
   "outputs": [],
   "source": [
    "#Predict on the Test Set\n",
    "y_pred = knn.predict(X_test)"
   ]
  },
  {
   "cell_type": "code",
   "execution_count": 13,
   "id": "59221845",
   "metadata": {},
   "outputs": [
    {
     "name": "stdout",
     "output_type": "stream",
     "text": [
      "Classification report for classifier KNeighborsClassifier(n_neighbors=3):\n",
      "              precision    recall  f1-score   support\n",
      "\n",
      "           0       0.99      0.99      0.99        88\n",
      "           1       0.98      0.99      0.98        91\n",
      "           2       0.99      0.94      0.96        86\n",
      "           3       0.91      0.92      0.92        91\n",
      "           4       0.99      0.93      0.96        92\n",
      "           5       0.97      0.97      0.97        91\n",
      "           6       0.99      1.00      0.99        91\n",
      "           7       0.98      1.00      0.99        89\n",
      "           8       0.94      0.95      0.95        88\n",
      "           9       0.91      0.93      0.92        92\n",
      "\n",
      "    accuracy                           0.96       899\n",
      "   macro avg       0.96      0.96      0.96       899\n",
      "weighted avg       0.96      0.96      0.96       899\n",
      "\n",
      "\n"
     ]
    }
   ],
   "source": [
    "#Get the Confusion Matrix and other metrics to test performance\n",
    "print(\"Classification report for classifier %s:\\n%s\\n\"\n",
    "      % (knn, metrics.classification_report(y_test, y_pred)))"
   ]
  },
  {
   "cell_type": "code",
   "execution_count": 14,
   "id": "977b8823",
   "metadata": {},
   "outputs": [
    {
     "name": "stdout",
     "output_type": "stream",
     "text": [
      "Confusion matrix:\n",
      "[[87  0  0  0  1  0  0  0  0  0]\n",
      " [ 0 90  0  0  0  0  0  0  1  0]\n",
      " [ 1  0 81  4  0  0  0  0  0  0]\n",
      " [ 0  0  0 84  0  1  0  2  3  1]\n",
      " [ 0  0  0  0 86  0  0  0  0  6]\n",
      " [ 0  0  0  0  0 88  1  0  0  2]\n",
      " [ 0  0  0  0  0  0 91  0  0  0]\n",
      " [ 0  0  0  0  0  0  0 89  0  0]\n",
      " [ 0  2  1  1  0  0  0  0 84  0]\n",
      " [ 0  0  0  3  0  2  0  0  1 86]]\n"
     ]
    }
   ],
   "source": [
    "print(\"Confusion matrix:\\n%s\" % metrics.confusion_matrix(y_test, y_pred))"
   ]
  },
  {
   "cell_type": "code",
   "execution_count": 15,
   "id": "cacb843e",
   "metadata": {},
   "outputs": [
    {
     "data": {
      "text/plain": [
       "Text(0.5, 23.5, 'Predicted label')"
      ]
     },
     "execution_count": 15,
     "metadata": {},
     "output_type": "execute_result"
    },
    {
     "data": {
      "image/png": "[encoded data removed]",
      "text/plain": [
       "<Figure size 720x504 with 2 Axes>"
      ]
     },
     "metadata": {
      "needs_background": "light"
     },
     "output_type": "display_data"
    }
   ],
   "source": [
    "#Plot the confusion matrix for easier viewing\n",
    "cm = metrics.confusion_matrix(y_test, y_pred)\n",
    "\n",
    "labels=[0,1,2,3,4,5,6,7,8,9]\n",
    "\n",
    "df_cm = pd.DataFrame(cm, index=labels, columns=labels)\n",
    "\n",
    "#Plot attributes\n",
    "fig = plt.figure(figsize= (10,7))\n",
    "cmap = sns.diverging_palette(220, 10, as_cmap=True)\n",
    "\n",
    "#Seaborn Heatmap\n",
    "heatmap = sns.heatmap(df_cm,annot=True, annot_kws={\"size\": 20}, fmt=\"d\", cmap=cmap)\n",
    "\n",
    "#Heatmap attributes\n",
    "heatmap.yaxis.set_ticklabels(heatmap.yaxis.get_ticklabels(), rotation=0, ha='right', fontsize=16)\n",
    "heatmap.xaxis.set_ticklabels(heatmap.xaxis.get_ticklabels(), rotation=0, ha='right', fontsize=16)\n",
    "plt.ylabel('True label')\n",
    "plt.xlabel('Predicted label')"
   ]
  },
  {
   "cell_type": "code",
   "execution_count": 16,
   "id": "5c146a1e",
   "metadata": {},
   "outputs": [],
   "source": [
    "#Load the X_test images with their predictions\n",
    "images_and_predictions = list(zip(X_test_images, y_pred))"
   ]
  },
  {
   "cell_type": "code",
   "execution_count": 17,
   "id": "af271052",
   "metadata": {},
   "outputs": [
    {
     "data": {
      "image/png": "[encoded data removed]",
      "text/plain": [
       "<Figure size 432x288 with 10 Axes>"
      ]
     },
     "metadata": {
      "needs_background": "light"
     },
     "output_type": "display_data"
    }
   ],
   "source": [
    "#Visualize a sample of the results\n",
    "for index, (image, prediction) in enumerate(images_and_predictions[:10]):\n",
    "    plt.subplot(2, 5, index + 1)\n",
    "    plt.axis('off')\n",
    "    plt.imshow(image, cmap=plt.cm.gray_r, interpolation='nearest')\n",
    "    plt.title('Pred: %i' % prediction, fontdict={'fontsize':10})\n",
    "\n",
    "plt.show()"
   ]
  }
 ],
 "metadata": {
  "kernelspec": {
   "display_name": "Python 3 (ipykernel)",
   "language": "python",
   "name": "python3"
  },
  "language_info": {
   "codemirror_mode": {
    "name": "ipython",
    "version": 3
   },
   "file_extension": ".py",
   "mimetype": "text/x-python",
   "name": "python",
   "nbconvert_exporter": "python",
   "pygments_lexer": "ipython3",
   "version": "3.9.13"
  }
 },
 "nbformat": 4,
 "nbformat_minor": 5
}
