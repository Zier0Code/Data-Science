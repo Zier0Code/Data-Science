{
 "cells": [
  {
   "cell_type": "code",
   "execution_count": 2,
   "id": "d622d479",
   "metadata": {},
   "outputs": [],
   "source": [
    "#ignore warnings\n",
    "import warnings\n",
    "warnings.filterwarnings('ignore')\n",
    "\n",
    "import numpy as np\n",
    "import pandas as pd\n",
    "import matplotlib.pyplot as plt\n",
    "import seaborn as sns\n",
    "\n",
    "# Set Options for display\n",
    "pd.options.display.max_rows = 1000\n",
    "pd.options.display.max_columns = 100\n",
    "pd.options.display.float_format = '{:.4f}'.format\n",
    "sns.set_style(\"whitegrid\")\n",
    "sns.set_context(\"paper\")\n",
    "\n",
    "%matplotlib inline\n",
    "\n",
    "#Logistic Regression Algorithm\n",
    "from sklearn.linear_model import LogisticRegression\n",
    "\n",
    "#Train-Test Split\n",
    "from sklearn.model_selection import train_test_split\n",
    "\n",
    "#Min-Max Scaler\n",
    "from sklearn.preprocessing import MinMaxScaler"
   ]
  },
  {
   "cell_type": "markdown",
   "id": "cc924fa0",
   "metadata": {},
   "source": [
    "#### Dataset Initial Exploration"
   ]
  },
  {
   "cell_type": "code",
   "execution_count": 3,
   "id": "7f5a6a73",
   "metadata": {},
   "outputs": [
    {
     "data": {
      "text/html": [
       "<div>\n",
       "<style scoped>\n",
       "    .dataframe tbody tr th:only-of-type {\n",
       "        vertical-align: middle;\n",
       "    }\n",
       "\n",
       "    .dataframe tbody tr th {\n",
       "        vertical-align: top;\n",
       "    }\n",
       "\n",
       "    .dataframe thead th {\n",
       "        text-align: right;\n",
       "    }\n",
       "</style>\n",
       "<table border=\"1\" class=\"dataframe\">\n",
       "  <thead>\n",
       "    <tr style=\"text-align: right;\">\n",
       "      <th></th>\n",
       "      <th>Gender</th>\n",
       "      <th>Married</th>\n",
       "      <th>Dependents</th>\n",
       "      <th>Education</th>\n",
       "      <th>Self_Employed</th>\n",
       "      <th>ApplicantIncome</th>\n",
       "      <th>CoapplicantIncome</th>\n",
       "      <th>LoanAmount</th>\n",
       "      <th>Loan_Amount_Term</th>\n",
       "      <th>Credit_History</th>\n",
       "      <th>Property_Area</th>\n",
       "      <th>Loan_Status</th>\n",
       "    </tr>\n",
       "    <tr>\n",
       "      <th>Loan_ID</th>\n",
       "      <th></th>\n",
       "      <th></th>\n",
       "      <th></th>\n",
       "      <th></th>\n",
       "      <th></th>\n",
       "      <th></th>\n",
       "      <th></th>\n",
       "      <th></th>\n",
       "      <th></th>\n",
       "      <th></th>\n",
       "      <th></th>\n",
       "      <th></th>\n",
       "    </tr>\n",
       "  </thead>\n",
       "  <tbody>\n",
       "    <tr>\n",
       "      <th>LP001002</th>\n",
       "      <td>Male</td>\n",
       "      <td>No</td>\n",
       "      <td>0</td>\n",
       "      <td>Graduate</td>\n",
       "      <td>No</td>\n",
       "      <td>5849</td>\n",
       "      <td>0.0000</td>\n",
       "      <td>NaN</td>\n",
       "      <td>360.0000</td>\n",
       "      <td>1.0000</td>\n",
       "      <td>Urban</td>\n",
       "      <td>Y</td>\n",
       "    </tr>\n",
       "    <tr>\n",
       "      <th>LP001003</th>\n",
       "      <td>Male</td>\n",
       "      <td>Yes</td>\n",
       "      <td>1</td>\n",
       "      <td>Graduate</td>\n",
       "      <td>No</td>\n",
       "      <td>4583</td>\n",
       "      <td>1508.0000</td>\n",
       "      <td>128.0000</td>\n",
       "      <td>360.0000</td>\n",
       "      <td>1.0000</td>\n",
       "      <td>Rural</td>\n",
       "      <td>N</td>\n",
       "    </tr>\n",
       "    <tr>\n",
       "      <th>LP001005</th>\n",
       "      <td>Male</td>\n",
       "      <td>Yes</td>\n",
       "      <td>0</td>\n",
       "      <td>Graduate</td>\n",
       "      <td>Yes</td>\n",
       "      <td>3000</td>\n",
       "      <td>0.0000</td>\n",
       "      <td>66.0000</td>\n",
       "      <td>360.0000</td>\n",
       "      <td>1.0000</td>\n",
       "      <td>Urban</td>\n",
       "      <td>Y</td>\n",
       "    </tr>\n",
       "    <tr>\n",
       "      <th>LP001006</th>\n",
       "      <td>Male</td>\n",
       "      <td>Yes</td>\n",
       "      <td>0</td>\n",
       "      <td>Not Graduate</td>\n",
       "      <td>No</td>\n",
       "      <td>2583</td>\n",
       "      <td>2358.0000</td>\n",
       "      <td>120.0000</td>\n",
       "      <td>360.0000</td>\n",
       "      <td>1.0000</td>\n",
       "      <td>Urban</td>\n",
       "      <td>Y</td>\n",
       "    </tr>\n",
       "    <tr>\n",
       "      <th>LP001008</th>\n",
       "      <td>Male</td>\n",
       "      <td>No</td>\n",
       "      <td>0</td>\n",
       "      <td>Graduate</td>\n",
       "      <td>No</td>\n",
       "      <td>6000</td>\n",
       "      <td>0.0000</td>\n",
       "      <td>141.0000</td>\n",
       "      <td>360.0000</td>\n",
       "      <td>1.0000</td>\n",
       "      <td>Urban</td>\n",
       "      <td>Y</td>\n",
       "    </tr>\n",
       "  </tbody>\n",
       "</table>\n",
       "</div>"
      ],
      "text/plain": [
       "         Gender Married Dependents     Education Self_Employed  \\\n",
       "Loan_ID                                                          \n",
       "LP001002   Male      No          0      Graduate            No   \n",
       "LP001003   Male     Yes          1      Graduate            No   \n",
       "LP001005   Male     Yes          0      Graduate           Yes   \n",
       "LP001006   Male     Yes          0  Not Graduate            No   \n",
       "LP001008   Male      No          0      Graduate            No   \n",
       "\n",
       "          ApplicantIncome  CoapplicantIncome  LoanAmount  Loan_Amount_Term  \\\n",
       "Loan_ID                                                                      \n",
       "LP001002             5849             0.0000         NaN          360.0000   \n",
       "LP001003             4583          1508.0000    128.0000          360.0000   \n",
       "LP001005             3000             0.0000     66.0000          360.0000   \n",
       "LP001006             2583          2358.0000    120.0000          360.0000   \n",
       "LP001008             6000             0.0000    141.0000          360.0000   \n",
       "\n",
       "          Credit_History Property_Area Loan_Status  \n",
       "Loan_ID                                             \n",
       "LP001002          1.0000         Urban           Y  \n",
       "LP001003          1.0000         Rural           N  \n",
       "LP001005          1.0000         Urban           Y  \n",
       "LP001006          1.0000         Urban           Y  \n",
       "LP001008          1.0000         Urban           Y  "
      ]
     },
     "execution_count": 3,
     "metadata": {},
     "output_type": "execute_result"
    }
   ],
   "source": [
    "df=pd.read_csv(\"C:\\\\Users\\\\Avila\\\\OneDrive\\\\Desktop\\\\csv files\\\\loans_train.csv\", index_col = \"Loan_ID\")\n",
    "df.head()"
   ]
  },
  {
   "cell_type": "code",
   "execution_count": 3,
   "id": "4a69f26b",
   "metadata": {},
   "outputs": [
    {
     "data": {
      "text/html": [
       "<div>\n",
       "<style scoped>\n",
       "    .dataframe tbody tr th:only-of-type {\n",
       "        vertical-align: middle;\n",
       "    }\n",
       "\n",
       "    .dataframe tbody tr th {\n",
       "        vertical-align: top;\n",
       "    }\n",
       "\n",
       "    .dataframe thead th {\n",
       "        text-align: right;\n",
       "    }\n",
       "</style>\n",
       "<table border=\"1\" class=\"dataframe\">\n",
       "  <thead>\n",
       "    <tr style=\"text-align: right;\">\n",
       "      <th></th>\n",
       "      <th>ApplicantIncome</th>\n",
       "      <th>CoapplicantIncome</th>\n",
       "      <th>LoanAmount</th>\n",
       "      <th>Loan_Amount_Term</th>\n",
       "      <th>Credit_History</th>\n",
       "    </tr>\n",
       "  </thead>\n",
       "  <tbody>\n",
       "    <tr>\n",
       "      <th>count</th>\n",
       "      <td>614.0000</td>\n",
       "      <td>614.0000</td>\n",
       "      <td>592.0000</td>\n",
       "      <td>600.0000</td>\n",
       "      <td>564.0000</td>\n",
       "    </tr>\n",
       "    <tr>\n",
       "      <th>mean</th>\n",
       "      <td>5403.4593</td>\n",
       "      <td>1621.2458</td>\n",
       "      <td>146.4122</td>\n",
       "      <td>342.0000</td>\n",
       "      <td>0.8422</td>\n",
       "    </tr>\n",
       "    <tr>\n",
       "      <th>std</th>\n",
       "      <td>6109.0417</td>\n",
       "      <td>2926.2484</td>\n",
       "      <td>85.5873</td>\n",
       "      <td>65.1204</td>\n",
       "      <td>0.3649</td>\n",
       "    </tr>\n",
       "    <tr>\n",
       "      <th>min</th>\n",
       "      <td>150.0000</td>\n",
       "      <td>0.0000</td>\n",
       "      <td>9.0000</td>\n",
       "      <td>12.0000</td>\n",
       "      <td>0.0000</td>\n",
       "    </tr>\n",
       "    <tr>\n",
       "      <th>25%</th>\n",
       "      <td>2877.5000</td>\n",
       "      <td>0.0000</td>\n",
       "      <td>100.0000</td>\n",
       "      <td>360.0000</td>\n",
       "      <td>1.0000</td>\n",
       "    </tr>\n",
       "    <tr>\n",
       "      <th>50%</th>\n",
       "      <td>3812.5000</td>\n",
       "      <td>1188.5000</td>\n",
       "      <td>128.0000</td>\n",
       "      <td>360.0000</td>\n",
       "      <td>1.0000</td>\n",
       "    </tr>\n",
       "    <tr>\n",
       "      <th>75%</th>\n",
       "      <td>5795.0000</td>\n",
       "      <td>2297.2500</td>\n",
       "      <td>168.0000</td>\n",
       "      <td>360.0000</td>\n",
       "      <td>1.0000</td>\n",
       "    </tr>\n",
       "    <tr>\n",
       "      <th>max</th>\n",
       "      <td>81000.0000</td>\n",
       "      <td>41667.0000</td>\n",
       "      <td>700.0000</td>\n",
       "      <td>480.0000</td>\n",
       "      <td>1.0000</td>\n",
       "    </tr>\n",
       "  </tbody>\n",
       "</table>\n",
       "</div>"
      ],
      "text/plain": [
       "       ApplicantIncome  CoapplicantIncome  LoanAmount  Loan_Amount_Term  \\\n",
       "count         614.0000           614.0000    592.0000          600.0000   \n",
       "mean         5403.4593          1621.2458    146.4122          342.0000   \n",
       "std          6109.0417          2926.2484     85.5873           65.1204   \n",
       "min           150.0000             0.0000      9.0000           12.0000   \n",
       "25%          2877.5000             0.0000    100.0000          360.0000   \n",
       "50%          3812.5000          1188.5000    128.0000          360.0000   \n",
       "75%          5795.0000          2297.2500    168.0000          360.0000   \n",
       "max         81000.0000         41667.0000    700.0000          480.0000   \n",
       "\n",
       "       Credit_History  \n",
       "count        564.0000  \n",
       "mean           0.8422  \n",
       "std            0.3649  \n",
       "min            0.0000  \n",
       "25%            1.0000  \n",
       "50%            1.0000  \n",
       "75%            1.0000  \n",
       "max            1.0000  "
      ]
     },
     "execution_count": 3,
     "metadata": {},
     "output_type": "execute_result"
    }
   ],
   "source": [
    "df.describe()"
   ]
  },
  {
   "cell_type": "code",
   "execution_count": 4,
   "id": "285ab6b0",
   "metadata": {},
   "outputs": [
    {
     "data": {
      "text/plain": [
       "(614, 12)"
      ]
     },
     "execution_count": 4,
     "metadata": {},
     "output_type": "execute_result"
    }
   ],
   "source": [
    "df.shape"
   ]
  },
  {
   "cell_type": "code",
   "execution_count": 5,
   "id": "396a7cb2",
   "metadata": {},
   "outputs": [
    {
     "data": {
      "text/plain": [
       "Y    422\n",
       "N    192\n",
       "Name: Loan_Status, dtype: int64"
      ]
     },
     "execution_count": 5,
     "metadata": {},
     "output_type": "execute_result"
    }
   ],
   "source": [
    "df[\"Loan_Status\"].value_counts() "
   ]
  },
  {
   "cell_type": "code",
   "execution_count": 6,
   "id": "f242f7dd",
   "metadata": {},
   "outputs": [
    {
     "data": {
      "text/plain": [
       "<AxesSubplot:xlabel='Loan_Status', ylabel='count'>"
      ]
     },
     "execution_count": 6,
     "metadata": {},
     "output_type": "execute_result"
    },
    {
     "data": {
      "image/png": "[encoded data removed]",
      "text/plain": [
       "<Figure size 432x288 with 1 Axes>"
      ]
     },
     "metadata": {
      "needs_background": "light"
     },
     "output_type": "display_data"
    }
   ],
   "source": [
    "sns.countplot(data = df, x = \"Loan_Status\")"
   ]
  },
  {
   "cell_type": "markdown",
   "id": "041e7ae6",
   "metadata": {},
   "source": [
    "### Data Quality/EDA"
   ]
  },
  {
   "cell_type": "code",
   "execution_count": 7,
   "id": "45bd811c",
   "metadata": {},
   "outputs": [
    {
     "data": {
      "text/plain": [
       "Gender                object\n",
       "Married               object\n",
       "Dependents            object\n",
       "Education             object\n",
       "Self_Employed         object\n",
       "ApplicantIncome        int64\n",
       "CoapplicantIncome    float64\n",
       "LoanAmount           float64\n",
       "Loan_Amount_Term     float64\n",
       "Credit_History       float64\n",
       "Property_Area         object\n",
       "Loan_Status           object\n",
       "dtype: object"
      ]
     },
     "execution_count": 7,
     "metadata": {},
     "output_type": "execute_result"
    }
   ],
   "source": [
    "df.dtypes"
   ]
  },
  {
   "cell_type": "code",
   "execution_count": 8,
   "id": "4661c9f2",
   "metadata": {},
   "outputs": [
    {
     "data": {
      "text/plain": [
       "Credit_History       50\n",
       "Self_Employed        32\n",
       "LoanAmount           22\n",
       "Dependents           15\n",
       "Loan_Amount_Term     14\n",
       "Gender               13\n",
       "Married               3\n",
       "Education             0\n",
       "ApplicantIncome       0\n",
       "CoapplicantIncome     0\n",
       "Property_Area         0\n",
       "Loan_Status           0\n",
       "dtype: int64"
      ]
     },
     "execution_count": 8,
     "metadata": {},
     "output_type": "execute_result"
    }
   ],
   "source": [
    "total = df.isnull().sum().sort_values(ascending=False)\n",
    "total"
   ]
  },
  {
   "cell_type": "code",
   "execution_count": 9,
   "id": "10ef1b85",
   "metadata": {},
   "outputs": [
    {
     "data": {
      "text/plain": [
       "1.0000    475\n",
       "0.0000     89\n",
       "Name: Credit_History, dtype: int64"
      ]
     },
     "execution_count": 9,
     "metadata": {},
     "output_type": "execute_result"
    }
   ],
   "source": [
    "df['Credit_History'].value_counts()\n"
   ]
  },
  {
   "cell_type": "code",
   "execution_count": 10,
   "id": "1b8d5b0f",
   "metadata": {},
   "outputs": [
    {
     "data": {
      "text/plain": [
       "Self_Employed        26\n",
       "LoanAmount           19\n",
       "Loan_Amount_Term     13\n",
       "Gender                0\n",
       "Married               0\n",
       "Dependents            0\n",
       "Education             0\n",
       "ApplicantIncome       0\n",
       "CoapplicantIncome     0\n",
       "Credit_History        0\n",
       "Property_Area         0\n",
       "Loan_Status           0\n",
       "dtype: int64"
      ]
     },
     "execution_count": 10,
     "metadata": {},
     "output_type": "execute_result"
    }
   ],
   "source": [
    "df.dropna(subset = ['Credit_History','Dependents','Gender','Married'], axis = 0, inplace = True)\n",
    "df.isnull().sum().sort_values(ascending=False)\n",
    "\n",
    "## Object Columns"
   ]
  },
  {
   "cell_type": "markdown",
   "id": "3314fb10",
   "metadata": {},
   "source": [
    "### Data impute"
   ]
  },
  {
   "cell_type": "code",
   "execution_count": 11,
   "id": "01f0a15f",
   "metadata": {},
   "outputs": [
    {
     "data": {
      "text/plain": [
       "Self_Employed        26\n",
       "Gender                0\n",
       "Married               0\n",
       "Dependents            0\n",
       "Education             0\n",
       "ApplicantIncome       0\n",
       "CoapplicantIncome     0\n",
       "LoanAmount            0\n",
       "Loan_Amount_Term      0\n",
       "Credit_History        0\n",
       "Property_Area         0\n",
       "Loan_Status           0\n",
       "dtype: int64"
      ]
     },
     "execution_count": 11,
     "metadata": {},
     "output_type": "execute_result"
    }
   ],
   "source": [
    "df['LoanAmount'].fillna(np.mean(df['LoanAmount']), inplace = True)\n",
    "df['Loan_Amount_Term'].fillna(np.mean(df['Loan_Amount_Term']), inplace = True)\n",
    "df.isnull().sum().sort_values(ascending=False)\n",
    "\n",
    "# Float Columns"
   ]
  },
  {
   "cell_type": "code",
   "execution_count": 12,
   "id": "0b30ec6b",
   "metadata": {},
   "outputs": [
    {
     "data": {
      "text/plain": [
       "No     441\n",
       "Yes     70\n",
       "Name: Self_Employed, dtype: int64"
      ]
     },
     "execution_count": 12,
     "metadata": {},
     "output_type": "execute_result"
    }
   ],
   "source": [
    "df['Self_Employed'].value_counts()"
   ]
  },
  {
   "cell_type": "code",
   "execution_count": 13,
   "id": "49a41b33",
   "metadata": {},
   "outputs": [
    {
     "data": {
      "text/plain": [
       "Gender               0\n",
       "Married              0\n",
       "Dependents           0\n",
       "Education            0\n",
       "Self_Employed        0\n",
       "ApplicantIncome      0\n",
       "CoapplicantIncome    0\n",
       "LoanAmount           0\n",
       "Loan_Amount_Term     0\n",
       "Credit_History       0\n",
       "Property_Area        0\n",
       "Loan_Status          0\n",
       "dtype: int64"
      ]
     },
     "execution_count": 13,
     "metadata": {},
     "output_type": "execute_result"
    }
   ],
   "source": [
    "df['Self_Employed'].fillna('No', inplace = True)\n",
    "df.isnull().sum().sort_values(ascending=False)"
   ]
  },
  {
   "cell_type": "code",
   "execution_count": 14,
   "id": "0bece67b",
   "metadata": {},
   "outputs": [
    {
     "name": "stdout",
     "output_type": "stream",
     "text": [
      "<class 'pandas.core.frame.DataFrame'>\n",
      "Index: 537 entries, LP001002 to LP002990\n",
      "Data columns (total 12 columns):\n",
      " #   Column             Non-Null Count  Dtype  \n",
      "---  ------             --------------  -----  \n",
      " 0   Gender             537 non-null    object \n",
      " 1   Married            537 non-null    object \n",
      " 2   Dependents         537 non-null    object \n",
      " 3   Education          537 non-null    object \n",
      " 4   Self_Employed      537 non-null    object \n",
      " 5   ApplicantIncome    537 non-null    int64  \n",
      " 6   CoapplicantIncome  537 non-null    float64\n",
      " 7   LoanAmount         537 non-null    float64\n",
      " 8   Loan_Amount_Term   537 non-null    float64\n",
      " 9   Credit_History     537 non-null    float64\n",
      " 10  Property_Area      537 non-null    object \n",
      " 11  Loan_Status        537 non-null    object \n",
      "dtypes: float64(4), int64(1), object(7)\n",
      "memory usage: 54.5+ KB\n"
     ]
    }
   ],
   "source": [
    "df.info()\n"
   ]
  },
  {
   "cell_type": "markdown",
   "id": "79d8c2d3",
   "metadata": {},
   "source": [
    "#### Univariate Analysis - check distribution of numeric variables\n"
   ]
  },
  {
   "cell_type": "code",
   "execution_count": 15,
   "id": "838fbbce",
   "metadata": {},
   "outputs": [
    {
     "data": {
      "text/plain": [
       "<AxesSubplot:xlabel='Credit_History', ylabel='Density'>"
      ]
     },
     "execution_count": 15,
     "metadata": {},
     "output_type": "execute_result"
    },
    {
     "data": {
      "image/png": "[encoded data removed]",
      "text/plain": [
       "<Figure size 1008x504 with 6 Axes>"
      ]
     },
     "metadata": {
      "needs_background": "light"
     },
     "output_type": "display_data"
    }
   ],
   "source": [
    "f, axes = plt.subplots(2, 3, figsize=(14, 7))\n",
    "\n",
    "sns.distplot(df[\"ApplicantIncome\"] , color=\"skyblue\", ax=axes[0, 0])\n",
    "sns.distplot(df[\"CoapplicantIncome\"] , color=\"olive\", ax=axes[0, 1])\n",
    "sns.distplot(df[\"LoanAmount\"] , color=\"gold\", ax=axes[1, 0])\n",
    "sns.distplot(df[\"Loan_Amount_Term\"] , color=\"teal\", ax=axes[1, 1], kde_kws={'bw': 0.1})\n",
    "sns.distplot(df[\"Credit_History\"] , color=\"magenta\", ax=axes[0, 2], kde_kws={'bw': 0.1})"
   ]
  },
  {
   "cell_type": "markdown",
   "id": "8ce11c6d",
   "metadata": {},
   "source": [
    "#### Univariate Analysis - check distribution of categorical variables"
   ]
  },
  {
   "cell_type": "code",
   "execution_count": 16,
   "id": "342c1b95",
   "metadata": {},
   "outputs": [
    {
     "data": {
      "text/plain": [
       "<AxesSubplot:xlabel='Property_Area', ylabel='count'>"
      ]
     },
     "execution_count": 16,
     "metadata": {},
     "output_type": "execute_result"
    },
    {
     "data": {
      "image/png": "[encoded data removed]",
      "text/plain": [
       "<Figure size 1008x504 with 6 Axes>"
      ]
     },
     "metadata": {
      "needs_background": "light"
     },
     "output_type": "display_data"
    }
   ],
   "source": [
    "#Univariate Analysis - check distribution of categorical variables\n",
    "\n",
    "f, axes = plt.subplots(2, 3, figsize=(14, 7))\n",
    "sns.countplot( df[\"Gender\"] , color=\"skyblue\", ax=axes[0, 0])\n",
    "sns.countplot( df[\"Married\"] , color=\"olive\", ax=axes[0, 1])\n",
    "sns.countplot( df[\"Dependents\"] , color=\"gold\", ax=axes[1, 0])\n",
    "sns.countplot( df[\"Education\"] , color=\"teal\", ax=axes[1, 1])\n",
    "sns.countplot( df[\"Self_Employed\"] , color=\"magenta\", ax=axes[0, 2])\n",
    "sns.countplot( df[\"Property_Area\"] , color=\"magenta\", ax=axes[1, 2])\n"
   ]
  },
  {
   "cell_type": "markdown",
   "id": "dd3a99fa",
   "metadata": {},
   "source": [
    "#### Multivariate Analysis - check relationships among variables"
   ]
  },
  {
   "cell_type": "code",
   "execution_count": 17,
   "id": "eb92306e",
   "metadata": {},
   "outputs": [
    {
     "data": {
      "text/plain": [
       "<AxesSubplot:>"
      ]
     },
     "execution_count": 17,
     "metadata": {},
     "output_type": "execute_result"
    },
    {
     "data": {
      "image/png": "[encoded data removed]",
      "text/plain": [
       "<Figure size 432x288 with 2 Axes>"
      ]
     },
     "metadata": {
      "needs_background": "light"
     },
     "output_type": "display_data"
    }
   ],
   "source": [
    "corrmat = df.corr()\n",
    "sns.heatmap(corrmat,annot = True, cmap = 'coolwarm' )"
   ]
  },
  {
   "cell_type": "code",
   "execution_count": 18,
   "id": "efcbb1f7",
   "metadata": {},
   "outputs": [
    {
     "data": {
      "text/plain": [
       "<seaborn.axisgrid.PairGrid at 0x264c8033a90>"
      ]
     },
     "execution_count": 18,
     "metadata": {},
     "output_type": "execute_result"
    },
    {
     "data": {
      "image/png": "[encoded data removed]",
      "text/plain": [
       "<Figure size 961.04x900 with 30 Axes>"
      ]
     },
     "metadata": {
      "needs_background": "light"
     },
     "output_type": "display_data"
    }
   ],
   "source": [
    "sns.pairplot(df, hue = 'Loan_Status', diag_kws={'bw': 0.1})"
   ]
  },
  {
   "cell_type": "code",
   "execution_count": 19,
   "id": "12b68dfa",
   "metadata": {},
   "outputs": [
    {
     "data": {
      "text/plain": [
       "<AxesSubplot:xlabel='Loan_Status', ylabel='ApplicantIncome'>"
      ]
     },
     "execution_count": 19,
     "metadata": {},
     "output_type": "execute_result"
    },
    {
     "data": {
      "image/png": "[encoded data removed]",
      "text/plain": [
       "<Figure size 432x288 with 1 Axes>"
      ]
     },
     "metadata": {
      "needs_background": "light"
     },
     "output_type": "display_data"
    }
   ],
   "source": [
    "sns.violinplot(data = df, x = 'Loan_Status', y= 'ApplicantIncome', hue = 'Loan_Status', orient = 'v' )"
   ]
  },
  {
   "cell_type": "code",
   "execution_count": 21,
   "id": "7219b31a",
   "metadata": {},
   "outputs": [
    {
     "data": {
      "text/plain": [
       "<AxesSubplot:>"
      ]
     },
     "execution_count": 21,
     "metadata": {},
     "output_type": "execute_result"
    },
    {
     "data": {
      "image/png": "[encoded data removed]",
      "text/plain": [
       "<Figure size 432x288 with 1 Axes>"
      ]
     },
     "metadata": {
      "needs_background": "light"
     },
     "output_type": "display_data"
    }
   ],
   "source": [
    "df.LoanAmount.hist()"
   ]
  },
  {
   "cell_type": "code",
   "execution_count": 20,
   "id": "6430a594",
   "metadata": {},
   "outputs": [
    {
     "data": {
      "image/png": "[encoded data removed]",
      "text/plain": [
       "<Figure size 1224x360 with 5 Axes>"
      ]
     },
     "metadata": {
      "needs_background": "light"
     },
     "output_type": "display_data"
    }
   ],
   "source": [
    "num_cols = ['ApplicantIncome','CoapplicantIncome','LoanAmount','Loan_Amount_Term','Credit_History']\n",
    "fig,axes = plt.subplots(1,5,figsize=(17,5))\n",
    "for idx,num_col in enumerate(num_cols):\n",
    "    sns.boxplot(y=num_col,data=df,x='Loan_Status',ax=axes[idx])\n"
   ]
  },
  {
   "cell_type": "code",
   "execution_count": 22,
   "id": "ba705888",
   "metadata": {},
   "outputs": [
    {
     "data": {
      "image/png": "[encoded data removed]",
      "text/plain": [
       "<Figure size 864x1080 with 8 Axes>"
      ]
     },
     "metadata": {
      "needs_background": "light"
     },
     "output_type": "display_data"
    }
   ],
   "source": [
    "cat_cols = ['Gender','Married', 'Dependents','Education','Self_Employed','Property_Area','Loan_Status']\n",
    "\n",
    "fig,axes = plt.subplots(4,2,figsize=(12,15))\n",
    "for idx,cat_col in enumerate(cat_cols):\n",
    "    row,col = idx//2,idx%2\n",
    "    sns.countplot(x=cat_col,data=df,hue='Loan_Status',ax=axes[row,col])"
   ]
  },
  {
   "cell_type": "code",
   "execution_count": 23,
   "id": "f29f419b",
   "metadata": {},
   "outputs": [
    {
     "data": {
      "text/plain": [
       "<seaborn.axisgrid.FacetGrid at 0x264ca5bcf70>"
      ]
     },
     "execution_count": 23,
     "metadata": {},
     "output_type": "execute_result"
    },
    {
     "data": {
      "image/png": "[encoded data removed]",
      "text/plain": [
       "<Figure size 421.04x360 with 1 Axes>"
      ]
     },
     "metadata": {
      "needs_background": "light"
     },
     "output_type": "display_data"
    }
   ],
   "source": [
    "sns.catplot(data=df, x='Married',y = 'ApplicantIncome', hue ='Loan_Status')"
   ]
  },
  {
   "cell_type": "markdown",
   "id": "a7613317",
   "metadata": {},
   "source": [
    "#### Convert Categorical Columns to Numeric\n"
   ]
  },
  {
   "cell_type": "code",
   "execution_count": 24,
   "id": "b17c29a5",
   "metadata": {
    "scrolled": true
   },
   "outputs": [],
   "source": [
    "#Convert nominal category columns to number\n",
    "cat_cols = ['Gender','Married','Education','Self_Employed','Property_Area','Loan_Status']\n",
    "df = pd.get_dummies(df,columns = cat_cols)"
   ]
  },
  {
   "cell_type": "code",
   "execution_count": 25,
   "id": "38cedb14",
   "metadata": {},
   "outputs": [
    {
     "data": {
      "text/html": [
       "<div>\n",
       "<style scoped>\n",
       "    .dataframe tbody tr th:only-of-type {\n",
       "        vertical-align: middle;\n",
       "    }\n",
       "\n",
       "    .dataframe tbody tr th {\n",
       "        vertical-align: top;\n",
       "    }\n",
       "\n",
       "    .dataframe thead th {\n",
       "        text-align: right;\n",
       "    }\n",
       "</style>\n",
       "<table border=\"1\" class=\"dataframe\">\n",
       "  <thead>\n",
       "    <tr style=\"text-align: right;\">\n",
       "      <th></th>\n",
       "      <th>Dependents</th>\n",
       "      <th>ApplicantIncome</th>\n",
       "      <th>CoapplicantIncome</th>\n",
       "      <th>LoanAmount</th>\n",
       "      <th>Loan_Amount_Term</th>\n",
       "      <th>Credit_History</th>\n",
       "      <th>Gender_Female</th>\n",
       "      <th>Gender_Male</th>\n",
       "      <th>Married_No</th>\n",
       "      <th>Married_Yes</th>\n",
       "      <th>Education_Graduate</th>\n",
       "      <th>Education_Not Graduate</th>\n",
       "      <th>Self_Employed_No</th>\n",
       "      <th>Self_Employed_Yes</th>\n",
       "      <th>Property_Area_Rural</th>\n",
       "      <th>Property_Area_Semiurban</th>\n",
       "      <th>Property_Area_Urban</th>\n",
       "      <th>Loan_Status_N</th>\n",
       "      <th>Loan_Status_Y</th>\n",
       "    </tr>\n",
       "    <tr>\n",
       "      <th>Loan_ID</th>\n",
       "      <th></th>\n",
       "      <th></th>\n",
       "      <th></th>\n",
       "      <th></th>\n",
       "      <th></th>\n",
       "      <th></th>\n",
       "      <th></th>\n",
       "      <th></th>\n",
       "      <th></th>\n",
       "      <th></th>\n",
       "      <th></th>\n",
       "      <th></th>\n",
       "      <th></th>\n",
       "      <th></th>\n",
       "      <th></th>\n",
       "      <th></th>\n",
       "      <th></th>\n",
       "      <th></th>\n",
       "      <th></th>\n",
       "    </tr>\n",
       "  </thead>\n",
       "  <tbody>\n",
       "    <tr>\n",
       "      <th>LP001002</th>\n",
       "      <td>0</td>\n",
       "      <td>5849</td>\n",
       "      <td>0.0000</td>\n",
       "      <td>143.9440</td>\n",
       "      <td>360.0000</td>\n",
       "      <td>1.0000</td>\n",
       "      <td>0</td>\n",
       "      <td>1</td>\n",
       "      <td>1</td>\n",
       "      <td>0</td>\n",
       "      <td>1</td>\n",
       "      <td>0</td>\n",
       "      <td>1</td>\n",
       "      <td>0</td>\n",
       "      <td>0</td>\n",
       "      <td>0</td>\n",
       "      <td>1</td>\n",
       "      <td>0</td>\n",
       "      <td>1</td>\n",
       "    </tr>\n",
       "    <tr>\n",
       "      <th>LP001003</th>\n",
       "      <td>1</td>\n",
       "      <td>4583</td>\n",
       "      <td>1508.0000</td>\n",
       "      <td>128.0000</td>\n",
       "      <td>360.0000</td>\n",
       "      <td>1.0000</td>\n",
       "      <td>0</td>\n",
       "      <td>1</td>\n",
       "      <td>0</td>\n",
       "      <td>1</td>\n",
       "      <td>1</td>\n",
       "      <td>0</td>\n",
       "      <td>1</td>\n",
       "      <td>0</td>\n",
       "      <td>1</td>\n",
       "      <td>0</td>\n",
       "      <td>0</td>\n",
       "      <td>1</td>\n",
       "      <td>0</td>\n",
       "    </tr>\n",
       "    <tr>\n",
       "      <th>LP001005</th>\n",
       "      <td>0</td>\n",
       "      <td>3000</td>\n",
       "      <td>0.0000</td>\n",
       "      <td>66.0000</td>\n",
       "      <td>360.0000</td>\n",
       "      <td>1.0000</td>\n",
       "      <td>0</td>\n",
       "      <td>1</td>\n",
       "      <td>0</td>\n",
       "      <td>1</td>\n",
       "      <td>1</td>\n",
       "      <td>0</td>\n",
       "      <td>0</td>\n",
       "      <td>1</td>\n",
       "      <td>0</td>\n",
       "      <td>0</td>\n",
       "      <td>1</td>\n",
       "      <td>0</td>\n",
       "      <td>1</td>\n",
       "    </tr>\n",
       "    <tr>\n",
       "      <th>LP001006</th>\n",
       "      <td>0</td>\n",
       "      <td>2583</td>\n",
       "      <td>2358.0000</td>\n",
       "      <td>120.0000</td>\n",
       "      <td>360.0000</td>\n",
       "      <td>1.0000</td>\n",
       "      <td>0</td>\n",
       "      <td>1</td>\n",
       "      <td>0</td>\n",
       "      <td>1</td>\n",
       "      <td>0</td>\n",
       "      <td>1</td>\n",
       "      <td>1</td>\n",
       "      <td>0</td>\n",
       "      <td>0</td>\n",
       "      <td>0</td>\n",
       "      <td>1</td>\n",
       "      <td>0</td>\n",
       "      <td>1</td>\n",
       "    </tr>\n",
       "    <tr>\n",
       "      <th>LP001008</th>\n",
       "      <td>0</td>\n",
       "      <td>6000</td>\n",
       "      <td>0.0000</td>\n",
       "      <td>141.0000</td>\n",
       "      <td>360.0000</td>\n",
       "      <td>1.0000</td>\n",
       "      <td>0</td>\n",
       "      <td>1</td>\n",
       "      <td>1</td>\n",
       "      <td>0</td>\n",
       "      <td>1</td>\n",
       "      <td>0</td>\n",
       "      <td>1</td>\n",
       "      <td>0</td>\n",
       "      <td>0</td>\n",
       "      <td>0</td>\n",
       "      <td>1</td>\n",
       "      <td>0</td>\n",
       "      <td>1</td>\n",
       "    </tr>\n",
       "  </tbody>\n",
       "</table>\n",
       "</div>"
      ],
      "text/plain": [
       "         Dependents  ApplicantIncome  CoapplicantIncome  LoanAmount  \\\n",
       "Loan_ID                                                               \n",
       "LP001002          0             5849             0.0000    143.9440   \n",
       "LP001003          1             4583          1508.0000    128.0000   \n",
       "LP001005          0             3000             0.0000     66.0000   \n",
       "LP001006          0             2583          2358.0000    120.0000   \n",
       "LP001008          0             6000             0.0000    141.0000   \n",
       "\n",
       "          Loan_Amount_Term  Credit_History  Gender_Female  Gender_Male  \\\n",
       "Loan_ID                                                                  \n",
       "LP001002          360.0000          1.0000              0            1   \n",
       "LP001003          360.0000          1.0000              0            1   \n",
       "LP001005          360.0000          1.0000              0            1   \n",
       "LP001006          360.0000          1.0000              0            1   \n",
       "LP001008          360.0000          1.0000              0            1   \n",
       "\n",
       "          Married_No  Married_Yes  Education_Graduate  Education_Not Graduate  \\\n",
       "Loan_ID                                                                         \n",
       "LP001002           1            0                   1                       0   \n",
       "LP001003           0            1                   1                       0   \n",
       "LP001005           0            1                   1                       0   \n",
       "LP001006           0            1                   0                       1   \n",
       "LP001008           1            0                   1                       0   \n",
       "\n",
       "          Self_Employed_No  Self_Employed_Yes  Property_Area_Rural  \\\n",
       "Loan_ID                                                              \n",
       "LP001002                 1                  0                    0   \n",
       "LP001003                 1                  0                    1   \n",
       "LP001005                 0                  1                    0   \n",
       "LP001006                 1                  0                    0   \n",
       "LP001008                 1                  0                    0   \n",
       "\n",
       "          Property_Area_Semiurban  Property_Area_Urban  Loan_Status_N  \\\n",
       "Loan_ID                                                                 \n",
       "LP001002                        0                    1              0   \n",
       "LP001003                        0                    0              1   \n",
       "LP001005                        0                    1              0   \n",
       "LP001006                        0                    1              0   \n",
       "LP001008                        0                    1              0   \n",
       "\n",
       "          Loan_Status_Y  \n",
       "Loan_ID                  \n",
       "LP001002              1  \n",
       "LP001003              0  \n",
       "LP001005              1  \n",
       "LP001006              1  \n",
       "LP001008              1  "
      ]
     },
     "execution_count": 25,
     "metadata": {},
     "output_type": "execute_result"
    }
   ],
   "source": [
    "df.head()"
   ]
  },
  {
   "cell_type": "code",
   "execution_count": 26,
   "id": "99ba2324",
   "metadata": {},
   "outputs": [
    {
     "data": {
      "text/html": [
       "<div>\n",
       "<style scoped>\n",
       "    .dataframe tbody tr th:only-of-type {\n",
       "        vertical-align: middle;\n",
       "    }\n",
       "\n",
       "    .dataframe tbody tr th {\n",
       "        vertical-align: top;\n",
       "    }\n",
       "\n",
       "    .dataframe thead th {\n",
       "        text-align: right;\n",
       "    }\n",
       "</style>\n",
       "<table border=\"1\" class=\"dataframe\">\n",
       "  <thead>\n",
       "    <tr style=\"text-align: right;\">\n",
       "      <th></th>\n",
       "      <th>Dependents</th>\n",
       "      <th>Dependents_ord</th>\n",
       "    </tr>\n",
       "    <tr>\n",
       "      <th>Loan_ID</th>\n",
       "      <th></th>\n",
       "      <th></th>\n",
       "    </tr>\n",
       "  </thead>\n",
       "  <tbody>\n",
       "    <tr>\n",
       "      <th>LP001002</th>\n",
       "      <td>0</td>\n",
       "      <td>0.0000</td>\n",
       "    </tr>\n",
       "    <tr>\n",
       "      <th>LP001003</th>\n",
       "      <td>1</td>\n",
       "      <td>1.0000</td>\n",
       "    </tr>\n",
       "    <tr>\n",
       "      <th>LP001005</th>\n",
       "      <td>0</td>\n",
       "      <td>0.0000</td>\n",
       "    </tr>\n",
       "    <tr>\n",
       "      <th>LP001006</th>\n",
       "      <td>0</td>\n",
       "      <td>0.0000</td>\n",
       "    </tr>\n",
       "    <tr>\n",
       "      <th>LP001008</th>\n",
       "      <td>0</td>\n",
       "      <td>0.0000</td>\n",
       "    </tr>\n",
       "    <tr>\n",
       "      <th>LP001011</th>\n",
       "      <td>2</td>\n",
       "      <td>2.0000</td>\n",
       "    </tr>\n",
       "    <tr>\n",
       "      <th>LP001013</th>\n",
       "      <td>0</td>\n",
       "      <td>0.0000</td>\n",
       "    </tr>\n",
       "    <tr>\n",
       "      <th>LP001014</th>\n",
       "      <td>3+</td>\n",
       "      <td>3.0000</td>\n",
       "    </tr>\n",
       "    <tr>\n",
       "      <th>LP001018</th>\n",
       "      <td>2</td>\n",
       "      <td>2.0000</td>\n",
       "    </tr>\n",
       "    <tr>\n",
       "      <th>LP001020</th>\n",
       "      <td>1</td>\n",
       "      <td>1.0000</td>\n",
       "    </tr>\n",
       "  </tbody>\n",
       "</table>\n",
       "</div>"
      ],
      "text/plain": [
       "         Dependents  Dependents_ord\n",
       "Loan_ID                            \n",
       "LP001002          0          0.0000\n",
       "LP001003          1          1.0000\n",
       "LP001005          0          0.0000\n",
       "LP001006          0          0.0000\n",
       "LP001008          0          0.0000\n",
       "LP001011          2          2.0000\n",
       "LP001013          0          0.0000\n",
       "LP001014         3+          3.0000\n",
       "LP001018          2          2.0000\n",
       "LP001020          1          1.0000"
      ]
     },
     "execution_count": 26,
     "metadata": {},
     "output_type": "execute_result"
    }
   ],
   "source": [
    "#convert ordinal category columns to number\n",
    "\n",
    "from sklearn.preprocessing import OrdinalEncoder\n",
    "\n",
    "ord_enc = OrdinalEncoder()\n",
    "df['Dependents_ord'] = ord_enc.fit_transform(df[['Dependents']])\n",
    "\n",
    "#Check encoding\n",
    "df[[\"Dependents\", \"Dependents_ord\"]].head(10)\n"
   ]
  },
  {
   "cell_type": "code",
   "execution_count": 27,
   "id": "558c89a9",
   "metadata": {},
   "outputs": [
    {
     "data": {
      "text/html": [
       "<div>\n",
       "<style scoped>\n",
       "    .dataframe tbody tr th:only-of-type {\n",
       "        vertical-align: middle;\n",
       "    }\n",
       "\n",
       "    .dataframe tbody tr th {\n",
       "        vertical-align: top;\n",
       "    }\n",
       "\n",
       "    .dataframe thead th {\n",
       "        text-align: right;\n",
       "    }\n",
       "</style>\n",
       "<table border=\"1\" class=\"dataframe\">\n",
       "  <thead>\n",
       "    <tr style=\"text-align: right;\">\n",
       "      <th></th>\n",
       "      <th>ApplicantIncome</th>\n",
       "      <th>CoapplicantIncome</th>\n",
       "      <th>LoanAmount</th>\n",
       "      <th>Loan_Amount_Term</th>\n",
       "      <th>Credit_History</th>\n",
       "      <th>Gender_Female</th>\n",
       "      <th>Gender_Male</th>\n",
       "      <th>Married_No</th>\n",
       "      <th>Married_Yes</th>\n",
       "      <th>Education_Graduate</th>\n",
       "      <th>Education_Not Graduate</th>\n",
       "      <th>Self_Employed_No</th>\n",
       "      <th>Self_Employed_Yes</th>\n",
       "      <th>Property_Area_Rural</th>\n",
       "      <th>Property_Area_Semiurban</th>\n",
       "      <th>Property_Area_Urban</th>\n",
       "      <th>Loan_Status_N</th>\n",
       "      <th>Loan_Status_Y</th>\n",
       "      <th>Dependents_ord</th>\n",
       "    </tr>\n",
       "  </thead>\n",
       "  <tbody>\n",
       "    <tr>\n",
       "      <th>ApplicantIncome</th>\n",
       "      <td>1.0000</td>\n",
       "      <td>-0.1177</td>\n",
       "      <td>0.5196</td>\n",
       "      <td>-0.0526</td>\n",
       "      <td>-0.0370</td>\n",
       "      <td>-0.0464</td>\n",
       "      <td>0.0464</td>\n",
       "      <td>-0.0453</td>\n",
       "      <td>0.0453</td>\n",
       "      <td>0.1383</td>\n",
       "      <td>-0.1383</td>\n",
       "      <td>-0.1481</td>\n",
       "      <td>0.1481</td>\n",
       "      <td>0.0303</td>\n",
       "      <td>-0.0021</td>\n",
       "      <td>-0.0274</td>\n",
       "      <td>0.0314</td>\n",
       "      <td>-0.0314</td>\n",
       "      <td>0.0956</td>\n",
       "    </tr>\n",
       "    <tr>\n",
       "      <th>CoapplicantIncome</th>\n",
       "      <td>-0.1177</td>\n",
       "      <td>1.0000</td>\n",
       "      <td>0.1792</td>\n",
       "      <td>-0.0003</td>\n",
       "      <td>0.0015</td>\n",
       "      <td>-0.1536</td>\n",
       "      <td>0.1536</td>\n",
       "      <td>-0.1127</td>\n",
       "      <td>0.1127</td>\n",
       "      <td>0.0621</td>\n",
       "      <td>-0.0621</td>\n",
       "      <td>0.0105</td>\n",
       "      <td>-0.0105</td>\n",
       "      <td>0.0022</td>\n",
       "      <td>-0.0089</td>\n",
       "      <td>0.0071</td>\n",
       "      <td>0.0340</td>\n",
       "      <td>-0.0340</td>\n",
       "      <td>-0.0093</td>\n",
       "    </tr>\n",
       "    <tr>\n",
       "      <th>LoanAmount</th>\n",
       "      <td>0.5196</td>\n",
       "      <td>0.1792</td>\n",
       "      <td>1.0000</td>\n",
       "      <td>0.0327</td>\n",
       "      <td>-0.0221</td>\n",
       "      <td>-0.1049</td>\n",
       "      <td>0.1049</td>\n",
       "      <td>-0.1676</td>\n",
       "      <td>0.1676</td>\n",
       "      <td>0.1684</td>\n",
       "      <td>-0.1684</td>\n",
       "      <td>-0.1123</td>\n",
       "      <td>0.1123</td>\n",
       "      <td>0.0682</td>\n",
       "      <td>0.0193</td>\n",
       "      <td>-0.0868</td>\n",
       "      <td>0.0508</td>\n",
       "      <td>-0.0508</td>\n",
       "      <td>0.1474</td>\n",
       "    </tr>\n",
       "    <tr>\n",
       "      <th>Loan_Amount_Term</th>\n",
       "      <td>-0.0526</td>\n",
       "      <td>-0.0003</td>\n",
       "      <td>0.0327</td>\n",
       "      <td>1.0000</td>\n",
       "      <td>0.0211</td>\n",
       "      <td>0.0942</td>\n",
       "      <td>-0.0942</td>\n",
       "      <td>0.1090</td>\n",
       "      <td>-0.1090</td>\n",
       "      <td>0.0984</td>\n",
       "      <td>-0.0984</td>\n",
       "      <td>0.0266</td>\n",
       "      <td>-0.0266</td>\n",
       "      <td>0.0396</td>\n",
       "      <td>0.0445</td>\n",
       "      <td>-0.0851</td>\n",
       "      <td>0.0024</td>\n",
       "      <td>-0.0024</td>\n",
       "      <td>-0.0897</td>\n",
       "    </tr>\n",
       "    <tr>\n",
       "      <th>Credit_History</th>\n",
       "      <td>-0.0370</td>\n",
       "      <td>0.0015</td>\n",
       "      <td>-0.0221</td>\n",
       "      <td>0.0211</td>\n",
       "      <td>1.0000</td>\n",
       "      <td>-0.0164</td>\n",
       "      <td>0.0164</td>\n",
       "      <td>-0.0113</td>\n",
       "      <td>0.0113</td>\n",
       "      <td>0.0696</td>\n",
       "      <td>-0.0696</td>\n",
       "      <td>0.0223</td>\n",
       "      <td>-0.0223</td>\n",
       "      <td>-0.0230</td>\n",
       "      <td>0.0543</td>\n",
       "      <td>-0.0341</td>\n",
       "      <td>-0.5461</td>\n",
       "      <td>0.5461</td>\n",
       "      <td>-0.0470</td>\n",
       "    </tr>\n",
       "    <tr>\n",
       "      <th>Gender_Female</th>\n",
       "      <td>-0.0464</td>\n",
       "      <td>-0.1536</td>\n",
       "      <td>-0.1049</td>\n",
       "      <td>0.0942</td>\n",
       "      <td>-0.0164</td>\n",
       "      <td>1.0000</td>\n",
       "      <td>-1.0000</td>\n",
       "      <td>0.3617</td>\n",
       "      <td>-0.3617</td>\n",
       "      <td>0.0371</td>\n",
       "      <td>-0.0371</td>\n",
       "      <td>-0.0032</td>\n",
       "      <td>0.0032</td>\n",
       "      <td>-0.0847</td>\n",
       "      <td>0.1230</td>\n",
       "      <td>-0.0454</td>\n",
       "      <td>0.0451</td>\n",
       "      <td>-0.0451</td>\n",
       "      <td>-0.1845</td>\n",
       "    </tr>\n",
       "    <tr>\n",
       "      <th>Gender_Male</th>\n",
       "      <td>0.0464</td>\n",
       "      <td>0.1536</td>\n",
       "      <td>0.1049</td>\n",
       "      <td>-0.0942</td>\n",
       "      <td>0.0164</td>\n",
       "      <td>-1.0000</td>\n",
       "      <td>1.0000</td>\n",
       "      <td>-0.3617</td>\n",
       "      <td>0.3617</td>\n",
       "      <td>-0.0371</td>\n",
       "      <td>0.0371</td>\n",
       "      <td>0.0032</td>\n",
       "      <td>-0.0032</td>\n",
       "      <td>0.0847</td>\n",
       "      <td>-0.1230</td>\n",
       "      <td>0.0454</td>\n",
       "      <td>-0.0451</td>\n",
       "      <td>0.0451</td>\n",
       "      <td>0.1845</td>\n",
       "    </tr>\n",
       "    <tr>\n",
       "      <th>Married_No</th>\n",
       "      <td>-0.0453</td>\n",
       "      <td>-0.1127</td>\n",
       "      <td>-0.1676</td>\n",
       "      <td>0.1090</td>\n",
       "      <td>-0.0113</td>\n",
       "      <td>0.3617</td>\n",
       "      <td>-0.3617</td>\n",
       "      <td>1.0000</td>\n",
       "      <td>-1.0000</td>\n",
       "      <td>-0.0050</td>\n",
       "      <td>0.0050</td>\n",
       "      <td>0.0234</td>\n",
       "      <td>-0.0234</td>\n",
       "      <td>0.0268</td>\n",
       "      <td>-0.0052</td>\n",
       "      <td>-0.0208</td>\n",
       "      <td>0.0916</td>\n",
       "      <td>-0.0916</td>\n",
       "      <td>-0.3698</td>\n",
       "    </tr>\n",
       "    <tr>\n",
       "      <th>Married_Yes</th>\n",
       "      <td>0.0453</td>\n",
       "      <td>0.1127</td>\n",
       "      <td>0.1676</td>\n",
       "      <td>-0.1090</td>\n",
       "      <td>0.0113</td>\n",
       "      <td>-0.3617</td>\n",
       "      <td>0.3617</td>\n",
       "      <td>-1.0000</td>\n",
       "      <td>1.0000</td>\n",
       "      <td>0.0050</td>\n",
       "      <td>-0.0050</td>\n",
       "      <td>-0.0234</td>\n",
       "      <td>0.0234</td>\n",
       "      <td>-0.0268</td>\n",
       "      <td>0.0052</td>\n",
       "      <td>0.0208</td>\n",
       "      <td>-0.0916</td>\n",
       "      <td>0.0916</td>\n",
       "      <td>0.3698</td>\n",
       "    </tr>\n",
       "    <tr>\n",
       "      <th>Education_Graduate</th>\n",
       "      <td>0.1383</td>\n",
       "      <td>0.0621</td>\n",
       "      <td>0.1684</td>\n",
       "      <td>0.0984</td>\n",
       "      <td>0.0696</td>\n",
       "      <td>0.0371</td>\n",
       "      <td>-0.0371</td>\n",
       "      <td>-0.0050</td>\n",
       "      <td>0.0050</td>\n",
       "      <td>1.0000</td>\n",
       "      <td>-1.0000</td>\n",
       "      <td>-0.0151</td>\n",
       "      <td>0.0151</td>\n",
       "      <td>-0.0759</td>\n",
       "      <td>0.0605</td>\n",
       "      <td>0.0112</td>\n",
       "      <td>-0.0850</td>\n",
       "      <td>0.0850</td>\n",
       "      <td>-0.0332</td>\n",
       "    </tr>\n",
       "    <tr>\n",
       "      <th>Education_Not Graduate</th>\n",
       "      <td>-0.1383</td>\n",
       "      <td>-0.0621</td>\n",
       "      <td>-0.1684</td>\n",
       "      <td>-0.0984</td>\n",
       "      <td>-0.0696</td>\n",
       "      <td>-0.0371</td>\n",
       "      <td>0.0371</td>\n",
       "      <td>0.0050</td>\n",
       "      <td>-0.0050</td>\n",
       "      <td>-1.0000</td>\n",
       "      <td>1.0000</td>\n",
       "      <td>0.0151</td>\n",
       "      <td>-0.0151</td>\n",
       "      <td>0.0759</td>\n",
       "      <td>-0.0605</td>\n",
       "      <td>-0.0112</td>\n",
       "      <td>0.0850</td>\n",
       "      <td>-0.0850</td>\n",
       "      <td>0.0332</td>\n",
       "    </tr>\n",
       "    <tr>\n",
       "      <th>Self_Employed_No</th>\n",
       "      <td>-0.1481</td>\n",
       "      <td>0.0105</td>\n",
       "      <td>-0.1123</td>\n",
       "      <td>0.0266</td>\n",
       "      <td>0.0223</td>\n",
       "      <td>-0.0032</td>\n",
       "      <td>0.0032</td>\n",
       "      <td>0.0234</td>\n",
       "      <td>-0.0234</td>\n",
       "      <td>-0.0151</td>\n",
       "      <td>0.0151</td>\n",
       "      <td>1.0000</td>\n",
       "      <td>-1.0000</td>\n",
       "      <td>-0.0397</td>\n",
       "      <td>-0.0017</td>\n",
       "      <td>0.0406</td>\n",
       "      <td>-0.0251</td>\n",
       "      <td>0.0251</td>\n",
       "      <td>-0.0521</td>\n",
       "    </tr>\n",
       "    <tr>\n",
       "      <th>Self_Employed_Yes</th>\n",
       "      <td>0.1481</td>\n",
       "      <td>-0.0105</td>\n",
       "      <td>0.1123</td>\n",
       "      <td>-0.0266</td>\n",
       "      <td>-0.0223</td>\n",
       "      <td>0.0032</td>\n",
       "      <td>-0.0032</td>\n",
       "      <td>-0.0234</td>\n",
       "      <td>0.0234</td>\n",
       "      <td>0.0151</td>\n",
       "      <td>-0.0151</td>\n",
       "      <td>-1.0000</td>\n",
       "      <td>1.0000</td>\n",
       "      <td>0.0397</td>\n",
       "      <td>0.0017</td>\n",
       "      <td>-0.0406</td>\n",
       "      <td>0.0251</td>\n",
       "      <td>-0.0251</td>\n",
       "      <td>0.0521</td>\n",
       "    </tr>\n",
       "    <tr>\n",
       "      <th>Property_Area_Rural</th>\n",
       "      <td>0.0303</td>\n",
       "      <td>0.0022</td>\n",
       "      <td>0.0682</td>\n",
       "      <td>0.0396</td>\n",
       "      <td>-0.0230</td>\n",
       "      <td>-0.0847</td>\n",
       "      <td>0.0847</td>\n",
       "      <td>0.0268</td>\n",
       "      <td>-0.0268</td>\n",
       "      <td>-0.0759</td>\n",
       "      <td>0.0759</td>\n",
       "      <td>-0.0397</td>\n",
       "      <td>0.0397</td>\n",
       "      <td>1.0000</td>\n",
       "      <td>-0.5116</td>\n",
       "      <td>-0.4452</td>\n",
       "      <td>0.1078</td>\n",
       "      <td>-0.1078</td>\n",
       "      <td>-0.0016</td>\n",
       "    </tr>\n",
       "    <tr>\n",
       "      <th>Property_Area_Semiurban</th>\n",
       "      <td>-0.0021</td>\n",
       "      <td>-0.0089</td>\n",
       "      <td>0.0193</td>\n",
       "      <td>0.0445</td>\n",
       "      <td>0.0543</td>\n",
       "      <td>0.1230</td>\n",
       "      <td>-0.1230</td>\n",
       "      <td>-0.0052</td>\n",
       "      <td>0.0052</td>\n",
       "      <td>0.0605</td>\n",
       "      <td>-0.0605</td>\n",
       "      <td>-0.0017</td>\n",
       "      <td>0.0017</td>\n",
       "      <td>-0.5116</td>\n",
       "      <td>1.0000</td>\n",
       "      <td>-0.5415</td>\n",
       "      <td>-0.1606</td>\n",
       "      <td>0.1606</td>\n",
       "      <td>-0.0162</td>\n",
       "    </tr>\n",
       "    <tr>\n",
       "      <th>Property_Area_Urban</th>\n",
       "      <td>-0.0274</td>\n",
       "      <td>0.0071</td>\n",
       "      <td>-0.0868</td>\n",
       "      <td>-0.0851</td>\n",
       "      <td>-0.0341</td>\n",
       "      <td>-0.0454</td>\n",
       "      <td>0.0454</td>\n",
       "      <td>-0.0208</td>\n",
       "      <td>0.0208</td>\n",
       "      <td>0.0112</td>\n",
       "      <td>-0.0112</td>\n",
       "      <td>0.0406</td>\n",
       "      <td>-0.0406</td>\n",
       "      <td>-0.4452</td>\n",
       "      <td>-0.5415</td>\n",
       "      <td>1.0000</td>\n",
       "      <td>0.0619</td>\n",
       "      <td>-0.0619</td>\n",
       "      <td>0.0184</td>\n",
       "    </tr>\n",
       "    <tr>\n",
       "      <th>Loan_Status_N</th>\n",
       "      <td>0.0314</td>\n",
       "      <td>0.0340</td>\n",
       "      <td>0.0508</td>\n",
       "      <td>0.0024</td>\n",
       "      <td>-0.5461</td>\n",
       "      <td>0.0451</td>\n",
       "      <td>-0.0451</td>\n",
       "      <td>0.0916</td>\n",
       "      <td>-0.0916</td>\n",
       "      <td>-0.0850</td>\n",
       "      <td>0.0850</td>\n",
       "      <td>-0.0251</td>\n",
       "      <td>0.0251</td>\n",
       "      <td>0.1078</td>\n",
       "      <td>-0.1606</td>\n",
       "      <td>0.0619</td>\n",
       "      <td>1.0000</td>\n",
       "      <td>-1.0000</td>\n",
       "      <td>-0.0169</td>\n",
       "    </tr>\n",
       "    <tr>\n",
       "      <th>Loan_Status_Y</th>\n",
       "      <td>-0.0314</td>\n",
       "      <td>-0.0340</td>\n",
       "      <td>-0.0508</td>\n",
       "      <td>-0.0024</td>\n",
       "      <td>0.5461</td>\n",
       "      <td>-0.0451</td>\n",
       "      <td>0.0451</td>\n",
       "      <td>-0.0916</td>\n",
       "      <td>0.0916</td>\n",
       "      <td>0.0850</td>\n",
       "      <td>-0.0850</td>\n",
       "      <td>0.0251</td>\n",
       "      <td>-0.0251</td>\n",
       "      <td>-0.1078</td>\n",
       "      <td>0.1606</td>\n",
       "      <td>-0.0619</td>\n",
       "      <td>-1.0000</td>\n",
       "      <td>1.0000</td>\n",
       "      <td>0.0169</td>\n",
       "    </tr>\n",
       "    <tr>\n",
       "      <th>Dependents_ord</th>\n",
       "      <td>0.0956</td>\n",
       "      <td>-0.0093</td>\n",
       "      <td>0.1474</td>\n",
       "      <td>-0.0897</td>\n",
       "      <td>-0.0470</td>\n",
       "      <td>-0.1845</td>\n",
       "      <td>0.1845</td>\n",
       "      <td>-0.3698</td>\n",
       "      <td>0.3698</td>\n",
       "      <td>-0.0332</td>\n",
       "      <td>0.0332</td>\n",
       "      <td>-0.0521</td>\n",
       "      <td>0.0521</td>\n",
       "      <td>-0.0016</td>\n",
       "      <td>-0.0162</td>\n",
       "      <td>0.0184</td>\n",
       "      <td>-0.0169</td>\n",
       "      <td>0.0169</td>\n",
       "      <td>1.0000</td>\n",
       "    </tr>\n",
       "  </tbody>\n",
       "</table>\n",
       "</div>"
      ],
      "text/plain": [
       "                         ApplicantIncome  CoapplicantIncome  LoanAmount  \\\n",
       "ApplicantIncome                   1.0000            -0.1177      0.5196   \n",
       "CoapplicantIncome                -0.1177             1.0000      0.1792   \n",
       "LoanAmount                        0.5196             0.1792      1.0000   \n",
       "Loan_Amount_Term                 -0.0526            -0.0003      0.0327   \n",
       "Credit_History                   -0.0370             0.0015     -0.0221   \n",
       "Gender_Female                    -0.0464            -0.1536     -0.1049   \n",
       "Gender_Male                       0.0464             0.1536      0.1049   \n",
       "Married_No                       -0.0453            -0.1127     -0.1676   \n",
       "Married_Yes                       0.0453             0.1127      0.1676   \n",
       "Education_Graduate                0.1383             0.0621      0.1684   \n",
       "Education_Not Graduate           -0.1383            -0.0621     -0.1684   \n",
       "Self_Employed_No                 -0.1481             0.0105     -0.1123   \n",
       "Self_Employed_Yes                 0.1481            -0.0105      0.1123   \n",
       "Property_Area_Rural               0.0303             0.0022      0.0682   \n",
       "Property_Area_Semiurban          -0.0021            -0.0089      0.0193   \n",
       "Property_Area_Urban              -0.0274             0.0071     -0.0868   \n",
       "Loan_Status_N                     0.0314             0.0340      0.0508   \n",
       "Loan_Status_Y                    -0.0314            -0.0340     -0.0508   \n",
       "Dependents_ord                    0.0956            -0.0093      0.1474   \n",
       "\n",
       "                         Loan_Amount_Term  Credit_History  Gender_Female  \\\n",
       "ApplicantIncome                   -0.0526         -0.0370        -0.0464   \n",
       "CoapplicantIncome                 -0.0003          0.0015        -0.1536   \n",
       "LoanAmount                         0.0327         -0.0221        -0.1049   \n",
       "Loan_Amount_Term                   1.0000          0.0211         0.0942   \n",
       "Credit_History                     0.0211          1.0000        -0.0164   \n",
       "Gender_Female                      0.0942         -0.0164         1.0000   \n",
       "Gender_Male                       -0.0942          0.0164        -1.0000   \n",
       "Married_No                         0.1090         -0.0113         0.3617   \n",
       "Married_Yes                       -0.1090          0.0113        -0.3617   \n",
       "Education_Graduate                 0.0984          0.0696         0.0371   \n",
       "Education_Not Graduate            -0.0984         -0.0696        -0.0371   \n",
       "Self_Employed_No                   0.0266          0.0223        -0.0032   \n",
       "Self_Employed_Yes                 -0.0266         -0.0223         0.0032   \n",
       "Property_Area_Rural                0.0396         -0.0230        -0.0847   \n",
       "Property_Area_Semiurban            0.0445          0.0543         0.1230   \n",
       "Property_Area_Urban               -0.0851         -0.0341        -0.0454   \n",
       "Loan_Status_N                      0.0024         -0.5461         0.0451   \n",
       "Loan_Status_Y                     -0.0024          0.5461        -0.0451   \n",
       "Dependents_ord                    -0.0897         -0.0470        -0.1845   \n",
       "\n",
       "                         Gender_Male  Married_No  Married_Yes  \\\n",
       "ApplicantIncome               0.0464     -0.0453       0.0453   \n",
       "CoapplicantIncome             0.1536     -0.1127       0.1127   \n",
       "LoanAmount                    0.1049     -0.1676       0.1676   \n",
       "Loan_Amount_Term             -0.0942      0.1090      -0.1090   \n",
       "Credit_History                0.0164     -0.0113       0.0113   \n",
       "Gender_Female                -1.0000      0.3617      -0.3617   \n",
       "Gender_Male                   1.0000     -0.3617       0.3617   \n",
       "Married_No                   -0.3617      1.0000      -1.0000   \n",
       "Married_Yes                   0.3617     -1.0000       1.0000   \n",
       "Education_Graduate           -0.0371     -0.0050       0.0050   \n",
       "Education_Not Graduate        0.0371      0.0050      -0.0050   \n",
       "Self_Employed_No              0.0032      0.0234      -0.0234   \n",
       "Self_Employed_Yes            -0.0032     -0.0234       0.0234   \n",
       "Property_Area_Rural           0.0847      0.0268      -0.0268   \n",
       "Property_Area_Semiurban      -0.1230     -0.0052       0.0052   \n",
       "Property_Area_Urban           0.0454     -0.0208       0.0208   \n",
       "Loan_Status_N                -0.0451      0.0916      -0.0916   \n",
       "Loan_Status_Y                 0.0451     -0.0916       0.0916   \n",
       "Dependents_ord                0.1845     -0.3698       0.3698   \n",
       "\n",
       "                         Education_Graduate  Education_Not Graduate  \\\n",
       "ApplicantIncome                      0.1383                 -0.1383   \n",
       "CoapplicantIncome                    0.0621                 -0.0621   \n",
       "LoanAmount                           0.1684                 -0.1684   \n",
       "Loan_Amount_Term                     0.0984                 -0.0984   \n",
       "Credit_History                       0.0696                 -0.0696   \n",
       "Gender_Female                        0.0371                 -0.0371   \n",
       "Gender_Male                         -0.0371                  0.0371   \n",
       "Married_No                          -0.0050                  0.0050   \n",
       "Married_Yes                          0.0050                 -0.0050   \n",
       "Education_Graduate                   1.0000                 -1.0000   \n",
       "Education_Not Graduate              -1.0000                  1.0000   \n",
       "Self_Employed_No                    -0.0151                  0.0151   \n",
       "Self_Employed_Yes                    0.0151                 -0.0151   \n",
       "Property_Area_Rural                 -0.0759                  0.0759   \n",
       "Property_Area_Semiurban              0.0605                 -0.0605   \n",
       "Property_Area_Urban                  0.0112                 -0.0112   \n",
       "Loan_Status_N                       -0.0850                  0.0850   \n",
       "Loan_Status_Y                        0.0850                 -0.0850   \n",
       "Dependents_ord                      -0.0332                  0.0332   \n",
       "\n",
       "                         Self_Employed_No  Self_Employed_Yes  \\\n",
       "ApplicantIncome                   -0.1481             0.1481   \n",
       "CoapplicantIncome                  0.0105            -0.0105   \n",
       "LoanAmount                        -0.1123             0.1123   \n",
       "Loan_Amount_Term                   0.0266            -0.0266   \n",
       "Credit_History                     0.0223            -0.0223   \n",
       "Gender_Female                     -0.0032             0.0032   \n",
       "Gender_Male                        0.0032            -0.0032   \n",
       "Married_No                         0.0234            -0.0234   \n",
       "Married_Yes                       -0.0234             0.0234   \n",
       "Education_Graduate                -0.0151             0.0151   \n",
       "Education_Not Graduate             0.0151            -0.0151   \n",
       "Self_Employed_No                   1.0000            -1.0000   \n",
       "Self_Employed_Yes                 -1.0000             1.0000   \n",
       "Property_Area_Rural               -0.0397             0.0397   \n",
       "Property_Area_Semiurban           -0.0017             0.0017   \n",
       "Property_Area_Urban                0.0406            -0.0406   \n",
       "Loan_Status_N                     -0.0251             0.0251   \n",
       "Loan_Status_Y                      0.0251            -0.0251   \n",
       "Dependents_ord                    -0.0521             0.0521   \n",
       "\n",
       "                         Property_Area_Rural  Property_Area_Semiurban  \\\n",
       "ApplicantIncome                       0.0303                  -0.0021   \n",
       "CoapplicantIncome                     0.0022                  -0.0089   \n",
       "LoanAmount                            0.0682                   0.0193   \n",
       "Loan_Amount_Term                      0.0396                   0.0445   \n",
       "Credit_History                       -0.0230                   0.0543   \n",
       "Gender_Female                        -0.0847                   0.1230   \n",
       "Gender_Male                           0.0847                  -0.1230   \n",
       "Married_No                            0.0268                  -0.0052   \n",
       "Married_Yes                          -0.0268                   0.0052   \n",
       "Education_Graduate                   -0.0759                   0.0605   \n",
       "Education_Not Graduate                0.0759                  -0.0605   \n",
       "Self_Employed_No                     -0.0397                  -0.0017   \n",
       "Self_Employed_Yes                     0.0397                   0.0017   \n",
       "Property_Area_Rural                   1.0000                  -0.5116   \n",
       "Property_Area_Semiurban              -0.5116                   1.0000   \n",
       "Property_Area_Urban                  -0.4452                  -0.5415   \n",
       "Loan_Status_N                         0.1078                  -0.1606   \n",
       "Loan_Status_Y                        -0.1078                   0.1606   \n",
       "Dependents_ord                       -0.0016                  -0.0162   \n",
       "\n",
       "                         Property_Area_Urban  Loan_Status_N  Loan_Status_Y  \\\n",
       "ApplicantIncome                      -0.0274         0.0314        -0.0314   \n",
       "CoapplicantIncome                     0.0071         0.0340        -0.0340   \n",
       "LoanAmount                           -0.0868         0.0508        -0.0508   \n",
       "Loan_Amount_Term                     -0.0851         0.0024        -0.0024   \n",
       "Credit_History                       -0.0341        -0.5461         0.5461   \n",
       "Gender_Female                        -0.0454         0.0451        -0.0451   \n",
       "Gender_Male                           0.0454        -0.0451         0.0451   \n",
       "Married_No                           -0.0208         0.0916        -0.0916   \n",
       "Married_Yes                           0.0208        -0.0916         0.0916   \n",
       "Education_Graduate                    0.0112        -0.0850         0.0850   \n",
       "Education_Not Graduate               -0.0112         0.0850        -0.0850   \n",
       "Self_Employed_No                      0.0406        -0.0251         0.0251   \n",
       "Self_Employed_Yes                    -0.0406         0.0251        -0.0251   \n",
       "Property_Area_Rural                  -0.4452         0.1078        -0.1078   \n",
       "Property_Area_Semiurban              -0.5415        -0.1606         0.1606   \n",
       "Property_Area_Urban                   1.0000         0.0619        -0.0619   \n",
       "Loan_Status_N                         0.0619         1.0000        -1.0000   \n",
       "Loan_Status_Y                        -0.0619        -1.0000         1.0000   \n",
       "Dependents_ord                        0.0184        -0.0169         0.0169   \n",
       "\n",
       "                         Dependents_ord  \n",
       "ApplicantIncome                  0.0956  \n",
       "CoapplicantIncome               -0.0093  \n",
       "LoanAmount                       0.1474  \n",
       "Loan_Amount_Term                -0.0897  \n",
       "Credit_History                  -0.0470  \n",
       "Gender_Female                   -0.1845  \n",
       "Gender_Male                      0.1845  \n",
       "Married_No                      -0.3698  \n",
       "Married_Yes                      0.3698  \n",
       "Education_Graduate              -0.0332  \n",
       "Education_Not Graduate           0.0332  \n",
       "Self_Employed_No                -0.0521  \n",
       "Self_Employed_Yes                0.0521  \n",
       "Property_Area_Rural             -0.0016  \n",
       "Property_Area_Semiurban         -0.0162  \n",
       "Property_Area_Urban              0.0184  \n",
       "Loan_Status_N                   -0.0169  \n",
       "Loan_Status_Y                    0.0169  \n",
       "Dependents_ord                   1.0000  "
      ]
     },
     "execution_count": 27,
     "metadata": {},
     "output_type": "execute_result"
    }
   ],
   "source": [
    "df.corr()"
   ]
  },
  {
   "cell_type": "code",
   "execution_count": 28,
   "id": "81f386a0",
   "metadata": {},
   "outputs": [],
   "source": [
    "to_drop = ['Gender_Female', 'Married_No', 'Education_Not Graduate', 'Loan_Status_N','Dependents']\n",
    "df.drop(to_drop, axis = 1, inplace = True)"
   ]
  },
  {
   "cell_type": "code",
   "execution_count": 30,
   "id": "009b96d3",
   "metadata": {},
   "outputs": [],
   "source": [
    "## df.to_csv('Loans_Prep.csv')\n"
   ]
  },
  {
   "cell_type": "markdown",
   "id": "311f0172",
   "metadata": {},
   "source": [
    "### Build the Model\n"
   ]
  },
  {
   "cell_type": "markdown",
   "id": "bdd3f6f9",
   "metadata": {},
   "source": [
    "#### Split into Train and Test\n"
   ]
  },
  {
   "cell_type": "code",
   "execution_count": 31,
   "id": "58591835",
   "metadata": {},
   "outputs": [],
   "source": [
    "#Separate the Features and the Target Variable\n",
    "x = df.drop([\"Loan_Status_Y\"], axis=1)\n",
    "y = df[\"Loan_Status_Y\"]"
   ]
  },
  {
   "cell_type": "code",
   "execution_count": 32,
   "id": "cafa5e78",
   "metadata": {},
   "outputs": [],
   "source": [
    "#Split the dataset into training and test sets\n",
    "x_train, x_test, y_train, y_test = train_test_split(x, y, test_size=0.25, random_state=101)"
   ]
  },
  {
   "cell_type": "code",
   "execution_count": 33,
   "id": "c28ea387",
   "metadata": {},
   "outputs": [
    {
     "data": {
      "text/plain": [
       "((402, 14), (135, 14), (402,), (135,))"
      ]
     },
     "execution_count": 33,
     "metadata": {},
     "output_type": "execute_result"
    }
   ],
   "source": [
    "#Check shape to make sure it is all in order\n",
    "x_train.shape, x_test.shape, y_train.shape, y_test.shape"
   ]
  },
  {
   "cell_type": "code",
   "execution_count": 34,
   "id": "b34650e0",
   "metadata": {},
   "outputs": [],
   "source": [
    "#NOTE: Only scale the predictor variables, NOT the target variable\n",
    "\n",
    "#Instantiate the Scaler\n",
    "scaler = MinMaxScaler()\n",
    "\n",
    "#Fit and Transform to the Train Set"
   ]
  },
  {
   "cell_type": "code",
   "execution_count": 35,
   "id": "ef0d86dc",
   "metadata": {},
   "outputs": [],
   "source": [
    "x_train_scaled = scaler.fit_transform(x_train)\n",
    "\n",
    "#Transform the Test Set\n",
    "x_test_scaled = scaler.transform(x_test)"
   ]
  },
  {
   "cell_type": "markdown",
   "id": "0af32ff5",
   "metadata": {},
   "source": [
    "### Train the Model"
   ]
  },
  {
   "cell_type": "markdown",
   "id": "607b743a",
   "metadata": {},
   "source": [
    "**Logistic Regression**\n",
    "C = Inverse of regularization strength; must be a positive float. Smaller values specify stronger regularization.\n",
    "\n"
   ]
  },
  {
   "cell_type": "code",
   "execution_count": 36,
   "id": "1cd0ec65",
   "metadata": {},
   "outputs": [
    {
     "data": {
      "text/plain": [
       "LogisticRegression(class_weight='balanced', random_state=25, solver='liblinear')"
      ]
     },
     "execution_count": 36,
     "metadata": {},
     "output_type": "execute_result"
    }
   ],
   "source": [
    "#Instantiate the Algorithm \n",
    "logreg = LogisticRegression(C=1.0, class_weight=\"balanced\", solver='liblinear', random_state=25)\n",
    "\n",
    "#Train/Fit the model\n",
    "logreg.fit(x_train_scaled, y_train)\n"
   ]
  },
  {
   "cell_type": "code",
   "execution_count": 37,
   "id": "3b5e2ef7",
   "metadata": {},
   "outputs": [
    {
     "name": "stdout",
     "output_type": "stream",
     "text": [
      "[[-0.44797047 -0.4333446  -0.77636425 -0.28165929  2.91450979  0.39060355\n",
      "   0.42736188  0.20298755 -0.70222272 -0.7667915  -0.91313234  0.07963253\n",
      "  -0.63551441 -0.24185814]]\n"
     ]
    }
   ],
   "source": [
    "#Check the Trained Model Coefficients\n",
    "print(logreg.coef_)"
   ]
  },
  {
   "cell_type": "code",
   "execution_count": 38,
   "id": "3de73f1c",
   "metadata": {},
   "outputs": [
    {
     "data": {
      "text/html": [
       "<div>\n",
       "<style scoped>\n",
       "    .dataframe tbody tr th:only-of-type {\n",
       "        vertical-align: middle;\n",
       "    }\n",
       "\n",
       "    .dataframe tbody tr th {\n",
       "        vertical-align: top;\n",
       "    }\n",
       "\n",
       "    .dataframe thead th {\n",
       "        text-align: right;\n",
       "    }\n",
       "</style>\n",
       "<table border=\"1\" class=\"dataframe\">\n",
       "  <thead>\n",
       "    <tr style=\"text-align: right;\">\n",
       "      <th></th>\n",
       "      <th>Features</th>\n",
       "      <th>Coef</th>\n",
       "    </tr>\n",
       "  </thead>\n",
       "  <tbody>\n",
       "    <tr>\n",
       "      <th>4</th>\n",
       "      <td>Credit_History</td>\n",
       "      <td>2.9145</td>\n",
       "    </tr>\n",
       "    <tr>\n",
       "      <th>6</th>\n",
       "      <td>Married_Yes</td>\n",
       "      <td>0.4274</td>\n",
       "    </tr>\n",
       "    <tr>\n",
       "      <th>5</th>\n",
       "      <td>Gender_Male</td>\n",
       "      <td>0.3906</td>\n",
       "    </tr>\n",
       "    <tr>\n",
       "      <th>7</th>\n",
       "      <td>Education_Graduate</td>\n",
       "      <td>0.2030</td>\n",
       "    </tr>\n",
       "    <tr>\n",
       "      <th>11</th>\n",
       "      <td>Property_Area_Semiurban</td>\n",
       "      <td>0.0796</td>\n",
       "    </tr>\n",
       "    <tr>\n",
       "      <th>13</th>\n",
       "      <td>Dependents_ord</td>\n",
       "      <td>-0.2419</td>\n",
       "    </tr>\n",
       "    <tr>\n",
       "      <th>3</th>\n",
       "      <td>Loan_Amount_Term</td>\n",
       "      <td>-0.2817</td>\n",
       "    </tr>\n",
       "    <tr>\n",
       "      <th>1</th>\n",
       "      <td>CoapplicantIncome</td>\n",
       "      <td>-0.4333</td>\n",
       "    </tr>\n",
       "    <tr>\n",
       "      <th>0</th>\n",
       "      <td>ApplicantIncome</td>\n",
       "      <td>-0.4480</td>\n",
       "    </tr>\n",
       "    <tr>\n",
       "      <th>12</th>\n",
       "      <td>Property_Area_Urban</td>\n",
       "      <td>-0.6355</td>\n",
       "    </tr>\n",
       "  </tbody>\n",
       "</table>\n",
       "</div>"
      ],
      "text/plain": [
       "                   Features    Coef\n",
       "4            Credit_History  2.9145\n",
       "6               Married_Yes  0.4274\n",
       "5               Gender_Male  0.3906\n",
       "7        Education_Graduate  0.2030\n",
       "11  Property_Area_Semiurban  0.0796\n",
       "13           Dependents_ord -0.2419\n",
       "3          Loan_Amount_Term -0.2817\n",
       "1         CoapplicantIncome -0.4333\n",
       "0           ApplicantIncome -0.4480\n",
       "12      Property_Area_Urban -0.6355"
      ]
     },
     "execution_count": 38,
     "metadata": {},
     "output_type": "execute_result"
    }
   ],
   "source": [
    "#Create a DataFrame for easy understanding. 1st Column will be Feature Names, 2nd column will be the Coef values\n",
    "\n",
    "coef = pd.DataFrame(x_train.columns, columns=[\"Features\"])\n",
    "\n",
    "coef['Coef'] = logreg.coef_.reshape(-1,1)\n",
    "\n",
    "#Optional: Sort Descending (highest value first) \n",
    "coef_sorted = coef.sort_values(\"Coef\", ascending=False)\n",
    "\n",
    "coef_sorted.head(10)"
   ]
  },
  {
   "cell_type": "code",
   "execution_count": 39,
   "id": "60a2bf6a",
   "metadata": {},
   "outputs": [],
   "source": [
    "#Make Predictions\n",
    "y_pred = logreg.predict(x_test_scaled)"
   ]
  },
  {
   "cell_type": "code",
   "execution_count": 40,
   "id": "272ef2c4",
   "metadata": {
    "collapsed": true
   },
   "outputs": [
    {
     "data": {
      "text/plain": [
       "array([[0.42831164, 0.57168836],\n",
       "       [0.20814084, 0.79185916],\n",
       "       [0.94821759, 0.05178241],\n",
       "       [0.45655109, 0.54344891],\n",
       "       [0.42368542, 0.57631458],\n",
       "       [0.32833481, 0.67166519],\n",
       "       [0.32364925, 0.67635075],\n",
       "       [0.95290054, 0.04709946],\n",
       "       [0.19295107, 0.80704893],\n",
       "       [0.38061841, 0.61938159],\n",
       "       [0.37468741, 0.62531259],\n",
       "       [0.27182293, 0.72817707],\n",
       "       [0.20343662, 0.79656338],\n",
       "       [0.36617951, 0.63382049],\n",
       "       [0.37889842, 0.62110158],\n",
       "       [0.3074068 , 0.6925932 ],\n",
       "       [0.43591403, 0.56408597],\n",
       "       [0.89337471, 0.10662529],\n",
       "       [0.3800745 , 0.6199255 ],\n",
       "       [0.84664821, 0.15335179],\n",
       "       [0.38830606, 0.61169394],\n",
       "       [0.32070771, 0.67929229],\n",
       "       [0.36430872, 0.63569128],\n",
       "       [0.93431781, 0.06568219],\n",
       "       [0.36744445, 0.63255555],\n",
       "       [0.2153313 , 0.7846687 ],\n",
       "       [0.40723802, 0.59276198],\n",
       "       [0.89513637, 0.10486363],\n",
       "       [0.22798071, 0.77201929],\n",
       "       [0.40903554, 0.59096446],\n",
       "       [0.31237698, 0.68762302],\n",
       "       [0.56955543, 0.43044457],\n",
       "       [0.32812155, 0.67187845],\n",
       "       [0.3710604 , 0.6289396 ],\n",
       "       [0.42017117, 0.57982883],\n",
       "       [0.35639544, 0.64360456],\n",
       "       [0.44351734, 0.55648266],\n",
       "       [0.22952918, 0.77047082],\n",
       "       [0.92605362, 0.07394638],\n",
       "       [0.26276053, 0.73723947],\n",
       "       [0.42800392, 0.57199608],\n",
       "       [0.8568811 , 0.1431189 ],\n",
       "       [0.19974292, 0.80025708],\n",
       "       [0.9186441 , 0.0813559 ],\n",
       "       [0.4106601 , 0.5893399 ],\n",
       "       [0.28868576, 0.71131424],\n",
       "       [0.38667729, 0.61332271],\n",
       "       [0.33282909, 0.66717091],\n",
       "       [0.19608521, 0.80391479],\n",
       "       [0.30411154, 0.69588846],\n",
       "       [0.31692521, 0.68307479],\n",
       "       [0.43501664, 0.56498336],\n",
       "       [0.51762934, 0.48237066],\n",
       "       [0.91887167, 0.08112833],\n",
       "       [0.36038324, 0.63961676],\n",
       "       [0.27252183, 0.72747817],\n",
       "       [0.2671043 , 0.7328957 ],\n",
       "       [0.56643618, 0.43356382],\n",
       "       [0.33011568, 0.66988432],\n",
       "       [0.34115534, 0.65884466],\n",
       "       [0.43779654, 0.56220346],\n",
       "       [0.91690479, 0.08309521],\n",
       "       [0.45021103, 0.54978897],\n",
       "       [0.40362858, 0.59637142],\n",
       "       [0.40864659, 0.59135341],\n",
       "       [0.90754147, 0.09245853],\n",
       "       [0.90497774, 0.09502226],\n",
       "       [0.34094352, 0.65905648],\n",
       "       [0.4047311 , 0.5952689 ],\n",
       "       [0.40347094, 0.59652906],\n",
       "       [0.19027862, 0.80972138],\n",
       "       [0.32543858, 0.67456142],\n",
       "       [0.19882866, 0.80117134],\n",
       "       [0.22271403, 0.77728597],\n",
       "       [0.3603265 , 0.6396735 ],\n",
       "       [0.28290068, 0.71709932],\n",
       "       [0.9044923 , 0.0955077 ],\n",
       "       [0.91378321, 0.08621679],\n",
       "       [0.82516668, 0.17483332],\n",
       "       [0.35231573, 0.64768427],\n",
       "       [0.23226952, 0.76773048],\n",
       "       [0.4679341 , 0.5320659 ],\n",
       "       [0.95568944, 0.04431056],\n",
       "       [0.6799785 , 0.3200215 ],\n",
       "       [0.86326944, 0.13673056],\n",
       "       [0.26265673, 0.73734327],\n",
       "       [0.92257952, 0.07742048],\n",
       "       [0.53492298, 0.46507702],\n",
       "       [0.58924815, 0.41075185],\n",
       "       [0.46677013, 0.53322987],\n",
       "       [0.22239514, 0.77760486],\n",
       "       [0.54736174, 0.45263826],\n",
       "       [0.35390957, 0.64609043],\n",
       "       [0.24647181, 0.75352819],\n",
       "       [0.40853107, 0.59146893],\n",
       "       [0.47369733, 0.52630267],\n",
       "       [0.22767559, 0.77232441],\n",
       "       [0.58838282, 0.41161718],\n",
       "       [0.28766618, 0.71233382],\n",
       "       [0.40276423, 0.59723577],\n",
       "       [0.21165157, 0.78834843],\n",
       "       [0.25959726, 0.74040274],\n",
       "       [0.34234922, 0.65765078],\n",
       "       [0.36652862, 0.63347138],\n",
       "       [0.96895323, 0.03104677],\n",
       "       [0.25683172, 0.74316828],\n",
       "       [0.49911468, 0.50088532],\n",
       "       [0.21718631, 0.78281369],\n",
       "       [0.41184924, 0.58815076],\n",
       "       [0.6431688 , 0.3568312 ],\n",
       "       [0.31337321, 0.68662679],\n",
       "       [0.2457488 , 0.7542512 ],\n",
       "       [0.25756797, 0.74243203],\n",
       "       [0.36987672, 0.63012328],\n",
       "       [0.20714084, 0.79285916],\n",
       "       [0.20061609, 0.79938391],\n",
       "       [0.38403376, 0.61596624],\n",
       "       [0.24929011, 0.75070989],\n",
       "       [0.54436724, 0.45563276],\n",
       "       [0.26156621, 0.73843379],\n",
       "       [0.24933621, 0.75066379],\n",
       "       [0.32887145, 0.67112855],\n",
       "       [0.22818892, 0.77181108],\n",
       "       [0.36054792, 0.63945208],\n",
       "       [0.48805827, 0.51194173],\n",
       "       [0.40098997, 0.59901003],\n",
       "       [0.30102645, 0.69897355],\n",
       "       [0.46241732, 0.53758268],\n",
       "       [0.89065757, 0.10934243],\n",
       "       [0.41769807, 0.58230193],\n",
       "       [0.46238139, 0.53761861],\n",
       "       [0.94600835, 0.05399165],\n",
       "       [0.95299158, 0.04700842],\n",
       "       [0.39359603, 0.60640397],\n",
       "       [0.35939678, 0.64060322]])"
      ]
     },
     "execution_count": 40,
     "metadata": {},
     "output_type": "execute_result"
    }
   ],
   "source": [
    "#Predict probabilities using the \"predict_proba\" function\n",
    "\n",
    "y_prob = logreg.predict_proba(x_test_scaled)\n",
    "\n",
    "y_prob"
   ]
  },
  {
   "cell_type": "code",
   "execution_count": 41,
   "id": "73b9eb0a",
   "metadata": {},
   "outputs": [
    {
     "data": {
      "text/plain": [
       "(135, 2)"
      ]
     },
     "execution_count": 41,
     "metadata": {},
     "output_type": "execute_result"
    }
   ],
   "source": [
    "#Check the shape, there should be two columns, one for each class\n",
    "y_prob.shape"
   ]
  },
  {
   "cell_type": "code",
   "execution_count": 42,
   "id": "9b37a22d",
   "metadata": {},
   "outputs": [],
   "source": [
    "#Create a DataFrame\n",
    "y_prob_df = pd.DataFrame(y_prob, index=x_test.index)"
   ]
  },
  {
   "cell_type": "code",
   "execution_count": 43,
   "id": "62aa57ba",
   "metadata": {},
   "outputs": [
    {
     "data": {
      "text/html": [
       "<div>\n",
       "<style scoped>\n",
       "    .dataframe tbody tr th:only-of-type {\n",
       "        vertical-align: middle;\n",
       "    }\n",
       "\n",
       "    .dataframe tbody tr th {\n",
       "        vertical-align: top;\n",
       "    }\n",
       "\n",
       "    .dataframe thead th {\n",
       "        text-align: right;\n",
       "    }\n",
       "</style>\n",
       "<table border=\"1\" class=\"dataframe\">\n",
       "  <thead>\n",
       "    <tr style=\"text-align: right;\">\n",
       "      <th></th>\n",
       "      <th>0</th>\n",
       "      <th>1</th>\n",
       "    </tr>\n",
       "    <tr>\n",
       "      <th>Loan_ID</th>\n",
       "      <th></th>\n",
       "      <th></th>\n",
       "    </tr>\n",
       "  </thead>\n",
       "  <tbody>\n",
       "    <tr>\n",
       "      <th>LP002740</th>\n",
       "      <td>0.4283</td>\n",
       "      <td>0.5717</td>\n",
       "    </tr>\n",
       "    <tr>\n",
       "      <th>LP001310</th>\n",
       "      <td>0.2081</td>\n",
       "      <td>0.7919</td>\n",
       "    </tr>\n",
       "    <tr>\n",
       "      <th>LP002277</th>\n",
       "      <td>0.9482</td>\n",
       "      <td>0.0518</td>\n",
       "    </tr>\n",
       "    <tr>\n",
       "      <th>LP002582</th>\n",
       "      <td>0.4566</td>\n",
       "      <td>0.5434</td>\n",
       "    </tr>\n",
       "    <tr>\n",
       "      <th>LP001784</th>\n",
       "      <td>0.4237</td>\n",
       "      <td>0.5763</td>\n",
       "    </tr>\n",
       "  </tbody>\n",
       "</table>\n",
       "</div>"
      ],
      "text/plain": [
       "              0      1\n",
       "Loan_ID               \n",
       "LP002740 0.4283 0.5717\n",
       "LP001310 0.2081 0.7919\n",
       "LP002277 0.9482 0.0518\n",
       "LP002582 0.4566 0.5434\n",
       "LP001784 0.4237 0.5763"
      ]
     },
     "execution_count": 43,
     "metadata": {},
     "output_type": "execute_result"
    }
   ],
   "source": [
    "y_prob_df.head()"
   ]
  },
  {
   "cell_type": "code",
   "execution_count": 44,
   "id": "157f2e2a",
   "metadata": {},
   "outputs": [],
   "source": [
    "#Put all information on a DataFrame for analysis\n",
    "\n",
    "#Copy original test data\n",
    "df_results = x_test.copy()\n",
    "\n",
    "#Add actual, predicted, and predicted probability results\n",
    "\n",
    "df_results[\"Predicted_Prob_0\"] = y_prob_df[0]\n",
    "df_results[\"Predicted_Prob_1\"] = y_prob_df[1]\n",
    "df_results[\"Actual_Class\"] = y_test\n",
    "df_results[\"Predicted_Class\"] = y_pred\n",
    "\n",
    "labels = logreg.classes_"
   ]
  },
  {
   "cell_type": "code",
   "execution_count": 45,
   "id": "05df44e1",
   "metadata": {},
   "outputs": [
    {
     "data": {
      "text/html": [
       "<div>\n",
       "<style scoped>\n",
       "    .dataframe tbody tr th:only-of-type {\n",
       "        vertical-align: middle;\n",
       "    }\n",
       "\n",
       "    .dataframe tbody tr th {\n",
       "        vertical-align: top;\n",
       "    }\n",
       "\n",
       "    .dataframe thead th {\n",
       "        text-align: right;\n",
       "    }\n",
       "</style>\n",
       "<table border=\"1\" class=\"dataframe\">\n",
       "  <thead>\n",
       "    <tr style=\"text-align: right;\">\n",
       "      <th></th>\n",
       "      <th>ApplicantIncome</th>\n",
       "      <th>CoapplicantIncome</th>\n",
       "      <th>LoanAmount</th>\n",
       "      <th>Loan_Amount_Term</th>\n",
       "      <th>Credit_History</th>\n",
       "      <th>Gender_Male</th>\n",
       "      <th>Married_Yes</th>\n",
       "      <th>Education_Graduate</th>\n",
       "      <th>Self_Employed_No</th>\n",
       "      <th>Self_Employed_Yes</th>\n",
       "      <th>Property_Area_Rural</th>\n",
       "      <th>Property_Area_Semiurban</th>\n",
       "      <th>Property_Area_Urban</th>\n",
       "      <th>Dependents_ord</th>\n",
       "      <th>Predicted_Prob_0</th>\n",
       "      <th>Predicted_Prob_1</th>\n",
       "      <th>Actual_Class</th>\n",
       "      <th>Predicted_Class</th>\n",
       "    </tr>\n",
       "    <tr>\n",
       "      <th>Loan_ID</th>\n",
       "      <th></th>\n",
       "      <th></th>\n",
       "      <th></th>\n",
       "      <th></th>\n",
       "      <th></th>\n",
       "      <th></th>\n",
       "      <th></th>\n",
       "      <th></th>\n",
       "      <th></th>\n",
       "      <th></th>\n",
       "      <th></th>\n",
       "      <th></th>\n",
       "      <th></th>\n",
       "      <th></th>\n",
       "      <th></th>\n",
       "      <th></th>\n",
       "      <th></th>\n",
       "      <th></th>\n",
       "    </tr>\n",
       "  </thead>\n",
       "  <tbody>\n",
       "    <tr>\n",
       "      <th>LP002740</th>\n",
       "      <td>6417</td>\n",
       "      <td>0.0000</td>\n",
       "      <td>157.0000</td>\n",
       "      <td>180.0000</td>\n",
       "      <td>1.0000</td>\n",
       "      <td>1</td>\n",
       "      <td>1</td>\n",
       "      <td>1</td>\n",
       "      <td>1</td>\n",
       "      <td>0</td>\n",
       "      <td>1</td>\n",
       "      <td>0</td>\n",
       "      <td>0</td>\n",
       "      <td>3.0000</td>\n",
       "      <td>0.4283</td>\n",
       "      <td>0.5717</td>\n",
       "      <td>1</td>\n",
       "      <td>1</td>\n",
       "    </tr>\n",
       "    <tr>\n",
       "      <th>LP001310</th>\n",
       "      <td>5695</td>\n",
       "      <td>4167.0000</td>\n",
       "      <td>175.0000</td>\n",
       "      <td>360.0000</td>\n",
       "      <td>1.0000</td>\n",
       "      <td>1</td>\n",
       "      <td>1</td>\n",
       "      <td>1</td>\n",
       "      <td>1</td>\n",
       "      <td>0</td>\n",
       "      <td>0</td>\n",
       "      <td>1</td>\n",
       "      <td>0</td>\n",
       "      <td>0.0000</td>\n",
       "      <td>0.2081</td>\n",
       "      <td>0.7919</td>\n",
       "      <td>1</td>\n",
       "      <td>1</td>\n",
       "    </tr>\n",
       "    <tr>\n",
       "      <th>LP002277</th>\n",
       "      <td>3180</td>\n",
       "      <td>0.0000</td>\n",
       "      <td>71.0000</td>\n",
       "      <td>360.0000</td>\n",
       "      <td>0.0000</td>\n",
       "      <td>0</td>\n",
       "      <td>0</td>\n",
       "      <td>1</td>\n",
       "      <td>1</td>\n",
       "      <td>0</td>\n",
       "      <td>0</td>\n",
       "      <td>0</td>\n",
       "      <td>1</td>\n",
       "      <td>0.0000</td>\n",
       "      <td>0.9482</td>\n",
       "      <td>0.0518</td>\n",
       "      <td>0</td>\n",
       "      <td>0</td>\n",
       "    </tr>\n",
       "    <tr>\n",
       "      <th>LP002582</th>\n",
       "      <td>17263</td>\n",
       "      <td>0.0000</td>\n",
       "      <td>225.0000</td>\n",
       "      <td>360.0000</td>\n",
       "      <td>1.0000</td>\n",
       "      <td>0</td>\n",
       "      <td>0</td>\n",
       "      <td>0</td>\n",
       "      <td>0</td>\n",
       "      <td>1</td>\n",
       "      <td>0</td>\n",
       "      <td>1</td>\n",
       "      <td>0</td>\n",
       "      <td>0.0000</td>\n",
       "      <td>0.4566</td>\n",
       "      <td>0.5434</td>\n",
       "      <td>1</td>\n",
       "      <td>1</td>\n",
       "    </tr>\n",
       "    <tr>\n",
       "      <th>LP001784</th>\n",
       "      <td>5500</td>\n",
       "      <td>1260.0000</td>\n",
       "      <td>170.0000</td>\n",
       "      <td>360.0000</td>\n",
       "      <td>1.0000</td>\n",
       "      <td>1</td>\n",
       "      <td>1</td>\n",
       "      <td>1</td>\n",
       "      <td>1</td>\n",
       "      <td>0</td>\n",
       "      <td>1</td>\n",
       "      <td>0</td>\n",
       "      <td>0</td>\n",
       "      <td>1.0000</td>\n",
       "      <td>0.4237</td>\n",
       "      <td>0.5763</td>\n",
       "      <td>1</td>\n",
       "      <td>1</td>\n",
       "    </tr>\n",
       "  </tbody>\n",
       "</table>\n",
       "</div>"
      ],
      "text/plain": [
       "          ApplicantIncome  CoapplicantIncome  LoanAmount  Loan_Amount_Term  \\\n",
       "Loan_ID                                                                      \n",
       "LP002740             6417             0.0000    157.0000          180.0000   \n",
       "LP001310             5695          4167.0000    175.0000          360.0000   \n",
       "LP002277             3180             0.0000     71.0000          360.0000   \n",
       "LP002582            17263             0.0000    225.0000          360.0000   \n",
       "LP001784             5500          1260.0000    170.0000          360.0000   \n",
       "\n",
       "          Credit_History  Gender_Male  Married_Yes  Education_Graduate  \\\n",
       "Loan_ID                                                                  \n",
       "LP002740          1.0000            1            1                   1   \n",
       "LP001310          1.0000            1            1                   1   \n",
       "LP002277          0.0000            0            0                   1   \n",
       "LP002582          1.0000            0            0                   0   \n",
       "LP001784          1.0000            1            1                   1   \n",
       "\n",
       "          Self_Employed_No  Self_Employed_Yes  Property_Area_Rural  \\\n",
       "Loan_ID                                                              \n",
       "LP002740                 1                  0                    1   \n",
       "LP001310                 1                  0                    0   \n",
       "LP002277                 1                  0                    0   \n",
       "LP002582                 0                  1                    0   \n",
       "LP001784                 1                  0                    1   \n",
       "\n",
       "          Property_Area_Semiurban  Property_Area_Urban  Dependents_ord  \\\n",
       "Loan_ID                                                                  \n",
       "LP002740                        0                    0          3.0000   \n",
       "LP001310                        1                    0          0.0000   \n",
       "LP002277                        0                    1          0.0000   \n",
       "LP002582                        1                    0          0.0000   \n",
       "LP001784                        0                    0          1.0000   \n",
       "\n",
       "          Predicted_Prob_0  Predicted_Prob_1  Actual_Class  Predicted_Class  \n",
       "Loan_ID                                                                      \n",
       "LP002740            0.4283            0.5717             1                1  \n",
       "LP001310            0.2081            0.7919             1                1  \n",
       "LP002277            0.9482            0.0518             0                0  \n",
       "LP002582            0.4566            0.5434             1                1  \n",
       "LP001784            0.4237            0.5763             1                1  "
      ]
     },
     "execution_count": 45,
     "metadata": {},
     "output_type": "execute_result"
    }
   ],
   "source": [
    "df_results.head()"
   ]
  },
  {
   "cell_type": "markdown",
   "id": "bd02bc30",
   "metadata": {},
   "source": [
    "### CLASSIFICATION METRICS"
   ]
  },
  {
   "cell_type": "code",
   "execution_count": 46,
   "id": "5b8c1057",
   "metadata": {},
   "outputs": [],
   "source": [
    "#Classification Metrics\n",
    "from sklearn import metrics"
   ]
  },
  {
   "cell_type": "markdown",
   "id": "6da24b96",
   "metadata": {},
   "source": [
    "#### Confusion Matrix"
   ]
  },
  {
   "cell_type": "markdown",
   "id": "4cfd40f4",
   "metadata": {},
   "source": [
    "##### DataFrame"
   ]
  },
  {
   "cell_type": "code",
   "execution_count": 47,
   "id": "8ec9990e",
   "metadata": {},
   "outputs": [
    {
     "data": {
      "text/html": [
       "<div>\n",
       "<style scoped>\n",
       "    .dataframe tbody tr th:only-of-type {\n",
       "        vertical-align: middle;\n",
       "    }\n",
       "\n",
       "    .dataframe tbody tr th {\n",
       "        vertical-align: top;\n",
       "    }\n",
       "\n",
       "    .dataframe thead th {\n",
       "        text-align: right;\n",
       "    }\n",
       "</style>\n",
       "<table border=\"1\" class=\"dataframe\">\n",
       "  <thead>\n",
       "    <tr style=\"text-align: right;\">\n",
       "      <th></th>\n",
       "      <th>0</th>\n",
       "      <th>1</th>\n",
       "    </tr>\n",
       "  </thead>\n",
       "  <tbody>\n",
       "    <tr>\n",
       "      <th>0</th>\n",
       "      <td>22</td>\n",
       "      <td>16</td>\n",
       "    </tr>\n",
       "    <tr>\n",
       "      <th>1</th>\n",
       "      <td>11</td>\n",
       "      <td>86</td>\n",
       "    </tr>\n",
       "  </tbody>\n",
       "</table>\n",
       "</div>"
      ],
      "text/plain": [
       "    0   1\n",
       "0  22  16\n",
       "1  11  86"
      ]
     },
     "execution_count": 47,
     "metadata": {},
     "output_type": "execute_result"
    }
   ],
   "source": [
    "#Get the Confusion Matrix\n",
    "cm = metrics.confusion_matrix(y_test, y_pred, labels=labels)\n",
    "\n",
    "#Put in DataFrame\n",
    "cm_df = pd.DataFrame(cm, index=labels, columns=labels)\n",
    "\n",
    "#View the DataFrame\n",
    "cm_df"
   ]
  },
  {
   "cell_type": "code",
   "execution_count": 48,
   "id": "0bb07041",
   "metadata": {},
   "outputs": [
    {
     "data": {
      "text/plain": [
       "Text(0.5, 23.700000000000003, 'Predicted label')"
      ]
     },
     "execution_count": 48,
     "metadata": {},
     "output_type": "execute_result"
    },
    {
     "data": {
      "image/png": "[encoded data removed]",
      "text/plain": [
       "<Figure size 360x360 with 2 Axes>"
      ]
     },
     "metadata": {
      "needs_background": "light"
     },
     "output_type": "display_data"
    }
   ],
   "source": [
    "#Plot the confusion matrix for easier viewing\n",
    "\n",
    "#Plot Attributes\n",
    "fig = plt.figure(figsize= (5,5))\n",
    "cmap = sns.diverging_palette(220, 10, as_cmap=True)\n",
    "\n",
    "#Seaborn Heatmap - PASS YOUR CONFUSION MATRIX DATAFRAME HERE\n",
    "heatmap = sns.heatmap(cm_df,annot=True,annot_kws={\"size\": 20}, fmt=\"d\", cmap=cmap)\n",
    "\n",
    "#Heatmap attributes\n",
    "heatmap.yaxis.set_ticklabels(heatmap.yaxis.get_ticklabels(), rotation=0, ha='right', fontsize=16)\n",
    "heatmap.xaxis.set_ticklabels(heatmap.xaxis.get_ticklabels(), rotation=0, ha='right', fontsize=16)\n",
    "plt.ylabel('True label')\n",
    "plt.xlabel('Predicted label')"
   ]
  },
  {
   "cell_type": "markdown",
   "id": "a81b2dea",
   "metadata": {},
   "source": [
    "#### Accuracy"
   ]
  },
  {
   "cell_type": "code",
   "execution_count": 49,
   "id": "409018fe",
   "metadata": {},
   "outputs": [
    {
     "name": "stdout",
     "output_type": "stream",
     "text": [
      "Accuracy Rate: 80.00\n"
     ]
    }
   ],
   "source": [
    "#Accuracy Rate\n",
    "accuracy = metrics.accuracy_score(y_test,y_pred)\n",
    "\n",
    "#Print accuracy \n",
    "print(\"Accuracy Rate: %.2f\" % (accuracy * 100))\n"
   ]
  },
  {
   "cell_type": "markdown",
   "id": "351a197b",
   "metadata": {},
   "source": [
    "#### Error"
   ]
  },
  {
   "cell_type": "code",
   "execution_count": 50,
   "id": "36a8e03b",
   "metadata": {},
   "outputs": [
    {
     "name": "stdout",
     "output_type": "stream",
     "text": [
      "Error Rate: 20.00\n"
     ]
    }
   ],
   "source": [
    "#Error Rate\n",
    "error = 1 - accuracy\n",
    "\n",
    "#Print Error\n",
    "print(\"Error Rate: %.2f\" % (error * 100))"
   ]
  },
  {
   "cell_type": "markdown",
   "id": "57b0ed22",
   "metadata": {},
   "source": [
    "#### Precision"
   ]
  },
  {
   "cell_type": "code",
   "execution_count": 51,
   "id": "1efaad6e",
   "metadata": {},
   "outputs": [
    {
     "data": {
      "text/html": [
       "<div>\n",
       "<style scoped>\n",
       "    .dataframe tbody tr th:only-of-type {\n",
       "        vertical-align: middle;\n",
       "    }\n",
       "\n",
       "    .dataframe tbody tr th {\n",
       "        vertical-align: top;\n",
       "    }\n",
       "\n",
       "    .dataframe thead th {\n",
       "        text-align: right;\n",
       "    }\n",
       "</style>\n",
       "<table border=\"1\" class=\"dataframe\">\n",
       "  <thead>\n",
       "    <tr style=\"text-align: right;\">\n",
       "      <th></th>\n",
       "      <th>Precision</th>\n",
       "    </tr>\n",
       "  </thead>\n",
       "  <tbody>\n",
       "    <tr>\n",
       "      <th>0</th>\n",
       "      <td>0.6667</td>\n",
       "    </tr>\n",
       "    <tr>\n",
       "      <th>1</th>\n",
       "      <td>0.8431</td>\n",
       "    </tr>\n",
       "  </tbody>\n",
       "</table>\n",
       "</div>"
      ],
      "text/plain": [
       "   Precision\n",
       "0     0.6667\n",
       "1     0.8431"
      ]
     },
     "execution_count": 51,
     "metadata": {},
     "output_type": "execute_result"
    }
   ],
   "source": [
    "precision = metrics.precision_score(y_test,y_pred,labels=labels, average=None)\n",
    "\n",
    "precision_df = pd.DataFrame(precision, index=labels, columns=['Precision'])\n",
    "\n",
    "precision_df\n"
   ]
  },
  {
   "cell_type": "markdown",
   "id": "c5da561d",
   "metadata": {},
   "source": [
    "#### Recall"
   ]
  },
  {
   "cell_type": "code",
   "execution_count": 52,
   "id": "ed2def24",
   "metadata": {},
   "outputs": [
    {
     "data": {
      "text/html": [
       "<div>\n",
       "<style scoped>\n",
       "    .dataframe tbody tr th:only-of-type {\n",
       "        vertical-align: middle;\n",
       "    }\n",
       "\n",
       "    .dataframe tbody tr th {\n",
       "        vertical-align: top;\n",
       "    }\n",
       "\n",
       "    .dataframe thead th {\n",
       "        text-align: right;\n",
       "    }\n",
       "</style>\n",
       "<table border=\"1\" class=\"dataframe\">\n",
       "  <thead>\n",
       "    <tr style=\"text-align: right;\">\n",
       "      <th></th>\n",
       "      <th>Recall</th>\n",
       "    </tr>\n",
       "  </thead>\n",
       "  <tbody>\n",
       "    <tr>\n",
       "      <th>0</th>\n",
       "      <td>0.5789</td>\n",
       "    </tr>\n",
       "    <tr>\n",
       "      <th>1</th>\n",
       "      <td>0.8866</td>\n",
       "    </tr>\n",
       "  </tbody>\n",
       "</table>\n",
       "</div>"
      ],
      "text/plain": [
       "   Recall\n",
       "0  0.5789\n",
       "1  0.8866"
      ]
     },
     "execution_count": 52,
     "metadata": {},
     "output_type": "execute_result"
    }
   ],
   "source": [
    "recall = metrics.recall_score(y_test,y_pred,labels=labels, average=None)\n",
    "\n",
    "recall_df = pd.DataFrame(recall, index=labels, columns=['Recall'])\n",
    "\n",
    "recall_df"
   ]
  },
  {
   "cell_type": "markdown",
   "id": "ab29611f",
   "metadata": {},
   "source": [
    "#### F1 Score\n"
   ]
  },
  {
   "cell_type": "code",
   "execution_count": 53,
   "id": "0f391750",
   "metadata": {},
   "outputs": [
    {
     "data": {
      "text/html": [
       "<div>\n",
       "<style scoped>\n",
       "    .dataframe tbody tr th:only-of-type {\n",
       "        vertical-align: middle;\n",
       "    }\n",
       "\n",
       "    .dataframe tbody tr th {\n",
       "        vertical-align: top;\n",
       "    }\n",
       "\n",
       "    .dataframe thead th {\n",
       "        text-align: right;\n",
       "    }\n",
       "</style>\n",
       "<table border=\"1\" class=\"dataframe\">\n",
       "  <thead>\n",
       "    <tr style=\"text-align: right;\">\n",
       "      <th></th>\n",
       "      <th>F1</th>\n",
       "    </tr>\n",
       "  </thead>\n",
       "  <tbody>\n",
       "    <tr>\n",
       "      <th>0</th>\n",
       "      <td>0.6197</td>\n",
       "    </tr>\n",
       "    <tr>\n",
       "      <th>1</th>\n",
       "      <td>0.8643</td>\n",
       "    </tr>\n",
       "  </tbody>\n",
       "</table>\n",
       "</div>"
      ],
      "text/plain": [
       "      F1\n",
       "0 0.6197\n",
       "1 0.8643"
      ]
     },
     "execution_count": 53,
     "metadata": {},
     "output_type": "execute_result"
    }
   ],
   "source": [
    "f1 = metrics.f1_score(y_test,y_pred,labels=labels, average=None)\n",
    "\n",
    "f1_df = pd.DataFrame(f1, index=labels, columns=['F1'])\n",
    "\n",
    "f1_df"
   ]
  },
  {
   "cell_type": "markdown",
   "id": "b1ea391d",
   "metadata": {},
   "source": [
    "#### Classification Report\n"
   ]
  },
  {
   "cell_type": "code",
   "execution_count": 54,
   "id": "dab76365",
   "metadata": {},
   "outputs": [
    {
     "name": "stdout",
     "output_type": "stream",
     "text": [
      "              precision    recall  f1-score   support\n",
      "\n",
      "           0       0.67      0.58      0.62        38\n",
      "           1       0.84      0.89      0.86        97\n",
      "\n",
      "    accuracy                           0.80       135\n",
      "   macro avg       0.75      0.73      0.74       135\n",
      "weighted avg       0.79      0.80      0.80       135\n",
      "\n"
     ]
    }
   ],
   "source": [
    "classification_report = metrics.classification_report(y_test,y_pred)\n",
    "\n",
    "print(classification_report)"
   ]
  },
  {
   "cell_type": "code",
   "execution_count": 55,
   "id": "a3ee5995",
   "metadata": {},
   "outputs": [],
   "source": [
    "#Predict the Probabilities\n",
    "\n",
    "predict_proba_1 = df_results[\"Predicted_Prob_1\"]"
   ]
  },
  {
   "cell_type": "code",
   "execution_count": 56,
   "id": "c8b4027a",
   "metadata": {},
   "outputs": [],
   "source": [
    "#Calculate roc curve\n",
    "fpr, tpr, thresholds = metrics.roc_curve(y_test, predict_proba_1)"
   ]
  },
  {
   "cell_type": "code",
   "execution_count": 57,
   "id": "a4d6706d",
   "metadata": {},
   "outputs": [
    {
     "name": "stdout",
     "output_type": "stream",
     "text": [
      "AUC: 0.78\n"
     ]
    }
   ],
   "source": [
    "#Calculate the AUC\n",
    "roc_auc = metrics.roc_auc_score(y_test,predict_proba_1)\n",
    "\n",
    "print(\"AUC: %.2f\" % (roc_auc))"
   ]
  },
  {
   "cell_type": "code",
   "execution_count": 58,
   "id": "3d83ed4b",
   "metadata": {},
   "outputs": [
    {
     "data": {
      "image/png": "[encoded data removed]",
      "text/plain": [
       "<Figure size 360x360 with 1 Axes>"
      ]
     },
     "metadata": {
      "needs_background": "light"
     },
     "output_type": "display_data"
    }
   ],
   "source": [
    "#Plot the AUC-ROC Curve\n",
    "#Plot Attributes\n",
    "fig = plt.figure(figsize= (5,5))\n",
    "\n",
    "#Plot Title\n",
    "plt.title('Receiver Operating Characteristic')\n",
    "\n",
    "#Plot Function\n",
    "plt.plot(fpr, tpr, 'b', label = 'AUC = %.2f' % roc_auc)\n",
    "plt.legend(loc = 'lower right')\n",
    "plt.plot([0, 1], [0, 1],'r--')\n",
    "plt.xlim([0, 1])\n",
    "plt.ylim([0, 1])\n",
    "\n",
    "plt.ylabel('True Positive Rate')\n",
    "plt.xlabel('False Positive Rate')\n",
    "\n",
    "plt.show()"
   ]
  }
 ],
 "metadata": {
  "kernelspec": {
   "display_name": "Python 3 (ipykernel)",
   "language": "python",
   "name": "python3"
  },
  "language_info": {
   "codemirror_mode": {
    "name": "ipython",
    "version": 3
   },
   "file_extension": ".py",
   "mimetype": "text/x-python",
   "name": "python",
   "nbconvert_exporter": "python",
   "pygments_lexer": "ipython3",
   "version": "3.9.13"
  }
 },
 "nbformat": 4,
 "nbformat_minor": 5
}
