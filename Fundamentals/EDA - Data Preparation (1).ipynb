{
 "cells": [
  {
   "cell_type": "code",
   "execution_count": 3,
   "id": "1d28d73b",
   "metadata": {},
   "outputs": [],
   "source": [
    "import pandas as pd\n",
    "import numpy as np\n",
    "import matplotlib.pyplot as plt\n",
    "import seaborn as sns\n",
    "\n",
    "pd.options.display.max_columns = 200\n",
    "\n",
    "import warnings\n",
    "warnings.filterwarnings('ignore')"
   ]
  },
  {
   "cell_type": "code",
   "execution_count": 4,
   "id": "cc79162b",
   "metadata": {
    "scrolled": true
   },
   "outputs": [
    {
     "data": {
      "text/plain": [
       "(16834, 16)"
      ]
     },
     "execution_count": 4,
     "metadata": {},
     "output_type": "execute_result"
    }
   ],
   "source": [
    "df = pd.read_csv('C:\\\\Users\\\\Avila\\\\OneDrive\\\\Desktop\\\\csv files\\Ad-data.csv')\n",
    "df.shape"
   ]
  },
  {
   "cell_type": "markdown",
   "id": "7237fc5e",
   "metadata": {},
   "source": [
    "**Descriptive Stats**"
   ]
  },
  {
   "cell_type": "markdown",
   "id": "a28559c3",
   "metadata": {},
   "source": [
    "<p style=\"background:black\">\n",
    "    <code style=\"background:black\">This is Black and White></code>\n",
    "    </p>"
   ]
  },
  {
   "cell_type": "code",
   "execution_count": 5,
   "id": "7f698fe5",
   "metadata": {},
   "outputs": [
    {
     "data": {
      "text/html": [
       "<div>\n",
       "<style scoped>\n",
       "    .dataframe tbody tr th:only-of-type {\n",
       "        vertical-align: middle;\n",
       "    }\n",
       "\n",
       "    .dataframe tbody tr th {\n",
       "        vertical-align: top;\n",
       "    }\n",
       "\n",
       "    .dataframe thead th {\n",
       "        text-align: right;\n",
       "    }\n",
       "</style>\n",
       "<table border=\"1\" class=\"dataframe\">\n",
       "  <thead>\n",
       "    <tr style=\"text-align: right;\">\n",
       "      <th></th>\n",
       "      <th>Date</th>\n",
       "      <th>product</th>\n",
       "      <th>phase</th>\n",
       "      <th>campaign_platform</th>\n",
       "      <th>campaign_type</th>\n",
       "      <th>communication_medium</th>\n",
       "      <th>subchannel</th>\n",
       "      <th>audience_type</th>\n",
       "      <th>creative_type</th>\n",
       "      <th>creative_name</th>\n",
       "      <th>device</th>\n",
       "      <th>age</th>\n",
       "      <th>spends</th>\n",
       "      <th>impressions</th>\n",
       "      <th>clicks</th>\n",
       "      <th>link_clicks</th>\n",
       "    </tr>\n",
       "  </thead>\n",
       "  <tbody>\n",
       "    <tr>\n",
       "      <th>0</th>\n",
       "      <td>2019-10-16</td>\n",
       "      <td>Product 1</td>\n",
       "      <td>Performance</td>\n",
       "      <td>Google Ads</td>\n",
       "      <td>Search</td>\n",
       "      <td>Search Keywords</td>\n",
       "      <td>Brand</td>\n",
       "      <td>'-</td>\n",
       "      <td>'-</td>\n",
       "      <td>'-</td>\n",
       "      <td>Desktop</td>\n",
       "      <td>18-24</td>\n",
       "      <td>0.00</td>\n",
       "      <td>2</td>\n",
       "      <td>0</td>\n",
       "      <td>0.0</td>\n",
       "    </tr>\n",
       "    <tr>\n",
       "      <th>1</th>\n",
       "      <td>2019-10-16</td>\n",
       "      <td>Product 1</td>\n",
       "      <td>Performance</td>\n",
       "      <td>Google Ads</td>\n",
       "      <td>Search</td>\n",
       "      <td>Search Keywords</td>\n",
       "      <td>Brand</td>\n",
       "      <td>'-</td>\n",
       "      <td>'-</td>\n",
       "      <td>'-</td>\n",
       "      <td>Desktop</td>\n",
       "      <td>25-34</td>\n",
       "      <td>0.00</td>\n",
       "      <td>5</td>\n",
       "      <td>0</td>\n",
       "      <td>0.0</td>\n",
       "    </tr>\n",
       "    <tr>\n",
       "      <th>2</th>\n",
       "      <td>2019-10-16</td>\n",
       "      <td>Product 1</td>\n",
       "      <td>Performance</td>\n",
       "      <td>Google Ads</td>\n",
       "      <td>Search</td>\n",
       "      <td>Search Keywords</td>\n",
       "      <td>Brand</td>\n",
       "      <td>'-</td>\n",
       "      <td>'-</td>\n",
       "      <td>'-</td>\n",
       "      <td>Desktop</td>\n",
       "      <td>35-44</td>\n",
       "      <td>0.00</td>\n",
       "      <td>1</td>\n",
       "      <td>0</td>\n",
       "      <td>0.0</td>\n",
       "    </tr>\n",
       "    <tr>\n",
       "      <th>3</th>\n",
       "      <td>2019-10-16</td>\n",
       "      <td>Product 1</td>\n",
       "      <td>Performance</td>\n",
       "      <td>Google Ads</td>\n",
       "      <td>Search</td>\n",
       "      <td>Search Keywords</td>\n",
       "      <td>Brand</td>\n",
       "      <td>'-</td>\n",
       "      <td>'-</td>\n",
       "      <td>'-</td>\n",
       "      <td>Desktop</td>\n",
       "      <td>Undetermined</td>\n",
       "      <td>14.63</td>\n",
       "      <td>5</td>\n",
       "      <td>3</td>\n",
       "      <td>0.0</td>\n",
       "    </tr>\n",
       "    <tr>\n",
       "      <th>4</th>\n",
       "      <td>2019-10-18</td>\n",
       "      <td>Product 1</td>\n",
       "      <td>Performance</td>\n",
       "      <td>Google Ads</td>\n",
       "      <td>Search</td>\n",
       "      <td>Search Keywords</td>\n",
       "      <td>Brand</td>\n",
       "      <td>'-</td>\n",
       "      <td>'-</td>\n",
       "      <td>'-</td>\n",
       "      <td>Desktop</td>\n",
       "      <td>18-24</td>\n",
       "      <td>53.31</td>\n",
       "      <td>10</td>\n",
       "      <td>2</td>\n",
       "      <td>0.0</td>\n",
       "    </tr>\n",
       "  </tbody>\n",
       "</table>\n",
       "</div>"
      ],
      "text/plain": [
       "         Date    product        phase campaign_platform campaign_type  \\\n",
       "0  2019-10-16  Product 1  Performance        Google Ads        Search   \n",
       "1  2019-10-16  Product 1  Performance        Google Ads        Search   \n",
       "2  2019-10-16  Product 1  Performance        Google Ads        Search   \n",
       "3  2019-10-16  Product 1  Performance        Google Ads        Search   \n",
       "4  2019-10-18  Product 1  Performance        Google Ads        Search   \n",
       "\n",
       "  communication_medium subchannel audience_type creative_type creative_name  \\\n",
       "0      Search Keywords      Brand            '-            '-            '-   \n",
       "1      Search Keywords      Brand            '-            '-            '-   \n",
       "2      Search Keywords      Brand            '-            '-            '-   \n",
       "3      Search Keywords      Brand            '-            '-            '-   \n",
       "4      Search Keywords      Brand            '-            '-            '-   \n",
       "\n",
       "    device           age  spends  impressions  clicks  link_clicks  \n",
       "0  Desktop         18-24    0.00            2       0          0.0  \n",
       "1  Desktop         25-34    0.00            5       0          0.0  \n",
       "2  Desktop         35-44    0.00            1       0          0.0  \n",
       "3  Desktop  Undetermined   14.63            5       3          0.0  \n",
       "4  Desktop         18-24   53.31           10       2          0.0  "
      ]
     },
     "execution_count": 5,
     "metadata": {},
     "output_type": "execute_result"
    }
   ],
   "source": [
    "df.head() # check first 5 rows"
   ]
  },
  {
   "cell_type": "code",
   "execution_count": 6,
   "id": "99eb6b2e",
   "metadata": {},
   "outputs": [
    {
     "data": {
      "text/html": [
       "<div>\n",
       "<style scoped>\n",
       "    .dataframe tbody tr th:only-of-type {\n",
       "        vertical-align: middle;\n",
       "    }\n",
       "\n",
       "    .dataframe tbody tr th {\n",
       "        vertical-align: top;\n",
       "    }\n",
       "\n",
       "    .dataframe thead th {\n",
       "        text-align: right;\n",
       "    }\n",
       "</style>\n",
       "<table border=\"1\" class=\"dataframe\">\n",
       "  <thead>\n",
       "    <tr style=\"text-align: right;\">\n",
       "      <th></th>\n",
       "      <th>Date</th>\n",
       "      <th>product</th>\n",
       "      <th>phase</th>\n",
       "      <th>campaign_platform</th>\n",
       "      <th>campaign_type</th>\n",
       "      <th>communication_medium</th>\n",
       "      <th>subchannel</th>\n",
       "      <th>audience_type</th>\n",
       "      <th>creative_type</th>\n",
       "      <th>creative_name</th>\n",
       "      <th>device</th>\n",
       "      <th>age</th>\n",
       "      <th>spends</th>\n",
       "      <th>impressions</th>\n",
       "      <th>clicks</th>\n",
       "      <th>link_clicks</th>\n",
       "    </tr>\n",
       "  </thead>\n",
       "  <tbody>\n",
       "    <tr>\n",
       "      <th>16829</th>\n",
       "      <td>2020-07-07</td>\n",
       "      <td>Product 1</td>\n",
       "      <td>Performance</td>\n",
       "      <td>Google Ads</td>\n",
       "      <td>Search</td>\n",
       "      <td>Search Keywords</td>\n",
       "      <td>Brand</td>\n",
       "      <td>'-</td>\n",
       "      <td>'-</td>\n",
       "      <td>'-</td>\n",
       "      <td>Mobile</td>\n",
       "      <td>25-34</td>\n",
       "      <td>19.88</td>\n",
       "      <td>36</td>\n",
       "      <td>15</td>\n",
       "      <td>0.0</td>\n",
       "    </tr>\n",
       "    <tr>\n",
       "      <th>16830</th>\n",
       "      <td>2020-07-07</td>\n",
       "      <td>Product 1</td>\n",
       "      <td>Performance</td>\n",
       "      <td>Google Ads</td>\n",
       "      <td>Search</td>\n",
       "      <td>Search Keywords</td>\n",
       "      <td>Brand</td>\n",
       "      <td>'-</td>\n",
       "      <td>'-</td>\n",
       "      <td>'-</td>\n",
       "      <td>Mobile</td>\n",
       "      <td>35-44</td>\n",
       "      <td>1.64</td>\n",
       "      <td>11</td>\n",
       "      <td>1</td>\n",
       "      <td>0.0</td>\n",
       "    </tr>\n",
       "    <tr>\n",
       "      <th>16831</th>\n",
       "      <td>2020-07-07</td>\n",
       "      <td>Product 1</td>\n",
       "      <td>Performance</td>\n",
       "      <td>Google Ads</td>\n",
       "      <td>Search</td>\n",
       "      <td>Search Keywords</td>\n",
       "      <td>Brand</td>\n",
       "      <td>'-</td>\n",
       "      <td>'-</td>\n",
       "      <td>'-</td>\n",
       "      <td>Mobile</td>\n",
       "      <td>45-54</td>\n",
       "      <td>0.00</td>\n",
       "      <td>3</td>\n",
       "      <td>0</td>\n",
       "      <td>0.0</td>\n",
       "    </tr>\n",
       "    <tr>\n",
       "      <th>16832</th>\n",
       "      <td>2020-07-07</td>\n",
       "      <td>Product 1</td>\n",
       "      <td>Performance</td>\n",
       "      <td>Google Ads</td>\n",
       "      <td>Search</td>\n",
       "      <td>Search Keywords</td>\n",
       "      <td>Brand</td>\n",
       "      <td>'-</td>\n",
       "      <td>'-</td>\n",
       "      <td>'-</td>\n",
       "      <td>Mobile</td>\n",
       "      <td>65 or more</td>\n",
       "      <td>0.00</td>\n",
       "      <td>3</td>\n",
       "      <td>0</td>\n",
       "      <td>0.0</td>\n",
       "    </tr>\n",
       "    <tr>\n",
       "      <th>16833</th>\n",
       "      <td>2020-07-07</td>\n",
       "      <td>Product 1</td>\n",
       "      <td>Performance</td>\n",
       "      <td>Google Ads</td>\n",
       "      <td>Search</td>\n",
       "      <td>Search Keywords</td>\n",
       "      <td>Brand</td>\n",
       "      <td>'-</td>\n",
       "      <td>'-</td>\n",
       "      <td>'-</td>\n",
       "      <td>Mobile</td>\n",
       "      <td>Undetermined</td>\n",
       "      <td>1.40</td>\n",
       "      <td>14</td>\n",
       "      <td>1</td>\n",
       "      <td>0.0</td>\n",
       "    </tr>\n",
       "  </tbody>\n",
       "</table>\n",
       "</div>"
      ],
      "text/plain": [
       "             Date    product        phase campaign_platform campaign_type  \\\n",
       "16829  2020-07-07  Product 1  Performance        Google Ads        Search   \n",
       "16830  2020-07-07  Product 1  Performance        Google Ads        Search   \n",
       "16831  2020-07-07  Product 1  Performance        Google Ads        Search   \n",
       "16832  2020-07-07  Product 1  Performance        Google Ads        Search   \n",
       "16833  2020-07-07  Product 1  Performance        Google Ads        Search   \n",
       "\n",
       "      communication_medium subchannel audience_type creative_type  \\\n",
       "16829      Search Keywords      Brand            '-            '-   \n",
       "16830      Search Keywords      Brand            '-            '-   \n",
       "16831      Search Keywords      Brand            '-            '-   \n",
       "16832      Search Keywords      Brand            '-            '-   \n",
       "16833      Search Keywords      Brand            '-            '-   \n",
       "\n",
       "      creative_name  device           age  spends  impressions  clicks  \\\n",
       "16829            '-  Mobile         25-34   19.88           36      15   \n",
       "16830            '-  Mobile         35-44    1.64           11       1   \n",
       "16831            '-  Mobile         45-54    0.00            3       0   \n",
       "16832            '-  Mobile    65 or more    0.00            3       0   \n",
       "16833            '-  Mobile  Undetermined    1.40           14       1   \n",
       "\n",
       "       link_clicks  \n",
       "16829          0.0  \n",
       "16830          0.0  \n",
       "16831          0.0  \n",
       "16832          0.0  \n",
       "16833          0.0  "
      ]
     },
     "execution_count": 6,
     "metadata": {},
     "output_type": "execute_result"
    }
   ],
   "source": [
    "df.tail() # check last 5 rows"
   ]
  },
  {
   "cell_type": "code",
   "execution_count": 7,
   "id": "a6b8af31",
   "metadata": {},
   "outputs": [
    {
     "name": "stdout",
     "output_type": "stream",
     "text": [
      "<class 'pandas.core.frame.DataFrame'>\n",
      "RangeIndex: 16834 entries, 0 to 16833\n",
      "Data columns (total 16 columns):\n",
      " #   Column                Non-Null Count  Dtype  \n",
      "---  ------                --------------  -----  \n",
      " 0   Date                  16834 non-null  object \n",
      " 1   product               16834 non-null  object \n",
      " 2   phase                 16834 non-null  object \n",
      " 3   campaign_platform     16834 non-null  object \n",
      " 4   campaign_type         16834 non-null  object \n",
      " 5   communication_medium  16834 non-null  object \n",
      " 6   subchannel            16834 non-null  object \n",
      " 7   audience_type         16834 non-null  object \n",
      " 8   creative_type         16834 non-null  object \n",
      " 9   creative_name         16834 non-null  object \n",
      " 10  device                16834 non-null  object \n",
      " 11  age                   16834 non-null  object \n",
      " 12  spends                16834 non-null  float64\n",
      " 13  impressions           16834 non-null  int64  \n",
      " 14  clicks                16834 non-null  int64  \n",
      " 15  link_clicks           16288 non-null  float64\n",
      "dtypes: float64(2), int64(2), object(12)\n",
      "memory usage: 2.1+ MB\n"
     ]
    }
   ],
   "source": [
    "df.info() #### check datatype and not-null values of each column"
   ]
  },
  {
   "cell_type": "code",
   "execution_count": 8,
   "id": "f84c5947",
   "metadata": {},
   "outputs": [
    {
     "data": {
      "text/plain": [
       "Date                     object\n",
       "product                  object\n",
       "phase                    object\n",
       "campaign_platform        object\n",
       "campaign_type            object\n",
       "communication_medium     object\n",
       "subchannel               object\n",
       "audience_type            object\n",
       "creative_type            object\n",
       "creative_name            object\n",
       "device                   object\n",
       "age                      object\n",
       "spends                  float64\n",
       "impressions               int64\n",
       "clicks                    int64\n",
       "link_clicks             float64\n",
       "dtype: object"
      ]
     },
     "execution_count": 8,
     "metadata": {},
     "output_type": "execute_result"
    }
   ],
   "source": [
    "df.dtypes #### check datatype of each column"
   ]
  },
  {
   "cell_type": "code",
   "execution_count": 9,
   "id": "4438e45b",
   "metadata": {},
   "outputs": [
    {
     "data": {
      "text/plain": [
       "Date                      0\n",
       "product                   0\n",
       "phase                     0\n",
       "campaign_platform         0\n",
       "campaign_type             0\n",
       "communication_medium      0\n",
       "subchannel                0\n",
       "audience_type             0\n",
       "creative_type             0\n",
       "creative_name             0\n",
       "device                    0\n",
       "age                       0\n",
       "spends                    0\n",
       "impressions               0\n",
       "clicks                    0\n",
       "link_clicks             546\n",
       "dtype: int64"
      ]
     },
     "execution_count": 9,
     "metadata": {},
     "output_type": "execute_result"
    }
   ],
   "source": [
    "df.isnull().sum() #### count all null values for each column"
   ]
  },
  {
   "cell_type": "markdown",
   "id": "6d017aef",
   "metadata": {},
   "source": [
    "## Data Quality"
   ]
  },
  {
   "cell_type": "markdown",
   "id": "d87932c2",
   "metadata": {},
   "source": [
    "<p style=\"background:black\">\n",
    "    <code style=\"background:black\">This is Black and White></code>\n",
    "    </p>"
   ]
  },
  {
   "cell_type": "markdown",
   "id": "c7d12b48",
   "metadata": {},
   "source": [
    "***Improper Label***"
   ]
  },
  {
   "cell_type": "code",
   "execution_count": 22,
   "id": "a3a842d7",
   "metadata": {},
   "outputs": [
    {
     "data": {
      "text/plain": [
       "Index(['Date', 'product', 'phase', 'campaign_platform', 'campaign_type',\n",
       "       'communication_medium', 'subchannel', 'audience_type', 'creative_type',\n",
       "       'creative_name', 'device', 'age', 'spends', 'impressions', 'clicks',\n",
       "       'link_clicks'],\n",
       "      dtype='object')"
      ]
     },
     "execution_count": 22,
     "metadata": {},
     "output_type": "execute_result"
    }
   ],
   "source": [
    "df.columns"
   ]
  },
  {
   "cell_type": "code",
   "execution_count": 34,
   "id": "642573be",
   "metadata": {},
   "outputs": [
    {
     "data": {
      "text/html": [
       "<div>\n",
       "<style scoped>\n",
       "    .dataframe tbody tr th:only-of-type {\n",
       "        vertical-align: middle;\n",
       "    }\n",
       "\n",
       "    .dataframe tbody tr th {\n",
       "        vertical-align: top;\n",
       "    }\n",
       "\n",
       "    .dataframe thead th {\n",
       "        text-align: right;\n",
       "    }\n",
       "</style>\n",
       "<table border=\"1\" class=\"dataframe\">\n",
       "  <thead>\n",
       "    <tr style=\"text-align: right;\">\n",
       "      <th></th>\n",
       "      <th>gg</th>\n",
       "      <th>kids</th>\n",
       "      <th>phase</th>\n",
       "      <th>campaign_platform</th>\n",
       "      <th>campaign_type</th>\n",
       "      <th>communication_medium</th>\n",
       "      <th>subchannel</th>\n",
       "      <th>audience_type</th>\n",
       "      <th>creative_type</th>\n",
       "      <th>creative_name</th>\n",
       "      <th>device</th>\n",
       "      <th>age</th>\n",
       "      <th>spends</th>\n",
       "      <th>impressions</th>\n",
       "      <th>clicks</th>\n",
       "      <th>link_clicks</th>\n",
       "    </tr>\n",
       "  </thead>\n",
       "  <tbody>\n",
       "    <tr>\n",
       "      <th>0</th>\n",
       "      <td>2019-10-16</td>\n",
       "      <td>Product 1</td>\n",
       "      <td>Performance</td>\n",
       "      <td>Google Ads</td>\n",
       "      <td>Search</td>\n",
       "      <td>Search Keywords</td>\n",
       "      <td>Brand</td>\n",
       "      <td>'-</td>\n",
       "      <td>'-</td>\n",
       "      <td>'-</td>\n",
       "      <td>Desktop</td>\n",
       "      <td>18-24</td>\n",
       "      <td>0.00</td>\n",
       "      <td>2</td>\n",
       "      <td>0</td>\n",
       "      <td>0.0</td>\n",
       "    </tr>\n",
       "    <tr>\n",
       "      <th>1</th>\n",
       "      <td>2019-10-16</td>\n",
       "      <td>Product 1</td>\n",
       "      <td>Performance</td>\n",
       "      <td>Google Ads</td>\n",
       "      <td>Search</td>\n",
       "      <td>Search Keywords</td>\n",
       "      <td>Brand</td>\n",
       "      <td>'-</td>\n",
       "      <td>'-</td>\n",
       "      <td>'-</td>\n",
       "      <td>Desktop</td>\n",
       "      <td>25-34</td>\n",
       "      <td>0.00</td>\n",
       "      <td>5</td>\n",
       "      <td>0</td>\n",
       "      <td>0.0</td>\n",
       "    </tr>\n",
       "    <tr>\n",
       "      <th>2</th>\n",
       "      <td>2019-10-16</td>\n",
       "      <td>Product 1</td>\n",
       "      <td>Performance</td>\n",
       "      <td>Google Ads</td>\n",
       "      <td>Search</td>\n",
       "      <td>Search Keywords</td>\n",
       "      <td>Brand</td>\n",
       "      <td>'-</td>\n",
       "      <td>'-</td>\n",
       "      <td>'-</td>\n",
       "      <td>Desktop</td>\n",
       "      <td>35-44</td>\n",
       "      <td>0.00</td>\n",
       "      <td>1</td>\n",
       "      <td>0</td>\n",
       "      <td>0.0</td>\n",
       "    </tr>\n",
       "    <tr>\n",
       "      <th>3</th>\n",
       "      <td>2019-10-16</td>\n",
       "      <td>Product 1</td>\n",
       "      <td>Performance</td>\n",
       "      <td>Google Ads</td>\n",
       "      <td>Search</td>\n",
       "      <td>Search Keywords</td>\n",
       "      <td>Brand</td>\n",
       "      <td>'-</td>\n",
       "      <td>'-</td>\n",
       "      <td>'-</td>\n",
       "      <td>Desktop</td>\n",
       "      <td>Undetermined</td>\n",
       "      <td>14.63</td>\n",
       "      <td>5</td>\n",
       "      <td>3</td>\n",
       "      <td>0.0</td>\n",
       "    </tr>\n",
       "    <tr>\n",
       "      <th>4</th>\n",
       "      <td>2019-10-18</td>\n",
       "      <td>Product 1</td>\n",
       "      <td>Performance</td>\n",
       "      <td>Google Ads</td>\n",
       "      <td>Search</td>\n",
       "      <td>Search Keywords</td>\n",
       "      <td>Brand</td>\n",
       "      <td>'-</td>\n",
       "      <td>'-</td>\n",
       "      <td>'-</td>\n",
       "      <td>Desktop</td>\n",
       "      <td>18-24</td>\n",
       "      <td>53.31</td>\n",
       "      <td>10</td>\n",
       "      <td>2</td>\n",
       "      <td>0.0</td>\n",
       "    </tr>\n",
       "  </tbody>\n",
       "</table>\n",
       "</div>"
      ],
      "text/plain": [
       "          gg       kids        phase campaign_platform campaign_type  \\\n",
       "0 2019-10-16  Product 1  Performance        Google Ads        Search   \n",
       "1 2019-10-16  Product 1  Performance        Google Ads        Search   \n",
       "2 2019-10-16  Product 1  Performance        Google Ads        Search   \n",
       "3 2019-10-16  Product 1  Performance        Google Ads        Search   \n",
       "4 2019-10-18  Product 1  Performance        Google Ads        Search   \n",
       "\n",
       "  communication_medium subchannel audience_type creative_type creative_name  \\\n",
       "0      Search Keywords      Brand            '-            '-            '-   \n",
       "1      Search Keywords      Brand            '-            '-            '-   \n",
       "2      Search Keywords      Brand            '-            '-            '-   \n",
       "3      Search Keywords      Brand            '-            '-            '-   \n",
       "4      Search Keywords      Brand            '-            '-            '-   \n",
       "\n",
       "    device           age  spends  impressions  clicks link_clicks  \n",
       "0  Desktop         18-24    0.00            2       0         0.0  \n",
       "1  Desktop         25-34    0.00            5       0         0.0  \n",
       "2  Desktop         35-44    0.00            1       0         0.0  \n",
       "3  Desktop  Undetermined   14.63            5       3         0.0  \n",
       "4  Desktop         18-24   53.31           10       2         0.0  "
      ]
     },
     "execution_count": 34,
     "metadata": {},
     "output_type": "execute_result"
    }
   ],
   "source": [
    "df_imprope_value =df.set_axis(['gg', 'kids', 'phase', 'campaign_platform', 'campaign_type',\n",
    "       'communication_medium', 'subchannel', 'audience_type', 'creative_type',\n",
    "       'creative_name', 'device', 'age', 'spends', 'impressions', 'clicks',\n",
    "       'link_clicks'], axis='columns', inplace=False)\n",
    "df_imprope_value.head()"
   ]
  },
  {
   "cell_type": "markdown",
   "id": "27830e06",
   "metadata": {},
   "source": [
    "***Handling missing values - using .fillna()***\n",
    "\n",
    "***from missing values to *0****\n"
   ]
  },
  {
   "cell_type": "code",
   "execution_count": 36,
   "id": "f1b8317b",
   "metadata": {},
   "outputs": [
    {
     "data": {
      "text/plain": [
       "0        0.0\n",
       "1        0.0\n",
       "2        0.0\n",
       "3        0.0\n",
       "4        0.0\n",
       "        ... \n",
       "16829    0.0\n",
       "16830    0.0\n",
       "16831    0.0\n",
       "16832    0.0\n",
       "16833    0.0\n",
       "Name: link_clicks, Length: 16629, dtype: object"
      ]
     },
     "execution_count": 36,
     "metadata": {},
     "output_type": "execute_result"
    }
   ],
   "source": [
    "df['link_clicks'].fillna('0',inplace=True)\n",
    "df['link_clicks']"
   ]
  },
  {
   "cell_type": "markdown",
   "id": "7dcce2f1",
   "metadata": {},
   "source": [
    "***Handling incorrect format***\n",
    "\n",
    "***from *object* datatype to *date* datatype***\n"
   ]
  },
  {
   "cell_type": "code",
   "execution_count": 18,
   "id": "665be7b2",
   "metadata": {},
   "outputs": [
    {
     "data": {
      "text/plain": [
       "Date                    datetime64[ns]\n",
       "product                         object\n",
       "phase                           object\n",
       "campaign_platform               object\n",
       "campaign_type                   object\n",
       "communication_medium            object\n",
       "subchannel                      object\n",
       "audience_type                   object\n",
       "creative_type                   object\n",
       "creative_name                   object\n",
       "device                          object\n",
       "age                             object\n",
       "spends                         float64\n",
       "impressions                      int64\n",
       "clicks                           int64\n",
       "link_clicks                     object\n",
       "dtype: object"
      ]
     },
     "execution_count": 18,
     "metadata": {},
     "output_type": "execute_result"
    }
   ],
   "source": [
    "df['Date'] = pd.to_datetime(df['Date'])\n",
    "df.dtypes "
   ]
  },
  {
   "cell_type": "markdown",
   "id": "b90387ec",
   "metadata": {},
   "source": [
    "***check the duplicates***\n"
   ]
  },
  {
   "cell_type": "code",
   "execution_count": 12,
   "id": "e2f6256e",
   "metadata": {},
   "outputs": [
    {
     "data": {
      "text/html": [
       "<div>\n",
       "<style scoped>\n",
       "    .dataframe tbody tr th:only-of-type {\n",
       "        vertical-align: middle;\n",
       "    }\n",
       "\n",
       "    .dataframe tbody tr th {\n",
       "        vertical-align: top;\n",
       "    }\n",
       "\n",
       "    .dataframe thead th {\n",
       "        text-align: right;\n",
       "    }\n",
       "</style>\n",
       "<table border=\"1\" class=\"dataframe\">\n",
       "  <thead>\n",
       "    <tr style=\"text-align: right;\">\n",
       "      <th></th>\n",
       "      <th>Date</th>\n",
       "      <th>product</th>\n",
       "      <th>phase</th>\n",
       "      <th>campaign_platform</th>\n",
       "      <th>campaign_type</th>\n",
       "      <th>communication_medium</th>\n",
       "      <th>subchannel</th>\n",
       "      <th>audience_type</th>\n",
       "      <th>creative_type</th>\n",
       "      <th>creative_name</th>\n",
       "      <th>device</th>\n",
       "      <th>age</th>\n",
       "      <th>spends</th>\n",
       "      <th>impressions</th>\n",
       "      <th>clicks</th>\n",
       "      <th>link_clicks</th>\n",
       "    </tr>\n",
       "  </thead>\n",
       "  <tbody>\n",
       "    <tr>\n",
       "      <th>27</th>\n",
       "      <td>2019-10-19</td>\n",
       "      <td>Product 1</td>\n",
       "      <td>Performance</td>\n",
       "      <td>Google Ads</td>\n",
       "      <td>Search</td>\n",
       "      <td>Search Keywords</td>\n",
       "      <td>Brand</td>\n",
       "      <td>'-</td>\n",
       "      <td>'-</td>\n",
       "      <td>'-</td>\n",
       "      <td>Desktop</td>\n",
       "      <td>45-54</td>\n",
       "      <td>0.0</td>\n",
       "      <td>1</td>\n",
       "      <td>0</td>\n",
       "      <td>0.0</td>\n",
       "    </tr>\n",
       "    <tr>\n",
       "      <th>408</th>\n",
       "      <td>2019-11-09</td>\n",
       "      <td>Product 1</td>\n",
       "      <td>Performance</td>\n",
       "      <td>Google Ads</td>\n",
       "      <td>Search</td>\n",
       "      <td>Search Keywords</td>\n",
       "      <td>Brand</td>\n",
       "      <td>'-</td>\n",
       "      <td>'-</td>\n",
       "      <td>'-</td>\n",
       "      <td>Desktop</td>\n",
       "      <td>55-64</td>\n",
       "      <td>0.0</td>\n",
       "      <td>1</td>\n",
       "      <td>0</td>\n",
       "      <td>0.0</td>\n",
       "    </tr>\n",
       "    <tr>\n",
       "      <th>1299</th>\n",
       "      <td>2019-12-05</td>\n",
       "      <td>Product 1</td>\n",
       "      <td>Performance</td>\n",
       "      <td>Google Ads</td>\n",
       "      <td>Search</td>\n",
       "      <td>Search Keywords</td>\n",
       "      <td>Generic</td>\n",
       "      <td>'-</td>\n",
       "      <td>'-</td>\n",
       "      <td>'-</td>\n",
       "      <td>Tablet</td>\n",
       "      <td>18-24</td>\n",
       "      <td>0.0</td>\n",
       "      <td>1</td>\n",
       "      <td>0</td>\n",
       "      <td>0.0</td>\n",
       "    </tr>\n",
       "    <tr>\n",
       "      <th>1392</th>\n",
       "      <td>2019-12-06</td>\n",
       "      <td>Product 1</td>\n",
       "      <td>Performance</td>\n",
       "      <td>Google Ads</td>\n",
       "      <td>Search</td>\n",
       "      <td>Search Keywords</td>\n",
       "      <td>Generic</td>\n",
       "      <td>'-</td>\n",
       "      <td>'-</td>\n",
       "      <td>'-</td>\n",
       "      <td>Tablet</td>\n",
       "      <td>25-34</td>\n",
       "      <td>0.0</td>\n",
       "      <td>1</td>\n",
       "      <td>0</td>\n",
       "      <td>0.0</td>\n",
       "    </tr>\n",
       "    <tr>\n",
       "      <th>1393</th>\n",
       "      <td>2019-12-06</td>\n",
       "      <td>Product 1</td>\n",
       "      <td>Performance</td>\n",
       "      <td>Google Ads</td>\n",
       "      <td>Search</td>\n",
       "      <td>Search Keywords</td>\n",
       "      <td>Generic</td>\n",
       "      <td>'-</td>\n",
       "      <td>'-</td>\n",
       "      <td>'-</td>\n",
       "      <td>Tablet</td>\n",
       "      <td>Undetermined</td>\n",
       "      <td>0.0</td>\n",
       "      <td>2</td>\n",
       "      <td>0</td>\n",
       "      <td>0.0</td>\n",
       "    </tr>\n",
       "    <tr>\n",
       "      <th>...</th>\n",
       "      <td>...</td>\n",
       "      <td>...</td>\n",
       "      <td>...</td>\n",
       "      <td>...</td>\n",
       "      <td>...</td>\n",
       "      <td>...</td>\n",
       "      <td>...</td>\n",
       "      <td>...</td>\n",
       "      <td>...</td>\n",
       "      <td>...</td>\n",
       "      <td>...</td>\n",
       "      <td>...</td>\n",
       "      <td>...</td>\n",
       "      <td>...</td>\n",
       "      <td>...</td>\n",
       "      <td>...</td>\n",
       "    </tr>\n",
       "    <tr>\n",
       "      <th>15394</th>\n",
       "      <td>2020-04-20</td>\n",
       "      <td>Product 1</td>\n",
       "      <td>Performance</td>\n",
       "      <td>Google Ads</td>\n",
       "      <td>Search</td>\n",
       "      <td>Search Keywords</td>\n",
       "      <td>Brand</td>\n",
       "      <td>'-</td>\n",
       "      <td>'-</td>\n",
       "      <td>'-</td>\n",
       "      <td>Desktop</td>\n",
       "      <td>45-54</td>\n",
       "      <td>0.0</td>\n",
       "      <td>1</td>\n",
       "      <td>0</td>\n",
       "      <td>0.0</td>\n",
       "    </tr>\n",
       "    <tr>\n",
       "      <th>15400</th>\n",
       "      <td>2020-04-20</td>\n",
       "      <td>Product 1</td>\n",
       "      <td>Performance</td>\n",
       "      <td>Google Ads</td>\n",
       "      <td>Search</td>\n",
       "      <td>Search Keywords</td>\n",
       "      <td>Brand</td>\n",
       "      <td>'-</td>\n",
       "      <td>'-</td>\n",
       "      <td>'-</td>\n",
       "      <td>Mobile</td>\n",
       "      <td>55-64</td>\n",
       "      <td>0.0</td>\n",
       "      <td>1</td>\n",
       "      <td>0</td>\n",
       "      <td>0.0</td>\n",
       "    </tr>\n",
       "    <tr>\n",
       "      <th>15612</th>\n",
       "      <td>2020-05-04</td>\n",
       "      <td>Product 1</td>\n",
       "      <td>Performance</td>\n",
       "      <td>Google Ads</td>\n",
       "      <td>Search</td>\n",
       "      <td>Search Keywords</td>\n",
       "      <td>Brand</td>\n",
       "      <td>'-</td>\n",
       "      <td>'-</td>\n",
       "      <td>'-</td>\n",
       "      <td>Tablet</td>\n",
       "      <td>25-34</td>\n",
       "      <td>0.0</td>\n",
       "      <td>1</td>\n",
       "      <td>0</td>\n",
       "      <td>0.0</td>\n",
       "    </tr>\n",
       "    <tr>\n",
       "      <th>15838</th>\n",
       "      <td>2020-05-16</td>\n",
       "      <td>Product 1</td>\n",
       "      <td>Performance</td>\n",
       "      <td>Google Ads</td>\n",
       "      <td>Search</td>\n",
       "      <td>Search Keywords</td>\n",
       "      <td>Brand</td>\n",
       "      <td>'-</td>\n",
       "      <td>'-</td>\n",
       "      <td>'-</td>\n",
       "      <td>Tablet</td>\n",
       "      <td>45-54</td>\n",
       "      <td>0.0</td>\n",
       "      <td>1</td>\n",
       "      <td>0</td>\n",
       "      <td>0.0</td>\n",
       "    </tr>\n",
       "    <tr>\n",
       "      <th>16573</th>\n",
       "      <td>2020-06-24</td>\n",
       "      <td>Product 1</td>\n",
       "      <td>Performance</td>\n",
       "      <td>Google Ads</td>\n",
       "      <td>Search</td>\n",
       "      <td>Search Keywords</td>\n",
       "      <td>Brand</td>\n",
       "      <td>'-</td>\n",
       "      <td>'-</td>\n",
       "      <td>'-</td>\n",
       "      <td>Tablet</td>\n",
       "      <td>25-34</td>\n",
       "      <td>0.0</td>\n",
       "      <td>1</td>\n",
       "      <td>0</td>\n",
       "      <td>0.0</td>\n",
       "    </tr>\n",
       "  </tbody>\n",
       "</table>\n",
       "<p>205 rows × 16 columns</p>\n",
       "</div>"
      ],
      "text/plain": [
       "            Date    product        phase campaign_platform campaign_type  \\\n",
       "27    2019-10-19  Product 1  Performance        Google Ads        Search   \n",
       "408   2019-11-09  Product 1  Performance        Google Ads        Search   \n",
       "1299  2019-12-05  Product 1  Performance        Google Ads        Search   \n",
       "1392  2019-12-06  Product 1  Performance        Google Ads        Search   \n",
       "1393  2019-12-06  Product 1  Performance        Google Ads        Search   \n",
       "...          ...        ...          ...               ...           ...   \n",
       "15394 2020-04-20  Product 1  Performance        Google Ads        Search   \n",
       "15400 2020-04-20  Product 1  Performance        Google Ads        Search   \n",
       "15612 2020-05-04  Product 1  Performance        Google Ads        Search   \n",
       "15838 2020-05-16  Product 1  Performance        Google Ads        Search   \n",
       "16573 2020-06-24  Product 1  Performance        Google Ads        Search   \n",
       "\n",
       "      communication_medium subchannel audience_type creative_type  \\\n",
       "27         Search Keywords      Brand            '-            '-   \n",
       "408        Search Keywords      Brand            '-            '-   \n",
       "1299       Search Keywords    Generic            '-            '-   \n",
       "1392       Search Keywords    Generic            '-            '-   \n",
       "1393       Search Keywords    Generic            '-            '-   \n",
       "...                    ...        ...           ...           ...   \n",
       "15394      Search Keywords      Brand            '-            '-   \n",
       "15400      Search Keywords      Brand            '-            '-   \n",
       "15612      Search Keywords      Brand            '-            '-   \n",
       "15838      Search Keywords      Brand            '-            '-   \n",
       "16573      Search Keywords      Brand            '-            '-   \n",
       "\n",
       "      creative_name   device           age  spends  impressions  clicks  \\\n",
       "27               '-  Desktop         45-54     0.0            1       0   \n",
       "408              '-  Desktop         55-64     0.0            1       0   \n",
       "1299             '-   Tablet         18-24     0.0            1       0   \n",
       "1392             '-   Tablet         25-34     0.0            1       0   \n",
       "1393             '-   Tablet  Undetermined     0.0            2       0   \n",
       "...             ...      ...           ...     ...          ...     ...   \n",
       "15394            '-  Desktop         45-54     0.0            1       0   \n",
       "15400            '-   Mobile         55-64     0.0            1       0   \n",
       "15612            '-   Tablet         25-34     0.0            1       0   \n",
       "15838            '-   Tablet         45-54     0.0            1       0   \n",
       "16573            '-   Tablet         25-34     0.0            1       0   \n",
       "\n",
       "      link_clicks  \n",
       "27            0.0  \n",
       "408           0.0  \n",
       "1299          0.0  \n",
       "1392          0.0  \n",
       "1393          0.0  \n",
       "...           ...  \n",
       "15394         0.0  \n",
       "15400         0.0  \n",
       "15612         0.0  \n",
       "15838         0.0  \n",
       "16573         0.0  \n",
       "\n",
       "[205 rows x 16 columns]"
      ]
     },
     "execution_count": 12,
     "metadata": {},
     "output_type": "execute_result"
    }
   ],
   "source": [
    "df[df.duplicated()]"
   ]
  },
  {
   "cell_type": "code",
   "execution_count": 13,
   "id": "445b0130",
   "metadata": {
    "scrolled": false
   },
   "outputs": [
    {
     "data": {
      "text/plain": [
       "False    16629\n",
       "True       205\n",
       "dtype: int64"
      ]
     },
     "execution_count": 13,
     "metadata": {},
     "output_type": "execute_result"
    }
   ],
   "source": [
    "df.duplicated().value_counts()"
   ]
  },
  {
   "cell_type": "markdown",
   "id": "f72fd849",
   "metadata": {},
   "source": [
    "***Handling duplicate values***\n",
    "\n"
   ]
  },
  {
   "cell_type": "code",
   "execution_count": 38,
   "id": "e9d7aa48",
   "metadata": {},
   "outputs": [],
   "source": [
    "df.drop_duplicates(inplace=True)"
   ]
  },
  {
   "cell_type": "code",
   "execution_count": 39,
   "id": "6225e361",
   "metadata": {},
   "outputs": [
    {
     "data": {
      "text/html": [
       "<div>\n",
       "<style scoped>\n",
       "    .dataframe tbody tr th:only-of-type {\n",
       "        vertical-align: middle;\n",
       "    }\n",
       "\n",
       "    .dataframe tbody tr th {\n",
       "        vertical-align: top;\n",
       "    }\n",
       "\n",
       "    .dataframe thead th {\n",
       "        text-align: right;\n",
       "    }\n",
       "</style>\n",
       "<table border=\"1\" class=\"dataframe\">\n",
       "  <thead>\n",
       "    <tr style=\"text-align: right;\">\n",
       "      <th></th>\n",
       "      <th>Date</th>\n",
       "      <th>product</th>\n",
       "      <th>phase</th>\n",
       "      <th>campaign_platform</th>\n",
       "      <th>campaign_type</th>\n",
       "      <th>communication_medium</th>\n",
       "      <th>subchannel</th>\n",
       "      <th>audience_type</th>\n",
       "      <th>creative_type</th>\n",
       "      <th>creative_name</th>\n",
       "      <th>device</th>\n",
       "      <th>age</th>\n",
       "      <th>spends</th>\n",
       "      <th>impressions</th>\n",
       "      <th>clicks</th>\n",
       "      <th>link_clicks</th>\n",
       "    </tr>\n",
       "  </thead>\n",
       "  <tbody>\n",
       "  </tbody>\n",
       "</table>\n",
       "</div>"
      ],
      "text/plain": [
       "Empty DataFrame\n",
       "Columns: [Date, product, phase, campaign_platform, campaign_type, communication_medium, subchannel, audience_type, creative_type, creative_name, device, age, spends, impressions, clicks, link_clicks]\n",
       "Index: []"
      ]
     },
     "execution_count": 39,
     "metadata": {},
     "output_type": "execute_result"
    }
   ],
   "source": [
    "df[df.duplicated()]"
   ]
  },
  {
   "cell_type": "code",
   "execution_count": 40,
   "id": "258fc6dc",
   "metadata": {
    "scrolled": true
   },
   "outputs": [
    {
     "data": {
      "text/plain": [
       "False    16629\n",
       "dtype: int64"
      ]
     },
     "execution_count": 40,
     "metadata": {},
     "output_type": "execute_result"
    }
   ],
   "source": [
    "df.duplicated().value_counts()"
   ]
  },
  {
   "cell_type": "markdown",
   "id": "7539ea22",
   "metadata": {},
   "source": [
    "***Wrong Spelling***"
   ]
  },
  {
   "cell_type": "code",
   "execution_count": 87,
   "id": "4064e438",
   "metadata": {},
   "outputs": [
    {
     "data": {
      "text/plain": [
       "0        Pruduct 2\n",
       "1        Pruduct 2\n",
       "2        Pruduct 2\n",
       "3        Pruduct 2\n",
       "4        Pruduct 2\n",
       "           ...    \n",
       "16829    Pruduct 2\n",
       "16830    Pruduct 2\n",
       "16831    Pruduct 2\n",
       "16832    Pruduct 2\n",
       "16833    Pruduct 2\n",
       "Name: product, Length: 16629, dtype: object"
      ]
     },
     "execution_count": 87,
     "metadata": {},
     "output_type": "execute_result"
    }
   ],
   "source": [
    "df[\"product\"]"
   ]
  },
  {
   "cell_type": "code",
   "execution_count": 91,
   "id": "c5be508c",
   "metadata": {},
   "outputs": [
    {
     "data": {
      "text/plain": [
       "0        Product 1\n",
       "1        Product 1\n",
       "2        Product 1\n",
       "3        Product 1\n",
       "4        Product 1\n",
       "           ...    \n",
       "16829    Product 1\n",
       "16830    Product 1\n",
       "16831    Product 1\n",
       "16832    Product 1\n",
       "16833    Product 1\n",
       "Name: product, Length: 16629, dtype: object"
      ]
     },
     "execution_count": 91,
     "metadata": {},
     "output_type": "execute_result"
    }
   ],
   "source": [
    "df['product'].replace('Pruduct 2' , 'Product 1', inplace=True)\n",
    "df['product']"
   ]
  },
  {
   "cell_type": "markdown",
   "id": "0e6b8002",
   "metadata": {},
   "source": [
    "***Handling Categorical and Continuous Datatype Separately***\n",
    "\n",
    "***Categorical***"
   ]
  },
  {
   "cell_type": "code",
   "execution_count": 42,
   "id": "07e3c790",
   "metadata": {},
   "outputs": [
    {
     "data": {
      "text/plain": [
       "Date                    datetime64[ns]\n",
       "product                         object\n",
       "phase                           object\n",
       "campaign_platform               object\n",
       "campaign_type                   object\n",
       "communication_medium            object\n",
       "subchannel                      object\n",
       "audience_type                   object\n",
       "creative_type                   object\n",
       "creative_name                   object\n",
       "device                          object\n",
       "age                             object\n",
       "spends                         float64\n",
       "impressions                      int64\n",
       "clicks                           int64\n",
       "link_clicks                     object\n",
       "dtype: object"
      ]
     },
     "execution_count": 42,
     "metadata": {},
     "output_type": "execute_result"
    }
   ],
   "source": [
    "df.dtypes"
   ]
  },
  {
   "cell_type": "code",
   "execution_count": 57,
   "id": "32a9a015",
   "metadata": {},
   "outputs": [
    {
     "data": {
      "text/html": [
       "<div>\n",
       "<style scoped>\n",
       "    .dataframe tbody tr th:only-of-type {\n",
       "        vertical-align: middle;\n",
       "    }\n",
       "\n",
       "    .dataframe tbody tr th {\n",
       "        vertical-align: top;\n",
       "    }\n",
       "\n",
       "    .dataframe thead th {\n",
       "        text-align: right;\n",
       "    }\n",
       "</style>\n",
       "<table border=\"1\" class=\"dataframe\">\n",
       "  <thead>\n",
       "    <tr style=\"text-align: right;\">\n",
       "      <th></th>\n",
       "      <th>product</th>\n",
       "      <th>phase</th>\n",
       "      <th>campaign_platform</th>\n",
       "      <th>campaign_type</th>\n",
       "      <th>communication_medium</th>\n",
       "      <th>subchannel</th>\n",
       "      <th>audience_type</th>\n",
       "      <th>creative_type</th>\n",
       "      <th>creative_name</th>\n",
       "      <th>device</th>\n",
       "      <th>age</th>\n",
       "      <th>link_clicks</th>\n",
       "    </tr>\n",
       "  </thead>\n",
       "  <tbody>\n",
       "    <tr>\n",
       "      <th>count</th>\n",
       "      <td>16629</td>\n",
       "      <td>16629</td>\n",
       "      <td>16629</td>\n",
       "      <td>16629</td>\n",
       "      <td>16629</td>\n",
       "      <td>16629</td>\n",
       "      <td>16629</td>\n",
       "      <td>16629</td>\n",
       "      <td>16629</td>\n",
       "      <td>16629</td>\n",
       "      <td>16629</td>\n",
       "      <td>16629.0</td>\n",
       "    </tr>\n",
       "    <tr>\n",
       "      <th>unique</th>\n",
       "      <td>1</td>\n",
       "      <td>1</td>\n",
       "      <td>2</td>\n",
       "      <td>2</td>\n",
       "      <td>2</td>\n",
       "      <td>4</td>\n",
       "      <td>4</td>\n",
       "      <td>3</td>\n",
       "      <td>4</td>\n",
       "      <td>4</td>\n",
       "      <td>7</td>\n",
       "      <td>161.0</td>\n",
       "    </tr>\n",
       "    <tr>\n",
       "      <th>top</th>\n",
       "      <td>Product 1</td>\n",
       "      <td>Performance</td>\n",
       "      <td>Google Ads</td>\n",
       "      <td>Search</td>\n",
       "      <td>Search Keywords</td>\n",
       "      <td>Brand</td>\n",
       "      <td>'-</td>\n",
       "      <td>'-</td>\n",
       "      <td>'-</td>\n",
       "      <td>Mobile</td>\n",
       "      <td>25-34</td>\n",
       "      <td>0.0</td>\n",
       "    </tr>\n",
       "    <tr>\n",
       "      <th>freq</th>\n",
       "      <td>16629</td>\n",
       "      <td>16629</td>\n",
       "      <td>14896</td>\n",
       "      <td>14896</td>\n",
       "      <td>14896</td>\n",
       "      <td>7791</td>\n",
       "      <td>14896</td>\n",
       "      <td>14896</td>\n",
       "      <td>14896</td>\n",
       "      <td>7322</td>\n",
       "      <td>3075</td>\n",
       "      <td>14896.0</td>\n",
       "    </tr>\n",
       "  </tbody>\n",
       "</table>\n",
       "</div>"
      ],
      "text/plain": [
       "          product        phase campaign_platform campaign_type  \\\n",
       "count       16629        16629             16629         16629   \n",
       "unique          1            1                 2             2   \n",
       "top     Product 1  Performance        Google Ads        Search   \n",
       "freq        16629        16629             14896         14896   \n",
       "\n",
       "       communication_medium subchannel audience_type creative_type  \\\n",
       "count                 16629      16629         16629         16629   \n",
       "unique                    2          4             4             3   \n",
       "top         Search Keywords      Brand            '-            '-   \n",
       "freq                  14896       7791         14896         14896   \n",
       "\n",
       "       creative_name  device    age  link_clicks  \n",
       "count          16629   16629  16629      16629.0  \n",
       "unique             4       4      7        161.0  \n",
       "top               '-  Mobile  25-34          0.0  \n",
       "freq           14896    7322   3075      14896.0  "
      ]
     },
     "execution_count": 57,
     "metadata": {},
     "output_type": "execute_result"
    }
   ],
   "source": [
    "df_cat = df.select_dtypes(include=['object'])\n",
    "df_cat.describe()"
   ]
  },
  {
   "cell_type": "code",
   "execution_count": 64,
   "id": "944f9925",
   "metadata": {
    "scrolled": true
   },
   "outputs": [
    {
     "data": {
      "text/plain": [
       "<AxesSubplot:>"
      ]
     },
     "execution_count": 64,
     "metadata": {},
     "output_type": "execute_result"
    },
    {
     "data": {
      "image/png": "[encoded data removed]",
      "text/plain": [
       "<Figure size 432x288 with 1 Axes>"
      ]
     },
     "metadata": {
      "needs_background": "light"
     },
     "output_type": "display_data"
    }
   ],
   "source": [
    "df_cat.age.value_counts().sort_values().plot(kind=\"barh\")"
   ]
  },
  {
   "cell_type": "code",
   "execution_count": 51,
   "id": "895a6086",
   "metadata": {},
   "outputs": [
    {
     "data": {
      "text/plain": [
       "array(['Google Ads', 'Facebook Ads'], dtype=object)"
      ]
     },
     "execution_count": 51,
     "metadata": {},
     "output_type": "execute_result"
    }
   ],
   "source": [
    "df_cat.campaign_platform.unique()"
   ]
  },
  {
   "cell_type": "code",
   "execution_count": 17,
   "id": "776a059b",
   "metadata": {},
   "outputs": [
    {
     "data": {
      "text/plain": [
       "2"
      ]
     },
     "execution_count": 17,
     "metadata": {},
     "output_type": "execute_result"
    }
   ],
   "source": [
    "df_cat.campaign_type.nunique()"
   ]
  },
  {
   "cell_type": "code",
   "execution_count": 18,
   "id": "fb646ca6",
   "metadata": {},
   "outputs": [
    {
     "data": {
      "text/plain": [
       "Index(['product', 'phase', 'campaign_platform', 'campaign_type',\n",
       "       'communication_medium', 'subchannel', 'audience_type', 'creative_type',\n",
       "       'creative_name', 'device', 'age', 'link_clicks'],\n",
       "      dtype='object')"
      ]
     },
     "execution_count": 18,
     "metadata": {},
     "output_type": "execute_result"
    }
   ],
   "source": [
    "df_cat.columns"
   ]
  },
  {
   "cell_type": "code",
   "execution_count": 19,
   "id": "a165007b",
   "metadata": {},
   "outputs": [
    {
     "name": "stdout",
     "output_type": "stream",
     "text": [
      "column: product\n",
      "Product 1    16629\n",
      "Name: product, dtype: int64\n",
      "----------------------\n",
      "column: phase\n",
      "Performance    16629\n",
      "Name: phase, dtype: int64\n",
      "----------------------\n",
      "column: campaign_platform\n",
      "Google Ads      14896\n",
      "Facebook Ads     1733\n",
      "Name: campaign_platform, dtype: int64\n",
      "----------------------\n",
      "column: campaign_type\n",
      "Search         14896\n",
      "Conversions     1733\n",
      "Name: campaign_type, dtype: int64\n",
      "----------------------\n",
      "column: communication_medium\n",
      "Search Keywords    14896\n",
      "Creative            1733\n",
      "Name: communication_medium, dtype: int64\n",
      "----------------------\n",
      "column: subchannel\n",
      "Brand           7791\n",
      "Generic         4443\n",
      "Competitor      2662\n",
      "Facebook Ads    1733\n",
      "Name: subchannel, dtype: int64\n",
      "----------------------\n",
      "column: audience_type\n",
      "'-            14896\n",
      "Audience 1      813\n",
      "Audience 2      738\n",
      "Audience 3      182\n",
      "Name: audience_type, dtype: int64\n",
      "----------------------\n",
      "column: creative_type\n",
      "'-          14896\n",
      "Image        1130\n",
      "Carousal      603\n",
      "Name: creative_type, dtype: int64\n",
      "----------------------\n",
      "column: creative_name\n",
      "'-          14896\n",
      "Click         644\n",
      "Carousal      603\n",
      "Girl          486\n",
      "Name: creative_name, dtype: int64\n",
      "----------------------\n",
      "column: device\n",
      "Mobile     7322\n",
      "Desktop    6225\n",
      "device     1733\n",
      "Tablet     1349\n",
      "Name: device, dtype: int64\n",
      "----------------------\n",
      "column: age\n",
      "25-34           3075\n",
      "35-44           2857\n",
      "Undetermined    2555\n",
      "45-54           2475\n",
      "18-24           2454\n",
      "55-64           1703\n",
      "65 or more      1510\n",
      "Name: age, dtype: int64\n",
      "----------------------\n",
      "column: link_clicks\n",
      "0.0      14896\n",
      "0          546\n",
      "1.0        233\n",
      "2.0        104\n",
      "3.0         87\n",
      "         ...  \n",
      "336.0        1\n",
      "290.0        1\n",
      "207.0        1\n",
      "165.0        1\n",
      "159.0        1\n",
      "Name: link_clicks, Length: 161, dtype: int64\n",
      "----------------------\n"
     ]
    }
   ],
   "source": [
    "## VIEW ALL VALUE COUNTS EACH COLUMNS\n",
    "\n",
    "for cols in df_cat.columns:\n",
    "    print('column:', cols)\n",
    "    print(df_cat[cols].value_counts())\n",
    "    print('----------------------')"
   ]
  },
  {
   "cell_type": "markdown",
   "id": "83e35191",
   "metadata": {},
   "source": [
    "##### Numerical"
   ]
  },
  {
   "cell_type": "code",
   "execution_count": 65,
   "id": "909af125",
   "metadata": {},
   "outputs": [
    {
     "data": {
      "text/html": [
       "<div>\n",
       "<style scoped>\n",
       "    .dataframe tbody tr th:only-of-type {\n",
       "        vertical-align: middle;\n",
       "    }\n",
       "\n",
       "    .dataframe tbody tr th {\n",
       "        vertical-align: top;\n",
       "    }\n",
       "\n",
       "    .dataframe thead th {\n",
       "        text-align: right;\n",
       "    }\n",
       "</style>\n",
       "<table border=\"1\" class=\"dataframe\">\n",
       "  <thead>\n",
       "    <tr style=\"text-align: right;\">\n",
       "      <th></th>\n",
       "      <th>spends</th>\n",
       "      <th>impressions</th>\n",
       "      <th>clicks</th>\n",
       "    </tr>\n",
       "  </thead>\n",
       "  <tbody>\n",
       "    <tr>\n",
       "      <th>count</th>\n",
       "      <td>16629.000000</td>\n",
       "      <td>16629.000000</td>\n",
       "      <td>16629.000000</td>\n",
       "    </tr>\n",
       "    <tr>\n",
       "      <th>mean</th>\n",
       "      <td>150.527103</td>\n",
       "      <td>291.490168</td>\n",
       "      <td>12.125383</td>\n",
       "    </tr>\n",
       "    <tr>\n",
       "      <th>std</th>\n",
       "      <td>486.586061</td>\n",
       "      <td>2459.264317</td>\n",
       "      <td>45.052407</td>\n",
       "    </tr>\n",
       "    <tr>\n",
       "      <th>min</th>\n",
       "      <td>0.000000</td>\n",
       "      <td>0.000000</td>\n",
       "      <td>0.000000</td>\n",
       "    </tr>\n",
       "    <tr>\n",
       "      <th>25%</th>\n",
       "      <td>0.430000</td>\n",
       "      <td>4.000000</td>\n",
       "      <td>0.000000</td>\n",
       "    </tr>\n",
       "    <tr>\n",
       "      <th>50%</th>\n",
       "      <td>23.640000</td>\n",
       "      <td>13.000000</td>\n",
       "      <td>2.000000</td>\n",
       "    </tr>\n",
       "    <tr>\n",
       "      <th>75%</th>\n",
       "      <td>112.090000</td>\n",
       "      <td>66.000000</td>\n",
       "      <td>9.000000</td>\n",
       "    </tr>\n",
       "    <tr>\n",
       "      <th>max</th>\n",
       "      <td>9221.960000</td>\n",
       "      <td>67454.000000</td>\n",
       "      <td>1075.000000</td>\n",
       "    </tr>\n",
       "  </tbody>\n",
       "</table>\n",
       "</div>"
      ],
      "text/plain": [
       "             spends   impressions        clicks\n",
       "count  16629.000000  16629.000000  16629.000000\n",
       "mean     150.527103    291.490168     12.125383\n",
       "std      486.586061   2459.264317     45.052407\n",
       "min        0.000000      0.000000      0.000000\n",
       "25%        0.430000      4.000000      0.000000\n",
       "50%       23.640000     13.000000      2.000000\n",
       "75%      112.090000     66.000000      9.000000\n",
       "max     9221.960000  67454.000000   1075.000000"
      ]
     },
     "execution_count": 65,
     "metadata": {},
     "output_type": "execute_result"
    }
   ],
   "source": [
    "\n",
    "df_num = df.select_dtypes(include=['int64','float64'])\n",
    "df_num.describe()\n"
   ]
  },
  {
   "cell_type": "markdown",
   "id": "3d328691",
   "metadata": {},
   "source": [
    "#### Feature Engineering: Date Extraction"
   ]
  },
  {
   "cell_type": "code",
   "execution_count": 66,
   "id": "295dd921",
   "metadata": {},
   "outputs": [],
   "source": [
    "\n",
    "df['Year'] = df.Date.dt.year\n",
    "df['Month'] = df.Date.dt.month\n",
    "df['Day'] = df.Date.dt.day\n",
    "df['Week'] = df.Date.dt.week"
   ]
  },
  {
   "cell_type": "markdown",
   "id": "d7d2fc79",
   "metadata": {},
   "source": [
    "#### Quick Aggregation\n"
   ]
  },
  {
   "cell_type": "code",
   "execution_count": 74,
   "id": "9d38d5d9",
   "metadata": {},
   "outputs": [
    {
     "data": {
      "text/plain": [
       "Year\n",
       "2019    192.574577\n",
       "2020    137.730475\n",
       "Name: spends, dtype: float64"
      ]
     },
     "execution_count": 74,
     "metadata": {},
     "output_type": "execute_result"
    }
   ],
   "source": [
    "\n",
    "df.groupby(['Year'])['spends'].mean()"
   ]
  },
  {
   "cell_type": "code",
   "execution_count": 23,
   "id": "23ccfb81",
   "metadata": {},
   "outputs": [
    {
     "data": {
      "text/plain": [
       "Year\n",
       "2019    115.310309\n",
       "2020    345.108322\n",
       "Name: impressions, dtype: float64"
      ]
     },
     "execution_count": 23,
     "metadata": {},
     "output_type": "execute_result"
    }
   ],
   "source": [
    "df.groupby(['Year'])['impressions'].mean()"
   ]
  },
  {
   "cell_type": "code",
   "execution_count": 94,
   "id": "a80c4796",
   "metadata": {},
   "outputs": [
    {
     "name": "stdout",
     "output_type": "stream",
     "text": [
      "column: spends\n",
      "0.00      3900\n",
      "0.43        52\n",
      "0.46        42\n",
      "1.42        33\n",
      "1.43        32\n",
      "          ... \n",
      "86.20        1\n",
      "439.79       1\n",
      "505.85       1\n",
      "243.92       1\n",
      "14.76        1\n",
      "Name: spends, Length: 9087, dtype: int64\n",
      "----------------------\n",
      "column: impressions\n",
      "1       2011\n",
      "2       1188\n",
      "3        893\n",
      "4        712\n",
      "5        624\n",
      "        ... \n",
      "1449       1\n",
      "1789       1\n",
      "653        1\n",
      "964        1\n",
      "8801       1\n",
      "Name: impressions, Length: 1188, dtype: int64\n",
      "----------------------\n",
      "column: clicks\n",
      "0      4326\n",
      "1      2820\n",
      "2      1605\n",
      "3      1119\n",
      "4       759\n",
      "       ... \n",
      "399       1\n",
      "496       1\n",
      "486       1\n",
      "448       1\n",
      "390       1\n",
      "Name: clicks, Length: 263, dtype: int64\n",
      "----------------------\n"
     ]
    }
   ],
   "source": [
    "for cols in df_num.columns:\n",
    "    print('column:', cols)\n",
    "    print(df_num[cols].value_counts())\n",
    "    print('----------------------')"
   ]
  },
  {
   "cell_type": "markdown",
   "id": "133a3fc1",
   "metadata": {},
   "source": [
    "#### Univariate\n",
    "\n",
    "##### Using matplotlib\n"
   ]
  },
  {
   "cell_type": "code",
   "execution_count": 101,
   "id": "5fa51371",
   "metadata": {},
   "outputs": [
    {
     "data": {
      "text/plain": [
       "<AxesSubplot:>"
      ]
     },
     "execution_count": 101,
     "metadata": {},
     "output_type": "execute_result"
    },
    {
     "data": {
      "image/png": "[encoded data removed]",
      "text/plain": [
       "<Figure size 432x288 with 1 Axes>"
      ]
     },
     "metadata": {
      "needs_background": "light"
     },
     "output_type": "display_data"
    }
   ],
   "source": [
    "df.clicks.hist()"
   ]
  },
  {
   "cell_type": "markdown",
   "id": "be3acfa9",
   "metadata": {},
   "source": [
    "##### The graph above observed skewedness with right tail.\n",
    "\n",
    "##### Using seaborn\n",
    "\n"
   ]
  },
  {
   "cell_type": "code",
   "execution_count": 103,
   "id": "50ecb87b",
   "metadata": {},
   "outputs": [
    {
     "data": {
      "text/plain": [
       "<AxesSubplot:xlabel='clicks', ylabel='Density'>"
      ]
     },
     "execution_count": 103,
     "metadata": {},
     "output_type": "execute_result"
    },
    {
     "data": {
      "image/png": "[encoded data removed]",
      "text/plain": [
       "<Figure size 432x288 with 1 Axes>"
      ]
     },
     "metadata": {
      "needs_background": "light"
     },
     "output_type": "display_data"
    }
   ],
   "source": [
    "sns.distplot(df.clicks)"
   ]
  },
  {
   "cell_type": "code",
   "execution_count": 104,
   "id": "a133b391",
   "metadata": {},
   "outputs": [
    {
     "data": {
      "text/plain": [
       "<AxesSubplot:xlabel='clicks'>"
      ]
     },
     "execution_count": 104,
     "metadata": {},
     "output_type": "execute_result"
    },
    {
     "data": {
      "image/png": "[encoded data removed]",
      "text/plain": [
       "<Figure size 432x288 with 1 Axes>"
      ]
     },
     "metadata": {
      "needs_background": "light"
     },
     "output_type": "display_data"
    }
   ],
   "source": [
    "sns.boxplot(df['clicks'])"
   ]
  },
  {
   "cell_type": "markdown",
   "id": "d3e240e8",
   "metadata": {},
   "source": [
    "##### Boxplot shows us the central point of the given value. This can also show the outliers above the whiskers or upper boundary and below the whiskers or lower boundary\n"
   ]
  },
  {
   "cell_type": "code",
   "execution_count": 105,
   "id": "dd6b4f77",
   "metadata": {},
   "outputs": [
    {
     "data": {
      "text/plain": [
       "<AxesSubplot:xlabel='clicks', ylabel='Density'>"
      ]
     },
     "execution_count": 105,
     "metadata": {},
     "output_type": "execute_result"
    },
    {
     "data": {
      "image/png": "[encoded data removed]",
      "text/plain": [
       "<Figure size 432x288 with 1 Axes>"
      ]
     },
     "metadata": {
      "needs_background": "light"
     },
     "output_type": "display_data"
    }
   ],
   "source": [
    "sns.kdeplot(df['clicks'])"
   ]
  },
  {
   "cell_type": "markdown",
   "id": "f6d865e9",
   "metadata": {},
   "source": [
    "##### The kdeplot above shows us a line graph showing the frequency of clicks"
   ]
  },
  {
   "cell_type": "markdown",
   "id": "078b1020",
   "metadata": {},
   "source": [
    "### Power Conversion\n",
    "\n",
    "In data science, a variable or column has to be prepared near to 0. Therefore, the values we encountered has to be reduced in a representation. This can be done using: logarithm function or the square root of the values."
   ]
  },
  {
   "cell_type": "markdown",
   "id": "04467e06",
   "metadata": {},
   "source": [
    "#### Using logarithm"
   ]
  },
  {
   "cell_type": "code",
   "execution_count": 106,
   "id": "fc51a743",
   "metadata": {},
   "outputs": [],
   "source": [
    "df['clicks_log'] = np.log(1+df['clicks'])"
   ]
  },
  {
   "cell_type": "code",
   "execution_count": 107,
   "id": "fd30d47e",
   "metadata": {},
   "outputs": [
    {
     "data": {
      "text/plain": [
       "<AxesSubplot:xlabel='clicks_log', ylabel='Density'>"
      ]
     },
     "execution_count": 107,
     "metadata": {},
     "output_type": "execute_result"
    },
    {
     "data": {
      "image/png": "[encoded data removed]",
      "text/plain": [
       "<Figure size 432x288 with 1 Axes>"
      ]
     },
     "metadata": {
      "needs_background": "light"
     },
     "output_type": "display_data"
    }
   ],
   "source": [
    "sns.kdeplot(df['clicks_log'])"
   ]
  },
  {
   "cell_type": "markdown",
   "id": "e9065b6d",
   "metadata": {},
   "source": [
    "#### Observation: Using the plot above, this shows us that there's more visible distribution per clicks. Also, this reduces the skeweness of the value."
   ]
  },
  {
   "cell_type": "markdown",
   "id": "c1dc1c83",
   "metadata": {},
   "source": [
    "#### Compare and observe the logarthmic value with the actual value for 'clicks' column"
   ]
  },
  {
   "cell_type": "code",
   "execution_count": 108,
   "id": "30060a74",
   "metadata": {},
   "outputs": [
    {
     "data": {
      "text/html": [
       "<div>\n",
       "<style scoped>\n",
       "    .dataframe tbody tr th:only-of-type {\n",
       "        vertical-align: middle;\n",
       "    }\n",
       "\n",
       "    .dataframe tbody tr th {\n",
       "        vertical-align: top;\n",
       "    }\n",
       "\n",
       "    .dataframe thead th {\n",
       "        text-align: right;\n",
       "    }\n",
       "</style>\n",
       "<table border=\"1\" class=\"dataframe\">\n",
       "  <thead>\n",
       "    <tr style=\"text-align: right;\">\n",
       "      <th></th>\n",
       "      <th>clicks</th>\n",
       "      <th>clicks_log</th>\n",
       "    </tr>\n",
       "  </thead>\n",
       "  <tbody>\n",
       "    <tr>\n",
       "      <th>0</th>\n",
       "      <td>0</td>\n",
       "      <td>0.00</td>\n",
       "    </tr>\n",
       "    <tr>\n",
       "      <th>1</th>\n",
       "      <td>0</td>\n",
       "      <td>0.00</td>\n",
       "    </tr>\n",
       "    <tr>\n",
       "      <th>2</th>\n",
       "      <td>0</td>\n",
       "      <td>0.00</td>\n",
       "    </tr>\n",
       "    <tr>\n",
       "      <th>3</th>\n",
       "      <td>3</td>\n",
       "      <td>1.39</td>\n",
       "    </tr>\n",
       "    <tr>\n",
       "      <th>4</th>\n",
       "      <td>2</td>\n",
       "      <td>1.10</td>\n",
       "    </tr>\n",
       "    <tr>\n",
       "      <th>...</th>\n",
       "      <td>...</td>\n",
       "      <td>...</td>\n",
       "    </tr>\n",
       "    <tr>\n",
       "      <th>16829</th>\n",
       "      <td>15</td>\n",
       "      <td>2.77</td>\n",
       "    </tr>\n",
       "    <tr>\n",
       "      <th>16830</th>\n",
       "      <td>1</td>\n",
       "      <td>0.69</td>\n",
       "    </tr>\n",
       "    <tr>\n",
       "      <th>16831</th>\n",
       "      <td>0</td>\n",
       "      <td>0.00</td>\n",
       "    </tr>\n",
       "    <tr>\n",
       "      <th>16832</th>\n",
       "      <td>0</td>\n",
       "      <td>0.00</td>\n",
       "    </tr>\n",
       "    <tr>\n",
       "      <th>16833</th>\n",
       "      <td>1</td>\n",
       "      <td>0.69</td>\n",
       "    </tr>\n",
       "  </tbody>\n",
       "</table>\n",
       "<p>16629 rows × 2 columns</p>\n",
       "</div>"
      ],
      "text/plain": [
       "       clicks  clicks_log\n",
       "0           0        0.00\n",
       "1           0        0.00\n",
       "2           0        0.00\n",
       "3           3        1.39\n",
       "4           2        1.10\n",
       "...       ...         ...\n",
       "16829      15        2.77\n",
       "16830       1        0.69\n",
       "16831       0        0.00\n",
       "16832       0        0.00\n",
       "16833       1        0.69\n",
       "\n",
       "[16629 rows x 2 columns]"
      ]
     },
     "execution_count": 108,
     "metadata": {},
     "output_type": "execute_result"
    }
   ],
   "source": [
    "df[['clicks','clicks_log']].round(2)"
   ]
  },
  {
   "cell_type": "markdown",
   "id": "56763461",
   "metadata": {},
   "source": [
    "#### Using boxplot, we can now see the central point of the values. However, we can also observe that there are outliers we can reduce based on the values from the upper boundary (or whiskers)."
   ]
  },
  {
   "cell_type": "code",
   "execution_count": 35,
   "id": "0c19d106",
   "metadata": {},
   "outputs": [
    {
     "data": {
      "text/plain": [
       "<AxesSubplot:xlabel='clicks_log'>"
      ]
     },
     "execution_count": 35,
     "metadata": {},
     "output_type": "execute_result"
    },
    {
     "data": {
      "image/png": "[encoded data removed]",
      "text/plain": [
       "<Figure size 432x288 with 1 Axes>"
      ]
     },
     "metadata": {
      "needs_background": "light"
     },
     "output_type": "display_data"
    }
   ],
   "source": [
    "sns.boxplot(df['clicks_log'])"
   ]
  },
  {
   "cell_type": "markdown",
   "id": "8ab77feb",
   "metadata": {},
   "source": [
    "#### Using square root\n",
    "\n"
   ]
  },
  {
   "cell_type": "code",
   "execution_count": 109,
   "id": "7f798182",
   "metadata": {},
   "outputs": [],
   "source": [
    "df['clicks_sqrt'] = np.sqrt(df['clicks'])"
   ]
  },
  {
   "cell_type": "markdown",
   "id": "b3f0fb01",
   "metadata": {},
   "source": [
    "#### Compare and observe the logarthmic value, square root and with the actual value for 'clicks' column"
   ]
  },
  {
   "cell_type": "code",
   "execution_count": 112,
   "id": "cf4688f5",
   "metadata": {},
   "outputs": [
    {
     "data": {
      "text/html": [
       "<div>\n",
       "<style scoped>\n",
       "    .dataframe tbody tr th:only-of-type {\n",
       "        vertical-align: middle;\n",
       "    }\n",
       "\n",
       "    .dataframe tbody tr th {\n",
       "        vertical-align: top;\n",
       "    }\n",
       "\n",
       "    .dataframe thead th {\n",
       "        text-align: right;\n",
       "    }\n",
       "</style>\n",
       "<table border=\"1\" class=\"dataframe\">\n",
       "  <thead>\n",
       "    <tr style=\"text-align: right;\">\n",
       "      <th></th>\n",
       "      <th>clicks</th>\n",
       "      <th>clicks_log</th>\n",
       "      <th>clicks_sqrt</th>\n",
       "    </tr>\n",
       "  </thead>\n",
       "  <tbody>\n",
       "    <tr>\n",
       "      <th>0</th>\n",
       "      <td>0</td>\n",
       "      <td>0.00</td>\n",
       "      <td>0.00</td>\n",
       "    </tr>\n",
       "    <tr>\n",
       "      <th>1</th>\n",
       "      <td>0</td>\n",
       "      <td>0.00</td>\n",
       "      <td>0.00</td>\n",
       "    </tr>\n",
       "    <tr>\n",
       "      <th>2</th>\n",
       "      <td>0</td>\n",
       "      <td>0.00</td>\n",
       "      <td>0.00</td>\n",
       "    </tr>\n",
       "    <tr>\n",
       "      <th>3</th>\n",
       "      <td>3</td>\n",
       "      <td>1.39</td>\n",
       "      <td>1.73</td>\n",
       "    </tr>\n",
       "    <tr>\n",
       "      <th>4</th>\n",
       "      <td>2</td>\n",
       "      <td>1.10</td>\n",
       "      <td>1.41</td>\n",
       "    </tr>\n",
       "    <tr>\n",
       "      <th>...</th>\n",
       "      <td>...</td>\n",
       "      <td>...</td>\n",
       "      <td>...</td>\n",
       "    </tr>\n",
       "    <tr>\n",
       "      <th>16829</th>\n",
       "      <td>15</td>\n",
       "      <td>2.77</td>\n",
       "      <td>3.87</td>\n",
       "    </tr>\n",
       "    <tr>\n",
       "      <th>16830</th>\n",
       "      <td>1</td>\n",
       "      <td>0.69</td>\n",
       "      <td>1.00</td>\n",
       "    </tr>\n",
       "    <tr>\n",
       "      <th>16831</th>\n",
       "      <td>0</td>\n",
       "      <td>0.00</td>\n",
       "      <td>0.00</td>\n",
       "    </tr>\n",
       "    <tr>\n",
       "      <th>16832</th>\n",
       "      <td>0</td>\n",
       "      <td>0.00</td>\n",
       "      <td>0.00</td>\n",
       "    </tr>\n",
       "    <tr>\n",
       "      <th>16833</th>\n",
       "      <td>1</td>\n",
       "      <td>0.69</td>\n",
       "      <td>1.00</td>\n",
       "    </tr>\n",
       "  </tbody>\n",
       "</table>\n",
       "<p>16629 rows × 3 columns</p>\n",
       "</div>"
      ],
      "text/plain": [
       "       clicks  clicks_log  clicks_sqrt\n",
       "0           0        0.00         0.00\n",
       "1           0        0.00         0.00\n",
       "2           0        0.00         0.00\n",
       "3           3        1.39         1.73\n",
       "4           2        1.10         1.41\n",
       "...       ...         ...          ...\n",
       "16829      15        2.77         3.87\n",
       "16830       1        0.69         1.00\n",
       "16831       0        0.00         0.00\n",
       "16832       0        0.00         0.00\n",
       "16833       1        0.69         1.00\n",
       "\n",
       "[16629 rows x 3 columns]"
      ]
     },
     "execution_count": 112,
     "metadata": {},
     "output_type": "execute_result"
    }
   ],
   "source": [
    "df[['clicks','clicks_log','clicks_sqrt']].round(2)"
   ]
  },
  {
   "cell_type": "code",
   "execution_count": 113,
   "id": "8f63fa2b",
   "metadata": {},
   "outputs": [
    {
     "data": {
      "text/plain": [
       "<AxesSubplot:xlabel='clicks_sqrt', ylabel='Density'>"
      ]
     },
     "execution_count": 113,
     "metadata": {},
     "output_type": "execute_result"
    },
    {
     "data": {
      "image/png": "[encoded data removed]",
      "text/plain": [
       "<Figure size 432x288 with 1 Axes>"
      ]
     },
     "metadata": {
      "needs_background": "light"
     },
     "output_type": "display_data"
    }
   ],
   "source": [
    "sns.kdeplot(df['clicks_sqrt'])"
   ]
  },
  {
   "cell_type": "markdown",
   "id": "f9b0bfcd",
   "metadata": {},
   "source": [
    "### Removing outliers beyond lower and upper whiskers"
   ]
  },
  {
   "cell_type": "code",
   "execution_count": 114,
   "id": "e9423677",
   "metadata": {},
   "outputs": [],
   "source": [
    "Q1 = np.quantile(df['clicks_log'],0.25)\n",
    "Q3 = np.quantile(df['clicks_log'],0.75)\n",
    "\n",
    "IQR = Q3-Q1\n",
    "\n",
    "lower_boundary = Q1 - (1.5*IQR)\n",
    "upper_boundary = Q3  + (1.5*IQR)\n",
    "\n",
    "df_new = df[(df['clicks_log']>lower_boundary) & (df['clicks_log']<upper_boundary)]"
   ]
  },
  {
   "cell_type": "markdown",
   "id": "073ab032",
   "metadata": {},
   "source": [
    "#### Check length of each dataframe"
   ]
  },
  {
   "cell_type": "code",
   "execution_count": 115,
   "id": "7c07c190",
   "metadata": {},
   "outputs": [
    {
     "data": {
      "text/plain": [
       "((16629, 22), (16568, 22))"
      ]
     },
     "execution_count": 115,
     "metadata": {},
     "output_type": "execute_result"
    }
   ],
   "source": [
    "df.shape, df_new.shape"
   ]
  },
  {
   "cell_type": "markdown",
   "id": "eb4061ac",
   "metadata": {},
   "source": [
    "#### Comparing outliers between new dataframe and previous dataframe for 'clicks_log' column"
   ]
  },
  {
   "cell_type": "code",
   "execution_count": 116,
   "id": "57d09792",
   "metadata": {},
   "outputs": [
    {
     "data": {
      "text/plain": [
       "<AxesSubplot:xlabel='clicks_log'>"
      ]
     },
     "execution_count": 116,
     "metadata": {},
     "output_type": "execute_result"
    },
    {
     "data": {
      "image/png": "[encoded data removed]",
      "text/plain": [
       "<Figure size 432x288 with 1 Axes>"
      ]
     },
     "metadata": {
      "needs_background": "light"
     },
     "output_type": "display_data"
    }
   ],
   "source": [
    "sns.boxplot(df['clicks_log'])"
   ]
  },
  {
   "cell_type": "code",
   "execution_count": 117,
   "id": "aa537a32",
   "metadata": {},
   "outputs": [
    {
     "data": {
      "text/plain": [
       "<AxesSubplot:xlabel='clicks_log'>"
      ]
     },
     "execution_count": 117,
     "metadata": {},
     "output_type": "execute_result"
    },
    {
     "data": {
      "image/png": "[encoded data removed]",
      "text/plain": [
       "<Figure size 432x288 with 1 Axes>"
      ]
     },
     "metadata": {
      "needs_background": "light"
     },
     "output_type": "display_data"
    }
   ],
   "source": [
    "sns.boxplot(df_new['clicks_log'])"
   ]
  },
  {
   "cell_type": "markdown",
   "id": "9a2f4ed4",
   "metadata": {},
   "source": [
    "#### We can observe that the new dataframe has fewer outliers"
   ]
  },
  {
   "cell_type": "markdown",
   "id": "503d71f8",
   "metadata": {},
   "source": [
    "\n",
    "<div class=\"alert alert-block alert-info\">\n",
    "<b>Reminder:</b> \n",
    "\n",
    "1. Computer can only understand 1s and 0s \n",
    "    \n",
    "2. Prepare your data by scaling/normalizing it up to the nearest 0 as much as possible - minimize the value\n",
    "    \n",
    "3. Handle the data - in terms of how you will teach your model\n",
    "​</div>"
   ]
  }
 ],
 "metadata": {
  "kernelspec": {
   "display_name": "Python 3 (ipykernel)",
   "language": "python",
   "name": "python3"
  },
  "language_info": {
   "codemirror_mode": {
    "name": "ipython",
    "version": 3
   },
   "file_extension": ".py",
   "mimetype": "text/x-python",
   "name": "python",
   "nbconvert_exporter": "python",
   "pygments_lexer": "ipython3",
   "version": "3.9.13"
  }
 },
 "nbformat": 4,
 "nbformat_minor": 5
}
