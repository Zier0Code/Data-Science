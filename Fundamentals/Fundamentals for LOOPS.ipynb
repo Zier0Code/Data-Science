{
 "cells": [
  {
   "cell_type": "markdown",
   "id": "032762b1",
   "metadata": {},
   "source": [
    "#### LOOP"
   ]
  },
  {
   "cell_type": "markdown",
   "id": "0a5d12c8",
   "metadata": {},
   "source": [
    "We call this technique a ***loop*** because we are looping over each element in the list and performing an action on each element."
   ]
  },
  {
   "cell_type": "code",
   "execution_count": 2,
   "id": "7b33176e",
   "metadata": {},
   "outputs": [
    {
     "name": "stdout",
     "output_type": "stream",
     "text": [
      "Facebook\n",
      "Instagram\n",
      "Clash of Clans\n",
      "Fruit Ninja Classic\n",
      "Minecraft: Pocket Edition\n"
     ]
    }
   ],
   "source": [
    "app_names = ['Facebook', 'Instagram', 'Clash of Clans', 'Fruit Ninja Classic', 'Minecraft: Pocket Edition']\n",
    "for element in app_names:\n",
    "    print(element)"
   ]
  },
  {
   "cell_type": "markdown",
   "id": "7dad5a5e",
   "metadata": {},
   "source": [
    "#### For Loops Continued"
   ]
  },
  {
   "cell_type": "markdown",
   "id": "4f63db66",
   "metadata": {},
   "source": [
    "Let's revisit our method of calculating the average app rating. Recall that this task was reasonable when we were working with only five rows, but our full dataset has 7,197 rows. Our method will not scale well to a large dataset:"
   ]
  },
  {
   "cell_type": "markdown",
   "id": "fa59be65",
   "metadata": {},
   "source": [
    "1.Retrieve each individual rating.\n",
    "\n",
    "2.Sum the ratings.\n",
    "\n",
    "3.Divide by the number of ratings.\n"
   ]
  },
  {
   "cell_type": "code",
   "execution_count": 4,
   "id": "8c16685b",
   "metadata": {},
   "outputs": [
    {
     "name": "stdout",
     "output_type": "stream",
     "text": [
      "4.3\n"
     ]
    }
   ],
   "source": [
    "row_1 = ['Facebook', 0.0, 'USD', 2974676, 3.5]\n",
    "row_2 = ['Instagram', 0.0, 'USD', 2161558, 4.5]\n",
    "row_3 = ['Clash of Clans', 0.0, 'USD', 2130805, 4.5]\n",
    "row_4 = ['Fruit Ninja Classic', 1.99, 'USD', 698516, 4.5]\n",
    "row_5 = ['Minecraft: Pocket Edition', 6.99, 'USD', 522012, 4.5]\n",
    "\n",
    "app_data_set = [row_1, row_2, row_3, row_4, row_5]\n",
    "avg_rating = (app_data_set[0][-1] + app_data_set[1][-1] +\n",
    "              app_data_set[2][-1] + app_data_set[3][-1] +\n",
    "              app_data_set[4][-1]) / 5\n",
    "\n",
    "print(avg_rating)"
   ]
  },
  {
   "cell_type": "markdown",
   "id": "5d13d040",
   "metadata": {},
   "source": [
    "The first step is to determine the process we want to use to extract each individual rating from the dataset. The process is \"for each row in app_data_set extract the last element.\" Below, we see how we can translate that process into Python syntax and print the result of each iteration:"
   ]
  },
  {
   "cell_type": "code",
   "execution_count": 8,
   "id": "1d692767",
   "metadata": {},
   "outputs": [
    {
     "name": "stdout",
     "output_type": "stream",
     "text": [
      "3.5\n",
      "4.5\n",
      "4.5\n",
      "4.5\n",
      "4.5\n"
     ]
    }
   ],
   "source": [
    "row_1 = ['Facebook', 0.0, 'USD', 2974676, 3.5]\n",
    "row_2 = ['Instagram', 0.0, 'USD', 2161558, 4.5]\n",
    "row_3 = ['Clash of Clans', 0.0, 'USD', 2130805, 4.5]\n",
    "row_4 = ['Fruit Ninja Classic', 1.99, 'USD', 698516, 4.5]\n",
    "row_5 = ['Minecraft: Pocket Edition', 6.99, 'USD', 522012, 4.5]\n",
    "\n",
    "for row in app_data_set:\n",
    "    rating = row[-1]\n",
    "    print(rating)"
   ]
  },
  {
   "cell_type": "markdown",
   "id": "10823e23",
   "metadata": {},
   "source": [
    "The next step to calculate the average app rating for all apps in the dataset is to calculate the sum and store the result."
   ]
  },
  {
   "cell_type": "code",
   "execution_count": 9,
   "id": "e38bef06",
   "metadata": {
    "scrolled": true
   },
   "outputs": [
    {
     "name": "stdout",
     "output_type": "stream",
     "text": [
      "['Facebook', 0.0, 'USD', 2974676, 3.5]\n",
      "['Instagram', 0.0, 'USD', 2161558, 4.5]\n",
      "['Clash of Clans', 0.0, 'USD', 2130805, 4.5]\n",
      "['Fruit Ninja Classic', 1.99, 'USD', 698516, 4.5]\n",
      "['Minecraft: Pocket Edition', 6.99, 'USD', 522012, 4.5]\n"
     ]
    }
   ],
   "source": [
    "app_data_set = [row_1, row_2, row_3, row_4, row_5]\n",
    "\n",
    "for row in app_data_set:\n",
    "    print(row)"
   ]
  },
  {
   "cell_type": "markdown",
   "id": "25e8beef",
   "metadata": {},
   "source": [
    "With only two lines of code, we printed the contents of all five lists in the dataset. Compare that to the following approach with equivalent results:"
   ]
  },
  {
   "cell_type": "code",
   "execution_count": 10,
   "id": "64f8b73c",
   "metadata": {
    "scrolled": true
   },
   "outputs": [
    {
     "name": "stdout",
     "output_type": "stream",
     "text": [
      "['Facebook', 0.0, 'USD', 2974676, 3.5]\n",
      "['Instagram', 0.0, 'USD', 2161558, 4.5]\n",
      "['Clash of Clans', 0.0, 'USD', 2130805, 4.5]\n",
      "['Fruit Ninja Classic', 1.99, 'USD', 698516, 4.5]\n",
      "['Minecraft: Pocket Edition', 6.99, 'USD', 522012, 4.5]\n"
     ]
    }
   ],
   "source": [
    "## Too Many Lines of codes\n",
    "\n",
    "app_data_set = [row_1, row_2, row_3, row_4, row_5]\n",
    "\n",
    "print(app_data_set[0])\n",
    "print(app_data_set[1])\n",
    "print(app_data_set[2])\n",
    "print(app_data_set[3])\n",
    "print(app_data_set[4])"
   ]
  },
  {
   "cell_type": "markdown",
   "id": "7327d390",
   "metadata": {},
   "source": [
    "Before writing any code, we need to indent the code we want repeated four space characters to the right."
   ]
  },
  {
   "cell_type": "code",
   "execution_count": 7,
   "id": "45ff3513",
   "metadata": {},
   "outputs": [
    {
     "name": "stdout",
     "output_type": "stream",
     "text": [
      "2974676\n",
      "2161558\n",
      "2130805\n",
      "698516\n",
      "522012\n"
     ]
    }
   ],
   "source": [
    "app_data_set = [row_1, row_2, row_3, row_4, row_5]\n",
    "\n",
    "for row in app_data_set:\n",
    "    rating_count=row[3]\n",
    "    print(rating_count)"
   ]
  },
  {
   "cell_type": "markdown",
   "id": "eb4d1394",
   "metadata": {},
   "source": [
    "### For Loop Structure"
   ]
  },
  {
   "cell_type": "markdown",
   "id": "7f1738f2",
   "metadata": {},
   "source": [
    "Now that we know how to use for loops to print list elements, let's learn how to use for loops to sum values in a list and store the result. \n",
    "\n",
    "\n",
    "To store the results from iterating over a list, we need to learn more about for loop structure. These are the structural parts of a for loop:\n",
    "\n"
   ]
  },
  {
   "cell_type": "code",
   "execution_count": 14,
   "id": "a8e4e2ec",
   "metadata": {
    "scrolled": true
   },
   "outputs": [
    {
     "name": "stdout",
     "output_type": "stream",
     "text": [
      "1\n",
      "0\n",
      "2\n",
      "1\n",
      "3\n",
      "2\n"
     ]
    }
   ],
   "source": [
    "a_list = [1,2,3]\n",
    "#iteration Variable\n",
    "\n",
    "for value in a_list:\n",
    "    #Iterable Variable\n",
    "    print(value)\n",
    "    print(value - 1)\n",
    "    #Body of the Loop"
   ]
  },
  {
   "cell_type": "markdown",
   "id": "8977f869",
   "metadata": {},
   "source": [
    "The indented code in the **body** gets executed the same number of times as elements in the **iterable variable**"
   ]
  },
  {
   "cell_type": "code",
   "execution_count": 16,
   "id": "edd19bf8",
   "metadata": {},
   "outputs": [
    {
     "name": "stdout",
     "output_type": "stream",
     "text": [
      "1\n",
      "4\n",
      "9\n"
     ]
    }
   ],
   "source": [
    "a_list = [1, 3, 5]\n",
    "\n",
    "a_sum = 0\n",
    "for value in a_list:\n",
    "    a_sum = a_sum + value\n",
    "    print(a_sum)"
   ]
  },
  {
   "cell_type": "markdown",
   "id": "bf77d01d",
   "metadata": {},
   "source": [
    "Above, we created a way to add the numbers in a list. We can use this technique to sum the number of app ratings in our dataset."
   ]
  },
  {
   "cell_type": "code",
   "execution_count": 17,
   "id": "06a40d16",
   "metadata": {},
   "outputs": [
    {
     "name": "stdout",
     "output_type": "stream",
     "text": [
      "2974676\n",
      "5136234\n",
      "7267039\n",
      "7965555\n",
      "8487567\n"
     ]
    }
   ],
   "source": [
    "rating_sum=0\n",
    "for value in app_data_set:\n",
    "    rating_count = value[3]\n",
    "    rating_sum =rating_count + rating_sum\n",
    "    print(rating_sum)"
   ]
  },
  {
   "cell_type": "markdown",
   "id": "467fecde",
   "metadata": {},
   "source": [
    "#### The Average App Rating"
   ]
  },
  {
   "cell_type": "markdown",
   "id": "bfc31c50",
   "metadata": {},
   "source": [
    "Retrieve each individual rating.\n",
    "\n",
    "Sum the ratings.\n",
    "\n",
    "Divide by the number of ratings."
   ]
  },
  {
   "cell_type": "code",
   "execution_count": 19,
   "id": "ad2b9fd9",
   "metadata": {},
   "outputs": [
    {
     "name": "stdout",
     "output_type": "stream",
     "text": [
      "1697522.0\n"
     ]
    }
   ],
   "source": [
    "for value in app_data_set:\n",
    "    rating = value[-1]\n",
    "    rating_sum = rating_sum + rating\n",
    "avg_rating = rating_sum / len(app_data_set)\n",
    "print(avg_rating)"
   ]
  },
  {
   "cell_type": "markdown",
   "id": "b32dfd69",
   "metadata": {},
   "source": [
    "### Open file"
   ]
  },
  {
   "cell_type": "code",
   "execution_count": 37,
   "id": "26c47564",
   "metadata": {},
   "outputs": [],
   "source": [
    "open_file = 'C:\\\\Users\\\\Avila\\\\OneDrive\\\\Desktop\\\\csv files\\\\AppleStore.csv'"
   ]
  },
  {
   "cell_type": "code",
   "execution_count": 38,
   "id": "f919a3ee",
   "metadata": {
    "scrolled": true
   },
   "outputs": [
    {
     "name": "stdout",
     "output_type": "stream",
     "text": [
      "56\n"
     ]
    }
   ],
   "source": [
    "\n",
    "from csv import reader\n",
    "read_file = reader(open_file)\n",
    "apps_data = list(read_file)\n",
    "\n",
    "print(len(apps_data))"
   ]
  },
  {
   "cell_type": "code",
   "execution_count": 39,
   "id": "fefaa776",
   "metadata": {},
   "outputs": [],
   "source": [
    "# rating_sum=0\n",
    "\n",
    "# for value in apps_data[1:]:\n",
    "   #  rating = float(value[7])\n",
    "  #      rating_sum = rating_sum + rating\n",
    "# avg_rating = rating_sum / len(apps_data[1:])\n"
   ]
  },
  {
   "cell_type": "markdown",
   "id": "a4b3f33a",
   "metadata": {},
   "source": [
    "### Alternative Method to Calculate an Average"
   ]
  },
  {
   "cell_type": "code",
   "execution_count": 40,
   "id": "fc06803d",
   "metadata": {},
   "outputs": [
    {
     "name": "stdout",
     "output_type": "stream",
     "text": [
      "[1, 2, 3]\n"
     ]
    }
   ],
   "source": [
    "a_list = [1, 2]\n",
    "a_list.append(3)\n",
    "print(a_list)"
   ]
  },
  {
   "cell_type": "code",
   "execution_count": 41,
   "id": "a3fd2ab7",
   "metadata": {},
   "outputs": [
    {
     "name": "stdout",
     "output_type": "stream",
     "text": [
      "[12]\n"
     ]
    }
   ],
   "source": [
    "empty_list = []\n",
    "empty_list.append(12)\n",
    "print(empty_list)"
   ]
  },
  {
   "cell_type": "code",
   "execution_count": 42,
   "id": "54e7e829",
   "metadata": {},
   "outputs": [
    {
     "name": "stdout",
     "output_type": "stream",
     "text": [
      "['data']\n",
      "[5, 's', 1, 1.6]\n"
     ]
    }
   ],
   "source": [
    "list_1 = []\n",
    "list_2 = [5, 's', 1]\n",
    "\n",
    "list_1.append('data')\n",
    "list_2.append(1.6)\n",
    "\n",
    "print(list_1)\n",
    "print(list_2)"
   ]
  },
  {
   "cell_type": "markdown",
   "id": "e0b5492c",
   "metadata": {},
   "source": []
  },
  {
   "cell_type": "code",
   "execution_count": null,
   "id": "358e524b",
   "metadata": {},
   "outputs": [],
   "source": [
    "# rating_sum=[]\n",
    "\n",
    "# for value in apps_data[1:]:\n",
    "    # rating = float(value[7])\n",
    "   # rating_sum.append(rating)\n",
    "\n",
    "# avg_rating = sum(rating_sum) / len(rating_sum)\n",
    "# print(avg_rating)\n",
    "    "
   ]
  },
  {
   "cell_type": "markdown",
   "id": "31e7787e",
   "metadata": {},
   "source": [
    "Output\n",
    "\n",
    "3.526955675976101"
   ]
  },
  {
   "cell_type": "code",
   "execution_count": null,
   "id": "7d26ac06",
   "metadata": {},
   "outputs": [],
   "source": []
  }
 ],
 "metadata": {
  "kernelspec": {
   "display_name": "Python 3 (ipykernel)",
   "language": "python",
   "name": "python3"
  },
  "language_info": {
   "codemirror_mode": {
    "name": "ipython",
    "version": 3
   },
   "file_extension": ".py",
   "mimetype": "text/x-python",
   "name": "python",
   "nbconvert_exporter": "python",
   "pygments_lexer": "ipython3",
   "version": "3.9.12"
  }
 },
 "nbformat": 4,
 "nbformat_minor": 5
}
