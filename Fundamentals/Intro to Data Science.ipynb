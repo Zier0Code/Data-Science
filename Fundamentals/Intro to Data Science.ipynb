{
 "cells": [
  {
   "cell_type": "markdown",
   "id": "cfde93d1",
   "metadata": {},
   "source": [
    "## Data Science\n"
   ]
  },
  {
   "cell_type": "markdown",
   "id": "5f60f28a",
   "metadata": {},
   "source": [
    "\n",
    "<dl>\n",
    "<dt>Data Science<dt>\n",
    "<dd>The only thing we know for sure is that, Data Science is a broad term. It depends on the organization/company, the people involved, etc. This is an good representation:\n",
    "</dd>\n"
   ]
  },
  {
   "cell_type": "markdown",
   "id": "4d33b956",
   "metadata": {},
   "source": [
    "![](https://miro.medium.com/max/640/1*l_E14BVgAXk82o1YbtCW8Q.png)"
   ]
  },
  {
   "cell_type": "markdown",
   "id": "39f8d0e1",
   "metadata": {},
   "source": [
    "Although, this one might be a little bit more accurate:"
   ]
  },
  {
   "cell_type": "markdown",
   "id": "1b8613df",
   "metadata": {},
   "source": [
    "![](https://camo.githubusercontent.com/fa550f83aad1c915656498e47765c0a105c19e59c59ff3b9a82eef84f234a999/68747470733a2f2f757365722d696d616765732e67697468756275736572636f6e74656e742e636f6d2f373036353430312f37353136323437302d35666637323038302d353666632d313165612d383662352d3630633265613033663030352e706e67)"
   ]
  },
  {
   "cell_type": "markdown",
   "id": "4e958fde",
   "metadata": {},
   "source": [
    "As a \"Data Scientist\" you'll be combining your domain knowledge \"science\", with large amounts of data, using programming and computers. Your tasks as Data Scientists will involve, highly technical tasks like Machine Learning to boring and repetitive operative tasks like scraping a website from data and importing it in a Database."
   ]
  },
  {
   "cell_type": "markdown",
   "id": "f7bc59f0",
   "metadata": {},
   "source": [
    "### What does a Data Scientist do?"
   ]
  },
  {
   "cell_type": "markdown",
   "id": "180b63b8",
   "metadata": {},
   "source": [
    "It's probably easier to define the tasks that are most common to Data Scientists that to give a general definition that applies to everybody."
   ]
  },
  {
   "cell_type": "markdown",
   "id": "b960ee7d",
   "metadata": {},
   "source": [
    "![](https://camo.githubusercontent.com/3c8d2df3ead5aa46da2b4bb5f816e204fa2687009e16e7e4fe27f89615997f66/68747470733a2f2f6361636d2e61636d2e6f72672f73797374656d2f6173736574732f303030312f333637382f72702d6f766572766965772e6a7067)"
   ]
  },
  {
   "cell_type": "markdown",
   "id": "4eb01eff",
   "metadata": {},
   "source": [
    "**Getting the data**\n",
    "\n",
    "Depending on your company/organization, getting the data can be as simple as a SQL query or as difficult as scraping entire websites. The problem with this task is that it's not standardized.\n",
    "\n",
    "**Parsing and Cleaning the Data**\n",
    "\n",
    "Depending on your sources, you'll need to do a little bit of preparation. Excluding outliers, filling null values, translating values, etc.\n",
    "\n",
    "**Merging, combining data**\n",
    "\n",
    "If the data comes from different sources, merging it can be tedious. Specially if it's hard to define that piece of information that relates different data sources.\n",
    "\n",
    "**Doing the analysis**\n",
    "\n",
    "This involves your own domain expertise + the tools available for the job. For example, you need to know the principles of statistics and you can also use statsmodels to simplify your job. The analysis part is usually iterative and involves other subtasks as visualizations, validation testing, etc.\n",
    "\n",
    "**Building models**\n",
    "\n",
    "The whole point of the analysis part is finding patterns in particular cases to build general models. Your models can be predictions, clusterings, or just automated reports. In a general sense, it's the result of all the previous phases.\n",
    "\n",
    "**Deploying it**\n",
    "\n",
    "Perfect analyses and models are useless if they're not repeatable and scalable. This phase depends on your own models, but it'll usually imply a cloud provider. From simple reports (emailed every day at 3AM from an AWS Lambda) to a Machine Learning Model (built on top of Tensor Flow and deployed on Google's cloud infrastructure)."
   ]
  },
  {
   "cell_type": "markdown",
   "id": "d336d00c",
   "metadata": {},
   "source": [
    "### The only thing that's certain"
   ]
  },
  {
   "cell_type": "markdown",
   "id": "db18efe1",
   "metadata": {},
   "source": [
    "We're sorry we can't give you better answers to the question \"What is Data Science?\", but this is a new discipline and we're putting together definitions, scopes and responsibilities of different actors. But there's one thing that's certain: ***You need to know how to code...***"
   ]
  },
  {
   "cell_type": "markdown",
   "id": "3f0c530a",
   "metadata": {},
   "source": [
    "![](https://camo.githubusercontent.com/d8a22123cf5990f910f22f9e275cae043accee685561b3dd5d0a144e6baecfbc/68747470733a2f2f757365722d696d616765732e67697468756275736572636f6e74656e742e636f6d2f3837323239362f33383236383833322d36616636643631302d333735352d313165382d396432662d3733333133346566313431382e706e67 \"Twitter\")"
   ]
  },
  {
   "cell_type": "markdown",
   "id": "076879f3",
   "metadata": {},
   "source": [
    "[| Source](https://github.com/ine-rmotr-curriculum/freecodecamp-intro-to-numpy/blob/master/1.%20Introduction%20to%20Data%20Science.ipynb \"freecodecamp\")"
   ]
  }
 ],
 "metadata": {
  "kernelspec": {
   "display_name": "Python 3 (ipykernel)",
   "language": "python",
   "name": "python3"
  },
  "language_info": {
   "codemirror_mode": {
    "name": "ipython",
    "version": 3
   },
   "file_extension": ".py",
   "mimetype": "text/x-python",
   "name": "python",
   "nbconvert_exporter": "python",
   "pygments_lexer": "ipython3",
   "version": "3.9.12"
  }
 },
 "nbformat": 4,
 "nbformat_minor": 5
}
