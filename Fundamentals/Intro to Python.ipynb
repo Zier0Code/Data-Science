{
 "cells": [
  {
   "cell_type": "markdown",
   "id": "3fcefd1e",
   "metadata": {},
   "source": [
    "# Day 1 (Bootcamp)"
   ]
  },
  {
   "cell_type": "code",
   "execution_count": null,
   "id": "eaa563ff",
   "metadata": {},
   "outputs": [],
   "source": [
    "# comment under the cell"
   ]
  },
  {
   "cell_type": "code",
   "execution_count": 2,
   "id": "160f3dc0",
   "metadata": {},
   "outputs": [
    {
     "name": "stdout",
     "output_type": "stream",
     "text": [
      "Hello World\n"
     ]
    }
   ],
   "source": [
    "# Print Demonstration\n",
    "\n",
    "print(\"Hello World\")"
   ]
  },
  {
   "cell_type": "code",
   "execution_count": 7,
   "id": "5906240a",
   "metadata": {},
   "outputs": [
    {
     "data": {
      "text/plain": [
       "'Hello Angelo, How are you? im good!'"
      ]
     },
     "execution_count": 7,
     "metadata": {},
     "output_type": "execute_result"
    }
   ],
   "source": [
    "# f string code\n",
    "\n",
    "message_1='Hello Angelo,'\n",
    "message_2='How are you?'\n",
    "\n",
    "f'{message_1} {message_2} im good!'"
   ]
  },
  {
   "cell_type": "code",
   "execution_count": 8,
   "id": "62b6db69",
   "metadata": {},
   "outputs": [
    {
     "data": {
      "text/plain": [
       "'Hello Angelo,'"
      ]
     },
     "execution_count": 8,
     "metadata": {},
     "output_type": "execute_result"
    }
   ],
   "source": [
    "message_1"
   ]
  },
  {
   "cell_type": "markdown",
   "id": "e64b349a",
   "metadata": {},
   "source": [
    "#### message_1 and message_2\n",
    " "
   ]
  },
  {
   "cell_type": "code",
   "execution_count": 9,
   "id": "0372dbcb",
   "metadata": {},
   "outputs": [
    {
     "data": {
      "text/plain": [
       "'How are you?'"
      ]
     },
     "execution_count": 9,
     "metadata": {},
     "output_type": "execute_result"
    }
   ],
   "source": [
    "message_2"
   ]
  },
  {
   "cell_type": "code",
   "execution_count": 3,
   "id": "68f1d223",
   "metadata": {},
   "outputs": [
    {
     "data": {
      "text/plain": [
       "15"
      ]
     },
     "execution_count": 3,
     "metadata": {},
     "output_type": "execute_result"
    }
   ],
   "source": [
    "# Simple Math Expression\n",
    "\n",
    "10+5"
   ]
  },
  {
   "cell_type": "code",
   "execution_count": 4,
   "id": "401c2f37",
   "metadata": {},
   "outputs": [],
   "source": [
    "# Initialization vs Declaration\n",
    "# Initialization = assigned a value to a variable\n",
    "# no data type at all\n",
    "\n",
    "x=10 # Initialization\n",
    "y=0 "
   ]
  },
  {
   "cell_type": "code",
   "execution_count": 5,
   "id": "de332415",
   "metadata": {},
   "outputs": [
    {
     "name": "stdout",
     "output_type": "stream",
     "text": [
      "10\n"
     ]
    }
   ],
   "source": [
    "print(x)"
   ]
  },
  {
   "cell_type": "code",
   "execution_count": 6,
   "id": "f8140a14",
   "metadata": {},
   "outputs": [],
   "source": [
    "x=100"
   ]
  },
  {
   "cell_type": "code",
   "execution_count": 7,
   "id": "3926484e",
   "metadata": {},
   "outputs": [
    {
     "name": "stdout",
     "output_type": "stream",
     "text": [
      "100\n"
     ]
    }
   ],
   "source": [
    "print(x)"
   ]
  },
  {
   "cell_type": "code",
   "execution_count": 8,
   "id": "41344fce",
   "metadata": {},
   "outputs": [
    {
     "data": {
      "text/plain": [
       "False"
      ]
     },
     "execution_count": 8,
     "metadata": {},
     "output_type": "execute_result"
    }
   ],
   "source": [
    "x==200"
   ]
  },
  {
   "cell_type": "code",
   "execution_count": 9,
   "id": "c1b70603",
   "metadata": {},
   "outputs": [],
   "source": [
    "# = vs ==\n",
    "# = is assigned operator\n",
    "# == comparison operator"
   ]
  },
  {
   "cell_type": "code",
   "execution_count": 10,
   "id": "d7c3fcd6",
   "metadata": {},
   "outputs": [],
   "source": [
    "name='Angelo Avila'"
   ]
  },
  {
   "cell_type": "code",
   "execution_count": 11,
   "id": "cd1bc586",
   "metadata": {},
   "outputs": [
    {
     "data": {
      "text/plain": [
       "str"
      ]
     },
     "execution_count": 11,
     "metadata": {},
     "output_type": "execute_result"
    }
   ],
   "source": [
    "type(name)"
   ]
  },
  {
   "cell_type": "code",
   "execution_count": 12,
   "id": "5f2adfff",
   "metadata": {},
   "outputs": [],
   "source": [
    "pokemon_list=[\"bulbasour\",\"charmander\",\"waturtle\"]"
   ]
  },
  {
   "cell_type": "code",
   "execution_count": 15,
   "id": "48f7da56",
   "metadata": {},
   "outputs": [
    {
     "data": {
      "text/plain": [
       "['bulbasour', 'charmander', 'waturtle']"
      ]
     },
     "execution_count": 15,
     "metadata": {},
     "output_type": "execute_result"
    }
   ],
   "source": [
    "pokemon_list"
   ]
  },
  {
   "cell_type": "code",
   "execution_count": 19,
   "id": "9ede343b",
   "metadata": {},
   "outputs": [
    {
     "name": "stdout",
     "output_type": "stream",
     "text": [
      "\n"
     ]
    }
   ],
   "source": [
    "print() # shift + tab"
   ]
  },
  {
   "cell_type": "code",
   "execution_count": 25,
   "id": "80a30567",
   "metadata": {},
   "outputs": [],
   "source": [
    "# Creating Functions\n",
    "\n",
    "def add(x,y): #Function_name() # global/reference variable , parameters , local variable\n",
    "    return x+y"
   ]
  },
  {
   "cell_type": "code",
   "execution_count": 27,
   "id": "bc545fe1",
   "metadata": {},
   "outputs": [
    {
     "data": {
      "text/plain": [
       "210"
      ]
     },
     "execution_count": 27,
     "metadata": {},
     "output_type": "execute_result"
    }
   ],
   "source": [
    "add(10,200) # arguments ( value ) -> parameters"
   ]
  },
  {
   "cell_type": "code",
   "execution_count": null,
   "id": "dd0e28cd",
   "metadata": {},
   "outputs": [],
   "source": []
  },
  {
   "cell_type": "code",
   "execution_count": null,
   "id": "16a95da7",
   "metadata": {},
   "outputs": [],
   "source": []
  },
  {
   "cell_type": "markdown",
   "id": "96626bc6",
   "metadata": {},
   "source": [
    "# 1 Intro to Python"
   ]
  },
  {
   "cell_type": "markdown",
   "id": "6325d48a",
   "metadata": {},
   "source": [
    "###### Python Most Used Shortcuts"
   ]
  },
  {
   "cell_type": "markdown",
   "id": "1f08c7b1",
   "metadata": {},
   "source": [
    "Control + Enter = Run/Command Mode"
   ]
  },
  {
   "cell_type": "markdown",
   "id": "74f09731",
   "metadata": {},
   "source": [
    "Ctrl + Enter + f = Find in cell and Replace"
   ]
  },
  {
   "cell_type": "markdown",
   "id": "76440abe",
   "metadata": {},
   "source": [
    "Ctrl + Enter + b = Add cell below"
   ]
  },
  {
   "cell_type": "markdown",
   "id": "7ef371a4",
   "metadata": {},
   "source": [
    "Ctrl + Enter + dd = Delete cell"
   ]
  },
  {
   "cell_type": "markdown",
   "id": "011f24fa",
   "metadata": {},
   "source": [
    "Ctrl + Enter + a = Add cell above"
   ]
  },
  {
   "cell_type": "markdown",
   "id": "2be53e07",
   "metadata": {},
   "source": [
    "Ctrl + Enter + Shift + v = Print above the cut cell"
   ]
  },
  {
   "cell_type": "markdown",
   "id": "628cd7e1",
   "metadata": {},
   "source": [
    "Ctrl + Enter + x = Cut cell"
   ]
  },
  {
   "cell_type": "markdown",
   "id": "51fbb7e1",
   "metadata": {},
   "source": [
    "Ctrl + Enter + z = Undo"
   ]
  },
  {
   "cell_type": "markdown",
   "id": "0dbe3b9e",
   "metadata": {},
   "source": [
    "## 1. Hello Code"
   ]
  },
  {
   "cell_type": "code",
   "execution_count": 14,
   "id": "f8f90c3c",
   "metadata": {},
   "outputs": [
    {
     "name": "stdout",
     "output_type": "stream",
     "text": [
      "Code Start\n"
     ]
    }
   ],
   "source": [
    "print('Code Start')"
   ]
  },
  {
   "cell_type": "code",
   "execution_count": 15,
   "id": "c4674262",
   "metadata": {},
   "outputs": [
    {
     "data": {
      "text/plain": [
       "'Code Start'"
      ]
     },
     "execution_count": 15,
     "metadata": {},
     "output_type": "execute_result"
    }
   ],
   "source": [
    "'Code Start'"
   ]
  },
  {
   "cell_type": "code",
   "execution_count": 16,
   "id": "d2c0c711",
   "metadata": {},
   "outputs": [
    {
     "data": {
      "text/plain": [
       "str"
      ]
     },
     "execution_count": 16,
     "metadata": {},
     "output_type": "execute_result"
    }
   ],
   "source": [
    "type('Code |start')"
   ]
  },
  {
   "cell_type": "code",
   "execution_count": 17,
   "id": "3f8122b7",
   "metadata": {},
   "outputs": [
    {
     "name": "stdout",
     "output_type": "stream",
     "text": [
      "Angelo\n"
     ]
    }
   ],
   "source": [
    "print('Angelo')"
   ]
  },
  {
   "cell_type": "markdown",
   "id": "e5005b30",
   "metadata": {},
   "source": [
    "## 2. Data Types"
   ]
  },
  {
   "cell_type": "code",
   "execution_count": 18,
   "id": "7bff359c",
   "metadata": {},
   "outputs": [
    {
     "data": {
      "text/plain": [
       "int"
      ]
     },
     "execution_count": 18,
     "metadata": {},
     "output_type": "execute_result"
    }
   ],
   "source": [
    "type(1)"
   ]
  },
  {
   "cell_type": "code",
   "execution_count": 19,
   "id": "0279c09d",
   "metadata": {},
   "outputs": [
    {
     "data": {
      "text/plain": [
       "float"
      ]
     },
     "execution_count": 19,
     "metadata": {},
     "output_type": "execute_result"
    }
   ],
   "source": [
    "type(2.5)"
   ]
  },
  {
   "cell_type": "code",
   "execution_count": 20,
   "id": "202127ea",
   "metadata": {},
   "outputs": [
    {
     "data": {
      "text/plain": [
       "8"
      ]
     },
     "execution_count": 20,
     "metadata": {},
     "output_type": "execute_result"
    }
   ],
   "source": [
    " 3 + 5"
   ]
  },
  {
   "cell_type": "code",
   "execution_count": 21,
   "id": "6c0a375c",
   "metadata": {},
   "outputs": [
    {
     "data": {
      "text/plain": [
       "bool"
      ]
     },
     "execution_count": 21,
     "metadata": {},
     "output_type": "execute_result"
    }
   ],
   "source": [
    "type(True)"
   ]
  },
  {
   "cell_type": "code",
   "execution_count": 22,
   "id": "f6f06461",
   "metadata": {},
   "outputs": [
    {
     "data": {
      "text/plain": [
       "bool"
      ]
     },
     "execution_count": 22,
     "metadata": {},
     "output_type": "execute_result"
    }
   ],
   "source": [
    "type(False)"
   ]
  },
  {
   "cell_type": "code",
   "execution_count": 24,
   "id": "c299e7ab",
   "metadata": {},
   "outputs": [
    {
     "data": {
      "text/plain": [
       "str"
      ]
     },
     "execution_count": 24,
     "metadata": {},
     "output_type": "execute_result"
    }
   ],
   "source": [
    "type('Code')"
   ]
  },
  {
   "cell_type": "code",
   "execution_count": 27,
   "id": "5fa24f49",
   "metadata": {},
   "outputs": [
    {
     "name": "stdout",
     "output_type": "stream",
     "text": [
      "CODE\n",
      "code\n",
      "Code\n"
     ]
    }
   ],
   "source": [
    "print('code'.upper())\n",
    "print('code'.lower())\n",
    "print('code'.title())"
   ]
  },
  {
   "cell_type": "code",
   "execution_count": 29,
   "id": "f4164d97",
   "metadata": {},
   "outputs": [
    {
     "data": {
      "text/plain": [
       "1"
      ]
     },
     "execution_count": 29,
     "metadata": {},
     "output_type": "execute_result"
    }
   ],
   "source": [
    "'Code'.count('o')"
   ]
  },
  {
   "cell_type": "code",
   "execution_count": 30,
   "id": "7650ea48",
   "metadata": {},
   "outputs": [
    {
     "data": {
      "text/plain": [
       "'Cude'"
      ]
     },
     "execution_count": 30,
     "metadata": {},
     "output_type": "execute_result"
    }
   ],
   "source": [
    "'Code'.replace('o', 'u')"
   ]
  },
  {
   "cell_type": "markdown",
   "id": "97d67ab1",
   "metadata": {},
   "source": [
    "\n",
    "## 3. Variables"
   ]
  },
  {
   "cell_type": "code",
   "execution_count": 39,
   "id": "8fb3fc53",
   "metadata": {},
   "outputs": [
    {
     "data": {
      "text/plain": [
       "\"I'm learning Python\""
      ]
     },
     "execution_count": 39,
     "metadata": {},
     "output_type": "execute_result"
    }
   ],
   "source": [
    "text_1 = \"I'm learning Python\"\n",
    "text_1"
   ]
  },
  {
   "cell_type": "code",
   "execution_count": 34,
   "id": "6660b502",
   "metadata": {},
   "outputs": [
    {
     "data": {
      "text/plain": [
       "\"and It's Fun. \""
      ]
     },
     "execution_count": 34,
     "metadata": {},
     "output_type": "execute_result"
    }
   ],
   "source": [
    "text_2= \"and It's Fun! \"\n",
    "text_2"
   ]
  },
  {
   "cell_type": "code",
   "execution_count": 43,
   "id": "e06ed2eb",
   "metadata": {},
   "outputs": [],
   "source": [
    "text = text_1 + \" \" + text_2"
   ]
  },
  {
   "cell_type": "code",
   "execution_count": 44,
   "id": "cd75e6ee",
   "metadata": {},
   "outputs": [
    {
     "data": {
      "text/plain": [
       "\"I'm learning Python and It's Fun. \""
      ]
     },
     "execution_count": 44,
     "metadata": {},
     "output_type": "execute_result"
    }
   ],
   "source": [
    "text"
   ]
  },
  {
   "cell_type": "code",
   "execution_count": 45,
   "id": "8d4cfa72",
   "metadata": {},
   "outputs": [
    {
     "data": {
      "text/plain": [
       "'Code Start'"
      ]
     },
     "execution_count": 45,
     "metadata": {},
     "output_type": "execute_result"
    }
   ],
   "source": [
    "f'Code Start'"
   ]
  },
  {
   "cell_type": "code",
   "execution_count": 51,
   "id": "9d8c0233",
   "metadata": {},
   "outputs": [
    {
     "data": {
      "text/plain": [
       "\"I'm learning Python and It's Fun. \""
      ]
     },
     "execution_count": 51,
     "metadata": {},
     "output_type": "execute_result"
    }
   ],
   "source": [
    "f'{text_1} {text_2}'"
   ]
  },
  {
   "cell_type": "markdown",
   "id": "959b29f2",
   "metadata": {},
   "source": [
    "## 4. List"
   ]
  },
  {
   "cell_type": "code",
   "execution_count": 53,
   "id": "6e17598b",
   "metadata": {},
   "outputs": [],
   "source": [
    "countries = ['USA','Canada','Philippines','China']"
   ]
  },
  {
   "cell_type": "code",
   "execution_count": 56,
   "id": "b075c5e6",
   "metadata": {},
   "outputs": [
    {
     "data": {
      "text/plain": [
       "['USA', 'Canada', 'Philippines', 'China']"
      ]
     },
     "execution_count": 56,
     "metadata": {},
     "output_type": "execute_result"
    }
   ],
   "source": [
    "countries"
   ]
  },
  {
   "cell_type": "code",
   "execution_count": 62,
   "id": "8b636cf0",
   "metadata": {},
   "outputs": [
    {
     "name": "stdout",
     "output_type": "stream",
     "text": [
      "USA\n",
      "China\n",
      "Philippines\n",
      "Canada\n"
     ]
    }
   ],
   "source": [
    "print(countries[-4])\n",
    "print(countries[-1])\n",
    "print(countries[-2])\n",
    "print(countries[-3])"
   ]
  },
  {
   "cell_type": "code",
   "execution_count": 60,
   "id": "38d47cf6",
   "metadata": {},
   "outputs": [
    {
     "name": "stdout",
     "output_type": "stream",
     "text": [
      "USA\n",
      "Canada\n",
      "Philippines\n",
      "China\n"
     ]
    }
   ],
   "source": [
    "print(countries[0])\n",
    "print(countries[1])\n",
    "print(countries[2])\n",
    "print(countries[3])"
   ]
  },
  {
   "cell_type": "code",
   "execution_count": null,
   "id": "bf9841e9",
   "metadata": {},
   "outputs": [],
   "source": [
    "# Slicing"
   ]
  },
  {
   "cell_type": "code",
   "execution_count": null,
   "id": "fd5fa36f",
   "metadata": {},
   "outputs": [],
   "source": [
    "list_names[Start:stop]"
   ]
  },
  {
   "cell_type": "code",
   "execution_count": 63,
   "id": "d29edf71",
   "metadata": {},
   "outputs": [
    {
     "data": {
      "text/plain": [
       "['Canada', 'Philippines']"
      ]
     },
     "execution_count": 63,
     "metadata": {},
     "output_type": "execute_result"
    }
   ],
   "source": [
    "countries[1:3]"
   ]
  },
  {
   "cell_type": "code",
   "execution_count": 64,
   "id": "80a91809",
   "metadata": {},
   "outputs": [
    {
     "data": {
      "text/plain": [
       "['USA', 'Canada', 'Philippines']"
      ]
     },
     "execution_count": 64,
     "metadata": {},
     "output_type": "execute_result"
    }
   ],
   "source": [
    "countries[0:3]"
   ]
  },
  {
   "cell_type": "code",
   "execution_count": 65,
   "id": "7e1ff405",
   "metadata": {},
   "outputs": [
    {
     "data": {
      "text/plain": [
       "['USA', 'Canada']"
      ]
     },
     "execution_count": 65,
     "metadata": {},
     "output_type": "execute_result"
    }
   ],
   "source": [
    "countries[:2]"
   ]
  },
  {
   "cell_type": "code",
   "execution_count": 66,
   "id": "53b13cd8",
   "metadata": {},
   "outputs": [
    {
     "data": {
      "text/plain": [
       "['China']"
      ]
     },
     "execution_count": 66,
     "metadata": {},
     "output_type": "execute_result"
    }
   ],
   "source": [
    "countries[3:]"
   ]
  },
  {
   "cell_type": "markdown",
   "id": "70a31725",
   "metadata": {},
   "source": [
    "#### 4.1 Adding elements to a list"
   ]
  },
  {
   "cell_type": "code",
   "execution_count": 67,
   "id": "78a42a68",
   "metadata": {},
   "outputs": [
    {
     "data": {
      "text/plain": [
       "['USA', 'Canada', 'Philippines', 'China']"
      ]
     },
     "execution_count": 67,
     "metadata": {},
     "output_type": "execute_result"
    }
   ],
   "source": [
    "countries"
   ]
  },
  {
   "cell_type": "code",
   "execution_count": 68,
   "id": "5915deca",
   "metadata": {},
   "outputs": [],
   "source": [
    "countries.append('Brazil')"
   ]
  },
  {
   "cell_type": "code",
   "execution_count": 71,
   "id": "71ca81b9",
   "metadata": {},
   "outputs": [
    {
     "data": {
      "text/plain": [
       "['USA', 'Canada', 'Philippines', 'China', 'Brazil']"
      ]
     },
     "execution_count": 71,
     "metadata": {},
     "output_type": "execute_result"
    }
   ],
   "source": [
    "countries"
   ]
  },
  {
   "cell_type": "code",
   "execution_count": 72,
   "id": "df3a4464",
   "metadata": {},
   "outputs": [],
   "source": [
    "countries.insert(0,'Malaysia')"
   ]
  },
  {
   "cell_type": "code",
   "execution_count": 74,
   "id": "5a27c389",
   "metadata": {},
   "outputs": [
    {
     "data": {
      "text/plain": [
       "['Malaysia', 'USA', 'Canada', 'Philippines', 'China', 'Brazil']"
      ]
     },
     "execution_count": 74,
     "metadata": {},
     "output_type": "execute_result"
    }
   ],
   "source": [
    "countries"
   ]
  },
  {
   "cell_type": "code",
   "execution_count": 75,
   "id": "c5d927db",
   "metadata": {},
   "outputs": [
    {
     "data": {
      "text/plain": [
       "['Hongkong', 'Korea', 'Japan']"
      ]
     },
     "execution_count": 75,
     "metadata": {},
     "output_type": "execute_result"
    }
   ],
   "source": [
    "countries_2 = ['Hongkong','Korea','Japan']\n",
    "countries_2"
   ]
  },
  {
   "cell_type": "code",
   "execution_count": 76,
   "id": "b5c009e1",
   "metadata": {},
   "outputs": [
    {
     "data": {
      "text/plain": [
       "['Malaysia',\n",
       " 'USA',\n",
       " 'Canada',\n",
       " 'Philippines',\n",
       " 'China',\n",
       " 'Brazil',\n",
       " 'Hongkong',\n",
       " 'Korea',\n",
       " 'Japan']"
      ]
     },
     "execution_count": 76,
     "metadata": {},
     "output_type": "execute_result"
    }
   ],
   "source": [
    "countries + countries_2"
   ]
  },
  {
   "cell_type": "code",
   "execution_count": 78,
   "id": "88621213",
   "metadata": {},
   "outputs": [
    {
     "data": {
      "text/plain": [
       "[['Malaysia', 'USA', 'Canada', 'Philippines', 'China', 'Brazil'],\n",
       " ['Hongkong', 'Korea', 'Japan']]"
      ]
     },
     "execution_count": 78,
     "metadata": {},
     "output_type": "execute_result"
    }
   ],
   "source": [
    "nested_list = [countries, countries_2]\n",
    "nested_list\n"
   ]
  },
  {
   "cell_type": "markdown",
   "id": "de9646d8",
   "metadata": {},
   "source": [
    "#### 4.2  Removing an Elements to a List"
   ]
  },
  {
   "cell_type": "code",
   "execution_count": 79,
   "id": "c7ec8a22",
   "metadata": {},
   "outputs": [],
   "source": [
    "countries.remove('USA')"
   ]
  },
  {
   "cell_type": "code",
   "execution_count": 80,
   "id": "e2f1fdea",
   "metadata": {},
   "outputs": [
    {
     "data": {
      "text/plain": [
       "['Malaysia', 'Canada', 'Philippines', 'China', 'Brazil']"
      ]
     },
     "execution_count": 80,
     "metadata": {},
     "output_type": "execute_result"
    }
   ],
   "source": [
    "countries"
   ]
  },
  {
   "cell_type": "code",
   "execution_count": 81,
   "id": "de405bd0",
   "metadata": {},
   "outputs": [
    {
     "data": {
      "text/plain": [
       "'Brazil'"
      ]
     },
     "execution_count": 81,
     "metadata": {},
     "output_type": "execute_result"
    }
   ],
   "source": [
    "countries.pop(-1)"
   ]
  },
  {
   "cell_type": "code",
   "execution_count": 82,
   "id": "7f7c9a15",
   "metadata": {},
   "outputs": [
    {
     "data": {
      "text/plain": [
       "['Malaysia', 'Canada', 'Philippines', 'China']"
      ]
     },
     "execution_count": 82,
     "metadata": {},
     "output_type": "execute_result"
    }
   ],
   "source": [
    "countries"
   ]
  },
  {
   "cell_type": "code",
   "execution_count": 83,
   "id": "8a43b9ab",
   "metadata": {},
   "outputs": [],
   "source": [
    "del countries[0]"
   ]
  },
  {
   "cell_type": "code",
   "execution_count": 84,
   "id": "87fb03fe",
   "metadata": {},
   "outputs": [
    {
     "data": {
      "text/plain": [
       "['Canada', 'Philippines', 'China']"
      ]
     },
     "execution_count": 84,
     "metadata": {},
     "output_type": "execute_result"
    }
   ],
   "source": [
    "countries"
   ]
  },
  {
   "cell_type": "markdown",
   "id": "458c7b9a",
   "metadata": {},
   "source": [
    "#### 4.3 Sorting a List"
   ]
  },
  {
   "cell_type": "code",
   "execution_count": 85,
   "id": "f2e7c935",
   "metadata": {},
   "outputs": [],
   "source": [
    "numbers = [4, 5 , 10 ,7 ,1]"
   ]
  },
  {
   "cell_type": "code",
   "execution_count": 88,
   "id": "cb410bd2",
   "metadata": {},
   "outputs": [
    {
     "data": {
      "text/plain": [
       "[1, 4, 5, 7, 10]"
      ]
     },
     "execution_count": 88,
     "metadata": {},
     "output_type": "execute_result"
    }
   ],
   "source": [
    "numbers.sort()\n",
    "numbers"
   ]
  },
  {
   "cell_type": "code",
   "execution_count": 89,
   "id": "82fc09e3",
   "metadata": {},
   "outputs": [
    {
     "data": {
      "text/plain": [
       "[10, 7, 5, 4, 1]"
      ]
     },
     "execution_count": 89,
     "metadata": {},
     "output_type": "execute_result"
    }
   ],
   "source": [
    "numbers = [4, 5 , 10 ,7 ,1]\n",
    "numbers.sort(reverse=True)\n",
    "numbers"
   ]
  },
  {
   "cell_type": "markdown",
   "id": "11495b65",
   "metadata": {},
   "source": [
    "#### 4.4 Update an Element"
   ]
  },
  {
   "cell_type": "code",
   "execution_count": 90,
   "id": "14c66980",
   "metadata": {},
   "outputs": [
    {
     "data": {
      "text/plain": [
       "[100, 7, 5, 4, 1]"
      ]
     },
     "execution_count": 90,
     "metadata": {},
     "output_type": "execute_result"
    }
   ],
   "source": [
    "numbers[0]= 100\n",
    "numbers"
   ]
  },
  {
   "cell_type": "code",
   "execution_count": null,
   "id": "86e0cfa4",
   "metadata": {},
   "outputs": [],
   "source": []
  },
  {
   "cell_type": "markdown",
   "id": "5250ff45",
   "metadata": {},
   "source": [
    "#### 4.5 Copying a List"
   ]
  },
  {
   "cell_type": "code",
   "execution_count": 98,
   "id": "973cb6b9",
   "metadata": {},
   "outputs": [],
   "source": [
    "countries = ['USA','Canada','Philippines','China']"
   ]
  },
  {
   "cell_type": "code",
   "execution_count": 99,
   "id": "633a796b",
   "metadata": {},
   "outputs": [
    {
     "data": {
      "text/plain": [
       "['USA', 'Canada', 'Philippines', 'China']"
      ]
     },
     "execution_count": 99,
     "metadata": {},
     "output_type": "execute_result"
    }
   ],
   "source": [
    "new_countries = countries[:]\n",
    "new_countries"
   ]
  },
  {
   "cell_type": "code",
   "execution_count": 96,
   "id": "40f5f587",
   "metadata": {},
   "outputs": [
    {
     "data": {
      "text/plain": [
       "['USA', 'Canada', 'Philippines', 'China']"
      ]
     },
     "execution_count": 96,
     "metadata": {},
     "output_type": "execute_result"
    }
   ],
   "source": [
    "countries.copy()"
   ]
  },
  {
   "cell_type": "code",
   "execution_count": 97,
   "id": "0226b7ec",
   "metadata": {},
   "outputs": [
    {
     "data": {
      "text/plain": [
       "['USA', 'Canada', 'Philippines', 'China']"
      ]
     },
     "execution_count": 97,
     "metadata": {},
     "output_type": "execute_result"
    }
   ],
   "source": [
    "new_countries_2 = countries.copy()\n",
    "new_countries_2"
   ]
  },
  {
   "cell_type": "markdown",
   "id": "9caa1b15",
   "metadata": {},
   "source": [
    "## 5. Dictionary"
   ]
  },
  {
   "cell_type": "code",
   "execution_count": 100,
   "id": "831c73a7",
   "metadata": {},
   "outputs": [],
   "source": [
    "my_dict = {'key1':'value1','key2':'value2'}"
   ]
  },
  {
   "cell_type": "code",
   "execution_count": 156,
   "id": "1a4f7655",
   "metadata": {},
   "outputs": [
    {
     "data": {
      "text/plain": [
       "{'name': 'angelo', 'age': '21'}"
      ]
     },
     "execution_count": 156,
     "metadata": {},
     "output_type": "execute_result"
    }
   ],
   "source": [
    "my_data = {'name':'angelo','age':'21'}\n",
    "my_data"
   ]
  },
  {
   "cell_type": "code",
   "execution_count": 134,
   "id": "d75a4984",
   "metadata": {},
   "outputs": [
    {
     "data": {
      "text/plain": [
       "dict_keys(['name', 'age'])"
      ]
     },
     "execution_count": 134,
     "metadata": {},
     "output_type": "execute_result"
    }
   ],
   "source": [
    "my_data.keys()"
   ]
  },
  {
   "cell_type": "code",
   "execution_count": 135,
   "id": "62bc7612",
   "metadata": {},
   "outputs": [
    {
     "data": {
      "text/plain": [
       "dict_items([('name', 'angelo'), ('age', '21')])"
      ]
     },
     "execution_count": 135,
     "metadata": {},
     "output_type": "execute_result"
    }
   ],
   "source": [
    "my_data.items()"
   ]
  },
  {
   "cell_type": "code",
   "execution_count": 136,
   "id": "41000770",
   "metadata": {},
   "outputs": [],
   "source": [
    "my_data['Height']= 5.7"
   ]
  },
  {
   "cell_type": "code",
   "execution_count": 137,
   "id": "488b545d",
   "metadata": {},
   "outputs": [
    {
     "data": {
      "text/plain": [
       "{'name': 'angelo', 'age': '21', 'Height': 5.7}"
      ]
     },
     "execution_count": 137,
     "metadata": {},
     "output_type": "execute_result"
    }
   ],
   "source": [
    "my_data"
   ]
  },
  {
   "cell_type": "code",
   "execution_count": 139,
   "id": "fc956494",
   "metadata": {},
   "outputs": [
    {
     "data": {
      "text/plain": [
       "{'name': 'angelo', 'age': '21', 'Height': 5.6}"
      ]
     },
     "execution_count": 139,
     "metadata": {},
     "output_type": "execute_result"
    }
   ],
   "source": [
    "my_data.update({'Height': 5.6})\n",
    "my_data"
   ]
  },
  {
   "cell_type": "markdown",
   "id": "051a32d4",
   "metadata": {},
   "source": [
    "#### 5.1 Copying Dictionary"
   ]
  },
  {
   "cell_type": "code",
   "execution_count": 140,
   "id": "533c0237",
   "metadata": {},
   "outputs": [],
   "source": [
    "new_dict = my_data.copy()"
   ]
  },
  {
   "cell_type": "code",
   "execution_count": 141,
   "id": "85c4f5ef",
   "metadata": {},
   "outputs": [
    {
     "data": {
      "text/plain": [
       "{'name': 'angelo', 'age': '21', 'Height': 5.6}"
      ]
     },
     "execution_count": 141,
     "metadata": {},
     "output_type": "execute_result"
    }
   ],
   "source": [
    "new_dict"
   ]
  },
  {
   "cell_type": "code",
   "execution_count": 142,
   "id": "aba59cf6",
   "metadata": {},
   "outputs": [
    {
     "data": {
      "text/plain": [
       "{'name': 'angelo', 'age': '21', 'Height': 5.6}"
      ]
     },
     "execution_count": 142,
     "metadata": {},
     "output_type": "execute_result"
    }
   ],
   "source": [
    "new_dict_2 = my_data\n",
    "new_dict_2"
   ]
  },
  {
   "cell_type": "markdown",
   "id": "59f4b8ed",
   "metadata": {},
   "source": [
    "#### 5.2 Remove element from dictionary"
   ]
  },
  {
   "cell_type": "code",
   "execution_count": 143,
   "id": "06602835",
   "metadata": {},
   "outputs": [
    {
     "data": {
      "text/plain": [
       "'angelo'"
      ]
     },
     "execution_count": 143,
     "metadata": {},
     "output_type": "execute_result"
    }
   ],
   "source": [
    "my_data.pop('name')"
   ]
  },
  {
   "cell_type": "code",
   "execution_count": 144,
   "id": "66a4a382",
   "metadata": {},
   "outputs": [
    {
     "data": {
      "text/plain": [
       "{'age': '21', 'Height': 5.6}"
      ]
     },
     "execution_count": 144,
     "metadata": {},
     "output_type": "execute_result"
    }
   ],
   "source": [
    "my_data"
   ]
  },
  {
   "cell_type": "code",
   "execution_count": 145,
   "id": "7f5eaac0",
   "metadata": {},
   "outputs": [],
   "source": [
    "del my_data['age']"
   ]
  },
  {
   "cell_type": "code",
   "execution_count": 146,
   "id": "d42d75aa",
   "metadata": {},
   "outputs": [
    {
     "data": {
      "text/plain": [
       "{'Height': 5.6}"
      ]
     },
     "execution_count": 146,
     "metadata": {},
     "output_type": "execute_result"
    }
   ],
   "source": [
    "my_data"
   ]
  },
  {
   "cell_type": "code",
   "execution_count": 147,
   "id": "e8ce6a2d",
   "metadata": {},
   "outputs": [],
   "source": [
    "my_data.clear()"
   ]
  },
  {
   "cell_type": "code",
   "execution_count": 148,
   "id": "371ad44c",
   "metadata": {
    "scrolled": true
   },
   "outputs": [
    {
     "data": {
      "text/plain": [
       "{}"
      ]
     },
     "execution_count": 148,
     "metadata": {},
     "output_type": "execute_result"
    }
   ],
   "source": [
    "my_data"
   ]
  },
  {
   "cell_type": "markdown",
   "id": "57ec687e",
   "metadata": {},
   "source": [
    "## 6. IF Statement"
   ]
  },
  {
   "cell_type": "markdown",
   "id": "3418fa77",
   "metadata": {},
   "source": [
    "If <condition>:\n",
    "    <code>\n",
    "elif <condition>:\n",
    "        <code>\n",
    ".......\n",
    "else <condition>;\n",
    "            <code>"
   ]
  },
  {
   "cell_type": "code",
   "execution_count": 151,
   "id": "8eed3465",
   "metadata": {},
   "outputs": [
    {
     "name": "stdout",
     "output_type": "stream",
     "text": [
      "You're an Adult.\n"
     ]
    }
   ],
   "source": [
    "age = 20\n",
    "\n",
    "if age>=18:\n",
    "    print(\"You're an Adult.\")\n",
    "elif age>=13:\n",
    "    print(\"You're a Teenager\")\n",
    "else:\n",
    "    print(\"You're a Kid\")"
   ]
  },
  {
   "cell_type": "code",
   "execution_count": null,
   "id": "ec9b71dd",
   "metadata": {},
   "outputs": [],
   "source": []
  },
  {
   "cell_type": "markdown",
   "id": "055eb649",
   "metadata": {},
   "source": [
    "## 7. For Loop"
   ]
  },
  {
   "cell_type": "markdown",
   "id": "740f0815",
   "metadata": {},
   "source": [
    "for <variable> in <iterable>:\n",
    "    <code>"
   ]
  },
  {
   "cell_type": "code",
   "execution_count": 152,
   "id": "0c941e51",
   "metadata": {},
   "outputs": [
    {
     "data": {
      "text/plain": [
       "['USA', 'Canada', 'Philippines', 'China']"
      ]
     },
     "execution_count": 152,
     "metadata": {},
     "output_type": "execute_result"
    }
   ],
   "source": [
    "countries"
   ]
  },
  {
   "cell_type": "code",
   "execution_count": 154,
   "id": "1e04ce8e",
   "metadata": {},
   "outputs": [
    {
     "name": "stdout",
     "output_type": "stream",
     "text": [
      "0\n",
      "USA\n",
      "1\n",
      "Canada\n",
      "2\n",
      "Philippines\n",
      "3\n",
      "China\n"
     ]
    }
   ],
   "source": [
    "for i, country in enumerate (countries):\n",
    "    print(i)\n",
    "    print(country)"
   ]
  },
  {
   "cell_type": "code",
   "execution_count": 157,
   "id": "79e462b7",
   "metadata": {},
   "outputs": [
    {
     "data": {
      "text/plain": [
       "{'name': 'angelo', 'age': '21'}"
      ]
     },
     "execution_count": 157,
     "metadata": {},
     "output_type": "execute_result"
    }
   ],
   "source": [
    "my_data"
   ]
  },
  {
   "cell_type": "code",
   "execution_count": 158,
   "id": "1e38861f",
   "metadata": {},
   "outputs": [
    {
     "name": "stdout",
     "output_type": "stream",
     "text": [
      "name\n",
      "angelo\n",
      "age\n",
      "21\n"
     ]
    }
   ],
   "source": [
    "for key, value in my_data.items():\n",
    "    print(key)\n",
    "    print(value)"
   ]
  },
  {
   "cell_type": "markdown",
   "id": "2422b13f",
   "metadata": {},
   "source": [
    "## 8, Function"
   ]
  },
  {
   "cell_type": "markdown",
   "id": "1557ee94",
   "metadata": {},
   "source": [
    "def function(<params>):\n",
    "    <code>\n",
    "        return <data>"
   ]
  },
  {
   "cell_type": "code",
   "execution_count": 159,
   "id": "03e824f7",
   "metadata": {},
   "outputs": [],
   "source": [
    "def sum_values(a, b):\n",
    "    x = a + b\n",
    "    return x"
   ]
  },
  {
   "cell_type": "code",
   "execution_count": 160,
   "id": "0471eccb",
   "metadata": {},
   "outputs": [
    {
     "data": {
      "text/plain": [
       "6"
      ]
     },
     "execution_count": 160,
     "metadata": {},
     "output_type": "execute_result"
    }
   ],
   "source": [
    "sum_values(1, 5)"
   ]
  },
  {
   "cell_type": "markdown",
   "id": "1b6b5cda",
   "metadata": {},
   "source": [
    "#### 8.1 Built in Function"
   ]
  },
  {
   "cell_type": "code",
   "execution_count": 161,
   "id": "fee8f5f5",
   "metadata": {},
   "outputs": [
    {
     "data": {
      "text/plain": [
       "['USA', 'Canada', 'Philippines', 'China']"
      ]
     },
     "execution_count": 161,
     "metadata": {},
     "output_type": "execute_result"
    }
   ],
   "source": [
    "countries"
   ]
  },
  {
   "cell_type": "code",
   "execution_count": 162,
   "id": "595cb047",
   "metadata": {},
   "outputs": [
    {
     "data": {
      "text/plain": [
       "4"
      ]
     },
     "execution_count": 162,
     "metadata": {},
     "output_type": "execute_result"
    }
   ],
   "source": [
    "len(countries)"
   ]
  },
  {
   "cell_type": "code",
   "execution_count": 163,
   "id": "e5d03f92",
   "metadata": {},
   "outputs": [
    {
     "data": {
      "text/plain": [
       "455"
      ]
     },
     "execution_count": 163,
     "metadata": {},
     "output_type": "execute_result"
    }
   ],
   "source": [
    "max([10, 20 , 30 ,40 ,45 ,455])"
   ]
  },
  {
   "cell_type": "code",
   "execution_count": 165,
   "id": "50a3ebfd",
   "metadata": {},
   "outputs": [
    {
     "data": {
      "text/plain": [
       "10"
      ]
     },
     "execution_count": 165,
     "metadata": {},
     "output_type": "execute_result"
    }
   ],
   "source": [
    "min([10, 20 , 30 ,40 ,45 ,455])"
   ]
  },
  {
   "cell_type": "code",
   "execution_count": 167,
   "id": "34acd424",
   "metadata": {},
   "outputs": [
    {
     "data": {
      "text/plain": [
       "list"
      ]
     },
     "execution_count": 167,
     "metadata": {},
     "output_type": "execute_result"
    }
   ],
   "source": [
    "type(countries)"
   ]
  },
  {
   "cell_type": "code",
   "execution_count": 169,
   "id": "a137a013",
   "metadata": {},
   "outputs": [
    {
     "name": "stdout",
     "output_type": "stream",
     "text": [
      "1\n",
      "3\n",
      "5\n",
      "7\n",
      "9\n"
     ]
    }
   ],
   "source": [
    "for i in range (1, 10, 2):\n",
    "    print(i)"
   ]
  },
  {
   "cell_type": "markdown",
   "id": "96ce0e53",
   "metadata": {},
   "source": [
    "## 9. Module"
   ]
  },
  {
   "cell_type": "code",
   "execution_count": null,
   "id": "253779c0",
   "metadata": {},
   "outputs": [],
   "source": [
    "import "
   ]
  },
  {
   "cell_type": "markdown",
   "id": "e5fd2d17",
   "metadata": {},
   "source": [
    "#### 9.1 OS Module"
   ]
  },
  {
   "cell_type": "code",
   "execution_count": 172,
   "id": "b73fc415",
   "metadata": {},
   "outputs": [],
   "source": [
    "import os"
   ]
  },
  {
   "cell_type": "code",
   "execution_count": 174,
   "id": "3f0efe38",
   "metadata": {},
   "outputs": [
    {
     "data": {
      "text/plain": [
       "'C:\\\\Users\\\\Avila\\\\anaconda\\\\Jupyter Notebook'"
      ]
     },
     "execution_count": 174,
     "metadata": {},
     "output_type": "execute_result"
    }
   ],
   "source": [
    "os.getcwd()"
   ]
  },
  {
   "cell_type": "code",
   "execution_count": 175,
   "id": "a3fe3d64",
   "metadata": {},
   "outputs": [
    {
     "data": {
      "text/plain": [
       "['.ipynb_checkpoints',\n",
       " 'Calculator.ipynb',\n",
       " 'Covid Analyisis Excel.ipynb',\n",
       " 'csvfile',\n",
       " 'For Loop in list.ipynb',\n",
       " 'Intro to Pandas.ipynb',\n",
       " 'Intro to Python.ipynb',\n",
       " 'Simple Payroll.ipynb']"
      ]
     },
     "execution_count": 175,
     "metadata": {},
     "output_type": "execute_result"
    }
   ],
   "source": [
    "os.listdir()"
   ]
  },
  {
   "cell_type": "code",
   "execution_count": 176,
   "id": "d4e44c92",
   "metadata": {},
   "outputs": [],
   "source": [
    "os.makedirs('New Folder')"
   ]
  },
  {
   "cell_type": "code",
   "execution_count": 177,
   "id": "65f5953e",
   "metadata": {
    "scrolled": true
   },
   "outputs": [
    {
     "data": {
      "text/plain": [
       "['.ipynb_checkpoints',\n",
       " 'Calculator.ipynb',\n",
       " 'Covid Analyisis Excel.ipynb',\n",
       " 'csvfile',\n",
       " 'For Loop in list.ipynb',\n",
       " 'Intro to Pandas.ipynb',\n",
       " 'Intro to Python.ipynb',\n",
       " 'New Folder',\n",
       " 'Simple Payroll.ipynb']"
      ]
     },
     "execution_count": 177,
     "metadata": {},
     "output_type": "execute_result"
    }
   ],
   "source": [
    "os.listdir()"
   ]
  }
 ],
 "metadata": {
  "kernelspec": {
   "display_name": "Python 3 (ipykernel)",
   "language": "python",
   "name": "python3"
  },
  "language_info": {
   "codemirror_mode": {
    "name": "ipython",
    "version": 3
   },
   "file_extension": ".py",
   "mimetype": "text/x-python",
   "name": "python",
   "nbconvert_exporter": "python",
   "pygments_lexer": "ipython3",
   "version": "3.9.12"
  }
 },
 "nbformat": 4,
 "nbformat_minor": 5
}
