{
 "cells": [
  {
   "cell_type": "code",
   "execution_count": 5,
   "id": "b5a8a50d",
   "metadata": {},
   "outputs": [
    {
     "name": "stdout",
     "output_type": "stream",
     "text": [
      "Enter 3 names of your choice: 15\n",
      "Enter 3 names of your choice: 15\n",
      "Enter 3 names of your choice: 5\n"
     ]
    }
   ],
   "source": [
    "names=[]\n",
    "\n",
    "for i in range(3):\n",
    "    new_names = input('Enter 3 names of your choice: ')\n",
    "    names.append(new_names)"
   ]
  },
  {
   "cell_type": "code",
   "execution_count": 6,
   "id": "5d9c3027",
   "metadata": {},
   "outputs": [
    {
     "data": {
      "text/plain": [
       "['15', '15', '5']"
      ]
     },
     "execution_count": 6,
     "metadata": {},
     "output_type": "execute_result"
    }
   ],
   "source": [
    "[x for x in names]"
   ]
  }
 ],
 "metadata": {
  "kernelspec": {
   "display_name": "Python 3 (ipykernel)",
   "language": "python",
   "name": "python3"
  },
  "language_info": {
   "codemirror_mode": {
    "name": "ipython",
    "version": 3
   },
   "file_extension": ".py",
   "mimetype": "text/x-python",
   "name": "python",
   "nbconvert_exporter": "python",
   "pygments_lexer": "ipython3",
   "version": "3.9.12"
  }
 },
 "nbformat": 4,
 "nbformat_minor": 5
}
