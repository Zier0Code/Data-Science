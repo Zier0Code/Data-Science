{
 "cells": [
  {
   "cell_type": "code",
   "execution_count": 1,
   "id": "9e9a3ecf",
   "metadata": {},
   "outputs": [],
   "source": [
    "# Python program to\n",
    "# demonstrate stack implementation\n",
    "# using list\n",
    "\n",
    "family_member = []"
   ]
  },
  {
   "cell_type": "code",
   "execution_count": 5,
   "id": "54c632ac",
   "metadata": {},
   "outputs": [],
   "source": [
    "# append() function to push\n",
    "# element in the stack\n",
    "\n",
    "family_member.append(\"Angelo\")\n",
    "family_member.append(\"AntonioJr\")\n",
    "family_member.append(\"Patrick\")\n",
    "family_member.append(\"Vivian\")\n",
    "family_member.append(\"Alvin\")\n",
    "family_member.append(\"Antonio\")\n",
    "family_member.append(\"Virginia\")\n"
   ]
  },
  {
   "cell_type": "code",
   "execution_count": 6,
   "id": "876c378d",
   "metadata": {},
   "outputs": [
    {
     "name": "stdout",
     "output_type": "stream",
     "text": [
      "Family memberk :\n",
      "['angelo', 'antonioJr', 'Patrick', 'Vivian', 'Alvin', 'Antonio', 'Virginia', 'Angelo', 'AntonioJr', 'Patrick', 'Vivian', 'Alvin', 'Antonio', 'Virginia']\n"
     ]
    }
   ],
   "source": [
    "print('Family memberk :')\n",
    "print(family_member)"
   ]
  },
  {
   "cell_type": "code",
   "execution_count": 5,
   "id": "df4eaf97",
   "metadata": {},
   "outputs": [
    {
     "name": "stdout",
     "output_type": "stream",
     "text": [
      "\n",
      "Elements popped from stack:\n",
      "c\n",
      "b\n",
      "a\n"
     ]
    }
   ],
   "source": [
    "# pop() function to pop\n",
    "# element from stack in\n",
    "# LIFO order\n",
    "\n",
    "print('\\nElements popped from stack:')\n",
    "print(stack.pop())\n",
    "print(stack.pop())\n",
    "print(stack.pop())"
   ]
  },
  {
   "cell_type": "code",
   "execution_count": 6,
   "id": "e78e0b92",
   "metadata": {},
   "outputs": [
    {
     "name": "stdout",
     "output_type": "stream",
     "text": [
      "\n",
      "Stack after elements are popped:\n",
      "[]\n"
     ]
    }
   ],
   "source": [
    "print('\\nStack after elements are popped:')\n",
    "print(stack)\n",
    " \n",
    "# uncommenting print(stack.pop())\n",
    "# will cause an IndexError\n",
    "# as the stack is now empty"
   ]
  },
  {
   "cell_type": "code",
   "execution_count": null,
   "id": "e6f633ed",
   "metadata": {},
   "outputs": [],
   "source": []
  },
  {
   "cell_type": "code",
   "execution_count": null,
   "id": "27525d94",
   "metadata": {},
   "outputs": [],
   "source": []
  }
 ],
 "metadata": {
  "kernelspec": {
   "display_name": "Python 3 (ipykernel)",
   "language": "python",
   "name": "python3"
  },
  "language_info": {
   "codemirror_mode": {
    "name": "ipython",
    "version": 3
   },
   "file_extension": ".py",
   "mimetype": "text/x-python",
   "name": "python",
   "nbconvert_exporter": "python",
   "pygments_lexer": "ipython3",
   "version": "3.9.12"
  }
 },
 "nbformat": 4,
 "nbformat_minor": 5
}
