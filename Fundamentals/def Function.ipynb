{
 "cells": [
  {
   "cell_type": "code",
   "execution_count": 10,
   "id": "5c55b588",
   "metadata": {},
   "outputs": [],
   "source": [
    "# NOTE: the def must go first in coding\n",
    "\n",
    "def greet(name):\n",
    "    print('Hello '+name+' Welcome to Coding!!')"
   ]
  },
  {
   "cell_type": "code",
   "execution_count": 15,
   "id": "0200ee33",
   "metadata": {},
   "outputs": [
    {
     "name": "stdout",
     "output_type": "stream",
     "text": [
      "Hello Angelo Welcome to Coding\n"
     ]
    }
   ],
   "source": [
    "greet(\"Angelo\")\n",
    "# This function greets to\n",
    "#  the person passed in as\n",
    "#   a parameter"
   ]
  },
  {
   "cell_type": "code",
   "execution_count": 14,
   "id": "1e8283bd",
   "metadata": {},
   "outputs": [
    {
     "name": "stdout",
     "output_type": "stream",
     "text": [
      "What's Your Name? :Angelo\n",
      "Hello Angelo Welcome to Coding\n"
     ]
    }
   ],
   "source": [
    "name_1=input(\"What's Your Name? :\")\n",
    "greet(name_1)"
   ]
  },
  {
   "cell_type": "code",
   "execution_count": null,
   "id": "c0f07a66",
   "metadata": {},
   "outputs": [],
   "source": []
  }
 ],
 "metadata": {
  "kernelspec": {
   "display_name": "Python 3 (ipykernel)",
   "language": "python",
   "name": "python3"
  },
  "language_info": {
   "codemirror_mode": {
    "name": "ipython",
    "version": 3
   },
   "file_extension": ".py",
   "mimetype": "text/x-python",
   "name": "python",
   "nbconvert_exporter": "python",
   "pygments_lexer": "ipython3",
   "version": "3.9.12"
  }
 },
 "nbformat": 4,
 "nbformat_minor": 5
}
