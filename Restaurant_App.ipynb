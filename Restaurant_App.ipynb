{
 "cells": [
  {
   "cell_type": "code",
   "execution_count": 1,
   "id": "eaf2b4ad",
   "metadata": {},
   "outputs": [],
   "source": [
    "menu = {'Pizza':369,'Carbonara':169,'Aglio-Ilio':159,'Chicken':149,'Crispy Pata':179, 'Drink':49}"
   ]
  },
  {
   "cell_type": "code",
   "execution_count": 77,
   "id": "78f98adf",
   "metadata": {},
   "outputs": [
    {
     "name": "stdout",
     "output_type": "stream",
     "text": [
      "*** Welcome to Angelo's Restaurant ***\n",
      " \n",
      "     ** Here is our Menu **\n",
      "\n",
      "Pizza : Php 369\n",
      "Carbonara : Php 169\n",
      "Aglio-Ilio : Php 159\n",
      "Chicken : Php 149\n",
      "Crispy Pata : Php 179\n",
      "Drink : Php 49\n",
      "What would you like to have:Pizza\n",
      "How many Pizza's you want:100\n",
      "What would you like to have:Chicken\n",
      "How many Chicken's you want:50\n",
      "What would you like to have:Drink\n",
      "How many Drink's you want:100\n",
      "What would you like to have:stop\n",
      "\n",
      "Your orders are:\n",
      "Pizza - 100pc(s)\n",
      "Chicken - 50pc(s)\n",
      "Drink - 100pc(s)\n",
      "\n",
      "Your bill is:Php49250\n"
     ]
    }
   ],
   "source": [
    "print(\"*** Welcome to Angelo's Restaurant ***\\n \")\n",
    "\n",
    "print(\"     ** Here is our Menu **\\n\")\n",
    "\n",
    "bill = 0\n",
    "cart=[]\n",
    "no_of_order=[]\n",
    "count = 0\n",
    "for items in menu:\n",
    "    print(items,': Php',str(menu[items]))\n",
    "    \n",
    "while True:\n",
    "    order=input(\"What would you like to have:\")\n",
    "    if order == 'stop':\n",
    "        print(\"\\nYour orders are:\")\n",
    "        for items in cart:           \n",
    "            print(f'{items} - {no_of_order[count]}pc(s)')\n",
    "            count = count+1\n",
    "            \n",
    "        print(f'\\nYour bill is:Php{bill}')\n",
    "        break\n",
    "    elif order in menu:\n",
    "        quantity =int(input(f\"How many {order}'s you want:\"))\n",
    "        bill=bill+menu[order]*quantity\n",
    "        cart.append(order)\n",
    "        no_of_order.append(quantity)\n",
    "        \n",
    "    else:\n",
    "        print(\"sorry we don't serve that.\")\n",
    "        "
   ]
  },
  {
   "cell_type": "code",
   "execution_count": null,
   "id": "f8334b82",
   "metadata": {},
   "outputs": [],
   "source": []
  }
 ],
 "metadata": {
  "kernelspec": {
   "display_name": "Python 3 (ipykernel)",
   "language": "python",
   "name": "python3"
  },
  "language_info": {
   "codemirror_mode": {
    "name": "ipython",
    "version": 3
   },
   "file_extension": ".py",
   "mimetype": "text/x-python",
   "name": "python",
   "nbconvert_exporter": "python",
   "pygments_lexer": "ipython3",
   "version": "3.9.13"
  }
 },
 "nbformat": 4,
 "nbformat_minor": 5
}
